{
 "cells": [
  {
   "cell_type": "markdown",
   "id": "a391d0bf-5a0c-4f5c-ab74-b831f1166397",
   "metadata": {},
   "source": [
    "# Global Financial Inclusion and Digital Payments – Exploratory Data Analysis\n",
    "\n",
    "In this notebook, we conduct an in-depth exploratory and descriptive analysis of the **World Bank Global Findex Database 2021**, which captures how adults across the world save, borrow, make payments, and manage financial risk. This dataset is a cornerstone for understanding the **state of financial inclusion** globally, especially in the context of **digital financial services**.\n",
    "\n",
    "The purpose of this analysis is to uncover trends, identify disparities, and lay the groundwork for statistical modeling and segmentation. By examining variables such as **account ownership**, **digital payment usage**, and **barriers to financial access**, we aim to draw attention to key demographic and regional patterns in financial inclusion. This analysis is especially relevant for policymakers, NGOs, and fintech innovators seeking data-driven insights into underserved populations.\n",
    "\n",
    "We begin by importing essential Python libraries used for **data handling**, **numerical computation**, **visualization**, and **path management**:\n",
    "\n",
    "- `pandas`: Used for data cleaning, transformation, filtering, and aggregation across multiple demographic and economic variables.\n",
    "- `numpy`: Enables efficient numerical operations and basic statistics across quantitative fields.\n",
    "- `os`: Helps with navigating file structures and ensuring consistent data access across devices or collaborators.\n",
    "- `plotly.express`: A powerful visualization library used to generate clear, interactive visual summaries of patterns in financial behavior and inclusion metrics.\n",
    "- `sklearn.preprocessing.StandardScaler`: Standardizes numerical data by centering and scaling, essential for machine learning algorithms.\n",
    "- `sklearn.decomposition.PCA`: Implements Principal Component Analysis for dimensionality reduction and visualization of complex datasets.\n",
    "- `sklearn.cluster.KMeans`: Applies k-means clustering to segment data into meaningful groups based on feature similarity.\n",
    "- `gdown`: Utility to download files directly from Google Drive, enabling easy access to externally hosted datasets."
   ]
  },
  {
   "cell_type": "code",
   "execution_count": 22,
   "id": "80692e30-68be-4f07-b5a9-b6aa290f91f6",
   "metadata": {},
   "outputs": [],
   "source": [
    "import pandas as pd\n",
    "import plotly.express as px\n",
    "from sklearn.preprocessing import StandardScaler\n",
    "from sklearn.decomposition import PCA\n",
    "from sklearn.cluster import KMeans\n",
    "import gdown\n",
    "import warnings\n",
    "warnings.filterwarnings('ignore')"
   ]
  },
  {
   "cell_type": "markdown",
   "id": "6cd19c13-ae7e-4a85-b86a-cef08e1966b4",
   "metadata": {},
   "source": [
    "## Dataset Structure and Variable Overview\n",
    "\n",
    "The Global Findex dataset contains the following key columns, each playing a crucial role in understanding financial inclusion patterns across countries and years:\n",
    "\n",
    "- **Country name**: The full name of the country where the data was collected (e.g., *Rwanda*, *India*, *Brazil*).\n",
    "- **Country code**: A standardized 3-letter ISO code representing the country (e.g., *RWA*, *IND*, *BRA*). Useful for mapping and joining with external datasets.\n",
    "- **Year**: The year of the survey. Available years include **2011**, **2014**, **2017**, and **2021**, allowing for temporal trend analysis.\n",
    "- **Adult Population**: The estimated number of adults (aged 15+) in each country-year. This is used to contextualize indicator values and calculate population-weighted statistics.\n",
    "- **Region**: Broad geographical classification assigned by the World Bank, such as *Sub-Saharan Africa*, *East Asia & Pacific*, or *Europe & Central Asia*.\n",
    "- **Income group**: World Bank economic classification of countries into four tiers: *Low income*, *Lower-middle income*, *Upper-middle income*, and *High income*. This helps identify inclusion gaps based on development level.\n",
    "- **Indicator**: Describes the specific financial behavior or access metric measured. Examples include *\"Account (% age 15+)\"*, *\"Mobile money account (% age 15+)\"*, and *\"Made or received a digital payment (% age 15+)\"*.\n",
    "- **Indicator value**: The numeric percentage or proportion (ranging from 0 to 100) representing the population within the specified group that reported the behavior or access described in the `Indicator`.\n",
    "\n",
    "These variables collectively enable powerful group-wise comparisons, trend analysis, and modeling of financial inclusion patterns across time, space, and demographic profiles.\n"
   ]
  },
  {
   "cell_type": "markdown",
   "id": "dbd3b4f7-9e95-48bd-ac78-ec5bedef01dd",
   "metadata": {},
   "source": [
    "## Loading the Cleaned Dataset\n",
    "\n",
    "We load the cleaned version of the **Global Findex 2021** dataset into a Pandas DataFrame from the processed data directory. This dataset has been preprocessed to standardize column names, handle missing values, and retain only relevant records.\n",
    "\n",
    "Using the `head(10)` function, we display the first ten rows to preview the dataset. This gives a snapshot of key variables such as `Year`, `Country name`,`country code` `Income group`,`Indicator`  `Adult population`, `region`, and `Indicator value`, which form the foundation for our exploratory analysis.\n"
   ]
  },
  {
   "cell_type": "code",
   "execution_count": 21,
   "id": "fb5826c5-b753-486e-af8b-ab0119fa8bca",
   "metadata": {},
   "outputs": [
    {
     "name": "stderr",
     "output_type": "stream",
     "text": [
      "Downloading...\n",
      "From (original): https://drive.google.com/uc?id=1CQOEn-YIGRwO_KUWBRD1myhExS7S2wI1\n",
      "From (redirected): https://drive.google.com/uc?id=1CQOEn-YIGRwO_KUWBRD1myhExS7S2wI1&confirm=t&uuid=414e317a-ca42-4140-ae20-c81962feefa5\n",
      "To: C:\\Users\\USER\\OneDrive\\Desktop\\Financial inclusion\\Notebooks\\world.csv\n",
      "100%|███████████████████████████████████████████████████████████████████████████████| 106M/106M [00:26<00:00, 4.04MB/s]\n"
     ]
    },
    {
     "data": {
      "text/html": [
       "<div>\n",
       "<style scoped>\n",
       "    .dataframe tbody tr th:only-of-type {\n",
       "        vertical-align: middle;\n",
       "    }\n",
       "\n",
       "    .dataframe tbody tr th {\n",
       "        vertical-align: top;\n",
       "    }\n",
       "\n",
       "    .dataframe thead th {\n",
       "        text-align: right;\n",
       "    }\n",
       "</style>\n",
       "<table border=\"1\" class=\"dataframe\">\n",
       "  <thead>\n",
       "    <tr style=\"text-align: right;\">\n",
       "      <th></th>\n",
       "      <th>Country name</th>\n",
       "      <th>Country code</th>\n",
       "      <th>Year</th>\n",
       "      <th>Adult Population</th>\n",
       "      <th>Region</th>\n",
       "      <th>Income group</th>\n",
       "      <th>Indicator</th>\n",
       "      <th>Indicator value</th>\n",
       "    </tr>\n",
       "  </thead>\n",
       "  <tbody>\n",
       "    <tr>\n",
       "      <th>0</th>\n",
       "      <td>Afghanistan</td>\n",
       "      <td>AFG</td>\n",
       "      <td>2011</td>\n",
       "      <td>15124473.00</td>\n",
       "      <td>South Asia</td>\n",
       "      <td>Low income</td>\n",
       "      <td>Account (% age 15+)</td>\n",
       "      <td>9.01</td>\n",
       "    </tr>\n",
       "    <tr>\n",
       "      <th>1</th>\n",
       "      <td>Afghanistan</td>\n",
       "      <td>AFG</td>\n",
       "      <td>2014</td>\n",
       "      <td>17300802.00</td>\n",
       "      <td>South Asia</td>\n",
       "      <td>Low income</td>\n",
       "      <td>Account (% age 15+)</td>\n",
       "      <td>9.96</td>\n",
       "    </tr>\n",
       "    <tr>\n",
       "      <th>2</th>\n",
       "      <td>Afghanistan</td>\n",
       "      <td>AFG</td>\n",
       "      <td>2017</td>\n",
       "      <td>19718214.00</td>\n",
       "      <td>South Asia</td>\n",
       "      <td>Low income</td>\n",
       "      <td>Account (% age 15+)</td>\n",
       "      <td>14.89</td>\n",
       "    </tr>\n",
       "    <tr>\n",
       "      <th>3</th>\n",
       "      <td>Afghanistan</td>\n",
       "      <td>AFG</td>\n",
       "      <td>2021</td>\n",
       "      <td>22647496.00</td>\n",
       "      <td>South Asia</td>\n",
       "      <td>Low income</td>\n",
       "      <td>Account (% age 15+)</td>\n",
       "      <td>9.65</td>\n",
       "    </tr>\n",
       "    <tr>\n",
       "      <th>4</th>\n",
       "      <td>Albania</td>\n",
       "      <td>ALB</td>\n",
       "      <td>2011</td>\n",
       "      <td>2258899.75</td>\n",
       "      <td>Europe &amp; Central Asia</td>\n",
       "      <td>Upper middle income</td>\n",
       "      <td>Account (% age 15+)</td>\n",
       "      <td>28.27</td>\n",
       "    </tr>\n",
       "    <tr>\n",
       "      <th>...</th>\n",
       "      <td>...</td>\n",
       "      <td>...</td>\n",
       "      <td>...</td>\n",
       "      <td>...</td>\n",
       "      <td>...</td>\n",
       "      <td>...</td>\n",
       "      <td>...</td>\n",
       "      <td>...</td>\n",
       "    </tr>\n",
       "    <tr>\n",
       "      <th>677420</th>\n",
       "      <td>Zambia</td>\n",
       "      <td>ZMB</td>\n",
       "      <td>2021</td>\n",
       "      <td>10291819.00</td>\n",
       "      <td>Sub-Saharan Africa</td>\n",
       "      <td>Lower middle income</td>\n",
       "      <td>Used a mobile phone or the internet to access ...</td>\n",
       "      <td>NaN</td>\n",
       "    </tr>\n",
       "    <tr>\n",
       "      <th>677421</th>\n",
       "      <td>Zimbabwe</td>\n",
       "      <td>ZWE</td>\n",
       "      <td>2011</td>\n",
       "      <td>7414228.00</td>\n",
       "      <td>Sub-Saharan Africa</td>\n",
       "      <td>Lower middle income</td>\n",
       "      <td>Used a mobile phone or the internet to access ...</td>\n",
       "      <td>NaN</td>\n",
       "    </tr>\n",
       "    <tr>\n",
       "      <th>677422</th>\n",
       "      <td>Zimbabwe</td>\n",
       "      <td>ZWE</td>\n",
       "      <td>2014</td>\n",
       "      <td>7712326.00</td>\n",
       "      <td>Sub-Saharan Africa</td>\n",
       "      <td>Lower middle income</td>\n",
       "      <td>Used a mobile phone or the internet to access ...</td>\n",
       "      <td>NaN</td>\n",
       "    </tr>\n",
       "    <tr>\n",
       "      <th>677423</th>\n",
       "      <td>Zimbabwe</td>\n",
       "      <td>ZWE</td>\n",
       "      <td>2017</td>\n",
       "      <td>8044282.00</td>\n",
       "      <td>Sub-Saharan Africa</td>\n",
       "      <td>Lower middle income</td>\n",
       "      <td>Used a mobile phone or the internet to access ...</td>\n",
       "      <td>48.87</td>\n",
       "    </tr>\n",
       "    <tr>\n",
       "      <th>677424</th>\n",
       "      <td>Zimbabwe</td>\n",
       "      <td>ZWE</td>\n",
       "      <td>2021</td>\n",
       "      <td>8633711.00</td>\n",
       "      <td>Sub-Saharan Africa</td>\n",
       "      <td>Lower middle income</td>\n",
       "      <td>Used a mobile phone or the internet to access ...</td>\n",
       "      <td>NaN</td>\n",
       "    </tr>\n",
       "  </tbody>\n",
       "</table>\n",
       "<p>677425 rows × 8 columns</p>\n",
       "</div>"
      ],
      "text/plain": [
       "       Country name Country code  Year  Adult Population  \\\n",
       "0       Afghanistan          AFG  2011       15124473.00   \n",
       "1       Afghanistan          AFG  2014       17300802.00   \n",
       "2       Afghanistan          AFG  2017       19718214.00   \n",
       "3       Afghanistan          AFG  2021       22647496.00   \n",
       "4           Albania          ALB  2011        2258899.75   \n",
       "...             ...          ...   ...               ...   \n",
       "677420       Zambia          ZMB  2021       10291819.00   \n",
       "677421     Zimbabwe          ZWE  2011        7414228.00   \n",
       "677422     Zimbabwe          ZWE  2014        7712326.00   \n",
       "677423     Zimbabwe          ZWE  2017        8044282.00   \n",
       "677424     Zimbabwe          ZWE  2021        8633711.00   \n",
       "\n",
       "                       Region         Income group  \\\n",
       "0                  South Asia           Low income   \n",
       "1                  South Asia           Low income   \n",
       "2                  South Asia           Low income   \n",
       "3                  South Asia           Low income   \n",
       "4       Europe & Central Asia  Upper middle income   \n",
       "...                       ...                  ...   \n",
       "677420     Sub-Saharan Africa  Lower middle income   \n",
       "677421     Sub-Saharan Africa  Lower middle income   \n",
       "677422     Sub-Saharan Africa  Lower middle income   \n",
       "677423     Sub-Saharan Africa  Lower middle income   \n",
       "677424     Sub-Saharan Africa  Lower middle income   \n",
       "\n",
       "                                                Indicator  Indicator value  \n",
       "0                                     Account (% age 15+)             9.01  \n",
       "1                                     Account (% age 15+)             9.96  \n",
       "2                                     Account (% age 15+)            14.89  \n",
       "3                                     Account (% age 15+)             9.65  \n",
       "4                                     Account (% age 15+)            28.27  \n",
       "...                                                   ...              ...  \n",
       "677420  Used a mobile phone or the internet to access ...              NaN  \n",
       "677421  Used a mobile phone or the internet to access ...              NaN  \n",
       "677422  Used a mobile phone or the internet to access ...              NaN  \n",
       "677423  Used a mobile phone or the internet to access ...            48.87  \n",
       "677424  Used a mobile phone or the internet to access ...              NaN  \n",
       "\n",
       "[677425 rows x 8 columns]"
      ]
     },
     "execution_count": 21,
     "metadata": {},
     "output_type": "execute_result"
    }
   ],
   "source": [
    "# Download and load data\n",
    "file_id = '1CQOEn-YIGRwO_KUWBRD1myhExS7S2wI1'\n",
    "url = f'https://drive.google.com/uc?id={file_id}'\n",
    "gdown.download(url, 'world.csv', quiet=False)\n",
    "\n",
    "df = pd.read_csv('world.csv')\n",
    "df[\"Indicator value\"] = df[\"Indicator value\"].astype(str).str.replace('%', '', regex=False).astype(float)\n",
    "df"
   ]
  },
  {
   "cell_type": "markdown",
   "id": "f1a39590-b0d5-4504-bc4f-a3a0d2648906",
   "metadata": {},
   "source": [
    "## Summary Statistics of Key Variables\n"
   ]
  },
  {
   "cell_type": "code",
   "execution_count": null,
   "id": "8705aa8c-916a-4c5c-95b5-39890531ed50",
   "metadata": {},
   "outputs": [],
   "source": [
    "df.describe()"
   ]
  },
  {
   "cell_type": "markdown",
   "id": "a5339bb1-6c45-41a0-9eb1-5b8ea2539ca4",
   "metadata": {},
   "source": [
    "We computed basic summary statistics for three key numerical variables in the Global Findex dataset: `Year`, `Adult Population`, and `Indicator value`.\n",
    "\n",
    "The data spans four survey years: **2011**, **2014**, **2017**, and **2021**. The average year across all entries is approximately 2017.9, with a standard deviation of about 3.34 years.\n",
    "\n",
    "The `Adult Population` variable shows substantial variation, with the smallest country-year adult population just under **230,000** and the largest over **1.15 billion**, reflecting the inclusion of both small and highly populous countries. The average adult population per record is approximately **38.3 million**.\n",
    "\n",
    "The `Indicator value`—which represents percentages for various financial inclusion metrics—ranges from **0% to 100%**, with a mean value around **27.7%**. This wide range highlights the diversity in financial service access and usage across countries, income groups, and demographic segments.\n",
    "\n",
    "Overall, these summary statistics give us an initial sense of the dataset’s scope and variability, setting the stage for deeper exploration into trends, disparities, and influencing factors.\n"
   ]
  },
  {
   "cell_type": "markdown",
   "id": "d060a0d6-c8de-4e29-bdd8-79325eeb61e1",
   "metadata": {},
   "source": [
    "## Financial Inclusion Trend (2011–2021)\n",
    "\n",
    "- **Global Growth**  \n",
    "  Financial inclusion indicators—such as account ownership, digital payments, and mobile money—have steadily improved worldwide from 2011 to 2021.\n",
    "\n",
    "- **Digital Payments Lead the Way**  \n",
    "  The largest global increase is in digital payments, reflecting the rising importance of mobile and online platforms in financial ecosystems.\n",
    "\n",
    "- **Regional Patterns**  \n",
    "  - **Sub-Saharan Africa** leads with high and growing mobile money usage, outpacing many other regions.  \n",
    "  - While regional disparities remain, all regions show improvement over time.\n",
    "\n",
    "- **🇷🇼 Rwanda’s Strong Performance**  \n",
    "  - Rwanda’s digital financial inclusion has grown faster than the global average.  \n",
    "  - Notable growth areas include:  \n",
    "    - Mobile money account (% age 15+)  \n",
    "    - Made or received a digital payment (% age 15+)\n",
    "\n",
    "- **Financial Institutions Lag in Some Areas**  \n",
    "  Traditional financial institution accounts are increasing but at a slower pace compared to mobile and digital services.\n",
    "\n",
    "---\n",
    "\n",
    "These findings highlight the transformative impact of technology in closing the financial inclusion gap, with Rwanda as a leading regional example.\n"
   ]
  },
  {
   "cell_type": "code",
   "execution_count": 10,
   "id": "b2d2f1b4-e182-4dea-b742-625e3bddaf4c",
   "metadata": {},
   "outputs": [
    {
     "name": "stdout",
     "output_type": "stream",
     "text": [
      "Plotting: Account (% age 15+)\n"
     ]
    },
    {
     "data": {
      "application/vnd.plotly.v1+json": {
       "config": {
        "plotlyServerURL": "https://plot.ly"
       },
       "data": [
        {
         "hovertemplate": "Year=%{x}<br>%=%{y}<extra></extra>",
         "legendgroup": "",
         "line": {
          "color": "#144d14",
          "dash": "solid"
         },
         "marker": {
          "symbol": "circle"
         },
         "mode": "lines+markers",
         "name": "",
         "orientation": "v",
         "showlegend": false,
         "type": "scatter",
         "x": {
          "_inputArray": {
           "0": 2011,
           "1": 2014,
           "2": 2017,
           "3": 2021,
           "bdata": "2wfeB+EH5Qc=",
           "dtype": "i2",
           "shape": "4"
          },
          "bdata": "2wfeB+EH5Qc=",
          "dtype": "i2"
         },
         "xaxis": "x",
         "y": {
          "_inputArray": {
           "0": 46.838043478260865,
           "1": 55.04195652173913,
           "2": 61.495177304964535,
           "3": 70.32100840336135,
           "bdata": "1eA5AkVrR0CbXNDUXoVLQKVFTfhhv05AZ4vUZouUUUA=",
           "dtype": "f8",
           "shape": "4"
          },
          "bdata": "1eA5AkVrR0CbXNDUXoVLQKVFTfhhv05AZ4vUZouUUUA=",
          "dtype": "f8"
         },
         "yaxis": "y"
        },
        {
         "line": {
          "color": "blue",
          "width": 4
         },
         "marker": {
          "size": 10
         },
         "mode": "lines+markers",
         "name": "Rwanda",
         "type": "scatter",
         "x": {
          "_inputArray": {
           "0": 2011,
           "1": 2014,
           "2": 2017,
           "bdata": "2wfeB+EH",
           "dtype": "i2",
           "shape": "3"
          },
          "bdata": "2wfeB+EH",
          "dtype": "i2"
         },
         "y": {
          "_inputArray": {
           "0": 32.76,
           "1": 42.12,
           "2": 50.02,
           "bdata": "4XoUrkdhQECPwvUoXA9FQMP1KFyPAklA",
           "dtype": "f8",
           "shape": "3"
          },
          "bdata": "4XoUrkdhQECPwvUoXA9FQMP1KFyPAklA",
          "dtype": "f8"
         }
        }
       ],
       "layout": {
        "height": 360,
        "legend": {
         "tracegroupgap": 0
        },
        "template": {
         "data": {
          "bar": [
           {
            "error_x": {
             "color": "#2a3f5f"
            },
            "error_y": {
             "color": "#2a3f5f"
            },
            "marker": {
             "line": {
              "color": "#E5ECF6",
              "width": 0.5
             },
             "pattern": {
              "fillmode": "overlay",
              "size": 10,
              "solidity": 0.2
             }
            },
            "type": "bar"
           }
          ],
          "barpolar": [
           {
            "marker": {
             "line": {
              "color": "#E5ECF6",
              "width": 0.5
             },
             "pattern": {
              "fillmode": "overlay",
              "size": 10,
              "solidity": 0.2
             }
            },
            "type": "barpolar"
           }
          ],
          "carpet": [
           {
            "aaxis": {
             "endlinecolor": "#2a3f5f",
             "gridcolor": "white",
             "linecolor": "white",
             "minorgridcolor": "white",
             "startlinecolor": "#2a3f5f"
            },
            "baxis": {
             "endlinecolor": "#2a3f5f",
             "gridcolor": "white",
             "linecolor": "white",
             "minorgridcolor": "white",
             "startlinecolor": "#2a3f5f"
            },
            "type": "carpet"
           }
          ],
          "choropleth": [
           {
            "colorbar": {
             "outlinewidth": 0,
             "ticks": ""
            },
            "type": "choropleth"
           }
          ],
          "contour": [
           {
            "colorbar": {
             "outlinewidth": 0,
             "ticks": ""
            },
            "colorscale": [
             [
              0,
              "#0d0887"
             ],
             [
              0.1111111111111111,
              "#46039f"
             ],
             [
              0.2222222222222222,
              "#7201a8"
             ],
             [
              0.3333333333333333,
              "#9c179e"
             ],
             [
              0.4444444444444444,
              "#bd3786"
             ],
             [
              0.5555555555555556,
              "#d8576b"
             ],
             [
              0.6666666666666666,
              "#ed7953"
             ],
             [
              0.7777777777777778,
              "#fb9f3a"
             ],
             [
              0.8888888888888888,
              "#fdca26"
             ],
             [
              1,
              "#f0f921"
             ]
            ],
            "type": "contour"
           }
          ],
          "contourcarpet": [
           {
            "colorbar": {
             "outlinewidth": 0,
             "ticks": ""
            },
            "type": "contourcarpet"
           }
          ],
          "heatmap": [
           {
            "colorbar": {
             "outlinewidth": 0,
             "ticks": ""
            },
            "colorscale": [
             [
              0,
              "#0d0887"
             ],
             [
              0.1111111111111111,
              "#46039f"
             ],
             [
              0.2222222222222222,
              "#7201a8"
             ],
             [
              0.3333333333333333,
              "#9c179e"
             ],
             [
              0.4444444444444444,
              "#bd3786"
             ],
             [
              0.5555555555555556,
              "#d8576b"
             ],
             [
              0.6666666666666666,
              "#ed7953"
             ],
             [
              0.7777777777777778,
              "#fb9f3a"
             ],
             [
              0.8888888888888888,
              "#fdca26"
             ],
             [
              1,
              "#f0f921"
             ]
            ],
            "type": "heatmap"
           }
          ],
          "histogram": [
           {
            "marker": {
             "pattern": {
              "fillmode": "overlay",
              "size": 10,
              "solidity": 0.2
             }
            },
            "type": "histogram"
           }
          ],
          "histogram2d": [
           {
            "colorbar": {
             "outlinewidth": 0,
             "ticks": ""
            },
            "colorscale": [
             [
              0,
              "#0d0887"
             ],
             [
              0.1111111111111111,
              "#46039f"
             ],
             [
              0.2222222222222222,
              "#7201a8"
             ],
             [
              0.3333333333333333,
              "#9c179e"
             ],
             [
              0.4444444444444444,
              "#bd3786"
             ],
             [
              0.5555555555555556,
              "#d8576b"
             ],
             [
              0.6666666666666666,
              "#ed7953"
             ],
             [
              0.7777777777777778,
              "#fb9f3a"
             ],
             [
              0.8888888888888888,
              "#fdca26"
             ],
             [
              1,
              "#f0f921"
             ]
            ],
            "type": "histogram2d"
           }
          ],
          "histogram2dcontour": [
           {
            "colorbar": {
             "outlinewidth": 0,
             "ticks": ""
            },
            "colorscale": [
             [
              0,
              "#0d0887"
             ],
             [
              0.1111111111111111,
              "#46039f"
             ],
             [
              0.2222222222222222,
              "#7201a8"
             ],
             [
              0.3333333333333333,
              "#9c179e"
             ],
             [
              0.4444444444444444,
              "#bd3786"
             ],
             [
              0.5555555555555556,
              "#d8576b"
             ],
             [
              0.6666666666666666,
              "#ed7953"
             ],
             [
              0.7777777777777778,
              "#fb9f3a"
             ],
             [
              0.8888888888888888,
              "#fdca26"
             ],
             [
              1,
              "#f0f921"
             ]
            ],
            "type": "histogram2dcontour"
           }
          ],
          "mesh3d": [
           {
            "colorbar": {
             "outlinewidth": 0,
             "ticks": ""
            },
            "type": "mesh3d"
           }
          ],
          "parcoords": [
           {
            "line": {
             "colorbar": {
              "outlinewidth": 0,
              "ticks": ""
             }
            },
            "type": "parcoords"
           }
          ],
          "pie": [
           {
            "automargin": true,
            "type": "pie"
           }
          ],
          "scatter": [
           {
            "fillpattern": {
             "fillmode": "overlay",
             "size": 10,
             "solidity": 0.2
            },
            "type": "scatter"
           }
          ],
          "scatter3d": [
           {
            "line": {
             "colorbar": {
              "outlinewidth": 0,
              "ticks": ""
             }
            },
            "marker": {
             "colorbar": {
              "outlinewidth": 0,
              "ticks": ""
             }
            },
            "type": "scatter3d"
           }
          ],
          "scattercarpet": [
           {
            "marker": {
             "colorbar": {
              "outlinewidth": 0,
              "ticks": ""
             }
            },
            "type": "scattercarpet"
           }
          ],
          "scattergeo": [
           {
            "marker": {
             "colorbar": {
              "outlinewidth": 0,
              "ticks": ""
             }
            },
            "type": "scattergeo"
           }
          ],
          "scattergl": [
           {
            "marker": {
             "colorbar": {
              "outlinewidth": 0,
              "ticks": ""
             }
            },
            "type": "scattergl"
           }
          ],
          "scattermap": [
           {
            "marker": {
             "colorbar": {
              "outlinewidth": 0,
              "ticks": ""
             }
            },
            "type": "scattermap"
           }
          ],
          "scattermapbox": [
           {
            "marker": {
             "colorbar": {
              "outlinewidth": 0,
              "ticks": ""
             }
            },
            "type": "scattermapbox"
           }
          ],
          "scatterpolar": [
           {
            "marker": {
             "colorbar": {
              "outlinewidth": 0,
              "ticks": ""
             }
            },
            "type": "scatterpolar"
           }
          ],
          "scatterpolargl": [
           {
            "marker": {
             "colorbar": {
              "outlinewidth": 0,
              "ticks": ""
             }
            },
            "type": "scatterpolargl"
           }
          ],
          "scatterternary": [
           {
            "marker": {
             "colorbar": {
              "outlinewidth": 0,
              "ticks": ""
             }
            },
            "type": "scatterternary"
           }
          ],
          "surface": [
           {
            "colorbar": {
             "outlinewidth": 0,
             "ticks": ""
            },
            "colorscale": [
             [
              0,
              "#0d0887"
             ],
             [
              0.1111111111111111,
              "#46039f"
             ],
             [
              0.2222222222222222,
              "#7201a8"
             ],
             [
              0.3333333333333333,
              "#9c179e"
             ],
             [
              0.4444444444444444,
              "#bd3786"
             ],
             [
              0.5555555555555556,
              "#d8576b"
             ],
             [
              0.6666666666666666,
              "#ed7953"
             ],
             [
              0.7777777777777778,
              "#fb9f3a"
             ],
             [
              0.8888888888888888,
              "#fdca26"
             ],
             [
              1,
              "#f0f921"
             ]
            ],
            "type": "surface"
           }
          ],
          "table": [
           {
            "cells": {
             "fill": {
              "color": "#EBF0F8"
             },
             "line": {
              "color": "white"
             }
            },
            "header": {
             "fill": {
              "color": "#C8D4E3"
             },
             "line": {
              "color": "white"
             }
            },
            "type": "table"
           }
          ]
         },
         "layout": {
          "annotationdefaults": {
           "arrowcolor": "#2a3f5f",
           "arrowhead": 0,
           "arrowwidth": 1
          },
          "autotypenumbers": "strict",
          "coloraxis": {
           "colorbar": {
            "outlinewidth": 0,
            "ticks": ""
           }
          },
          "colorscale": {
           "diverging": [
            [
             0,
             "#8e0152"
            ],
            [
             0.1,
             "#c51b7d"
            ],
            [
             0.2,
             "#de77ae"
            ],
            [
             0.3,
             "#f1b6da"
            ],
            [
             0.4,
             "#fde0ef"
            ],
            [
             0.5,
             "#f7f7f7"
            ],
            [
             0.6,
             "#e6f5d0"
            ],
            [
             0.7,
             "#b8e186"
            ],
            [
             0.8,
             "#7fbc41"
            ],
            [
             0.9,
             "#4d9221"
            ],
            [
             1,
             "#276419"
            ]
           ],
           "sequential": [
            [
             0,
             "#0d0887"
            ],
            [
             0.1111111111111111,
             "#46039f"
            ],
            [
             0.2222222222222222,
             "#7201a8"
            ],
            [
             0.3333333333333333,
             "#9c179e"
            ],
            [
             0.4444444444444444,
             "#bd3786"
            ],
            [
             0.5555555555555556,
             "#d8576b"
            ],
            [
             0.6666666666666666,
             "#ed7953"
            ],
            [
             0.7777777777777778,
             "#fb9f3a"
            ],
            [
             0.8888888888888888,
             "#fdca26"
            ],
            [
             1,
             "#f0f921"
            ]
           ],
           "sequentialminus": [
            [
             0,
             "#0d0887"
            ],
            [
             0.1111111111111111,
             "#46039f"
            ],
            [
             0.2222222222222222,
             "#7201a8"
            ],
            [
             0.3333333333333333,
             "#9c179e"
            ],
            [
             0.4444444444444444,
             "#bd3786"
            ],
            [
             0.5555555555555556,
             "#d8576b"
            ],
            [
             0.6666666666666666,
             "#ed7953"
            ],
            [
             0.7777777777777778,
             "#fb9f3a"
            ],
            [
             0.8888888888888888,
             "#fdca26"
            ],
            [
             1,
             "#f0f921"
            ]
           ]
          },
          "colorway": [
           "#636efa",
           "#EF553B",
           "#00cc96",
           "#ab63fa",
           "#FFA15A",
           "#19d3f3",
           "#FF6692",
           "#B6E880",
           "#FF97FF",
           "#FECB52"
          ],
          "font": {
           "color": "#2a3f5f"
          },
          "geo": {
           "bgcolor": "white",
           "lakecolor": "white",
           "landcolor": "#E5ECF6",
           "showlakes": true,
           "showland": true,
           "subunitcolor": "white"
          },
          "hoverlabel": {
           "align": "left"
          },
          "hovermode": "closest",
          "mapbox": {
           "style": "light"
          },
          "paper_bgcolor": "white",
          "plot_bgcolor": "#E5ECF6",
          "polar": {
           "angularaxis": {
            "gridcolor": "white",
            "linecolor": "white",
            "ticks": ""
           },
           "bgcolor": "#E5ECF6",
           "radialaxis": {
            "gridcolor": "white",
            "linecolor": "white",
            "ticks": ""
           }
          },
          "scene": {
           "xaxis": {
            "backgroundcolor": "#E5ECF6",
            "gridcolor": "white",
            "gridwidth": 2,
            "linecolor": "white",
            "showbackground": true,
            "ticks": "",
            "zerolinecolor": "white"
           },
           "yaxis": {
            "backgroundcolor": "#E5ECF6",
            "gridcolor": "white",
            "gridwidth": 2,
            "linecolor": "white",
            "showbackground": true,
            "ticks": "",
            "zerolinecolor": "white"
           },
           "zaxis": {
            "backgroundcolor": "#E5ECF6",
            "gridcolor": "white",
            "gridwidth": 2,
            "linecolor": "white",
            "showbackground": true,
            "ticks": "",
            "zerolinecolor": "white"
           }
          },
          "shapedefaults": {
           "line": {
            "color": "#2a3f5f"
           }
          },
          "ternary": {
           "aaxis": {
            "gridcolor": "white",
            "linecolor": "white",
            "ticks": ""
           },
           "baxis": {
            "gridcolor": "white",
            "linecolor": "white",
            "ticks": ""
           },
           "bgcolor": "#E5ECF6",
           "caxis": {
            "gridcolor": "white",
            "linecolor": "white",
            "ticks": ""
           }
          },
          "title": {
           "x": 0.05
          },
          "xaxis": {
           "automargin": true,
           "gridcolor": "white",
           "linecolor": "white",
           "ticks": "",
           "title": {
            "standoff": 15
           },
           "zerolinecolor": "white",
           "zerolinewidth": 2
          },
          "yaxis": {
           "automargin": true,
           "gridcolor": "white",
           "linecolor": "white",
           "ticks": "",
           "title": {
            "standoff": 15
           },
           "zerolinecolor": "white",
           "zerolinewidth": 2
          }
         }
        },
        "title": {
         "text": "🌍 Global Trend — Account (% age 15+)"
        },
        "xaxis": {
         "anchor": "y",
         "autorange": true,
         "domain": [
          0,
          1
         ],
         "range": [
          2010.291338582677,
          2021.6524184476941
         ],
         "title": {
          "text": "Year"
         },
         "type": "linear"
        },
        "yaxis": {
         "anchor": "x",
         "autorange": true,
         "domain": [
          0,
          1
         ],
         "range": [
          28.991543564794338,
          73.47168509509066
         ],
         "title": {
          "text": "%"
         },
         "type": "linear"
        }
       }
      }
     },
     "metadata": {},
     "output_type": "display_data"
    },
    {
     "data": {
      "application/vnd.plotly.v1+json": {
       "config": {
        "plotlyServerURL": "https://plot.ly"
       },
       "data": [
        {
         "hovertemplate": "Region=East Asia & Pacific<br>Year=%{x}<br>%=%{y}<extra></extra>",
         "legendgroup": "East Asia & Pacific",
         "line": {
          "color": "#144d14",
          "dash": "solid"
         },
         "marker": {
          "symbol": "circle"
         },
         "mode": "lines+markers",
         "name": "East Asia & Pacific",
         "orientation": "v",
         "showlegend": true,
         "type": "scatter",
         "x": {
          "_inputArray": {
           "0": 2011,
           "1": 2014,
           "2": 2017,
           "3": 2021,
           "bdata": "2wfeB+EH5Qc=",
           "dtype": "i2",
           "shape": "4"
          },
          "bdata": "2wfeB+EH5Qc=",
          "dtype": "i2"
         },
         "xaxis": "x",
         "y": {
          "_inputArray": {
           "0": 65.031875,
           "1": 71.630625,
           "2": 71.14647058823529,
           "3": 79.8775,
           "bdata": "16NwPQpCUECPwvUoXOhRQPmSLMZfyVFAXI/C9Sj4U0A=",
           "dtype": "f8",
           "shape": "4"
          },
          "bdata": "16NwPQpCUECPwvUoXOhRQPmSLMZfyVFAXI/C9Sj4U0A=",
          "dtype": "f8"
         },
         "yaxis": "y"
        },
        {
         "hovertemplate": "Region=Europe & Central Asia<br>Year=%{x}<br>%=%{y}<extra></extra>",
         "legendgroup": "Europe & Central Asia",
         "line": {
          "color": "#4c9c54",
          "dash": "solid"
         },
         "marker": {
          "symbol": "circle"
         },
         "mode": "lines+markers",
         "name": "Europe & Central Asia",
         "orientation": "v",
         "showlegend": true,
         "type": "scatter",
         "x": {
          "_inputArray": {
           "0": 2011,
           "1": 2014,
           "2": 2017,
           "3": 2021,
           "bdata": "2wfeB+EH5Qc=",
           "dtype": "i2",
           "shape": "4"
          },
          "bdata": "2wfeB+EH5Qc=",
          "dtype": "i2"
         },
         "xaxis": "x",
         "y": {
          "_inputArray": {
           "0": 65.8936170212766,
           "1": 73.67729166666668,
           "2": 77.63816326530612,
           "3": 86.21577777777777,
           "bdata": "C2JyBTF5UEDziyW/WGtSQOV/vKrXaFNAlbCYTc+NVUA=",
           "dtype": "f8",
           "shape": "4"
          },
          "bdata": "C2JyBTF5UEDziyW/WGtSQOV/vKrXaFNAlbCYTc+NVUA=",
          "dtype": "f8"
         },
         "yaxis": "y"
        },
        {
         "hovertemplate": "Region=Latin America & Caribbean<br>Year=%{x}<br>%=%{y}<extra></extra>",
         "legendgroup": "Latin America & Caribbean",
         "line": {
          "color": "#7ac943",
          "dash": "solid"
         },
         "marker": {
          "symbol": "circle"
         },
         "mode": "lines+markers",
         "name": "Latin America & Caribbean",
         "orientation": "v",
         "showlegend": true,
         "type": "scatter",
         "x": {
          "_inputArray": {
           "0": 2011,
           "1": 2014,
           "2": 2017,
           "3": 2021,
           "bdata": "2wfeB+EH5Qc=",
           "dtype": "i2",
           "shape": "4"
          },
          "bdata": "2wfeB+EH5Qc=",
          "dtype": "i2"
         },
         "xaxis": "x",
         "y": {
          "_inputArray": {
           "0": 34.13619047619048,
           "1": 46.94761904761905,
           "2": 52.234500000000004,
           "3": 61.39705882352941,
           "bdata": "5KGEsG4RQUCVS7mUS3lHQL10kxgEHkpA09LS0tKyTkA=",
           "dtype": "f8",
           "shape": "4"
          },
          "bdata": "5KGEsG4RQUCVS7mUS3lHQL10kxgEHkpA09LS0tKyTkA=",
          "dtype": "f8"
         },
         "yaxis": "y"
        },
        {
         "hovertemplate": "Region=Middle East & North Africa<br>Year=%{x}<br>%=%{y}<extra></extra>",
         "legendgroup": "Middle East & North Africa",
         "line": {
          "color": "#53a318",
          "dash": "solid"
         },
         "marker": {
          "symbol": "circle"
         },
         "mode": "lines+markers",
         "name": "Middle East & North Africa",
         "orientation": "v",
         "showlegend": true,
         "type": "scatter",
         "x": {
          "_inputArray": {
           "0": 2011,
           "1": 2014,
           "2": 2017,
           "3": 2021,
           "bdata": "2wfeB+EH5Qc=",
           "dtype": "i2",
           "shape": "4"
          },
          "bdata": "2wfeB+EH5Qc=",
          "dtype": "i2"
         },
         "xaxis": "x",
         "y": {
          "_inputArray": {
           "0": 45.893076923076926,
           "1": 48.01818181818182,
           "2": 54.8475,
           "3": 47.58444444444444,
           "bdata": "v7Y4WFDyRkCDPCXIUwJIQBSuR+F6bEtA4JtXE8/KR0A=",
           "dtype": "f8",
           "shape": "4"
          },
          "bdata": "v7Y4WFDyRkCDPCXIUwJIQBSuR+F6bEtA4JtXE8/KR0A=",
          "dtype": "f8"
         },
         "yaxis": "y"
        },
        {
         "hovertemplate": "Region=North America<br>Year=%{x}<br>%=%{y}<extra></extra>",
         "legendgroup": "North America",
         "line": {
          "color": "#3d8910",
          "dash": "solid"
         },
         "marker": {
          "symbol": "circle"
         },
         "mode": "lines+markers",
         "name": "North America",
         "orientation": "v",
         "showlegend": true,
         "type": "scatter",
         "x": {
          "_inputArray": {
           "0": 2011,
           "1": 2014,
           "2": 2017,
           "3": 2021,
           "bdata": "2wfeB+EH5Qc=",
           "dtype": "i2",
           "shape": "4"
          },
          "bdata": "2wfeB+EH5Qc=",
          "dtype": "i2"
         },
         "xaxis": "x",
         "y": {
          "_inputArray": {
           "0": 91.88,
           "1": 96.34,
           "2": 96.42500000000001,
           "3": 97.28999999999999,
           "bdata": "uB6F61H4VkD2KFyPwhVYQDQzMzMzG1hAwvUoXI9SWEA=",
           "dtype": "f8",
           "shape": "4"
          },
          "bdata": "uB6F61H4VkD2KFyPwhVYQDQzMzMzG1hAwvUoXI9SWEA=",
          "dtype": "f8"
         },
         "yaxis": "y"
        },
        {
         "hovertemplate": "Region=South Asia<br>Year=%{x}<br>%=%{y}<extra></extra>",
         "legendgroup": "South Asia",
         "line": {
          "color": "#2f6f0b",
          "dash": "solid"
         },
         "marker": {
          "symbol": "circle"
         },
         "mode": "lines+markers",
         "name": "South Asia",
         "orientation": "v",
         "showlegend": true,
         "type": "scatter",
         "x": {
          "_inputArray": {
           "0": 2011,
           "1": 2014,
           "2": 2017,
           "3": 2021,
           "bdata": "2wfeB+EH5Qc=",
           "dtype": "i2",
           "shape": "4"
          },
          "bdata": "2wfeB+EH5Qc=",
          "dtype": "i2"
         },
         "xaxis": "x",
         "y": {
          "_inputArray": {
           "0": 30.021666666666665,
           "1": 36.755714285714284,
           "2": 52.1,
           "3": 50.70666666666667,
           "bdata": "Jb9Y8osFPkClIec+u2BCQM3MzMzMDEpA20CnDXRaSUA=",
           "dtype": "f8",
           "shape": "4"
          },
          "bdata": "Jb9Y8osFPkClIec+u2BCQM3MzMzMDEpA20CnDXRaSUA=",
          "dtype": "f8"
         },
         "yaxis": "y"
        },
        {
         "hovertemplate": "Region=Sub-Saharan Africa<br>Year=%{x}<br>%=%{y}<extra></extra>",
         "legendgroup": "Sub-Saharan Africa",
         "line": {
          "color": "#255d08",
          "dash": "solid"
         },
         "marker": {
          "symbol": "circle"
         },
         "mode": "lines+markers",
         "name": "Sub-Saharan Africa",
         "orientation": "v",
         "showlegend": true,
         "type": "scatter",
         "x": {
          "_inputArray": {
           "0": 2011,
           "1": 2014,
           "2": 2017,
           "3": 2021,
           "bdata": "2wfeB+EH5Qc=",
           "dtype": "i2",
           "shape": "4"
          },
          "bdata": "2wfeB+EH5Qc=",
          "dtype": "i2"
         },
         "xaxis": "x",
         "y": {
          "_inputArray": {
           "0": 19.66,
           "1": 28.76121212121212,
           "2": 41.07794117647059,
           "3": 51.65083333333333,
           "bdata": "KVyPwvWoM0DD7C3M3sI8QPr5+fn5iURAG+i0gU7TSUA=",
           "dtype": "f8",
           "shape": "4"
          },
          "bdata": "KVyPwvWoM0DD7C3M3sI8QPr5+fn5iURAG+i0gU7TSUA=",
          "dtype": "f8"
         },
         "yaxis": "y"
        },
        {
         "line": {
          "color": "blue",
          "dash": "dash",
          "width": 4
         },
         "marker": {
          "size": 6
         },
         "mode": "lines+markers",
         "name": "Rwanda",
         "type": "scatter",
         "x": {
          "_inputArray": {
           "0": 2011,
           "1": 2014,
           "2": 2017,
           "bdata": "2wfeB+EH",
           "dtype": "i2",
           "shape": "3"
          },
          "bdata": "2wfeB+EH",
          "dtype": "i2"
         },
         "y": {
          "_inputArray": {
           "0": 32.76,
           "1": 42.12,
           "2": 50.02,
           "bdata": "4XoUrkdhQECPwvUoXA9FQMP1KFyPAklA",
           "dtype": "f8",
           "shape": "3"
          },
          "bdata": "4XoUrkdhQECPwvUoXA9FQMP1KFyPAklA",
          "dtype": "f8"
         }
        }
       ],
       "layout": {
        "height": 360,
        "legend": {
         "title": {
          "text": "Region"
         },
         "tracegroupgap": 0
        },
        "template": {
         "data": {
          "bar": [
           {
            "error_x": {
             "color": "#2a3f5f"
            },
            "error_y": {
             "color": "#2a3f5f"
            },
            "marker": {
             "line": {
              "color": "#E5ECF6",
              "width": 0.5
             },
             "pattern": {
              "fillmode": "overlay",
              "size": 10,
              "solidity": 0.2
             }
            },
            "type": "bar"
           }
          ],
          "barpolar": [
           {
            "marker": {
             "line": {
              "color": "#E5ECF6",
              "width": 0.5
             },
             "pattern": {
              "fillmode": "overlay",
              "size": 10,
              "solidity": 0.2
             }
            },
            "type": "barpolar"
           }
          ],
          "carpet": [
           {
            "aaxis": {
             "endlinecolor": "#2a3f5f",
             "gridcolor": "white",
             "linecolor": "white",
             "minorgridcolor": "white",
             "startlinecolor": "#2a3f5f"
            },
            "baxis": {
             "endlinecolor": "#2a3f5f",
             "gridcolor": "white",
             "linecolor": "white",
             "minorgridcolor": "white",
             "startlinecolor": "#2a3f5f"
            },
            "type": "carpet"
           }
          ],
          "choropleth": [
           {
            "colorbar": {
             "outlinewidth": 0,
             "ticks": ""
            },
            "type": "choropleth"
           }
          ],
          "contour": [
           {
            "colorbar": {
             "outlinewidth": 0,
             "ticks": ""
            },
            "colorscale": [
             [
              0,
              "#0d0887"
             ],
             [
              0.1111111111111111,
              "#46039f"
             ],
             [
              0.2222222222222222,
              "#7201a8"
             ],
             [
              0.3333333333333333,
              "#9c179e"
             ],
             [
              0.4444444444444444,
              "#bd3786"
             ],
             [
              0.5555555555555556,
              "#d8576b"
             ],
             [
              0.6666666666666666,
              "#ed7953"
             ],
             [
              0.7777777777777778,
              "#fb9f3a"
             ],
             [
              0.8888888888888888,
              "#fdca26"
             ],
             [
              1,
              "#f0f921"
             ]
            ],
            "type": "contour"
           }
          ],
          "contourcarpet": [
           {
            "colorbar": {
             "outlinewidth": 0,
             "ticks": ""
            },
            "type": "contourcarpet"
           }
          ],
          "heatmap": [
           {
            "colorbar": {
             "outlinewidth": 0,
             "ticks": ""
            },
            "colorscale": [
             [
              0,
              "#0d0887"
             ],
             [
              0.1111111111111111,
              "#46039f"
             ],
             [
              0.2222222222222222,
              "#7201a8"
             ],
             [
              0.3333333333333333,
              "#9c179e"
             ],
             [
              0.4444444444444444,
              "#bd3786"
             ],
             [
              0.5555555555555556,
              "#d8576b"
             ],
             [
              0.6666666666666666,
              "#ed7953"
             ],
             [
              0.7777777777777778,
              "#fb9f3a"
             ],
             [
              0.8888888888888888,
              "#fdca26"
             ],
             [
              1,
              "#f0f921"
             ]
            ],
            "type": "heatmap"
           }
          ],
          "histogram": [
           {
            "marker": {
             "pattern": {
              "fillmode": "overlay",
              "size": 10,
              "solidity": 0.2
             }
            },
            "type": "histogram"
           }
          ],
          "histogram2d": [
           {
            "colorbar": {
             "outlinewidth": 0,
             "ticks": ""
            },
            "colorscale": [
             [
              0,
              "#0d0887"
             ],
             [
              0.1111111111111111,
              "#46039f"
             ],
             [
              0.2222222222222222,
              "#7201a8"
             ],
             [
              0.3333333333333333,
              "#9c179e"
             ],
             [
              0.4444444444444444,
              "#bd3786"
             ],
             [
              0.5555555555555556,
              "#d8576b"
             ],
             [
              0.6666666666666666,
              "#ed7953"
             ],
             [
              0.7777777777777778,
              "#fb9f3a"
             ],
             [
              0.8888888888888888,
              "#fdca26"
             ],
             [
              1,
              "#f0f921"
             ]
            ],
            "type": "histogram2d"
           }
          ],
          "histogram2dcontour": [
           {
            "colorbar": {
             "outlinewidth": 0,
             "ticks": ""
            },
            "colorscale": [
             [
              0,
              "#0d0887"
             ],
             [
              0.1111111111111111,
              "#46039f"
             ],
             [
              0.2222222222222222,
              "#7201a8"
             ],
             [
              0.3333333333333333,
              "#9c179e"
             ],
             [
              0.4444444444444444,
              "#bd3786"
             ],
             [
              0.5555555555555556,
              "#d8576b"
             ],
             [
              0.6666666666666666,
              "#ed7953"
             ],
             [
              0.7777777777777778,
              "#fb9f3a"
             ],
             [
              0.8888888888888888,
              "#fdca26"
             ],
             [
              1,
              "#f0f921"
             ]
            ],
            "type": "histogram2dcontour"
           }
          ],
          "mesh3d": [
           {
            "colorbar": {
             "outlinewidth": 0,
             "ticks": ""
            },
            "type": "mesh3d"
           }
          ],
          "parcoords": [
           {
            "line": {
             "colorbar": {
              "outlinewidth": 0,
              "ticks": ""
             }
            },
            "type": "parcoords"
           }
          ],
          "pie": [
           {
            "automargin": true,
            "type": "pie"
           }
          ],
          "scatter": [
           {
            "fillpattern": {
             "fillmode": "overlay",
             "size": 10,
             "solidity": 0.2
            },
            "type": "scatter"
           }
          ],
          "scatter3d": [
           {
            "line": {
             "colorbar": {
              "outlinewidth": 0,
              "ticks": ""
             }
            },
            "marker": {
             "colorbar": {
              "outlinewidth": 0,
              "ticks": ""
             }
            },
            "type": "scatter3d"
           }
          ],
          "scattercarpet": [
           {
            "marker": {
             "colorbar": {
              "outlinewidth": 0,
              "ticks": ""
             }
            },
            "type": "scattercarpet"
           }
          ],
          "scattergeo": [
           {
            "marker": {
             "colorbar": {
              "outlinewidth": 0,
              "ticks": ""
             }
            },
            "type": "scattergeo"
           }
          ],
          "scattergl": [
           {
            "marker": {
             "colorbar": {
              "outlinewidth": 0,
              "ticks": ""
             }
            },
            "type": "scattergl"
           }
          ],
          "scattermap": [
           {
            "marker": {
             "colorbar": {
              "outlinewidth": 0,
              "ticks": ""
             }
            },
            "type": "scattermap"
           }
          ],
          "scattermapbox": [
           {
            "marker": {
             "colorbar": {
              "outlinewidth": 0,
              "ticks": ""
             }
            },
            "type": "scattermapbox"
           }
          ],
          "scatterpolar": [
           {
            "marker": {
             "colorbar": {
              "outlinewidth": 0,
              "ticks": ""
             }
            },
            "type": "scatterpolar"
           }
          ],
          "scatterpolargl": [
           {
            "marker": {
             "colorbar": {
              "outlinewidth": 0,
              "ticks": ""
             }
            },
            "type": "scatterpolargl"
           }
          ],
          "scatterternary": [
           {
            "marker": {
             "colorbar": {
              "outlinewidth": 0,
              "ticks": ""
             }
            },
            "type": "scatterternary"
           }
          ],
          "surface": [
           {
            "colorbar": {
             "outlinewidth": 0,
             "ticks": ""
            },
            "colorscale": [
             [
              0,
              "#0d0887"
             ],
             [
              0.1111111111111111,
              "#46039f"
             ],
             [
              0.2222222222222222,
              "#7201a8"
             ],
             [
              0.3333333333333333,
              "#9c179e"
             ],
             [
              0.4444444444444444,
              "#bd3786"
             ],
             [
              0.5555555555555556,
              "#d8576b"
             ],
             [
              0.6666666666666666,
              "#ed7953"
             ],
             [
              0.7777777777777778,
              "#fb9f3a"
             ],
             [
              0.8888888888888888,
              "#fdca26"
             ],
             [
              1,
              "#f0f921"
             ]
            ],
            "type": "surface"
           }
          ],
          "table": [
           {
            "cells": {
             "fill": {
              "color": "#EBF0F8"
             },
             "line": {
              "color": "white"
             }
            },
            "header": {
             "fill": {
              "color": "#C8D4E3"
             },
             "line": {
              "color": "white"
             }
            },
            "type": "table"
           }
          ]
         },
         "layout": {
          "annotationdefaults": {
           "arrowcolor": "#2a3f5f",
           "arrowhead": 0,
           "arrowwidth": 1
          },
          "autotypenumbers": "strict",
          "coloraxis": {
           "colorbar": {
            "outlinewidth": 0,
            "ticks": ""
           }
          },
          "colorscale": {
           "diverging": [
            [
             0,
             "#8e0152"
            ],
            [
             0.1,
             "#c51b7d"
            ],
            [
             0.2,
             "#de77ae"
            ],
            [
             0.3,
             "#f1b6da"
            ],
            [
             0.4,
             "#fde0ef"
            ],
            [
             0.5,
             "#f7f7f7"
            ],
            [
             0.6,
             "#e6f5d0"
            ],
            [
             0.7,
             "#b8e186"
            ],
            [
             0.8,
             "#7fbc41"
            ],
            [
             0.9,
             "#4d9221"
            ],
            [
             1,
             "#276419"
            ]
           ],
           "sequential": [
            [
             0,
             "#0d0887"
            ],
            [
             0.1111111111111111,
             "#46039f"
            ],
            [
             0.2222222222222222,
             "#7201a8"
            ],
            [
             0.3333333333333333,
             "#9c179e"
            ],
            [
             0.4444444444444444,
             "#bd3786"
            ],
            [
             0.5555555555555556,
             "#d8576b"
            ],
            [
             0.6666666666666666,
             "#ed7953"
            ],
            [
             0.7777777777777778,
             "#fb9f3a"
            ],
            [
             0.8888888888888888,
             "#fdca26"
            ],
            [
             1,
             "#f0f921"
            ]
           ],
           "sequentialminus": [
            [
             0,
             "#0d0887"
            ],
            [
             0.1111111111111111,
             "#46039f"
            ],
            [
             0.2222222222222222,
             "#7201a8"
            ],
            [
             0.3333333333333333,
             "#9c179e"
            ],
            [
             0.4444444444444444,
             "#bd3786"
            ],
            [
             0.5555555555555556,
             "#d8576b"
            ],
            [
             0.6666666666666666,
             "#ed7953"
            ],
            [
             0.7777777777777778,
             "#fb9f3a"
            ],
            [
             0.8888888888888888,
             "#fdca26"
            ],
            [
             1,
             "#f0f921"
            ]
           ]
          },
          "colorway": [
           "#636efa",
           "#EF553B",
           "#00cc96",
           "#ab63fa",
           "#FFA15A",
           "#19d3f3",
           "#FF6692",
           "#B6E880",
           "#FF97FF",
           "#FECB52"
          ],
          "font": {
           "color": "#2a3f5f"
          },
          "geo": {
           "bgcolor": "white",
           "lakecolor": "white",
           "landcolor": "#E5ECF6",
           "showlakes": true,
           "showland": true,
           "subunitcolor": "white"
          },
          "hoverlabel": {
           "align": "left"
          },
          "hovermode": "closest",
          "mapbox": {
           "style": "light"
          },
          "paper_bgcolor": "white",
          "plot_bgcolor": "#E5ECF6",
          "polar": {
           "angularaxis": {
            "gridcolor": "white",
            "linecolor": "white",
            "ticks": ""
           },
           "bgcolor": "#E5ECF6",
           "radialaxis": {
            "gridcolor": "white",
            "linecolor": "white",
            "ticks": ""
           }
          },
          "scene": {
           "xaxis": {
            "backgroundcolor": "#E5ECF6",
            "gridcolor": "white",
            "gridwidth": 2,
            "linecolor": "white",
            "showbackground": true,
            "ticks": "",
            "zerolinecolor": "white"
           },
           "yaxis": {
            "backgroundcolor": "#E5ECF6",
            "gridcolor": "white",
            "gridwidth": 2,
            "linecolor": "white",
            "showbackground": true,
            "ticks": "",
            "zerolinecolor": "white"
           },
           "zaxis": {
            "backgroundcolor": "#E5ECF6",
            "gridcolor": "white",
            "gridwidth": 2,
            "linecolor": "white",
            "showbackground": true,
            "ticks": "",
            "zerolinecolor": "white"
           }
          },
          "shapedefaults": {
           "line": {
            "color": "#2a3f5f"
           }
          },
          "ternary": {
           "aaxis": {
            "gridcolor": "white",
            "linecolor": "white",
            "ticks": ""
           },
           "baxis": {
            "gridcolor": "white",
            "linecolor": "white",
            "ticks": ""
           },
           "bgcolor": "#E5ECF6",
           "caxis": {
            "gridcolor": "white",
            "linecolor": "white",
            "ticks": ""
           }
          },
          "title": {
           "x": 0.05
          },
          "xaxis": {
           "automargin": true,
           "gridcolor": "white",
           "linecolor": "white",
           "ticks": "",
           "title": {
            "standoff": 15
           },
           "zerolinecolor": "white",
           "zerolinewidth": 2
          },
          "yaxis": {
           "automargin": true,
           "gridcolor": "white",
           "linecolor": "white",
           "ticks": "",
           "title": {
            "standoff": 15
           },
           "zerolinecolor": "white",
           "zerolinewidth": 2
          }
         }
        },
        "title": {
         "text": "🌍 Regional Trend — Account (% age 15+)"
        },
        "xaxis": {
         "anchor": "y",
         "autorange": true,
         "domain": [
          0,
          1
         ],
         "range": [
          2010.3244021895707,
          2021.6755978104293
         ],
         "title": {
          "text": "Year"
         },
         "type": "linear"
        },
        "yaxis": {
         "anchor": "x",
         "autorange": true,
         "domain": [
          0,
          1
         ],
         "range": [
          13.25364077669903,
          103.69635922330096
         ],
         "title": {
          "text": "%"
         },
         "type": "linear"
        }
       }
      }
     },
     "metadata": {},
     "output_type": "display_data"
    },
    {
     "name": "stdout",
     "output_type": "stream",
     "text": [
      "Plotting: Financial institution account (% age 15+)\n"
     ]
    },
    {
     "data": {
      "application/vnd.plotly.v1+json": {
       "config": {
        "plotlyServerURL": "https://plot.ly"
       },
       "data": [
        {
         "hovertemplate": "Year=%{x}<br>%=%{y}<extra></extra>",
         "legendgroup": "",
         "line": {
          "color": "#144d14",
          "dash": "solid"
         },
         "marker": {
          "symbol": "circle"
         },
         "mode": "lines+markers",
         "name": "",
         "orientation": "v",
         "showlegend": false,
         "type": "scatter",
         "x": {
          "_inputArray": {
           "0": 2011,
           "1": 2014,
           "2": 2017,
           "3": 2021,
           "bdata": "2wfeB+EH5Qc=",
           "dtype": "i2",
           "shape": "4"
          },
          "bdata": "2wfeB+EH5Qc=",
          "dtype": "i2"
         },
         "xaxis": "x",
         "y": {
          "_inputArray": {
           "0": 46.838043478260865,
           "1": 53.51601449275363,
           "2": 58.199432624113484,
           "3": 65.13949579831933,
           "bdata": "1eA5AkVrR0DGUU3DDMJKQFQpGwKHGU1AgO3If+1IUEA=",
           "dtype": "f8",
           "shape": "4"
          },
          "bdata": "1eA5AkVrR0DGUU3DDMJKQFQpGwKHGU1AgO3If+1IUEA=",
          "dtype": "f8"
         },
         "yaxis": "y"
        },
        {
         "line": {
          "color": "blue",
          "width": 4
         },
         "marker": {
          "size": 10
         },
         "mode": "lines+markers",
         "name": "Rwanda",
         "type": "scatter",
         "x": {
          "_inputArray": {
           "0": 2011,
           "1": 2014,
           "2": 2017,
           "bdata": "2wfeB+EH",
           "dtype": "i2",
           "shape": "3"
          },
          "bdata": "2wfeB+EH",
          "dtype": "i2"
         },
         "y": {
          "_inputArray": {
           "0": 32.76,
           "1": 38.14,
           "2": 36.66,
           "bdata": "4XoUrkdhQEBSuB6F6xFDQBSuR+F6VEJA",
           "dtype": "f8",
           "shape": "3"
          },
          "bdata": "4XoUrkdhQEBSuB6F6xFDQBSuR+F6VEJA",
          "dtype": "f8"
         }
        }
       ],
       "layout": {
        "height": 360,
        "legend": {
         "tracegroupgap": 0
        },
        "template": {
         "data": {
          "bar": [
           {
            "error_x": {
             "color": "#2a3f5f"
            },
            "error_y": {
             "color": "#2a3f5f"
            },
            "marker": {
             "line": {
              "color": "#E5ECF6",
              "width": 0.5
             },
             "pattern": {
              "fillmode": "overlay",
              "size": 10,
              "solidity": 0.2
             }
            },
            "type": "bar"
           }
          ],
          "barpolar": [
           {
            "marker": {
             "line": {
              "color": "#E5ECF6",
              "width": 0.5
             },
             "pattern": {
              "fillmode": "overlay",
              "size": 10,
              "solidity": 0.2
             }
            },
            "type": "barpolar"
           }
          ],
          "carpet": [
           {
            "aaxis": {
             "endlinecolor": "#2a3f5f",
             "gridcolor": "white",
             "linecolor": "white",
             "minorgridcolor": "white",
             "startlinecolor": "#2a3f5f"
            },
            "baxis": {
             "endlinecolor": "#2a3f5f",
             "gridcolor": "white",
             "linecolor": "white",
             "minorgridcolor": "white",
             "startlinecolor": "#2a3f5f"
            },
            "type": "carpet"
           }
          ],
          "choropleth": [
           {
            "colorbar": {
             "outlinewidth": 0,
             "ticks": ""
            },
            "type": "choropleth"
           }
          ],
          "contour": [
           {
            "colorbar": {
             "outlinewidth": 0,
             "ticks": ""
            },
            "colorscale": [
             [
              0,
              "#0d0887"
             ],
             [
              0.1111111111111111,
              "#46039f"
             ],
             [
              0.2222222222222222,
              "#7201a8"
             ],
             [
              0.3333333333333333,
              "#9c179e"
             ],
             [
              0.4444444444444444,
              "#bd3786"
             ],
             [
              0.5555555555555556,
              "#d8576b"
             ],
             [
              0.6666666666666666,
              "#ed7953"
             ],
             [
              0.7777777777777778,
              "#fb9f3a"
             ],
             [
              0.8888888888888888,
              "#fdca26"
             ],
             [
              1,
              "#f0f921"
             ]
            ],
            "type": "contour"
           }
          ],
          "contourcarpet": [
           {
            "colorbar": {
             "outlinewidth": 0,
             "ticks": ""
            },
            "type": "contourcarpet"
           }
          ],
          "heatmap": [
           {
            "colorbar": {
             "outlinewidth": 0,
             "ticks": ""
            },
            "colorscale": [
             [
              0,
              "#0d0887"
             ],
             [
              0.1111111111111111,
              "#46039f"
             ],
             [
              0.2222222222222222,
              "#7201a8"
             ],
             [
              0.3333333333333333,
              "#9c179e"
             ],
             [
              0.4444444444444444,
              "#bd3786"
             ],
             [
              0.5555555555555556,
              "#d8576b"
             ],
             [
              0.6666666666666666,
              "#ed7953"
             ],
             [
              0.7777777777777778,
              "#fb9f3a"
             ],
             [
              0.8888888888888888,
              "#fdca26"
             ],
             [
              1,
              "#f0f921"
             ]
            ],
            "type": "heatmap"
           }
          ],
          "histogram": [
           {
            "marker": {
             "pattern": {
              "fillmode": "overlay",
              "size": 10,
              "solidity": 0.2
             }
            },
            "type": "histogram"
           }
          ],
          "histogram2d": [
           {
            "colorbar": {
             "outlinewidth": 0,
             "ticks": ""
            },
            "colorscale": [
             [
              0,
              "#0d0887"
             ],
             [
              0.1111111111111111,
              "#46039f"
             ],
             [
              0.2222222222222222,
              "#7201a8"
             ],
             [
              0.3333333333333333,
              "#9c179e"
             ],
             [
              0.4444444444444444,
              "#bd3786"
             ],
             [
              0.5555555555555556,
              "#d8576b"
             ],
             [
              0.6666666666666666,
              "#ed7953"
             ],
             [
              0.7777777777777778,
              "#fb9f3a"
             ],
             [
              0.8888888888888888,
              "#fdca26"
             ],
             [
              1,
              "#f0f921"
             ]
            ],
            "type": "histogram2d"
           }
          ],
          "histogram2dcontour": [
           {
            "colorbar": {
             "outlinewidth": 0,
             "ticks": ""
            },
            "colorscale": [
             [
              0,
              "#0d0887"
             ],
             [
              0.1111111111111111,
              "#46039f"
             ],
             [
              0.2222222222222222,
              "#7201a8"
             ],
             [
              0.3333333333333333,
              "#9c179e"
             ],
             [
              0.4444444444444444,
              "#bd3786"
             ],
             [
              0.5555555555555556,
              "#d8576b"
             ],
             [
              0.6666666666666666,
              "#ed7953"
             ],
             [
              0.7777777777777778,
              "#fb9f3a"
             ],
             [
              0.8888888888888888,
              "#fdca26"
             ],
             [
              1,
              "#f0f921"
             ]
            ],
            "type": "histogram2dcontour"
           }
          ],
          "mesh3d": [
           {
            "colorbar": {
             "outlinewidth": 0,
             "ticks": ""
            },
            "type": "mesh3d"
           }
          ],
          "parcoords": [
           {
            "line": {
             "colorbar": {
              "outlinewidth": 0,
              "ticks": ""
             }
            },
            "type": "parcoords"
           }
          ],
          "pie": [
           {
            "automargin": true,
            "type": "pie"
           }
          ],
          "scatter": [
           {
            "fillpattern": {
             "fillmode": "overlay",
             "size": 10,
             "solidity": 0.2
            },
            "type": "scatter"
           }
          ],
          "scatter3d": [
           {
            "line": {
             "colorbar": {
              "outlinewidth": 0,
              "ticks": ""
             }
            },
            "marker": {
             "colorbar": {
              "outlinewidth": 0,
              "ticks": ""
             }
            },
            "type": "scatter3d"
           }
          ],
          "scattercarpet": [
           {
            "marker": {
             "colorbar": {
              "outlinewidth": 0,
              "ticks": ""
             }
            },
            "type": "scattercarpet"
           }
          ],
          "scattergeo": [
           {
            "marker": {
             "colorbar": {
              "outlinewidth": 0,
              "ticks": ""
             }
            },
            "type": "scattergeo"
           }
          ],
          "scattergl": [
           {
            "marker": {
             "colorbar": {
              "outlinewidth": 0,
              "ticks": ""
             }
            },
            "type": "scattergl"
           }
          ],
          "scattermap": [
           {
            "marker": {
             "colorbar": {
              "outlinewidth": 0,
              "ticks": ""
             }
            },
            "type": "scattermap"
           }
          ],
          "scattermapbox": [
           {
            "marker": {
             "colorbar": {
              "outlinewidth": 0,
              "ticks": ""
             }
            },
            "type": "scattermapbox"
           }
          ],
          "scatterpolar": [
           {
            "marker": {
             "colorbar": {
              "outlinewidth": 0,
              "ticks": ""
             }
            },
            "type": "scatterpolar"
           }
          ],
          "scatterpolargl": [
           {
            "marker": {
             "colorbar": {
              "outlinewidth": 0,
              "ticks": ""
             }
            },
            "type": "scatterpolargl"
           }
          ],
          "scatterternary": [
           {
            "marker": {
             "colorbar": {
              "outlinewidth": 0,
              "ticks": ""
             }
            },
            "type": "scatterternary"
           }
          ],
          "surface": [
           {
            "colorbar": {
             "outlinewidth": 0,
             "ticks": ""
            },
            "colorscale": [
             [
              0,
              "#0d0887"
             ],
             [
              0.1111111111111111,
              "#46039f"
             ],
             [
              0.2222222222222222,
              "#7201a8"
             ],
             [
              0.3333333333333333,
              "#9c179e"
             ],
             [
              0.4444444444444444,
              "#bd3786"
             ],
             [
              0.5555555555555556,
              "#d8576b"
             ],
             [
              0.6666666666666666,
              "#ed7953"
             ],
             [
              0.7777777777777778,
              "#fb9f3a"
             ],
             [
              0.8888888888888888,
              "#fdca26"
             ],
             [
              1,
              "#f0f921"
             ]
            ],
            "type": "surface"
           }
          ],
          "table": [
           {
            "cells": {
             "fill": {
              "color": "#EBF0F8"
             },
             "line": {
              "color": "white"
             }
            },
            "header": {
             "fill": {
              "color": "#C8D4E3"
             },
             "line": {
              "color": "white"
             }
            },
            "type": "table"
           }
          ]
         },
         "layout": {
          "annotationdefaults": {
           "arrowcolor": "#2a3f5f",
           "arrowhead": 0,
           "arrowwidth": 1
          },
          "autotypenumbers": "strict",
          "coloraxis": {
           "colorbar": {
            "outlinewidth": 0,
            "ticks": ""
           }
          },
          "colorscale": {
           "diverging": [
            [
             0,
             "#8e0152"
            ],
            [
             0.1,
             "#c51b7d"
            ],
            [
             0.2,
             "#de77ae"
            ],
            [
             0.3,
             "#f1b6da"
            ],
            [
             0.4,
             "#fde0ef"
            ],
            [
             0.5,
             "#f7f7f7"
            ],
            [
             0.6,
             "#e6f5d0"
            ],
            [
             0.7,
             "#b8e186"
            ],
            [
             0.8,
             "#7fbc41"
            ],
            [
             0.9,
             "#4d9221"
            ],
            [
             1,
             "#276419"
            ]
           ],
           "sequential": [
            [
             0,
             "#0d0887"
            ],
            [
             0.1111111111111111,
             "#46039f"
            ],
            [
             0.2222222222222222,
             "#7201a8"
            ],
            [
             0.3333333333333333,
             "#9c179e"
            ],
            [
             0.4444444444444444,
             "#bd3786"
            ],
            [
             0.5555555555555556,
             "#d8576b"
            ],
            [
             0.6666666666666666,
             "#ed7953"
            ],
            [
             0.7777777777777778,
             "#fb9f3a"
            ],
            [
             0.8888888888888888,
             "#fdca26"
            ],
            [
             1,
             "#f0f921"
            ]
           ],
           "sequentialminus": [
            [
             0,
             "#0d0887"
            ],
            [
             0.1111111111111111,
             "#46039f"
            ],
            [
             0.2222222222222222,
             "#7201a8"
            ],
            [
             0.3333333333333333,
             "#9c179e"
            ],
            [
             0.4444444444444444,
             "#bd3786"
            ],
            [
             0.5555555555555556,
             "#d8576b"
            ],
            [
             0.6666666666666666,
             "#ed7953"
            ],
            [
             0.7777777777777778,
             "#fb9f3a"
            ],
            [
             0.8888888888888888,
             "#fdca26"
            ],
            [
             1,
             "#f0f921"
            ]
           ]
          },
          "colorway": [
           "#636efa",
           "#EF553B",
           "#00cc96",
           "#ab63fa",
           "#FFA15A",
           "#19d3f3",
           "#FF6692",
           "#B6E880",
           "#FF97FF",
           "#FECB52"
          ],
          "font": {
           "color": "#2a3f5f"
          },
          "geo": {
           "bgcolor": "white",
           "lakecolor": "white",
           "landcolor": "#E5ECF6",
           "showlakes": true,
           "showland": true,
           "subunitcolor": "white"
          },
          "hoverlabel": {
           "align": "left"
          },
          "hovermode": "closest",
          "mapbox": {
           "style": "light"
          },
          "paper_bgcolor": "white",
          "plot_bgcolor": "#E5ECF6",
          "polar": {
           "angularaxis": {
            "gridcolor": "white",
            "linecolor": "white",
            "ticks": ""
           },
           "bgcolor": "#E5ECF6",
           "radialaxis": {
            "gridcolor": "white",
            "linecolor": "white",
            "ticks": ""
           }
          },
          "scene": {
           "xaxis": {
            "backgroundcolor": "#E5ECF6",
            "gridcolor": "white",
            "gridwidth": 2,
            "linecolor": "white",
            "showbackground": true,
            "ticks": "",
            "zerolinecolor": "white"
           },
           "yaxis": {
            "backgroundcolor": "#E5ECF6",
            "gridcolor": "white",
            "gridwidth": 2,
            "linecolor": "white",
            "showbackground": true,
            "ticks": "",
            "zerolinecolor": "white"
           },
           "zaxis": {
            "backgroundcolor": "#E5ECF6",
            "gridcolor": "white",
            "gridwidth": 2,
            "linecolor": "white",
            "showbackground": true,
            "ticks": "",
            "zerolinecolor": "white"
           }
          },
          "shapedefaults": {
           "line": {
            "color": "#2a3f5f"
           }
          },
          "ternary": {
           "aaxis": {
            "gridcolor": "white",
            "linecolor": "white",
            "ticks": ""
           },
           "baxis": {
            "gridcolor": "white",
            "linecolor": "white",
            "ticks": ""
           },
           "bgcolor": "#E5ECF6",
           "caxis": {
            "gridcolor": "white",
            "linecolor": "white",
            "ticks": ""
           }
          },
          "title": {
           "x": 0.05
          },
          "xaxis": {
           "automargin": true,
           "gridcolor": "white",
           "linecolor": "white",
           "ticks": "",
           "title": {
            "standoff": 15
           },
           "zerolinecolor": "white",
           "zerolinewidth": 2
          },
          "yaxis": {
           "automargin": true,
           "gridcolor": "white",
           "linecolor": "white",
           "ticks": "",
           "title": {
            "standoff": 15
           },
           "zerolinecolor": "white",
           "zerolinewidth": 2
          }
         }
        },
        "title": {
         "text": "🌍 Global Trend — Financial institution account (% age 15+)"
        },
        "xaxis": {
         "anchor": "y",
         "autorange": true,
         "domain": [
          0,
          1
         ],
         "range": [
          2010.291338582677,
          2021.6524184476941
         ],
         "title": {
          "text": "Year"
         },
         "type": "linear"
        },
        "yaxis": {
         "anchor": "x",
         "autorange": true,
         "domain": [
          0,
          1
         ],
         "range": [
          29.511399270234406,
          67.85553903140203
         ],
         "title": {
          "text": "%"
         },
         "type": "linear"
        }
       }
      }
     },
     "metadata": {},
     "output_type": "display_data"
    },
    {
     "data": {
      "application/vnd.plotly.v1+json": {
       "config": {
        "plotlyServerURL": "https://plot.ly"
       },
       "data": [
        {
         "hovertemplate": "Region=East Asia & Pacific<br>Year=%{x}<br>%=%{y}<extra></extra>",
         "legendgroup": "East Asia & Pacific",
         "line": {
          "color": "#144d14",
          "dash": "solid"
         },
         "marker": {
          "symbol": "circle"
         },
         "mode": "lines+markers",
         "name": "East Asia & Pacific",
         "orientation": "v",
         "showlegend": true,
         "type": "scatter",
         "x": {
          "_inputArray": {
           "0": 2011,
           "1": 2014,
           "2": 2017,
           "3": 2021,
           "bdata": "2wfeB+EH5Qc=",
           "dtype": "i2",
           "shape": "4"
          },
          "bdata": "2wfeB+EH5Qc=",
          "dtype": "i2"
         },
         "xaxis": "x",
         "y": {
          "_inputArray": {
           "0": 65.031875,
           "1": 70.80625,
           "2": 70.60764705882353,
           "3": 78.5425,
           "bdata": "16NwPQpCUECamZmZmbNRQBdKfbDjplFAH4XrUbiiU0A=",
           "dtype": "f8",
           "shape": "4"
          },
          "bdata": "16NwPQpCUECamZmZmbNRQBdKfbDjplFAH4XrUbiiU0A=",
          "dtype": "f8"
         },
         "yaxis": "y"
        },
        {
         "hovertemplate": "Region=Europe & Central Asia<br>Year=%{x}<br>%=%{y}<extra></extra>",
         "legendgroup": "Europe & Central Asia",
         "line": {
          "color": "#4c9c54",
          "dash": "solid"
         },
         "marker": {
          "symbol": "circle"
         },
         "mode": "lines+markers",
         "name": "Europe & Central Asia",
         "orientation": "v",
         "showlegend": true,
         "type": "scatter",
         "x": {
          "_inputArray": {
           "0": 2011,
           "1": 2014,
           "2": 2017,
           "3": 2021,
           "bdata": "2wfeB+EH5Qc=",
           "dtype": "i2",
           "shape": "4"
          },
          "bdata": "2wfeB+EH5Qc=",
          "dtype": "i2"
         },
         "xaxis": "x",
         "y": {
          "_inputArray": {
           "0": 65.8936170212766,
           "1": 73.66375000000001,
           "2": 77.51918367346939,
           "3": 86.00311111111111,
           "bdata": "C2JyBTF5UEAVrkfhempSQMOKKE46YVNAfh7y+DKAVUA=",
           "dtype": "f8",
           "shape": "4"
          },
          "bdata": "C2JyBTF5UEAVrkfhempSQMOKKE46YVNAfh7y+DKAVUA=",
          "dtype": "f8"
         },
         "yaxis": "y"
        },
        {
         "hovertemplate": "Region=Latin America & Caribbean<br>Year=%{x}<br>%=%{y}<extra></extra>",
         "legendgroup": "Latin America & Caribbean",
         "line": {
          "color": "#7ac943",
          "dash": "solid"
         },
         "marker": {
          "symbol": "circle"
         },
         "mode": "lines+markers",
         "name": "Latin America & Caribbean",
         "orientation": "v",
         "showlegend": true,
         "type": "scatter",
         "x": {
          "_inputArray": {
           "0": 2011,
           "1": 2014,
           "2": 2017,
           "3": 2021,
           "bdata": "2wfeB+EH5Qc=",
           "dtype": "i2",
           "shape": "4"
          },
          "bdata": "2wfeB+EH5Qc=",
          "dtype": "i2"
         },
         "xaxis": "x",
         "y": {
          "_inputArray": {
           "0": 34.13619047619048,
           "1": 46.51190476190476,
           "2": 50.311,
           "3": 58.23470588235294,
           "bdata": "5KGEsG4RQUAYhmEYhkFHQCuHFtnOJ0lAPnGk1woeTUA=",
           "dtype": "f8",
           "shape": "4"
          },
          "bdata": "5KGEsG4RQUAYhmEYhkFHQCuHFtnOJ0lAPnGk1woeTUA=",
          "dtype": "f8"
         },
         "yaxis": "y"
        },
        {
         "hovertemplate": "Region=Middle East & North Africa<br>Year=%{x}<br>%=%{y}<extra></extra>",
         "legendgroup": "Middle East & North Africa",
         "line": {
          "color": "#53a318",
          "dash": "solid"
         },
         "marker": {
          "symbol": "circle"
         },
         "mode": "lines+markers",
         "name": "Middle East & North Africa",
         "orientation": "v",
         "showlegend": true,
         "type": "scatter",
         "x": {
          "_inputArray": {
           "0": 2011,
           "1": 2014,
           "2": 2017,
           "3": 2021,
           "bdata": "2wfeB+EH5Qc=",
           "dtype": "i2",
           "shape": "4"
          },
          "bdata": "2wfeB+EH5Qc=",
          "dtype": "i2"
         },
         "xaxis": "x",
         "y": {
          "_inputArray": {
           "0": 45.893076923076926,
           "1": 47.99363636363636,
           "2": 54.54,
           "3": 46.39888888888889,
           "bdata": "v7Y4WFDyRkCf9/J5L/9HQIXrUbgeRUtA/kGGyg4zR0A=",
           "dtype": "f8",
           "shape": "4"
          },
          "bdata": "v7Y4WFDyRkCf9/J5L/9HQIXrUbgeRUtA/kGGyg4zR0A=",
          "dtype": "f8"
         },
         "yaxis": "y"
        },
        {
         "hovertemplate": "Region=North America<br>Year=%{x}<br>%=%{y}<extra></extra>",
         "legendgroup": "North America",
         "line": {
          "color": "#3d8910",
          "dash": "solid"
         },
         "marker": {
          "symbol": "circle"
         },
         "mode": "lines+markers",
         "name": "North America",
         "orientation": "v",
         "showlegend": true,
         "type": "scatter",
         "x": {
          "_inputArray": {
           "0": 2011,
           "1": 2014,
           "2": 2017,
           "3": 2021,
           "bdata": "2wfeB+EH5Qc=",
           "dtype": "i2",
           "shape": "4"
          },
          "bdata": "2wfeB+EH5Qc=",
          "dtype": "i2"
         },
         "xaxis": "x",
         "y": {
          "_inputArray": {
           "0": 91.88,
           "1": 96.34,
           "2": 96.42500000000001,
           "3": 97.28999999999999,
           "bdata": "uB6F61H4VkD2KFyPwhVYQDQzMzMzG1hAwvUoXI9SWEA=",
           "dtype": "f8",
           "shape": "4"
          },
          "bdata": "uB6F61H4VkD2KFyPwhVYQDQzMzMzG1hAwvUoXI9SWEA=",
          "dtype": "f8"
         },
         "yaxis": "y"
        },
        {
         "hovertemplate": "Region=South Asia<br>Year=%{x}<br>%=%{y}<extra></extra>",
         "legendgroup": "South Asia",
         "line": {
          "color": "#2f6f0b",
          "dash": "solid"
         },
         "marker": {
          "symbol": "circle"
         },
         "mode": "lines+markers",
         "name": "South Asia",
         "orientation": "v",
         "showlegend": true,
         "type": "scatter",
         "x": {
          "_inputArray": {
           "0": 2011,
           "1": 2014,
           "2": 2017,
           "3": 2021,
           "bdata": "2wfeB+EH5Qc=",
           "dtype": "i2",
           "shape": "4"
          },
          "bdata": "2wfeB+EH5Qc=",
          "dtype": "i2"
         },
         "xaxis": "x",
         "y": {
          "_inputArray": {
           "0": 30.021666666666665,
           "1": 35.817142857142855,
           "2": 50.26142857142857,
           "3": 47.10999999999999,
           "bdata": "Jb9Y8osFPkBWyxsjmOhBQEpDzn12IUlArUfhehSOR0A=",
           "dtype": "f8",
           "shape": "4"
          },
          "bdata": "Jb9Y8osFPkBWyxsjmOhBQEpDzn12IUlArUfhehSOR0A=",
          "dtype": "f8"
         },
         "yaxis": "y"
        },
        {
         "hovertemplate": "Region=Sub-Saharan Africa<br>Year=%{x}<br>%=%{y}<extra></extra>",
         "legendgroup": "Sub-Saharan Africa",
         "line": {
          "color": "#255d08",
          "dash": "solid"
         },
         "marker": {
          "symbol": "circle"
         },
         "mode": "lines+markers",
         "name": "Sub-Saharan Africa",
         "orientation": "v",
         "showlegend": true,
         "type": "scatter",
         "x": {
          "_inputArray": {
           "0": 2011,
           "1": 2014,
           "2": 2017,
           "3": 2021,
           "bdata": "2wfeB+EH5Qc=",
           "dtype": "i2",
           "shape": "4"
          },
          "bdata": "2wfeB+EH5Qc=",
          "dtype": "i2"
         },
         "xaxis": "x",
         "y": {
          "_inputArray": {
           "0": 19.66,
           "1": 23.283939393939395,
           "2": 29.46970588235294,
           "3": 30.831666666666667,
           "bdata": "KVyPwvWoM0AJBItAsEg3QNhxC6U+eD1AtYFOG+jUPkA=",
           "dtype": "f8",
           "shape": "4"
          },
          "bdata": "KVyPwvWoM0AJBItAsEg3QNhxC6U+eD1AtYFOG+jUPkA=",
          "dtype": "f8"
         },
         "yaxis": "y"
        },
        {
         "line": {
          "color": "blue",
          "dash": "dash",
          "width": 4
         },
         "marker": {
          "size": 6
         },
         "mode": "lines+markers",
         "name": "Rwanda",
         "type": "scatter",
         "x": {
          "_inputArray": {
           "0": 2011,
           "1": 2014,
           "2": 2017,
           "bdata": "2wfeB+EH",
           "dtype": "i2",
           "shape": "3"
          },
          "bdata": "2wfeB+EH",
          "dtype": "i2"
         },
         "y": {
          "_inputArray": {
           "0": 32.76,
           "1": 38.14,
           "2": 36.66,
           "bdata": "4XoUrkdhQEBSuB6F6xFDQBSuR+F6VEJA",
           "dtype": "f8",
           "shape": "3"
          },
          "bdata": "4XoUrkdhQEBSuB6F6xFDQBSuR+F6VEJA",
          "dtype": "f8"
         }
        }
       ],
       "layout": {
        "height": 360,
        "legend": {
         "title": {
          "text": "Region"
         },
         "tracegroupgap": 0
        },
        "template": {
         "data": {
          "bar": [
           {
            "error_x": {
             "color": "#2a3f5f"
            },
            "error_y": {
             "color": "#2a3f5f"
            },
            "marker": {
             "line": {
              "color": "#E5ECF6",
              "width": 0.5
             },
             "pattern": {
              "fillmode": "overlay",
              "size": 10,
              "solidity": 0.2
             }
            },
            "type": "bar"
           }
          ],
          "barpolar": [
           {
            "marker": {
             "line": {
              "color": "#E5ECF6",
              "width": 0.5
             },
             "pattern": {
              "fillmode": "overlay",
              "size": 10,
              "solidity": 0.2
             }
            },
            "type": "barpolar"
           }
          ],
          "carpet": [
           {
            "aaxis": {
             "endlinecolor": "#2a3f5f",
             "gridcolor": "white",
             "linecolor": "white",
             "minorgridcolor": "white",
             "startlinecolor": "#2a3f5f"
            },
            "baxis": {
             "endlinecolor": "#2a3f5f",
             "gridcolor": "white",
             "linecolor": "white",
             "minorgridcolor": "white",
             "startlinecolor": "#2a3f5f"
            },
            "type": "carpet"
           }
          ],
          "choropleth": [
           {
            "colorbar": {
             "outlinewidth": 0,
             "ticks": ""
            },
            "type": "choropleth"
           }
          ],
          "contour": [
           {
            "colorbar": {
             "outlinewidth": 0,
             "ticks": ""
            },
            "colorscale": [
             [
              0,
              "#0d0887"
             ],
             [
              0.1111111111111111,
              "#46039f"
             ],
             [
              0.2222222222222222,
              "#7201a8"
             ],
             [
              0.3333333333333333,
              "#9c179e"
             ],
             [
              0.4444444444444444,
              "#bd3786"
             ],
             [
              0.5555555555555556,
              "#d8576b"
             ],
             [
              0.6666666666666666,
              "#ed7953"
             ],
             [
              0.7777777777777778,
              "#fb9f3a"
             ],
             [
              0.8888888888888888,
              "#fdca26"
             ],
             [
              1,
              "#f0f921"
             ]
            ],
            "type": "contour"
           }
          ],
          "contourcarpet": [
           {
            "colorbar": {
             "outlinewidth": 0,
             "ticks": ""
            },
            "type": "contourcarpet"
           }
          ],
          "heatmap": [
           {
            "colorbar": {
             "outlinewidth": 0,
             "ticks": ""
            },
            "colorscale": [
             [
              0,
              "#0d0887"
             ],
             [
              0.1111111111111111,
              "#46039f"
             ],
             [
              0.2222222222222222,
              "#7201a8"
             ],
             [
              0.3333333333333333,
              "#9c179e"
             ],
             [
              0.4444444444444444,
              "#bd3786"
             ],
             [
              0.5555555555555556,
              "#d8576b"
             ],
             [
              0.6666666666666666,
              "#ed7953"
             ],
             [
              0.7777777777777778,
              "#fb9f3a"
             ],
             [
              0.8888888888888888,
              "#fdca26"
             ],
             [
              1,
              "#f0f921"
             ]
            ],
            "type": "heatmap"
           }
          ],
          "histogram": [
           {
            "marker": {
             "pattern": {
              "fillmode": "overlay",
              "size": 10,
              "solidity": 0.2
             }
            },
            "type": "histogram"
           }
          ],
          "histogram2d": [
           {
            "colorbar": {
             "outlinewidth": 0,
             "ticks": ""
            },
            "colorscale": [
             [
              0,
              "#0d0887"
             ],
             [
              0.1111111111111111,
              "#46039f"
             ],
             [
              0.2222222222222222,
              "#7201a8"
             ],
             [
              0.3333333333333333,
              "#9c179e"
             ],
             [
              0.4444444444444444,
              "#bd3786"
             ],
             [
              0.5555555555555556,
              "#d8576b"
             ],
             [
              0.6666666666666666,
              "#ed7953"
             ],
             [
              0.7777777777777778,
              "#fb9f3a"
             ],
             [
              0.8888888888888888,
              "#fdca26"
             ],
             [
              1,
              "#f0f921"
             ]
            ],
            "type": "histogram2d"
           }
          ],
          "histogram2dcontour": [
           {
            "colorbar": {
             "outlinewidth": 0,
             "ticks": ""
            },
            "colorscale": [
             [
              0,
              "#0d0887"
             ],
             [
              0.1111111111111111,
              "#46039f"
             ],
             [
              0.2222222222222222,
              "#7201a8"
             ],
             [
              0.3333333333333333,
              "#9c179e"
             ],
             [
              0.4444444444444444,
              "#bd3786"
             ],
             [
              0.5555555555555556,
              "#d8576b"
             ],
             [
              0.6666666666666666,
              "#ed7953"
             ],
             [
              0.7777777777777778,
              "#fb9f3a"
             ],
             [
              0.8888888888888888,
              "#fdca26"
             ],
             [
              1,
              "#f0f921"
             ]
            ],
            "type": "histogram2dcontour"
           }
          ],
          "mesh3d": [
           {
            "colorbar": {
             "outlinewidth": 0,
             "ticks": ""
            },
            "type": "mesh3d"
           }
          ],
          "parcoords": [
           {
            "line": {
             "colorbar": {
              "outlinewidth": 0,
              "ticks": ""
             }
            },
            "type": "parcoords"
           }
          ],
          "pie": [
           {
            "automargin": true,
            "type": "pie"
           }
          ],
          "scatter": [
           {
            "fillpattern": {
             "fillmode": "overlay",
             "size": 10,
             "solidity": 0.2
            },
            "type": "scatter"
           }
          ],
          "scatter3d": [
           {
            "line": {
             "colorbar": {
              "outlinewidth": 0,
              "ticks": ""
             }
            },
            "marker": {
             "colorbar": {
              "outlinewidth": 0,
              "ticks": ""
             }
            },
            "type": "scatter3d"
           }
          ],
          "scattercarpet": [
           {
            "marker": {
             "colorbar": {
              "outlinewidth": 0,
              "ticks": ""
             }
            },
            "type": "scattercarpet"
           }
          ],
          "scattergeo": [
           {
            "marker": {
             "colorbar": {
              "outlinewidth": 0,
              "ticks": ""
             }
            },
            "type": "scattergeo"
           }
          ],
          "scattergl": [
           {
            "marker": {
             "colorbar": {
              "outlinewidth": 0,
              "ticks": ""
             }
            },
            "type": "scattergl"
           }
          ],
          "scattermap": [
           {
            "marker": {
             "colorbar": {
              "outlinewidth": 0,
              "ticks": ""
             }
            },
            "type": "scattermap"
           }
          ],
          "scattermapbox": [
           {
            "marker": {
             "colorbar": {
              "outlinewidth": 0,
              "ticks": ""
             }
            },
            "type": "scattermapbox"
           }
          ],
          "scatterpolar": [
           {
            "marker": {
             "colorbar": {
              "outlinewidth": 0,
              "ticks": ""
             }
            },
            "type": "scatterpolar"
           }
          ],
          "scatterpolargl": [
           {
            "marker": {
             "colorbar": {
              "outlinewidth": 0,
              "ticks": ""
             }
            },
            "type": "scatterpolargl"
           }
          ],
          "scatterternary": [
           {
            "marker": {
             "colorbar": {
              "outlinewidth": 0,
              "ticks": ""
             }
            },
            "type": "scatterternary"
           }
          ],
          "surface": [
           {
            "colorbar": {
             "outlinewidth": 0,
             "ticks": ""
            },
            "colorscale": [
             [
              0,
              "#0d0887"
             ],
             [
              0.1111111111111111,
              "#46039f"
             ],
             [
              0.2222222222222222,
              "#7201a8"
             ],
             [
              0.3333333333333333,
              "#9c179e"
             ],
             [
              0.4444444444444444,
              "#bd3786"
             ],
             [
              0.5555555555555556,
              "#d8576b"
             ],
             [
              0.6666666666666666,
              "#ed7953"
             ],
             [
              0.7777777777777778,
              "#fb9f3a"
             ],
             [
              0.8888888888888888,
              "#fdca26"
             ],
             [
              1,
              "#f0f921"
             ]
            ],
            "type": "surface"
           }
          ],
          "table": [
           {
            "cells": {
             "fill": {
              "color": "#EBF0F8"
             },
             "line": {
              "color": "white"
             }
            },
            "header": {
             "fill": {
              "color": "#C8D4E3"
             },
             "line": {
              "color": "white"
             }
            },
            "type": "table"
           }
          ]
         },
         "layout": {
          "annotationdefaults": {
           "arrowcolor": "#2a3f5f",
           "arrowhead": 0,
           "arrowwidth": 1
          },
          "autotypenumbers": "strict",
          "coloraxis": {
           "colorbar": {
            "outlinewidth": 0,
            "ticks": ""
           }
          },
          "colorscale": {
           "diverging": [
            [
             0,
             "#8e0152"
            ],
            [
             0.1,
             "#c51b7d"
            ],
            [
             0.2,
             "#de77ae"
            ],
            [
             0.3,
             "#f1b6da"
            ],
            [
             0.4,
             "#fde0ef"
            ],
            [
             0.5,
             "#f7f7f7"
            ],
            [
             0.6,
             "#e6f5d0"
            ],
            [
             0.7,
             "#b8e186"
            ],
            [
             0.8,
             "#7fbc41"
            ],
            [
             0.9,
             "#4d9221"
            ],
            [
             1,
             "#276419"
            ]
           ],
           "sequential": [
            [
             0,
             "#0d0887"
            ],
            [
             0.1111111111111111,
             "#46039f"
            ],
            [
             0.2222222222222222,
             "#7201a8"
            ],
            [
             0.3333333333333333,
             "#9c179e"
            ],
            [
             0.4444444444444444,
             "#bd3786"
            ],
            [
             0.5555555555555556,
             "#d8576b"
            ],
            [
             0.6666666666666666,
             "#ed7953"
            ],
            [
             0.7777777777777778,
             "#fb9f3a"
            ],
            [
             0.8888888888888888,
             "#fdca26"
            ],
            [
             1,
             "#f0f921"
            ]
           ],
           "sequentialminus": [
            [
             0,
             "#0d0887"
            ],
            [
             0.1111111111111111,
             "#46039f"
            ],
            [
             0.2222222222222222,
             "#7201a8"
            ],
            [
             0.3333333333333333,
             "#9c179e"
            ],
            [
             0.4444444444444444,
             "#bd3786"
            ],
            [
             0.5555555555555556,
             "#d8576b"
            ],
            [
             0.6666666666666666,
             "#ed7953"
            ],
            [
             0.7777777777777778,
             "#fb9f3a"
            ],
            [
             0.8888888888888888,
             "#fdca26"
            ],
            [
             1,
             "#f0f921"
            ]
           ]
          },
          "colorway": [
           "#636efa",
           "#EF553B",
           "#00cc96",
           "#ab63fa",
           "#FFA15A",
           "#19d3f3",
           "#FF6692",
           "#B6E880",
           "#FF97FF",
           "#FECB52"
          ],
          "font": {
           "color": "#2a3f5f"
          },
          "geo": {
           "bgcolor": "white",
           "lakecolor": "white",
           "landcolor": "#E5ECF6",
           "showlakes": true,
           "showland": true,
           "subunitcolor": "white"
          },
          "hoverlabel": {
           "align": "left"
          },
          "hovermode": "closest",
          "mapbox": {
           "style": "light"
          },
          "paper_bgcolor": "white",
          "plot_bgcolor": "#E5ECF6",
          "polar": {
           "angularaxis": {
            "gridcolor": "white",
            "linecolor": "white",
            "ticks": ""
           },
           "bgcolor": "#E5ECF6",
           "radialaxis": {
            "gridcolor": "white",
            "linecolor": "white",
            "ticks": ""
           }
          },
          "scene": {
           "xaxis": {
            "backgroundcolor": "#E5ECF6",
            "gridcolor": "white",
            "gridwidth": 2,
            "linecolor": "white",
            "showbackground": true,
            "ticks": "",
            "zerolinecolor": "white"
           },
           "yaxis": {
            "backgroundcolor": "#E5ECF6",
            "gridcolor": "white",
            "gridwidth": 2,
            "linecolor": "white",
            "showbackground": true,
            "ticks": "",
            "zerolinecolor": "white"
           },
           "zaxis": {
            "backgroundcolor": "#E5ECF6",
            "gridcolor": "white",
            "gridwidth": 2,
            "linecolor": "white",
            "showbackground": true,
            "ticks": "",
            "zerolinecolor": "white"
           }
          },
          "shapedefaults": {
           "line": {
            "color": "#2a3f5f"
           }
          },
          "ternary": {
           "aaxis": {
            "gridcolor": "white",
            "linecolor": "white",
            "ticks": ""
           },
           "baxis": {
            "gridcolor": "white",
            "linecolor": "white",
            "ticks": ""
           },
           "bgcolor": "#E5ECF6",
           "caxis": {
            "gridcolor": "white",
            "linecolor": "white",
            "ticks": ""
           }
          },
          "title": {
           "x": 0.05
          },
          "xaxis": {
           "automargin": true,
           "gridcolor": "white",
           "linecolor": "white",
           "ticks": "",
           "title": {
            "standoff": 15
           },
           "zerolinecolor": "white",
           "zerolinewidth": 2
          },
          "yaxis": {
           "automargin": true,
           "gridcolor": "white",
           "linecolor": "white",
           "ticks": "",
           "title": {
            "standoff": 15
           },
           "zerolinecolor": "white",
           "zerolinewidth": 2
          }
         }
        },
        "title": {
         "text": "🌍 Regional Trend — Financial institution account (% age 15+)"
        },
        "xaxis": {
         "anchor": "y",
         "autorange": true,
         "domain": [
          0,
          1
         ],
         "range": [
          2010.3244021895707,
          2021.6755978104293
         ],
         "title": {
          "text": "Year"
         },
         "type": "linear"
        },
        "yaxis": {
         "anchor": "x",
         "autorange": true,
         "domain": [
          0,
          1
         ],
         "range": [
          13.25364077669903,
          103.69635922330096
         ],
         "title": {
          "text": "%"
         },
         "type": "linear"
        }
       }
      }
     },
     "metadata": {},
     "output_type": "display_data"
    },
    {
     "name": "stdout",
     "output_type": "stream",
     "text": [
      "Plotting: Mobile money account (% age 15+)\n"
     ]
    },
    {
     "data": {
      "application/vnd.plotly.v1+json": {
       "config": {
        "plotlyServerURL": "https://plot.ly"
       },
       "data": [
        {
         "hovertemplate": "Year=%{x}<br>%=%{y}<extra></extra>",
         "legendgroup": "",
         "line": {
          "color": "#144d14",
          "dash": "solid"
         },
         "marker": {
          "symbol": "circle"
         },
         "mode": "lines+markers",
         "name": "",
         "orientation": "v",
         "showlegend": false,
         "type": "scatter",
         "x": {
          "_inputArray": {
           "0": 2011,
           "1": 2014,
           "2": 2017,
           "3": 2021,
           "bdata": "2wfeB+EH5Qc=",
           "dtype": "i2",
           "shape": "4"
          },
          "bdata": "2wfeB+EH5Qc=",
          "dtype": "i2"
         },
         "xaxis": "x",
         "y": {
          "_inputArray": {
           "0": null,
           "1": 6.365633802816901,
           "2": 14.782266666666668,
           "3": 24.43,
           "bdata": "AAAAAAAA+H+PpCW1aHYZQCYrrEGFkC1ArkfhehRuOEA=",
           "dtype": "f8",
           "shape": "4"
          },
          "bdata": "AAAAAAAA+H+PpCW1aHYZQCYrrEGFkC1ArkfhehRuOEA=",
          "dtype": "f8"
         },
         "yaxis": "y"
        },
        {
         "line": {
          "color": "blue",
          "width": 4
         },
         "marker": {
          "size": 10
         },
         "mode": "lines+markers",
         "name": "Rwanda",
         "type": "scatter",
         "x": {
          "_inputArray": {
           "0": 2011,
           "1": 2014,
           "2": 2017,
           "bdata": "2wfeB+EH",
           "dtype": "i2",
           "shape": "3"
          },
          "bdata": "2wfeB+EH",
          "dtype": "i2"
         },
         "y": {
          "_inputArray": {
           "0": null,
           "1": 18.1,
           "2": 31.11,
           "bdata": "AAAAAAAA+H+amZmZmRkyQFyPwvUoHD9A",
           "dtype": "f8",
           "shape": "3"
          },
          "bdata": "AAAAAAAA+H+amZmZmRkyQFyPwvUoHD9A",
          "dtype": "f8"
         }
        }
       ],
       "layout": {
        "height": 360,
        "legend": {
         "tracegroupgap": 0
        },
        "template": {
         "data": {
          "bar": [
           {
            "error_x": {
             "color": "#2a3f5f"
            },
            "error_y": {
             "color": "#2a3f5f"
            },
            "marker": {
             "line": {
              "color": "#E5ECF6",
              "width": 0.5
             },
             "pattern": {
              "fillmode": "overlay",
              "size": 10,
              "solidity": 0.2
             }
            },
            "type": "bar"
           }
          ],
          "barpolar": [
           {
            "marker": {
             "line": {
              "color": "#E5ECF6",
              "width": 0.5
             },
             "pattern": {
              "fillmode": "overlay",
              "size": 10,
              "solidity": 0.2
             }
            },
            "type": "barpolar"
           }
          ],
          "carpet": [
           {
            "aaxis": {
             "endlinecolor": "#2a3f5f",
             "gridcolor": "white",
             "linecolor": "white",
             "minorgridcolor": "white",
             "startlinecolor": "#2a3f5f"
            },
            "baxis": {
             "endlinecolor": "#2a3f5f",
             "gridcolor": "white",
             "linecolor": "white",
             "minorgridcolor": "white",
             "startlinecolor": "#2a3f5f"
            },
            "type": "carpet"
           }
          ],
          "choropleth": [
           {
            "colorbar": {
             "outlinewidth": 0,
             "ticks": ""
            },
            "type": "choropleth"
           }
          ],
          "contour": [
           {
            "colorbar": {
             "outlinewidth": 0,
             "ticks": ""
            },
            "colorscale": [
             [
              0,
              "#0d0887"
             ],
             [
              0.1111111111111111,
              "#46039f"
             ],
             [
              0.2222222222222222,
              "#7201a8"
             ],
             [
              0.3333333333333333,
              "#9c179e"
             ],
             [
              0.4444444444444444,
              "#bd3786"
             ],
             [
              0.5555555555555556,
              "#d8576b"
             ],
             [
              0.6666666666666666,
              "#ed7953"
             ],
             [
              0.7777777777777778,
              "#fb9f3a"
             ],
             [
              0.8888888888888888,
              "#fdca26"
             ],
             [
              1,
              "#f0f921"
             ]
            ],
            "type": "contour"
           }
          ],
          "contourcarpet": [
           {
            "colorbar": {
             "outlinewidth": 0,
             "ticks": ""
            },
            "type": "contourcarpet"
           }
          ],
          "heatmap": [
           {
            "colorbar": {
             "outlinewidth": 0,
             "ticks": ""
            },
            "colorscale": [
             [
              0,
              "#0d0887"
             ],
             [
              0.1111111111111111,
              "#46039f"
             ],
             [
              0.2222222222222222,
              "#7201a8"
             ],
             [
              0.3333333333333333,
              "#9c179e"
             ],
             [
              0.4444444444444444,
              "#bd3786"
             ],
             [
              0.5555555555555556,
              "#d8576b"
             ],
             [
              0.6666666666666666,
              "#ed7953"
             ],
             [
              0.7777777777777778,
              "#fb9f3a"
             ],
             [
              0.8888888888888888,
              "#fdca26"
             ],
             [
              1,
              "#f0f921"
             ]
            ],
            "type": "heatmap"
           }
          ],
          "histogram": [
           {
            "marker": {
             "pattern": {
              "fillmode": "overlay",
              "size": 10,
              "solidity": 0.2
             }
            },
            "type": "histogram"
           }
          ],
          "histogram2d": [
           {
            "colorbar": {
             "outlinewidth": 0,
             "ticks": ""
            },
            "colorscale": [
             [
              0,
              "#0d0887"
             ],
             [
              0.1111111111111111,
              "#46039f"
             ],
             [
              0.2222222222222222,
              "#7201a8"
             ],
             [
              0.3333333333333333,
              "#9c179e"
             ],
             [
              0.4444444444444444,
              "#bd3786"
             ],
             [
              0.5555555555555556,
              "#d8576b"
             ],
             [
              0.6666666666666666,
              "#ed7953"
             ],
             [
              0.7777777777777778,
              "#fb9f3a"
             ],
             [
              0.8888888888888888,
              "#fdca26"
             ],
             [
              1,
              "#f0f921"
             ]
            ],
            "type": "histogram2d"
           }
          ],
          "histogram2dcontour": [
           {
            "colorbar": {
             "outlinewidth": 0,
             "ticks": ""
            },
            "colorscale": [
             [
              0,
              "#0d0887"
             ],
             [
              0.1111111111111111,
              "#46039f"
             ],
             [
              0.2222222222222222,
              "#7201a8"
             ],
             [
              0.3333333333333333,
              "#9c179e"
             ],
             [
              0.4444444444444444,
              "#bd3786"
             ],
             [
              0.5555555555555556,
              "#d8576b"
             ],
             [
              0.6666666666666666,
              "#ed7953"
             ],
             [
              0.7777777777777778,
              "#fb9f3a"
             ],
             [
              0.8888888888888888,
              "#fdca26"
             ],
             [
              1,
              "#f0f921"
             ]
            ],
            "type": "histogram2dcontour"
           }
          ],
          "mesh3d": [
           {
            "colorbar": {
             "outlinewidth": 0,
             "ticks": ""
            },
            "type": "mesh3d"
           }
          ],
          "parcoords": [
           {
            "line": {
             "colorbar": {
              "outlinewidth": 0,
              "ticks": ""
             }
            },
            "type": "parcoords"
           }
          ],
          "pie": [
           {
            "automargin": true,
            "type": "pie"
           }
          ],
          "scatter": [
           {
            "fillpattern": {
             "fillmode": "overlay",
             "size": 10,
             "solidity": 0.2
            },
            "type": "scatter"
           }
          ],
          "scatter3d": [
           {
            "line": {
             "colorbar": {
              "outlinewidth": 0,
              "ticks": ""
             }
            },
            "marker": {
             "colorbar": {
              "outlinewidth": 0,
              "ticks": ""
             }
            },
            "type": "scatter3d"
           }
          ],
          "scattercarpet": [
           {
            "marker": {
             "colorbar": {
              "outlinewidth": 0,
              "ticks": ""
             }
            },
            "type": "scattercarpet"
           }
          ],
          "scattergeo": [
           {
            "marker": {
             "colorbar": {
              "outlinewidth": 0,
              "ticks": ""
             }
            },
            "type": "scattergeo"
           }
          ],
          "scattergl": [
           {
            "marker": {
             "colorbar": {
              "outlinewidth": 0,
              "ticks": ""
             }
            },
            "type": "scattergl"
           }
          ],
          "scattermap": [
           {
            "marker": {
             "colorbar": {
              "outlinewidth": 0,
              "ticks": ""
             }
            },
            "type": "scattermap"
           }
          ],
          "scattermapbox": [
           {
            "marker": {
             "colorbar": {
              "outlinewidth": 0,
              "ticks": ""
             }
            },
            "type": "scattermapbox"
           }
          ],
          "scatterpolar": [
           {
            "marker": {
             "colorbar": {
              "outlinewidth": 0,
              "ticks": ""
             }
            },
            "type": "scatterpolar"
           }
          ],
          "scatterpolargl": [
           {
            "marker": {
             "colorbar": {
              "outlinewidth": 0,
              "ticks": ""
             }
            },
            "type": "scatterpolargl"
           }
          ],
          "scatterternary": [
           {
            "marker": {
             "colorbar": {
              "outlinewidth": 0,
              "ticks": ""
             }
            },
            "type": "scatterternary"
           }
          ],
          "surface": [
           {
            "colorbar": {
             "outlinewidth": 0,
             "ticks": ""
            },
            "colorscale": [
             [
              0,
              "#0d0887"
             ],
             [
              0.1111111111111111,
              "#46039f"
             ],
             [
              0.2222222222222222,
              "#7201a8"
             ],
             [
              0.3333333333333333,
              "#9c179e"
             ],
             [
              0.4444444444444444,
              "#bd3786"
             ],
             [
              0.5555555555555556,
              "#d8576b"
             ],
             [
              0.6666666666666666,
              "#ed7953"
             ],
             [
              0.7777777777777778,
              "#fb9f3a"
             ],
             [
              0.8888888888888888,
              "#fdca26"
             ],
             [
              1,
              "#f0f921"
             ]
            ],
            "type": "surface"
           }
          ],
          "table": [
           {
            "cells": {
             "fill": {
              "color": "#EBF0F8"
             },
             "line": {
              "color": "white"
             }
            },
            "header": {
             "fill": {
              "color": "#C8D4E3"
             },
             "line": {
              "color": "white"
             }
            },
            "type": "table"
           }
          ]
         },
         "layout": {
          "annotationdefaults": {
           "arrowcolor": "#2a3f5f",
           "arrowhead": 0,
           "arrowwidth": 1
          },
          "autotypenumbers": "strict",
          "coloraxis": {
           "colorbar": {
            "outlinewidth": 0,
            "ticks": ""
           }
          },
          "colorscale": {
           "diverging": [
            [
             0,
             "#8e0152"
            ],
            [
             0.1,
             "#c51b7d"
            ],
            [
             0.2,
             "#de77ae"
            ],
            [
             0.3,
             "#f1b6da"
            ],
            [
             0.4,
             "#fde0ef"
            ],
            [
             0.5,
             "#f7f7f7"
            ],
            [
             0.6,
             "#e6f5d0"
            ],
            [
             0.7,
             "#b8e186"
            ],
            [
             0.8,
             "#7fbc41"
            ],
            [
             0.9,
             "#4d9221"
            ],
            [
             1,
             "#276419"
            ]
           ],
           "sequential": [
            [
             0,
             "#0d0887"
            ],
            [
             0.1111111111111111,
             "#46039f"
            ],
            [
             0.2222222222222222,
             "#7201a8"
            ],
            [
             0.3333333333333333,
             "#9c179e"
            ],
            [
             0.4444444444444444,
             "#bd3786"
            ],
            [
             0.5555555555555556,
             "#d8576b"
            ],
            [
             0.6666666666666666,
             "#ed7953"
            ],
            [
             0.7777777777777778,
             "#fb9f3a"
            ],
            [
             0.8888888888888888,
             "#fdca26"
            ],
            [
             1,
             "#f0f921"
            ]
           ],
           "sequentialminus": [
            [
             0,
             "#0d0887"
            ],
            [
             0.1111111111111111,
             "#46039f"
            ],
            [
             0.2222222222222222,
             "#7201a8"
            ],
            [
             0.3333333333333333,
             "#9c179e"
            ],
            [
             0.4444444444444444,
             "#bd3786"
            ],
            [
             0.5555555555555556,
             "#d8576b"
            ],
            [
             0.6666666666666666,
             "#ed7953"
            ],
            [
             0.7777777777777778,
             "#fb9f3a"
            ],
            [
             0.8888888888888888,
             "#fdca26"
            ],
            [
             1,
             "#f0f921"
            ]
           ]
          },
          "colorway": [
           "#636efa",
           "#EF553B",
           "#00cc96",
           "#ab63fa",
           "#FFA15A",
           "#19d3f3",
           "#FF6692",
           "#B6E880",
           "#FF97FF",
           "#FECB52"
          ],
          "font": {
           "color": "#2a3f5f"
          },
          "geo": {
           "bgcolor": "white",
           "lakecolor": "white",
           "landcolor": "#E5ECF6",
           "showlakes": true,
           "showland": true,
           "subunitcolor": "white"
          },
          "hoverlabel": {
           "align": "left"
          },
          "hovermode": "closest",
          "mapbox": {
           "style": "light"
          },
          "paper_bgcolor": "white",
          "plot_bgcolor": "#E5ECF6",
          "polar": {
           "angularaxis": {
            "gridcolor": "white",
            "linecolor": "white",
            "ticks": ""
           },
           "bgcolor": "#E5ECF6",
           "radialaxis": {
            "gridcolor": "white",
            "linecolor": "white",
            "ticks": ""
           }
          },
          "scene": {
           "xaxis": {
            "backgroundcolor": "#E5ECF6",
            "gridcolor": "white",
            "gridwidth": 2,
            "linecolor": "white",
            "showbackground": true,
            "ticks": "",
            "zerolinecolor": "white"
           },
           "yaxis": {
            "backgroundcolor": "#E5ECF6",
            "gridcolor": "white",
            "gridwidth": 2,
            "linecolor": "white",
            "showbackground": true,
            "ticks": "",
            "zerolinecolor": "white"
           },
           "zaxis": {
            "backgroundcolor": "#E5ECF6",
            "gridcolor": "white",
            "gridwidth": 2,
            "linecolor": "white",
            "showbackground": true,
            "ticks": "",
            "zerolinecolor": "white"
           }
          },
          "shapedefaults": {
           "line": {
            "color": "#2a3f5f"
           }
          },
          "ternary": {
           "aaxis": {
            "gridcolor": "white",
            "linecolor": "white",
            "ticks": ""
           },
           "baxis": {
            "gridcolor": "white",
            "linecolor": "white",
            "ticks": ""
           },
           "bgcolor": "#E5ECF6",
           "caxis": {
            "gridcolor": "white",
            "linecolor": "white",
            "ticks": ""
           }
          },
          "title": {
           "x": 0.05
          },
          "xaxis": {
           "automargin": true,
           "gridcolor": "white",
           "linecolor": "white",
           "ticks": "",
           "title": {
            "standoff": 15
           },
           "zerolinecolor": "white",
           "zerolinewidth": 2
          },
          "yaxis": {
           "automargin": true,
           "gridcolor": "white",
           "linecolor": "white",
           "ticks": "",
           "title": {
            "standoff": 15
           },
           "zerolinecolor": "white",
           "zerolinewidth": 2
          }
         }
        },
        "title": {
         "text": "🌍 Global Trend — Mobile money account (% age 15+)"
        },
        "xaxis": {
         "anchor": "y",
         "autorange": true,
         "domain": [
          0,
          1
         ],
         "range": [
          2010.291338582677,
          2021.6524184476941
         ],
         "title": {
          "text": "Year"
         },
         "type": "linear"
        },
        "yaxis": {
         "anchor": "x",
         "autorange": true,
         "domain": [
          0,
          1
         ],
         "range": [
          4.290037296145293,
          33.59257621386212
         ],
         "title": {
          "text": "%"
         },
         "type": "linear"
        }
       }
      }
     },
     "metadata": {},
     "output_type": "display_data"
    },
    {
     "data": {
      "application/vnd.plotly.v1+json": {
       "config": {
        "plotlyServerURL": "https://plot.ly"
       },
       "data": [
        {
         "hovertemplate": "Region=East Asia & Pacific<br>Year=%{x}<br>%=%{y}<extra></extra>",
         "legendgroup": "East Asia & Pacific",
         "line": {
          "color": "#144d14",
          "dash": "solid"
         },
         "marker": {
          "symbol": "circle"
         },
         "mode": "lines+markers",
         "name": "East Asia & Pacific",
         "orientation": "v",
         "showlegend": true,
         "type": "scatter",
         "x": {
          "_inputArray": {
           "0": 2011,
           "1": 2014,
           "2": 2017,
           "3": 2021,
           "bdata": "2wfeB+EH5Qc=",
           "dtype": "i2",
           "shape": "4"
          },
          "bdata": "2wfeB+EH5Qc=",
          "dtype": "i2"
         },
         "xaxis": "x",
         "y": {
          "_inputArray": {
           "0": null,
           "1": 3.7677777777777783,
           "2": 7.564444444444444,
           "3": 27.725555555555555,
           "bdata": "AAAAAAAA+H97NfGsaCQOQOwwdbn9QR5Az4pGAr65O0A=",
           "dtype": "f8",
           "shape": "4"
          },
          "bdata": "AAAAAAAA+H97NfGsaCQOQOwwdbn9QR5Az4pGAr65O0A=",
          "dtype": "f8"
         },
         "yaxis": "y"
        },
        {
         "hovertemplate": "Region=Europe & Central Asia<br>Year=%{x}<br>%=%{y}<extra></extra>",
         "legendgroup": "Europe & Central Asia",
         "line": {
          "color": "#4c9c54",
          "dash": "solid"
         },
         "marker": {
          "symbol": "circle"
         },
         "mode": "lines+markers",
         "name": "Europe & Central Asia",
         "orientation": "v",
         "showlegend": true,
         "type": "scatter",
         "x": {
          "_inputArray": {
           "0": 2011,
           "1": 2014,
           "2": 2017,
           "3": 2021,
           "bdata": "2wfeB+EH5Qc=",
           "dtype": "i2",
           "shape": "4"
          },
          "bdata": "2wfeB+EH5Qc=",
          "dtype": "i2"
         },
         "xaxis": "x",
         "y": {
          "_inputArray": {
           "0": null,
           "1": 0.48250000000000004,
           "2": 6.141666666666666,
           "3": 14.951666666666666,
           "bdata": "AAAAAAAA+H/iehSuR+HePxARERERkRhApw102kDnLUA=",
           "dtype": "f8",
           "shape": "4"
          },
          "bdata": "AAAAAAAA+H/iehSuR+HePxARERERkRhApw102kDnLUA=",
          "dtype": "f8"
         },
         "yaxis": "y"
        },
        {
         "hovertemplate": "Region=Latin America & Caribbean<br>Year=%{x}<br>%=%{y}<extra></extra>",
         "legendgroup": "Latin America & Caribbean",
         "line": {
          "color": "#7ac943",
          "dash": "solid"
         },
         "marker": {
          "symbol": "circle"
         },
         "mode": "lines+markers",
         "name": "Latin America & Caribbean",
         "orientation": "v",
         "showlegend": true,
         "type": "scatter",
         "x": {
          "_inputArray": {
           "0": 2011,
           "1": 2014,
           "2": 2017,
           "3": 2021,
           "bdata": "2wfeB+EH5Qc=",
           "dtype": "i2",
           "shape": "4"
          },
          "bdata": "2wfeB+EH5Qc=",
          "dtype": "i2"
         },
         "xaxis": "x",
         "y": {
          "_inputArray": {
           "0": null,
           "1": 2.1805882352941177,
           "2": 7.381176470588236,
           "3": 18.8075,
           "bdata": "AAAAAAAA+H9yC6U+2HEBQIe57B9Thh1AH4XrUbjOMkA=",
           "dtype": "f8",
           "shape": "4"
          },
          "bdata": "AAAAAAAA+H9yC6U+2HEBQIe57B9Thh1AH4XrUbjOMkA=",
          "dtype": "f8"
         },
         "yaxis": "y"
        },
        {
         "hovertemplate": "Region=Middle East & North Africa<br>Year=%{x}<br>%=%{y}<extra></extra>",
         "legendgroup": "Middle East & North Africa",
         "line": {
          "color": "#53a318",
          "dash": "solid"
         },
         "marker": {
          "symbol": "circle"
         },
         "mode": "lines+markers",
         "name": "Middle East & North Africa",
         "orientation": "v",
         "showlegend": true,
         "type": "scatter",
         "x": {
          "_inputArray": {
           "0": 2011,
           "1": 2014,
           "2": 2017,
           "3": 2021,
           "bdata": "2wfeB+EH5Qc=",
           "dtype": "i2",
           "shape": "4"
          },
          "bdata": "2wfeB+EH5Qc=",
          "dtype": "i2"
         },
         "xaxis": "x",
         "y": {
          "_inputArray": {
           "0": null,
           "1": 1.565,
           "2": 6.85,
           "3": 6.695,
           "bdata": "AAAAAAAA+H8K16NwPQr5P2ZmZmZmZhtASOF6FK7HGkA=",
           "dtype": "f8",
           "shape": "4"
          },
          "bdata": "AAAAAAAA+H8K16NwPQr5P2ZmZmZmZhtASOF6FK7HGkA=",
          "dtype": "f8"
         },
         "yaxis": "y"
        },
        {
         "hovertemplate": "Region=North America<br>Year=%{x}<br>%=%{y}<extra></extra>",
         "legendgroup": "North America",
         "line": {
          "color": "#3d8910",
          "dash": "solid"
         },
         "marker": {
          "symbol": "circle"
         },
         "mode": "lines+markers",
         "name": "North America",
         "orientation": "v",
         "showlegend": true,
         "type": "scatter",
         "x": {
          "_inputArray": {
           "0": 2011,
           "1": 2014,
           "2": 2017,
           "3": 2021,
           "bdata": "2wfeB+EH5Qc=",
           "dtype": "i2",
           "shape": "4"
          },
          "bdata": "2wfeB+EH5Qc=",
          "dtype": "i2"
         },
         "xaxis": "x",
         "y": {
          "_inputArray": {
           "0": null,
           "1": null,
           "2": null,
           "3": null,
           "bdata": "AAAAAAAA+H8AAAAAAAD4fwAAAAAAAPh/AAAAAAAA+H8=",
           "dtype": "f8",
           "shape": "4"
          },
          "bdata": "AAAAAAAA+H8AAAAAAAD4fwAAAAAAAPh/AAAAAAAA+H8=",
          "dtype": "f8"
         },
         "yaxis": "y"
        },
        {
         "hovertemplate": "Region=South Asia<br>Year=%{x}<br>%=%{y}<extra></extra>",
         "legendgroup": "South Asia",
         "line": {
          "color": "#2f6f0b",
          "dash": "solid"
         },
         "marker": {
          "symbol": "circle"
         },
         "mode": "lines+markers",
         "name": "South Asia",
         "orientation": "v",
         "showlegend": true,
         "type": "scatter",
         "x": {
          "_inputArray": {
           "0": 2011,
           "1": 2014,
           "2": 2017,
           "3": 2021,
           "bdata": "2wfeB+EH5Qc=",
           "dtype": "i2",
           "shape": "4"
          },
          "bdata": "2wfeB+EH5Qc=",
          "dtype": "i2"
         },
         "xaxis": "x",
         "y": {
          "_inputArray": {
           "0": null,
           "1": 1.9266666666666665,
           "2": 9.459999999999999,
           "3": 9.535,
           "bdata": "AAAAAAAA+H/TBjptoNP+P+tRuB6F6yJAUrgehesRI0A=",
           "dtype": "f8",
           "shape": "4"
          },
          "bdata": "AAAAAAAA+H/TBjptoNP+P+tRuB6F6yJAUrgehesRI0A=",
          "dtype": "f8"
         },
         "yaxis": "y"
        },
        {
         "hovertemplate": "Region=Sub-Saharan Africa<br>Year=%{x}<br>%=%{y}<extra></extra>",
         "legendgroup": "Sub-Saharan Africa",
         "line": {
          "color": "#255d08",
          "dash": "solid"
         },
         "marker": {
          "symbol": "circle"
         },
         "mode": "lines+markers",
         "name": "Sub-Saharan Africa",
         "orientation": "v",
         "showlegend": true,
         "type": "scatter",
         "x": {
          "_inputArray": {
           "0": 2011,
           "1": 2014,
           "2": 2017,
           "3": 2021,
           "bdata": "2wfeB+EH5Qc=",
           "dtype": "i2",
           "shape": "4"
          },
          "bdata": "2wfeB+EH5Qc=",
          "dtype": "i2"
         },
         "xaxis": "x",
         "y": {
          "_inputArray": {
           "0": null,
           "1": 11.65258064516129,
           "2": 24.6015625,
           "3": 36.5325,
           "bdata": "AAAAAAAA+H/O8OEMH04nQAAAAAAAmjhAXI/C9ShEQkA=",
           "dtype": "f8",
           "shape": "4"
          },
          "bdata": "AAAAAAAA+H/O8OEMH04nQAAAAAAAmjhAXI/C9ShEQkA=",
          "dtype": "f8"
         },
         "yaxis": "y"
        },
        {
         "line": {
          "color": "blue",
          "dash": "dash",
          "width": 4
         },
         "marker": {
          "size": 6
         },
         "mode": "lines+markers",
         "name": "Rwanda",
         "type": "scatter",
         "x": {
          "_inputArray": {
           "0": 2011,
           "1": 2014,
           "2": 2017,
           "bdata": "2wfeB+EH",
           "dtype": "i2",
           "shape": "3"
          },
          "bdata": "2wfeB+EH",
          "dtype": "i2"
         },
         "y": {
          "_inputArray": {
           "0": null,
           "1": 18.1,
           "2": 31.11,
           "bdata": "AAAAAAAA+H+amZmZmRkyQFyPwvUoHD9A",
           "dtype": "f8",
           "shape": "3"
          },
          "bdata": "AAAAAAAA+H+amZmZmRkyQFyPwvUoHD9A",
          "dtype": "f8"
         }
        }
       ],
       "layout": {
        "height": 360,
        "legend": {
         "title": {
          "text": "Region"
         },
         "tracegroupgap": 0
        },
        "template": {
         "data": {
          "bar": [
           {
            "error_x": {
             "color": "#2a3f5f"
            },
            "error_y": {
             "color": "#2a3f5f"
            },
            "marker": {
             "line": {
              "color": "#E5ECF6",
              "width": 0.5
             },
             "pattern": {
              "fillmode": "overlay",
              "size": 10,
              "solidity": 0.2
             }
            },
            "type": "bar"
           }
          ],
          "barpolar": [
           {
            "marker": {
             "line": {
              "color": "#E5ECF6",
              "width": 0.5
             },
             "pattern": {
              "fillmode": "overlay",
              "size": 10,
              "solidity": 0.2
             }
            },
            "type": "barpolar"
           }
          ],
          "carpet": [
           {
            "aaxis": {
             "endlinecolor": "#2a3f5f",
             "gridcolor": "white",
             "linecolor": "white",
             "minorgridcolor": "white",
             "startlinecolor": "#2a3f5f"
            },
            "baxis": {
             "endlinecolor": "#2a3f5f",
             "gridcolor": "white",
             "linecolor": "white",
             "minorgridcolor": "white",
             "startlinecolor": "#2a3f5f"
            },
            "type": "carpet"
           }
          ],
          "choropleth": [
           {
            "colorbar": {
             "outlinewidth": 0,
             "ticks": ""
            },
            "type": "choropleth"
           }
          ],
          "contour": [
           {
            "colorbar": {
             "outlinewidth": 0,
             "ticks": ""
            },
            "colorscale": [
             [
              0,
              "#0d0887"
             ],
             [
              0.1111111111111111,
              "#46039f"
             ],
             [
              0.2222222222222222,
              "#7201a8"
             ],
             [
              0.3333333333333333,
              "#9c179e"
             ],
             [
              0.4444444444444444,
              "#bd3786"
             ],
             [
              0.5555555555555556,
              "#d8576b"
             ],
             [
              0.6666666666666666,
              "#ed7953"
             ],
             [
              0.7777777777777778,
              "#fb9f3a"
             ],
             [
              0.8888888888888888,
              "#fdca26"
             ],
             [
              1,
              "#f0f921"
             ]
            ],
            "type": "contour"
           }
          ],
          "contourcarpet": [
           {
            "colorbar": {
             "outlinewidth": 0,
             "ticks": ""
            },
            "type": "contourcarpet"
           }
          ],
          "heatmap": [
           {
            "colorbar": {
             "outlinewidth": 0,
             "ticks": ""
            },
            "colorscale": [
             [
              0,
              "#0d0887"
             ],
             [
              0.1111111111111111,
              "#46039f"
             ],
             [
              0.2222222222222222,
              "#7201a8"
             ],
             [
              0.3333333333333333,
              "#9c179e"
             ],
             [
              0.4444444444444444,
              "#bd3786"
             ],
             [
              0.5555555555555556,
              "#d8576b"
             ],
             [
              0.6666666666666666,
              "#ed7953"
             ],
             [
              0.7777777777777778,
              "#fb9f3a"
             ],
             [
              0.8888888888888888,
              "#fdca26"
             ],
             [
              1,
              "#f0f921"
             ]
            ],
            "type": "heatmap"
           }
          ],
          "histogram": [
           {
            "marker": {
             "pattern": {
              "fillmode": "overlay",
              "size": 10,
              "solidity": 0.2
             }
            },
            "type": "histogram"
           }
          ],
          "histogram2d": [
           {
            "colorbar": {
             "outlinewidth": 0,
             "ticks": ""
            },
            "colorscale": [
             [
              0,
              "#0d0887"
             ],
             [
              0.1111111111111111,
              "#46039f"
             ],
             [
              0.2222222222222222,
              "#7201a8"
             ],
             [
              0.3333333333333333,
              "#9c179e"
             ],
             [
              0.4444444444444444,
              "#bd3786"
             ],
             [
              0.5555555555555556,
              "#d8576b"
             ],
             [
              0.6666666666666666,
              "#ed7953"
             ],
             [
              0.7777777777777778,
              "#fb9f3a"
             ],
             [
              0.8888888888888888,
              "#fdca26"
             ],
             [
              1,
              "#f0f921"
             ]
            ],
            "type": "histogram2d"
           }
          ],
          "histogram2dcontour": [
           {
            "colorbar": {
             "outlinewidth": 0,
             "ticks": ""
            },
            "colorscale": [
             [
              0,
              "#0d0887"
             ],
             [
              0.1111111111111111,
              "#46039f"
             ],
             [
              0.2222222222222222,
              "#7201a8"
             ],
             [
              0.3333333333333333,
              "#9c179e"
             ],
             [
              0.4444444444444444,
              "#bd3786"
             ],
             [
              0.5555555555555556,
              "#d8576b"
             ],
             [
              0.6666666666666666,
              "#ed7953"
             ],
             [
              0.7777777777777778,
              "#fb9f3a"
             ],
             [
              0.8888888888888888,
              "#fdca26"
             ],
             [
              1,
              "#f0f921"
             ]
            ],
            "type": "histogram2dcontour"
           }
          ],
          "mesh3d": [
           {
            "colorbar": {
             "outlinewidth": 0,
             "ticks": ""
            },
            "type": "mesh3d"
           }
          ],
          "parcoords": [
           {
            "line": {
             "colorbar": {
              "outlinewidth": 0,
              "ticks": ""
             }
            },
            "type": "parcoords"
           }
          ],
          "pie": [
           {
            "automargin": true,
            "type": "pie"
           }
          ],
          "scatter": [
           {
            "fillpattern": {
             "fillmode": "overlay",
             "size": 10,
             "solidity": 0.2
            },
            "type": "scatter"
           }
          ],
          "scatter3d": [
           {
            "line": {
             "colorbar": {
              "outlinewidth": 0,
              "ticks": ""
             }
            },
            "marker": {
             "colorbar": {
              "outlinewidth": 0,
              "ticks": ""
             }
            },
            "type": "scatter3d"
           }
          ],
          "scattercarpet": [
           {
            "marker": {
             "colorbar": {
              "outlinewidth": 0,
              "ticks": ""
             }
            },
            "type": "scattercarpet"
           }
          ],
          "scattergeo": [
           {
            "marker": {
             "colorbar": {
              "outlinewidth": 0,
              "ticks": ""
             }
            },
            "type": "scattergeo"
           }
          ],
          "scattergl": [
           {
            "marker": {
             "colorbar": {
              "outlinewidth": 0,
              "ticks": ""
             }
            },
            "type": "scattergl"
           }
          ],
          "scattermap": [
           {
            "marker": {
             "colorbar": {
              "outlinewidth": 0,
              "ticks": ""
             }
            },
            "type": "scattermap"
           }
          ],
          "scattermapbox": [
           {
            "marker": {
             "colorbar": {
              "outlinewidth": 0,
              "ticks": ""
             }
            },
            "type": "scattermapbox"
           }
          ],
          "scatterpolar": [
           {
            "marker": {
             "colorbar": {
              "outlinewidth": 0,
              "ticks": ""
             }
            },
            "type": "scatterpolar"
           }
          ],
          "scatterpolargl": [
           {
            "marker": {
             "colorbar": {
              "outlinewidth": 0,
              "ticks": ""
             }
            },
            "type": "scatterpolargl"
           }
          ],
          "scatterternary": [
           {
            "marker": {
             "colorbar": {
              "outlinewidth": 0,
              "ticks": ""
             }
            },
            "type": "scatterternary"
           }
          ],
          "surface": [
           {
            "colorbar": {
             "outlinewidth": 0,
             "ticks": ""
            },
            "colorscale": [
             [
              0,
              "#0d0887"
             ],
             [
              0.1111111111111111,
              "#46039f"
             ],
             [
              0.2222222222222222,
              "#7201a8"
             ],
             [
              0.3333333333333333,
              "#9c179e"
             ],
             [
              0.4444444444444444,
              "#bd3786"
             ],
             [
              0.5555555555555556,
              "#d8576b"
             ],
             [
              0.6666666666666666,
              "#ed7953"
             ],
             [
              0.7777777777777778,
              "#fb9f3a"
             ],
             [
              0.8888888888888888,
              "#fdca26"
             ],
             [
              1,
              "#f0f921"
             ]
            ],
            "type": "surface"
           }
          ],
          "table": [
           {
            "cells": {
             "fill": {
              "color": "#EBF0F8"
             },
             "line": {
              "color": "white"
             }
            },
            "header": {
             "fill": {
              "color": "#C8D4E3"
             },
             "line": {
              "color": "white"
             }
            },
            "type": "table"
           }
          ]
         },
         "layout": {
          "annotationdefaults": {
           "arrowcolor": "#2a3f5f",
           "arrowhead": 0,
           "arrowwidth": 1
          },
          "autotypenumbers": "strict",
          "coloraxis": {
           "colorbar": {
            "outlinewidth": 0,
            "ticks": ""
           }
          },
          "colorscale": {
           "diverging": [
            [
             0,
             "#8e0152"
            ],
            [
             0.1,
             "#c51b7d"
            ],
            [
             0.2,
             "#de77ae"
            ],
            [
             0.3,
             "#f1b6da"
            ],
            [
             0.4,
             "#fde0ef"
            ],
            [
             0.5,
             "#f7f7f7"
            ],
            [
             0.6,
             "#e6f5d0"
            ],
            [
             0.7,
             "#b8e186"
            ],
            [
             0.8,
             "#7fbc41"
            ],
            [
             0.9,
             "#4d9221"
            ],
            [
             1,
             "#276419"
            ]
           ],
           "sequential": [
            [
             0,
             "#0d0887"
            ],
            [
             0.1111111111111111,
             "#46039f"
            ],
            [
             0.2222222222222222,
             "#7201a8"
            ],
            [
             0.3333333333333333,
             "#9c179e"
            ],
            [
             0.4444444444444444,
             "#bd3786"
            ],
            [
             0.5555555555555556,
             "#d8576b"
            ],
            [
             0.6666666666666666,
             "#ed7953"
            ],
            [
             0.7777777777777778,
             "#fb9f3a"
            ],
            [
             0.8888888888888888,
             "#fdca26"
            ],
            [
             1,
             "#f0f921"
            ]
           ],
           "sequentialminus": [
            [
             0,
             "#0d0887"
            ],
            [
             0.1111111111111111,
             "#46039f"
            ],
            [
             0.2222222222222222,
             "#7201a8"
            ],
            [
             0.3333333333333333,
             "#9c179e"
            ],
            [
             0.4444444444444444,
             "#bd3786"
            ],
            [
             0.5555555555555556,
             "#d8576b"
            ],
            [
             0.6666666666666666,
             "#ed7953"
            ],
            [
             0.7777777777777778,
             "#fb9f3a"
            ],
            [
             0.8888888888888888,
             "#fdca26"
            ],
            [
             1,
             "#f0f921"
            ]
           ]
          },
          "colorway": [
           "#636efa",
           "#EF553B",
           "#00cc96",
           "#ab63fa",
           "#FFA15A",
           "#19d3f3",
           "#FF6692",
           "#B6E880",
           "#FF97FF",
           "#FECB52"
          ],
          "font": {
           "color": "#2a3f5f"
          },
          "geo": {
           "bgcolor": "white",
           "lakecolor": "white",
           "landcolor": "#E5ECF6",
           "showlakes": true,
           "showland": true,
           "subunitcolor": "white"
          },
          "hoverlabel": {
           "align": "left"
          },
          "hovermode": "closest",
          "mapbox": {
           "style": "light"
          },
          "paper_bgcolor": "white",
          "plot_bgcolor": "#E5ECF6",
          "polar": {
           "angularaxis": {
            "gridcolor": "white",
            "linecolor": "white",
            "ticks": ""
           },
           "bgcolor": "#E5ECF6",
           "radialaxis": {
            "gridcolor": "white",
            "linecolor": "white",
            "ticks": ""
           }
          },
          "scene": {
           "xaxis": {
            "backgroundcolor": "#E5ECF6",
            "gridcolor": "white",
            "gridwidth": 2,
            "linecolor": "white",
            "showbackground": true,
            "ticks": "",
            "zerolinecolor": "white"
           },
           "yaxis": {
            "backgroundcolor": "#E5ECF6",
            "gridcolor": "white",
            "gridwidth": 2,
            "linecolor": "white",
            "showbackground": true,
            "ticks": "",
            "zerolinecolor": "white"
           },
           "zaxis": {
            "backgroundcolor": "#E5ECF6",
            "gridcolor": "white",
            "gridwidth": 2,
            "linecolor": "white",
            "showbackground": true,
            "ticks": "",
            "zerolinecolor": "white"
           }
          },
          "shapedefaults": {
           "line": {
            "color": "#2a3f5f"
           }
          },
          "ternary": {
           "aaxis": {
            "gridcolor": "white",
            "linecolor": "white",
            "ticks": ""
           },
           "baxis": {
            "gridcolor": "white",
            "linecolor": "white",
            "ticks": ""
           },
           "bgcolor": "#E5ECF6",
           "caxis": {
            "gridcolor": "white",
            "linecolor": "white",
            "ticks": ""
           }
          },
          "title": {
           "x": 0.05
          },
          "xaxis": {
           "automargin": true,
           "gridcolor": "white",
           "linecolor": "white",
           "ticks": "",
           "title": {
            "standoff": 15
           },
           "zerolinecolor": "white",
           "zerolinewidth": 2
          },
          "yaxis": {
           "automargin": true,
           "gridcolor": "white",
           "linecolor": "white",
           "ticks": "",
           "title": {
            "standoff": 15
           },
           "zerolinecolor": "white",
           "zerolinewidth": 2
          }
         }
        },
        "title": {
         "text": "🌍 Regional Trend — Mobile money account (% age 15+)"
        },
        "xaxis": {
         "anchor": "y",
         "autorange": true,
         "domain": [
          0,
          1
         ],
         "range": [
          2010.3244021895707,
          2021.6755978104293
         ],
         "title": {
          "text": "Year"
         },
         "type": "linear"
        },
        "yaxis": {
         "anchor": "x",
         "autorange": true,
         "domain": [
          0,
          1
         ],
         "range": [
          -2.4924999999999997,
          39.5075
         ],
         "title": {
          "text": "%"
         },
         "type": "linear"
        }
       }
      }
     },
     "metadata": {},
     "output_type": "display_data"
    },
    {
     "name": "stdout",
     "output_type": "stream",
     "text": [
      "Plotting: Made or received a digital payment (% age 15+)\n"
     ]
    },
    {
     "data": {
      "application/vnd.plotly.v1+json": {
       "config": {
        "plotlyServerURL": "https://plot.ly"
       },
       "data": [
        {
         "hovertemplate": "Year=%{x}<br>%=%{y}<extra></extra>",
         "legendgroup": "",
         "line": {
          "color": "#144d14",
          "dash": "solid"
         },
         "marker": {
          "symbol": "circle"
         },
         "mode": "lines+markers",
         "name": "",
         "orientation": "v",
         "showlegend": false,
         "type": "scatter",
         "x": {
          "_inputArray": {
           "0": 2011,
           "1": 2014,
           "2": 2017,
           "3": 2021,
           "bdata": "2wfeB+EH5Qc=",
           "dtype": "i2",
           "shape": "4"
          },
          "bdata": "2wfeB+EH5Qc=",
          "dtype": "i2"
         },
         "xaxis": "x",
         "y": {
          "_inputArray": {
           "0": null,
           "1": 45.570144927536234,
           "2": 53.82042553191489,
           "3": 64.60344537815126,
           "bdata": "AAAAAAAA+H/M30yC+shGQF4wLrQD6UpAQAVd2Z4mUEA=",
           "dtype": "f8",
           "shape": "4"
          },
          "bdata": "AAAAAAAA+H/M30yC+shGQF4wLrQD6UpAQAVd2Z4mUEA=",
          "dtype": "f8"
         },
         "yaxis": "y"
        },
        {
         "line": {
          "color": "blue",
          "width": 4
         },
         "marker": {
          "size": 10
         },
         "mode": "lines+markers",
         "name": "Rwanda",
         "type": "scatter",
         "x": {
          "_inputArray": {
           "0": 2011,
           "1": 2014,
           "2": 2017,
           "bdata": "2wfeB+EH",
           "dtype": "i2",
           "shape": "3"
          },
          "bdata": "2wfeB+EH",
          "dtype": "i2"
         },
         "y": {
          "_inputArray": {
           "0": null,
           "1": 27.99,
           "2": 38.92,
           "bdata": "AAAAAAAA+H89CtejcP07QPYoXI/CdUNA",
           "dtype": "f8",
           "shape": "3"
          },
          "bdata": "AAAAAAAA+H89CtejcP07QPYoXI/CdUNA",
          "dtype": "f8"
         }
        }
       ],
       "layout": {
        "height": 360,
        "legend": {
         "tracegroupgap": 0
        },
        "template": {
         "data": {
          "bar": [
           {
            "error_x": {
             "color": "#2a3f5f"
            },
            "error_y": {
             "color": "#2a3f5f"
            },
            "marker": {
             "line": {
              "color": "#E5ECF6",
              "width": 0.5
             },
             "pattern": {
              "fillmode": "overlay",
              "size": 10,
              "solidity": 0.2
             }
            },
            "type": "bar"
           }
          ],
          "barpolar": [
           {
            "marker": {
             "line": {
              "color": "#E5ECF6",
              "width": 0.5
             },
             "pattern": {
              "fillmode": "overlay",
              "size": 10,
              "solidity": 0.2
             }
            },
            "type": "barpolar"
           }
          ],
          "carpet": [
           {
            "aaxis": {
             "endlinecolor": "#2a3f5f",
             "gridcolor": "white",
             "linecolor": "white",
             "minorgridcolor": "white",
             "startlinecolor": "#2a3f5f"
            },
            "baxis": {
             "endlinecolor": "#2a3f5f",
             "gridcolor": "white",
             "linecolor": "white",
             "minorgridcolor": "white",
             "startlinecolor": "#2a3f5f"
            },
            "type": "carpet"
           }
          ],
          "choropleth": [
           {
            "colorbar": {
             "outlinewidth": 0,
             "ticks": ""
            },
            "type": "choropleth"
           }
          ],
          "contour": [
           {
            "colorbar": {
             "outlinewidth": 0,
             "ticks": ""
            },
            "colorscale": [
             [
              0,
              "#0d0887"
             ],
             [
              0.1111111111111111,
              "#46039f"
             ],
             [
              0.2222222222222222,
              "#7201a8"
             ],
             [
              0.3333333333333333,
              "#9c179e"
             ],
             [
              0.4444444444444444,
              "#bd3786"
             ],
             [
              0.5555555555555556,
              "#d8576b"
             ],
             [
              0.6666666666666666,
              "#ed7953"
             ],
             [
              0.7777777777777778,
              "#fb9f3a"
             ],
             [
              0.8888888888888888,
              "#fdca26"
             ],
             [
              1,
              "#f0f921"
             ]
            ],
            "type": "contour"
           }
          ],
          "contourcarpet": [
           {
            "colorbar": {
             "outlinewidth": 0,
             "ticks": ""
            },
            "type": "contourcarpet"
           }
          ],
          "heatmap": [
           {
            "colorbar": {
             "outlinewidth": 0,
             "ticks": ""
            },
            "colorscale": [
             [
              0,
              "#0d0887"
             ],
             [
              0.1111111111111111,
              "#46039f"
             ],
             [
              0.2222222222222222,
              "#7201a8"
             ],
             [
              0.3333333333333333,
              "#9c179e"
             ],
             [
              0.4444444444444444,
              "#bd3786"
             ],
             [
              0.5555555555555556,
              "#d8576b"
             ],
             [
              0.6666666666666666,
              "#ed7953"
             ],
             [
              0.7777777777777778,
              "#fb9f3a"
             ],
             [
              0.8888888888888888,
              "#fdca26"
             ],
             [
              1,
              "#f0f921"
             ]
            ],
            "type": "heatmap"
           }
          ],
          "histogram": [
           {
            "marker": {
             "pattern": {
              "fillmode": "overlay",
              "size": 10,
              "solidity": 0.2
             }
            },
            "type": "histogram"
           }
          ],
          "histogram2d": [
           {
            "colorbar": {
             "outlinewidth": 0,
             "ticks": ""
            },
            "colorscale": [
             [
              0,
              "#0d0887"
             ],
             [
              0.1111111111111111,
              "#46039f"
             ],
             [
              0.2222222222222222,
              "#7201a8"
             ],
             [
              0.3333333333333333,
              "#9c179e"
             ],
             [
              0.4444444444444444,
              "#bd3786"
             ],
             [
              0.5555555555555556,
              "#d8576b"
             ],
             [
              0.6666666666666666,
              "#ed7953"
             ],
             [
              0.7777777777777778,
              "#fb9f3a"
             ],
             [
              0.8888888888888888,
              "#fdca26"
             ],
             [
              1,
              "#f0f921"
             ]
            ],
            "type": "histogram2d"
           }
          ],
          "histogram2dcontour": [
           {
            "colorbar": {
             "outlinewidth": 0,
             "ticks": ""
            },
            "colorscale": [
             [
              0,
              "#0d0887"
             ],
             [
              0.1111111111111111,
              "#46039f"
             ],
             [
              0.2222222222222222,
              "#7201a8"
             ],
             [
              0.3333333333333333,
              "#9c179e"
             ],
             [
              0.4444444444444444,
              "#bd3786"
             ],
             [
              0.5555555555555556,
              "#d8576b"
             ],
             [
              0.6666666666666666,
              "#ed7953"
             ],
             [
              0.7777777777777778,
              "#fb9f3a"
             ],
             [
              0.8888888888888888,
              "#fdca26"
             ],
             [
              1,
              "#f0f921"
             ]
            ],
            "type": "histogram2dcontour"
           }
          ],
          "mesh3d": [
           {
            "colorbar": {
             "outlinewidth": 0,
             "ticks": ""
            },
            "type": "mesh3d"
           }
          ],
          "parcoords": [
           {
            "line": {
             "colorbar": {
              "outlinewidth": 0,
              "ticks": ""
             }
            },
            "type": "parcoords"
           }
          ],
          "pie": [
           {
            "automargin": true,
            "type": "pie"
           }
          ],
          "scatter": [
           {
            "fillpattern": {
             "fillmode": "overlay",
             "size": 10,
             "solidity": 0.2
            },
            "type": "scatter"
           }
          ],
          "scatter3d": [
           {
            "line": {
             "colorbar": {
              "outlinewidth": 0,
              "ticks": ""
             }
            },
            "marker": {
             "colorbar": {
              "outlinewidth": 0,
              "ticks": ""
             }
            },
            "type": "scatter3d"
           }
          ],
          "scattercarpet": [
           {
            "marker": {
             "colorbar": {
              "outlinewidth": 0,
              "ticks": ""
             }
            },
            "type": "scattercarpet"
           }
          ],
          "scattergeo": [
           {
            "marker": {
             "colorbar": {
              "outlinewidth": 0,
              "ticks": ""
             }
            },
            "type": "scattergeo"
           }
          ],
          "scattergl": [
           {
            "marker": {
             "colorbar": {
              "outlinewidth": 0,
              "ticks": ""
             }
            },
            "type": "scattergl"
           }
          ],
          "scattermap": [
           {
            "marker": {
             "colorbar": {
              "outlinewidth": 0,
              "ticks": ""
             }
            },
            "type": "scattermap"
           }
          ],
          "scattermapbox": [
           {
            "marker": {
             "colorbar": {
              "outlinewidth": 0,
              "ticks": ""
             }
            },
            "type": "scattermapbox"
           }
          ],
          "scatterpolar": [
           {
            "marker": {
             "colorbar": {
              "outlinewidth": 0,
              "ticks": ""
             }
            },
            "type": "scatterpolar"
           }
          ],
          "scatterpolargl": [
           {
            "marker": {
             "colorbar": {
              "outlinewidth": 0,
              "ticks": ""
             }
            },
            "type": "scatterpolargl"
           }
          ],
          "scatterternary": [
           {
            "marker": {
             "colorbar": {
              "outlinewidth": 0,
              "ticks": ""
             }
            },
            "type": "scatterternary"
           }
          ],
          "surface": [
           {
            "colorbar": {
             "outlinewidth": 0,
             "ticks": ""
            },
            "colorscale": [
             [
              0,
              "#0d0887"
             ],
             [
              0.1111111111111111,
              "#46039f"
             ],
             [
              0.2222222222222222,
              "#7201a8"
             ],
             [
              0.3333333333333333,
              "#9c179e"
             ],
             [
              0.4444444444444444,
              "#bd3786"
             ],
             [
              0.5555555555555556,
              "#d8576b"
             ],
             [
              0.6666666666666666,
              "#ed7953"
             ],
             [
              0.7777777777777778,
              "#fb9f3a"
             ],
             [
              0.8888888888888888,
              "#fdca26"
             ],
             [
              1,
              "#f0f921"
             ]
            ],
            "type": "surface"
           }
          ],
          "table": [
           {
            "cells": {
             "fill": {
              "color": "#EBF0F8"
             },
             "line": {
              "color": "white"
             }
            },
            "header": {
             "fill": {
              "color": "#C8D4E3"
             },
             "line": {
              "color": "white"
             }
            },
            "type": "table"
           }
          ]
         },
         "layout": {
          "annotationdefaults": {
           "arrowcolor": "#2a3f5f",
           "arrowhead": 0,
           "arrowwidth": 1
          },
          "autotypenumbers": "strict",
          "coloraxis": {
           "colorbar": {
            "outlinewidth": 0,
            "ticks": ""
           }
          },
          "colorscale": {
           "diverging": [
            [
             0,
             "#8e0152"
            ],
            [
             0.1,
             "#c51b7d"
            ],
            [
             0.2,
             "#de77ae"
            ],
            [
             0.3,
             "#f1b6da"
            ],
            [
             0.4,
             "#fde0ef"
            ],
            [
             0.5,
             "#f7f7f7"
            ],
            [
             0.6,
             "#e6f5d0"
            ],
            [
             0.7,
             "#b8e186"
            ],
            [
             0.8,
             "#7fbc41"
            ],
            [
             0.9,
             "#4d9221"
            ],
            [
             1,
             "#276419"
            ]
           ],
           "sequential": [
            [
             0,
             "#0d0887"
            ],
            [
             0.1111111111111111,
             "#46039f"
            ],
            [
             0.2222222222222222,
             "#7201a8"
            ],
            [
             0.3333333333333333,
             "#9c179e"
            ],
            [
             0.4444444444444444,
             "#bd3786"
            ],
            [
             0.5555555555555556,
             "#d8576b"
            ],
            [
             0.6666666666666666,
             "#ed7953"
            ],
            [
             0.7777777777777778,
             "#fb9f3a"
            ],
            [
             0.8888888888888888,
             "#fdca26"
            ],
            [
             1,
             "#f0f921"
            ]
           ],
           "sequentialminus": [
            [
             0,
             "#0d0887"
            ],
            [
             0.1111111111111111,
             "#46039f"
            ],
            [
             0.2222222222222222,
             "#7201a8"
            ],
            [
             0.3333333333333333,
             "#9c179e"
            ],
            [
             0.4444444444444444,
             "#bd3786"
            ],
            [
             0.5555555555555556,
             "#d8576b"
            ],
            [
             0.6666666666666666,
             "#ed7953"
            ],
            [
             0.7777777777777778,
             "#fb9f3a"
            ],
            [
             0.8888888888888888,
             "#fdca26"
            ],
            [
             1,
             "#f0f921"
            ]
           ]
          },
          "colorway": [
           "#636efa",
           "#EF553B",
           "#00cc96",
           "#ab63fa",
           "#FFA15A",
           "#19d3f3",
           "#FF6692",
           "#B6E880",
           "#FF97FF",
           "#FECB52"
          ],
          "font": {
           "color": "#2a3f5f"
          },
          "geo": {
           "bgcolor": "white",
           "lakecolor": "white",
           "landcolor": "#E5ECF6",
           "showlakes": true,
           "showland": true,
           "subunitcolor": "white"
          },
          "hoverlabel": {
           "align": "left"
          },
          "hovermode": "closest",
          "mapbox": {
           "style": "light"
          },
          "paper_bgcolor": "white",
          "plot_bgcolor": "#E5ECF6",
          "polar": {
           "angularaxis": {
            "gridcolor": "white",
            "linecolor": "white",
            "ticks": ""
           },
           "bgcolor": "#E5ECF6",
           "radialaxis": {
            "gridcolor": "white",
            "linecolor": "white",
            "ticks": ""
           }
          },
          "scene": {
           "xaxis": {
            "backgroundcolor": "#E5ECF6",
            "gridcolor": "white",
            "gridwidth": 2,
            "linecolor": "white",
            "showbackground": true,
            "ticks": "",
            "zerolinecolor": "white"
           },
           "yaxis": {
            "backgroundcolor": "#E5ECF6",
            "gridcolor": "white",
            "gridwidth": 2,
            "linecolor": "white",
            "showbackground": true,
            "ticks": "",
            "zerolinecolor": "white"
           },
           "zaxis": {
            "backgroundcolor": "#E5ECF6",
            "gridcolor": "white",
            "gridwidth": 2,
            "linecolor": "white",
            "showbackground": true,
            "ticks": "",
            "zerolinecolor": "white"
           }
          },
          "shapedefaults": {
           "line": {
            "color": "#2a3f5f"
           }
          },
          "ternary": {
           "aaxis": {
            "gridcolor": "white",
            "linecolor": "white",
            "ticks": ""
           },
           "baxis": {
            "gridcolor": "white",
            "linecolor": "white",
            "ticks": ""
           },
           "bgcolor": "#E5ECF6",
           "caxis": {
            "gridcolor": "white",
            "linecolor": "white",
            "ticks": ""
           }
          },
          "title": {
           "x": 0.05
          },
          "xaxis": {
           "automargin": true,
           "gridcolor": "white",
           "linecolor": "white",
           "ticks": "",
           "title": {
            "standoff": 15
           },
           "zerolinecolor": "white",
           "zerolinewidth": 2
          },
          "yaxis": {
           "automargin": true,
           "gridcolor": "white",
           "linecolor": "white",
           "ticks": "",
           "title": {
            "standoff": 15
           },
           "zerolinecolor": "white",
           "zerolinewidth": 2
          }
         }
        },
        "title": {
         "text": "🌍 Global Trend — Made or received a digital payment (% age 15+)"
        },
        "xaxis": {
         "anchor": "y",
         "autorange": true,
         "domain": [
          0,
          1
         ],
         "range": [
          2010.291338582677,
          2021.6524184476941
         ],
         "title": {
          "text": "Year"
         },
         "type": "linear"
        },
        "yaxis": {
         "anchor": "x",
         "autorange": true,
         "domain": [
          0,
          1
         ],
         "range": [
          24.3166115656789,
          67.67463898717382
         ],
         "title": {
          "text": "%"
         },
         "type": "linear"
        }
       }
      }
     },
     "metadata": {},
     "output_type": "display_data"
    },
    {
     "data": {
      "application/vnd.plotly.v1+json": {
       "config": {
        "plotlyServerURL": "https://plot.ly"
       },
       "data": [
        {
         "hovertemplate": "Region=East Asia & Pacific<br>Year=%{x}<br>%=%{y}<extra></extra>",
         "legendgroup": "East Asia & Pacific",
         "line": {
          "color": "#144d14",
          "dash": "solid"
         },
         "marker": {
          "symbol": "circle"
         },
         "mode": "lines+markers",
         "name": "East Asia & Pacific",
         "orientation": "v",
         "showlegend": true,
         "type": "scatter",
         "x": {
          "_inputArray": {
           "0": 2011,
           "1": 2014,
           "2": 2017,
           "3": 2021,
           "bdata": "2wfeB+EH5Qc=",
           "dtype": "i2",
           "shape": "4"
          },
          "bdata": "2wfeB+EH5Qc=",
          "dtype": "i2"
         },
         "xaxis": "x",
         "y": {
          "_inputArray": {
           "0": null,
           "1": 58.403125,
           "2": 60.95470588235294,
           "3": 74.278125,
           "bdata": "AAAAAAAA+H+amZmZmTNNQJoAZ80zek5AzczMzMyRUkA=",
           "dtype": "f8",
           "shape": "4"
          },
          "bdata": "AAAAAAAA+H+amZmZmTNNQJoAZ80zek5AzczMzMyRUkA=",
          "dtype": "f8"
         },
         "yaxis": "y"
        },
        {
         "hovertemplate": "Region=Europe & Central Asia<br>Year=%{x}<br>%=%{y}<extra></extra>",
         "legendgroup": "Europe & Central Asia",
         "line": {
          "color": "#4c9c54",
          "dash": "solid"
         },
         "marker": {
          "symbol": "circle"
         },
         "mode": "lines+markers",
         "name": "Europe & Central Asia",
         "orientation": "v",
         "showlegend": true,
         "type": "scatter",
         "x": {
          "_inputArray": {
           "0": 2011,
           "1": 2014,
           "2": 2017,
           "3": 2021,
           "bdata": "2wfeB+EH5Qc=",
           "dtype": "i2",
           "shape": "4"
          },
          "bdata": "2wfeB+EH5Qc=",
          "dtype": "i2"
         },
         "xaxis": "x",
         "y": {
          "_inputArray": {
           "0": null,
           "1": 65.73291666666667,
           "2": 73.15448979591837,
           "3": 82.74377777777778,
           "bdata": "AAAAAAAA+H+1gU4b6G5QQD9CKynjSVJABMMbDpqvVEA=",
           "dtype": "f8",
           "shape": "4"
          },
          "bdata": "AAAAAAAA+H+1gU4b6G5QQD9CKynjSVJABMMbDpqvVEA=",
          "dtype": "f8"
         },
         "yaxis": "y"
        },
        {
         "hovertemplate": "Region=Latin America & Caribbean<br>Year=%{x}<br>%=%{y}<extra></extra>",
         "legendgroup": "Latin America & Caribbean",
         "line": {
          "color": "#7ac943",
          "dash": "solid"
         },
         "marker": {
          "symbol": "circle"
         },
         "mode": "lines+markers",
         "name": "Latin America & Caribbean",
         "orientation": "v",
         "showlegend": true,
         "type": "scatter",
         "x": {
          "_inputArray": {
           "0": 2011,
           "1": 2014,
           "2": 2017,
           "3": 2021,
           "bdata": "2wfeB+EH5Qc=",
           "dtype": "i2",
           "shape": "4"
          },
          "bdata": "2wfeB+EH5Qc=",
          "dtype": "i2"
         },
         "xaxis": "x",
         "y": {
          "_inputArray": {
           "0": null,
           "1": 36.15,
           "2": 42.977,
           "3": 52.624117647058824,
           "bdata": "AAAAAAAA+H8zMzMzMxNCQJMYBFYOfUVAsHxJFuNPSkA=",
           "dtype": "f8",
           "shape": "4"
          },
          "bdata": "AAAAAAAA+H8zMzMzMxNCQJMYBFYOfUVAsHxJFuNPSkA=",
          "dtype": "f8"
         },
         "yaxis": "y"
        },
        {
         "hovertemplate": "Region=Middle East & North Africa<br>Year=%{x}<br>%=%{y}<extra></extra>",
         "legendgroup": "Middle East & North Africa",
         "line": {
          "color": "#53a318",
          "dash": "solid"
         },
         "marker": {
          "symbol": "circle"
         },
         "mode": "lines+markers",
         "name": "Middle East & North Africa",
         "orientation": "v",
         "showlegend": true,
         "type": "scatter",
         "x": {
          "_inputArray": {
           "0": 2011,
           "1": 2014,
           "2": 2017,
           "3": 2021,
           "bdata": "2wfeB+EH5Qc=",
           "dtype": "i2",
           "shape": "4"
          },
          "bdata": "2wfeB+EH5Qc=",
          "dtype": "i2"
         },
         "xaxis": "x",
         "y": {
          "_inputArray": {
           "0": null,
           "1": 38.35636363636364,
           "2": 44.62833333333333,
           "3": 39.22222222222222,
           "bdata": "AAAAAAAA+H8u1dlSnS1DQKDTBjptUEZAx3Ecx3GcQ0A=",
           "dtype": "f8",
           "shape": "4"
          },
          "bdata": "AAAAAAAA+H8u1dlSnS1DQKDTBjptUEZAx3Ecx3GcQ0A=",
          "dtype": "f8"
         },
         "yaxis": "y"
        },
        {
         "hovertemplate": "Region=North America<br>Year=%{x}<br>%=%{y}<extra></extra>",
         "legendgroup": "North America",
         "line": {
          "color": "#3d8910",
          "dash": "solid"
         },
         "marker": {
          "symbol": "circle"
         },
         "mode": "lines+markers",
         "name": "North America",
         "orientation": "v",
         "showlegend": true,
         "type": "scatter",
         "x": {
          "_inputArray": {
           "0": 2011,
           "1": 2014,
           "2": 2017,
           "3": 2021,
           "bdata": "2wfeB+EH5Qc=",
           "dtype": "i2",
           "shape": "4"
          },
          "bdata": "2wfeB+EH5Qc=",
          "dtype": "i2"
         },
         "xaxis": "x",
         "y": {
          "_inputArray": {
           "0": null,
           "1": 94.475,
           "2": 94.47999999999999,
           "3": 95.66,
           "bdata": "AAAAAAAA+H9mZmZmZp5XQB6F61G4nldACtejcD3qV0A=",
           "dtype": "f8",
           "shape": "4"
          },
          "bdata": "AAAAAAAA+H9mZmZmZp5XQB6F61G4nldACtejcD3qV0A=",
          "dtype": "f8"
         },
         "yaxis": "y"
        },
        {
         "hovertemplate": "Region=South Asia<br>Year=%{x}<br>%=%{y}<extra></extra>",
         "legendgroup": "South Asia",
         "line": {
          "color": "#2f6f0b",
          "dash": "solid"
         },
         "marker": {
          "symbol": "circle"
         },
         "mode": "lines+markers",
         "name": "South Asia",
         "orientation": "v",
         "showlegend": true,
         "type": "scatter",
         "x": {
          "_inputArray": {
           "0": 2011,
           "1": 2014,
           "2": 2017,
           "3": 2021,
           "bdata": "2wfeB+EH5Qc=",
           "dtype": "i2",
           "shape": "4"
          },
          "bdata": "2wfeB+EH5Qc=",
          "dtype": "i2"
         },
         "xaxis": "x",
         "y": {
          "_inputArray": {
           "0": null,
           "1": 13.895714285714286,
           "2": 31.802857142857142,
           "3": 31.554999999999996,
           "bdata": "AAAAAAAA+H/dZxcQm8orQHLuswuIzT9ArUfhehSOP0A=",
           "dtype": "f8",
           "shape": "4"
          },
          "bdata": "AAAAAAAA+H/dZxcQm8orQHLuswuIzT9ArUfhehSOP0A=",
          "dtype": "f8"
         },
         "yaxis": "y"
        },
        {
         "hovertemplate": "Region=Sub-Saharan Africa<br>Year=%{x}<br>%=%{y}<extra></extra>",
         "legendgroup": "Sub-Saharan Africa",
         "line": {
          "color": "#255d08",
          "dash": "solid"
         },
         "marker": {
          "symbol": "circle"
         },
         "mode": "lines+markers",
         "name": "Sub-Saharan Africa",
         "orientation": "v",
         "showlegend": true,
         "type": "scatter",
         "x": {
          "_inputArray": {
           "0": 2011,
           "1": 2014,
           "2": 2017,
           "3": 2021,
           "bdata": "2wfeB+EH5Qc=",
           "dtype": "i2",
           "shape": "4"
          },
          "bdata": "2wfeB+EH5Qc=",
          "dtype": "i2"
         },
         "xaxis": "x",
         "y": {
          "_inputArray": {
           "0": null,
           "1": 22.174545454545456,
           "2": 34.15352941176471,
           "3": 47.81791666666667,
           "bdata": "AAAAAAAA+H8t8MoCryw2QHRADdqmE0FA5RdLfrHoR0A=",
           "dtype": "f8",
           "shape": "4"
          },
          "bdata": "AAAAAAAA+H8t8MoCryw2QHRADdqmE0FA5RdLfrHoR0A=",
          "dtype": "f8"
         },
         "yaxis": "y"
        },
        {
         "line": {
          "color": "blue",
          "dash": "dash",
          "width": 4
         },
         "marker": {
          "size": 6
         },
         "mode": "lines+markers",
         "name": "Rwanda",
         "type": "scatter",
         "x": {
          "_inputArray": {
           "0": 2011,
           "1": 2014,
           "2": 2017,
           "bdata": "2wfeB+EH",
           "dtype": "i2",
           "shape": "3"
          },
          "bdata": "2wfeB+EH",
          "dtype": "i2"
         },
         "y": {
          "_inputArray": {
           "0": null,
           "1": 27.99,
           "2": 38.92,
           "bdata": "AAAAAAAA+H89CtejcP07QPYoXI/CdUNA",
           "dtype": "f8",
           "shape": "3"
          },
          "bdata": "AAAAAAAA+H89CtejcP07QPYoXI/CdUNA",
          "dtype": "f8"
         }
        }
       ],
       "layout": {
        "height": 360,
        "legend": {
         "title": {
          "text": "Region"
         },
         "tracegroupgap": 0
        },
        "template": {
         "data": {
          "bar": [
           {
            "error_x": {
             "color": "#2a3f5f"
            },
            "error_y": {
             "color": "#2a3f5f"
            },
            "marker": {
             "line": {
              "color": "#E5ECF6",
              "width": 0.5
             },
             "pattern": {
              "fillmode": "overlay",
              "size": 10,
              "solidity": 0.2
             }
            },
            "type": "bar"
           }
          ],
          "barpolar": [
           {
            "marker": {
             "line": {
              "color": "#E5ECF6",
              "width": 0.5
             },
             "pattern": {
              "fillmode": "overlay",
              "size": 10,
              "solidity": 0.2
             }
            },
            "type": "barpolar"
           }
          ],
          "carpet": [
           {
            "aaxis": {
             "endlinecolor": "#2a3f5f",
             "gridcolor": "white",
             "linecolor": "white",
             "minorgridcolor": "white",
             "startlinecolor": "#2a3f5f"
            },
            "baxis": {
             "endlinecolor": "#2a3f5f",
             "gridcolor": "white",
             "linecolor": "white",
             "minorgridcolor": "white",
             "startlinecolor": "#2a3f5f"
            },
            "type": "carpet"
           }
          ],
          "choropleth": [
           {
            "colorbar": {
             "outlinewidth": 0,
             "ticks": ""
            },
            "type": "choropleth"
           }
          ],
          "contour": [
           {
            "colorbar": {
             "outlinewidth": 0,
             "ticks": ""
            },
            "colorscale": [
             [
              0,
              "#0d0887"
             ],
             [
              0.1111111111111111,
              "#46039f"
             ],
             [
              0.2222222222222222,
              "#7201a8"
             ],
             [
              0.3333333333333333,
              "#9c179e"
             ],
             [
              0.4444444444444444,
              "#bd3786"
             ],
             [
              0.5555555555555556,
              "#d8576b"
             ],
             [
              0.6666666666666666,
              "#ed7953"
             ],
             [
              0.7777777777777778,
              "#fb9f3a"
             ],
             [
              0.8888888888888888,
              "#fdca26"
             ],
             [
              1,
              "#f0f921"
             ]
            ],
            "type": "contour"
           }
          ],
          "contourcarpet": [
           {
            "colorbar": {
             "outlinewidth": 0,
             "ticks": ""
            },
            "type": "contourcarpet"
           }
          ],
          "heatmap": [
           {
            "colorbar": {
             "outlinewidth": 0,
             "ticks": ""
            },
            "colorscale": [
             [
              0,
              "#0d0887"
             ],
             [
              0.1111111111111111,
              "#46039f"
             ],
             [
              0.2222222222222222,
              "#7201a8"
             ],
             [
              0.3333333333333333,
              "#9c179e"
             ],
             [
              0.4444444444444444,
              "#bd3786"
             ],
             [
              0.5555555555555556,
              "#d8576b"
             ],
             [
              0.6666666666666666,
              "#ed7953"
             ],
             [
              0.7777777777777778,
              "#fb9f3a"
             ],
             [
              0.8888888888888888,
              "#fdca26"
             ],
             [
              1,
              "#f0f921"
             ]
            ],
            "type": "heatmap"
           }
          ],
          "histogram": [
           {
            "marker": {
             "pattern": {
              "fillmode": "overlay",
              "size": 10,
              "solidity": 0.2
             }
            },
            "type": "histogram"
           }
          ],
          "histogram2d": [
           {
            "colorbar": {
             "outlinewidth": 0,
             "ticks": ""
            },
            "colorscale": [
             [
              0,
              "#0d0887"
             ],
             [
              0.1111111111111111,
              "#46039f"
             ],
             [
              0.2222222222222222,
              "#7201a8"
             ],
             [
              0.3333333333333333,
              "#9c179e"
             ],
             [
              0.4444444444444444,
              "#bd3786"
             ],
             [
              0.5555555555555556,
              "#d8576b"
             ],
             [
              0.6666666666666666,
              "#ed7953"
             ],
             [
              0.7777777777777778,
              "#fb9f3a"
             ],
             [
              0.8888888888888888,
              "#fdca26"
             ],
             [
              1,
              "#f0f921"
             ]
            ],
            "type": "histogram2d"
           }
          ],
          "histogram2dcontour": [
           {
            "colorbar": {
             "outlinewidth": 0,
             "ticks": ""
            },
            "colorscale": [
             [
              0,
              "#0d0887"
             ],
             [
              0.1111111111111111,
              "#46039f"
             ],
             [
              0.2222222222222222,
              "#7201a8"
             ],
             [
              0.3333333333333333,
              "#9c179e"
             ],
             [
              0.4444444444444444,
              "#bd3786"
             ],
             [
              0.5555555555555556,
              "#d8576b"
             ],
             [
              0.6666666666666666,
              "#ed7953"
             ],
             [
              0.7777777777777778,
              "#fb9f3a"
             ],
             [
              0.8888888888888888,
              "#fdca26"
             ],
             [
              1,
              "#f0f921"
             ]
            ],
            "type": "histogram2dcontour"
           }
          ],
          "mesh3d": [
           {
            "colorbar": {
             "outlinewidth": 0,
             "ticks": ""
            },
            "type": "mesh3d"
           }
          ],
          "parcoords": [
           {
            "line": {
             "colorbar": {
              "outlinewidth": 0,
              "ticks": ""
             }
            },
            "type": "parcoords"
           }
          ],
          "pie": [
           {
            "automargin": true,
            "type": "pie"
           }
          ],
          "scatter": [
           {
            "fillpattern": {
             "fillmode": "overlay",
             "size": 10,
             "solidity": 0.2
            },
            "type": "scatter"
           }
          ],
          "scatter3d": [
           {
            "line": {
             "colorbar": {
              "outlinewidth": 0,
              "ticks": ""
             }
            },
            "marker": {
             "colorbar": {
              "outlinewidth": 0,
              "ticks": ""
             }
            },
            "type": "scatter3d"
           }
          ],
          "scattercarpet": [
           {
            "marker": {
             "colorbar": {
              "outlinewidth": 0,
              "ticks": ""
             }
            },
            "type": "scattercarpet"
           }
          ],
          "scattergeo": [
           {
            "marker": {
             "colorbar": {
              "outlinewidth": 0,
              "ticks": ""
             }
            },
            "type": "scattergeo"
           }
          ],
          "scattergl": [
           {
            "marker": {
             "colorbar": {
              "outlinewidth": 0,
              "ticks": ""
             }
            },
            "type": "scattergl"
           }
          ],
          "scattermap": [
           {
            "marker": {
             "colorbar": {
              "outlinewidth": 0,
              "ticks": ""
             }
            },
            "type": "scattermap"
           }
          ],
          "scattermapbox": [
           {
            "marker": {
             "colorbar": {
              "outlinewidth": 0,
              "ticks": ""
             }
            },
            "type": "scattermapbox"
           }
          ],
          "scatterpolar": [
           {
            "marker": {
             "colorbar": {
              "outlinewidth": 0,
              "ticks": ""
             }
            },
            "type": "scatterpolar"
           }
          ],
          "scatterpolargl": [
           {
            "marker": {
             "colorbar": {
              "outlinewidth": 0,
              "ticks": ""
             }
            },
            "type": "scatterpolargl"
           }
          ],
          "scatterternary": [
           {
            "marker": {
             "colorbar": {
              "outlinewidth": 0,
              "ticks": ""
             }
            },
            "type": "scatterternary"
           }
          ],
          "surface": [
           {
            "colorbar": {
             "outlinewidth": 0,
             "ticks": ""
            },
            "colorscale": [
             [
              0,
              "#0d0887"
             ],
             [
              0.1111111111111111,
              "#46039f"
             ],
             [
              0.2222222222222222,
              "#7201a8"
             ],
             [
              0.3333333333333333,
              "#9c179e"
             ],
             [
              0.4444444444444444,
              "#bd3786"
             ],
             [
              0.5555555555555556,
              "#d8576b"
             ],
             [
              0.6666666666666666,
              "#ed7953"
             ],
             [
              0.7777777777777778,
              "#fb9f3a"
             ],
             [
              0.8888888888888888,
              "#fdca26"
             ],
             [
              1,
              "#f0f921"
             ]
            ],
            "type": "surface"
           }
          ],
          "table": [
           {
            "cells": {
             "fill": {
              "color": "#EBF0F8"
             },
             "line": {
              "color": "white"
             }
            },
            "header": {
             "fill": {
              "color": "#C8D4E3"
             },
             "line": {
              "color": "white"
             }
            },
            "type": "table"
           }
          ]
         },
         "layout": {
          "annotationdefaults": {
           "arrowcolor": "#2a3f5f",
           "arrowhead": 0,
           "arrowwidth": 1
          },
          "autotypenumbers": "strict",
          "coloraxis": {
           "colorbar": {
            "outlinewidth": 0,
            "ticks": ""
           }
          },
          "colorscale": {
           "diverging": [
            [
             0,
             "#8e0152"
            ],
            [
             0.1,
             "#c51b7d"
            ],
            [
             0.2,
             "#de77ae"
            ],
            [
             0.3,
             "#f1b6da"
            ],
            [
             0.4,
             "#fde0ef"
            ],
            [
             0.5,
             "#f7f7f7"
            ],
            [
             0.6,
             "#e6f5d0"
            ],
            [
             0.7,
             "#b8e186"
            ],
            [
             0.8,
             "#7fbc41"
            ],
            [
             0.9,
             "#4d9221"
            ],
            [
             1,
             "#276419"
            ]
           ],
           "sequential": [
            [
             0,
             "#0d0887"
            ],
            [
             0.1111111111111111,
             "#46039f"
            ],
            [
             0.2222222222222222,
             "#7201a8"
            ],
            [
             0.3333333333333333,
             "#9c179e"
            ],
            [
             0.4444444444444444,
             "#bd3786"
            ],
            [
             0.5555555555555556,
             "#d8576b"
            ],
            [
             0.6666666666666666,
             "#ed7953"
            ],
            [
             0.7777777777777778,
             "#fb9f3a"
            ],
            [
             0.8888888888888888,
             "#fdca26"
            ],
            [
             1,
             "#f0f921"
            ]
           ],
           "sequentialminus": [
            [
             0,
             "#0d0887"
            ],
            [
             0.1111111111111111,
             "#46039f"
            ],
            [
             0.2222222222222222,
             "#7201a8"
            ],
            [
             0.3333333333333333,
             "#9c179e"
            ],
            [
             0.4444444444444444,
             "#bd3786"
            ],
            [
             0.5555555555555556,
             "#d8576b"
            ],
            [
             0.6666666666666666,
             "#ed7953"
            ],
            [
             0.7777777777777778,
             "#fb9f3a"
            ],
            [
             0.8888888888888888,
             "#fdca26"
            ],
            [
             1,
             "#f0f921"
            ]
           ]
          },
          "colorway": [
           "#636efa",
           "#EF553B",
           "#00cc96",
           "#ab63fa",
           "#FFA15A",
           "#19d3f3",
           "#FF6692",
           "#B6E880",
           "#FF97FF",
           "#FECB52"
          ],
          "font": {
           "color": "#2a3f5f"
          },
          "geo": {
           "bgcolor": "white",
           "lakecolor": "white",
           "landcolor": "#E5ECF6",
           "showlakes": true,
           "showland": true,
           "subunitcolor": "white"
          },
          "hoverlabel": {
           "align": "left"
          },
          "hovermode": "closest",
          "mapbox": {
           "style": "light"
          },
          "paper_bgcolor": "white",
          "plot_bgcolor": "#E5ECF6",
          "polar": {
           "angularaxis": {
            "gridcolor": "white",
            "linecolor": "white",
            "ticks": ""
           },
           "bgcolor": "#E5ECF6",
           "radialaxis": {
            "gridcolor": "white",
            "linecolor": "white",
            "ticks": ""
           }
          },
          "scene": {
           "xaxis": {
            "backgroundcolor": "#E5ECF6",
            "gridcolor": "white",
            "gridwidth": 2,
            "linecolor": "white",
            "showbackground": true,
            "ticks": "",
            "zerolinecolor": "white"
           },
           "yaxis": {
            "backgroundcolor": "#E5ECF6",
            "gridcolor": "white",
            "gridwidth": 2,
            "linecolor": "white",
            "showbackground": true,
            "ticks": "",
            "zerolinecolor": "white"
           },
           "zaxis": {
            "backgroundcolor": "#E5ECF6",
            "gridcolor": "white",
            "gridwidth": 2,
            "linecolor": "white",
            "showbackground": true,
            "ticks": "",
            "zerolinecolor": "white"
           }
          },
          "shapedefaults": {
           "line": {
            "color": "#2a3f5f"
           }
          },
          "ternary": {
           "aaxis": {
            "gridcolor": "white",
            "linecolor": "white",
            "ticks": ""
           },
           "baxis": {
            "gridcolor": "white",
            "linecolor": "white",
            "ticks": ""
           },
           "bgcolor": "#E5ECF6",
           "caxis": {
            "gridcolor": "white",
            "linecolor": "white",
            "ticks": ""
           }
          },
          "title": {
           "x": 0.05
          },
          "xaxis": {
           "automargin": true,
           "gridcolor": "white",
           "linecolor": "white",
           "ticks": "",
           "title": {
            "standoff": 15
           },
           "zerolinecolor": "white",
           "zerolinewidth": 2
          },
          "yaxis": {
           "automargin": true,
           "gridcolor": "white",
           "linecolor": "white",
           "ticks": "",
           "title": {
            "standoff": 15
           },
           "zerolinecolor": "white",
           "zerolinewidth": 2
          }
         }
        },
        "title": {
         "text": "🌍 Regional Trend — Made or received a digital payment (% age 15+)"
        },
        "xaxis": {
         "anchor": "y",
         "autorange": true,
         "domain": [
          0,
          1
         ],
         "range": [
          2010.3244021895707,
          2021.6755978104293
         ],
         "title": {
          "text": "Year"
         },
         "type": "linear"
        },
        "yaxis": {
         "anchor": "x",
         "autorange": true,
         "domain": [
          0,
          1
         ],
         "range": [
          7.148176144244107,
          102.40753814147017
         ],
         "title": {
          "text": "%"
         },
         "type": "linear"
        }
       }
      }
     },
     "metadata": {},
     "output_type": "display_data"
    }
   ],
   "source": [
    "green_palette_9 = [\n",
    "    \"#144d14\", \"#4c9c54\", \"#7ac943\", \"#53a318\",\n",
    "    \"#3d8910\", \"#2f6f0b\", \"#255d08\", \"#1a4505\", \"#113002\"\n",
    "]\n",
    "\n",
    "df[\"Indicator value\"] = df[\"Indicator value\"].astype(str).str.replace('%', '').astype(float)\n",
    "\n",
    "key_indicators = [\n",
    "    \"Account (% age 15+)\",\n",
    "    \"Financial institution account (% age 15+)\",\n",
    "    \"Mobile money account (% age 15+)\",\n",
    "    \"Made or received a digital payment (% age 15+)\"\n",
    "]\n",
    "\n",
    "df_filtered = df[\n",
    "    (df[\"Indicator\"].isin(key_indicators)) &\n",
    "    (df[\"Year\"].isin([2011, 2014, 2017, 2021]))\n",
    "].copy()\n",
    "\n",
    "for indicator in key_indicators:\n",
    "    print(f\"Plotting: {indicator}\")\n",
    "\n",
    "    df_ind = df_filtered[df_filtered[\"Indicator\"] == indicator]\n",
    "\n",
    "    # Global trend\n",
    "    global_avg = df_ind.groupby(\"Year\")[\"Indicator value\"].mean().reset_index()\n",
    "    rwanda = df_ind[df_ind[\"Country name\"] == \"Rwanda\"]\n",
    "\n",
    "    # Create the global line using the first green color\n",
    "    fig_global = px.line(global_avg, x=\"Year\", y=\"Indicator value\", markers=True,\n",
    "                         title=f\"🌍 Global Trend — {indicator}\",\n",
    "                         labels={\"Indicator value\": \"%\"},\n",
    "                         color_discrete_sequence=[green_palette_9[0]])  # Use first green color\n",
    "\n",
    "    if not rwanda.empty:\n",
    "        fig_global.add_scatter(\n",
    "            x=rwanda[\"Year\"], y=rwanda[\"Indicator value\"],\n",
    "            mode='lines+markers', name=\"Rwanda\",\n",
    "            line=dict(color='blue', width=4), marker=dict(size=10)\n",
    "        )\n",
    "\n",
    "    fig_global.show()\n",
    "\n",
    "    # Regional trend\n",
    "    region_avg = df_ind.groupby([\"Region\", \"Year\"])[\"Indicator value\"].mean().reset_index()\n",
    "\n",
    "    # Use green palette for regions, cycling colors if more regions than palette colors\n",
    "    region_names = region_avg[\"Region\"].unique()\n",
    "    color_map = {region: green_palette_9[i % len(green_palette_9)] for i, region in enumerate(region_names)}\n",
    "\n",
    "    fig_regional = px.line(region_avg, x=\"Year\", y=\"Indicator value\", color=\"Region\", markers=True,\n",
    "                           title=f\"🌍 Regional Trend — {indicator}\",\n",
    "                           labels={\"Indicator value\": \"%\"},\n",
    "                           color_discrete_map=color_map)  # Map regions to greens\n",
    "\n",
    "    if not rwanda.empty:\n",
    "        fig_regional.add_scatter(\n",
    "            x=rwanda[\"Year\"], y=rwanda[\"Indicator value\"],\n",
    "            mode='lines+markers', name=\"Rwanda\",\n",
    "            line=dict(color='blue', width=4, dash='dash'), marker=dict(size=6)\n",
    "        )\n",
    "\n",
    "    fig_regional.show()\n"
   ]
  },
  {
   "cell_type": "markdown",
   "id": "40f5bb24-e853-48cf-b60f-6bccc24b22ca",
   "metadata": {},
   "source": [
    "## How do demographics affect financial account ownership and digital financial service usage?\n",
    "\n",
    "### Key Points\n",
    "\n",
    "- Financial inclusion drives economic growth and poverty reduction.  \n",
    "- Access to affordable financial services improves individual and community well-being.  \n",
    "- Age, gender, education, and income significantly influence account ownership and digital service use.  \n",
    "- Understanding these factors helps shape effective inclusion policies.  \n",
    "- This study highlights demographic impacts and barriers to access, guiding targeted support for underserved groups.\n"
   ]
  },
  {
   "cell_type": "code",
   "execution_count": 12,
   "id": "055d19fd-fd06-445d-b50b-b50e7f58929d",
   "metadata": {},
   "outputs": [],
   "source": [
    "# Define keywords for Digital Financial Services\n",
    "dfs_keywords = [\n",
    "    \"mobile money\", \"digital payment\", \"internet\", \"online\", \"send money\",\n",
    "    \"receive money\", \"used a mobile phone\", \"used the internet\",\n",
    "    \"e-wallet\", \"used a mobile\", \"credit\", \"debit\"\n",
    "]\n",
    "\n",
    "# Function to assign types\n",
    "def assign_type(indicator):\n",
    "    if pd.isna(indicator):\n",
    "        return \"Other\"\n",
    "    indicator_lower = indicator.lower()\n",
    "    if \"account\" in indicator_lower:\n",
    "        return \"Account\"\n",
    "    if any(k in indicator_lower for k in dfs_keywords):\n",
    "        return \"Digital Financial Service Usage\"\n",
    "    return \"Other\"\n",
    "\n",
    "df[\"Type\"] = df[\"Indicator\"].apply(assign_type)\n",
    "\n",
    "account_df = df[df[\"Type\"] == \"Account\"].copy()\n",
    "dfs_df = df[df[\"Type\"] == \"Digital Financial Service Usage\"].copy()\n",
    "\n",
    "new_account = account_df.copy()\n",
    "new_dfs = dfs_df.copy()\n",
    "new_account[\"Indicator\"] = new_account[\"Indicator\"].str.replace(r\"\\s*\\(.*?\\)\", \"\", regex=True)\n",
    "new_dfs[\"Indicator\"] = new_dfs[\"Indicator\"].str.replace(r\"\\s*\\(.*?\\)\", \"\", regex=True)\n",
    "\n",
    "account_data = {\n",
    "    \"Age\": account_df[account_df[\"Indicator\"].str.contains(\"Age\", case=False, na=False)],\n",
    "    \"Gender\": new_account[new_account[\"Indicator\"].str.contains(\"female|male\", case=False, na=False)],\n",
    "    \"Education\": new_account[new_account[\"Indicator\"].str.contains(\"Education\", case=False, na=False)],\n",
    "    \"Income\": new_account[new_account[\"Indicator\"].str.contains(\"Income\", case=False, na=False)],\n",
    "}\n",
    "\n",
    "dfs_data = {\n",
    "    \"Age\": dfs_df[dfs_df[\"Indicator\"].str.contains(\"Age\", case=False, na=False)],\n",
    "    \"Gender\": new_dfs[new_dfs[\"Indicator\"].str.contains(\"female|male\", case=False, na=False)],\n",
    "    \"Education\": new_dfs[new_dfs[\"Indicator\"].str.contains(\"Education\", case=False, na=False)],\n",
    "    \"Income\": new_dfs[new_dfs[\"Indicator\"].str.contains(\"Income\", case=False, na=False)],\n",
    "}"
   ]
  },
  {
   "cell_type": "code",
   "execution_count": 13,
   "id": "58d845a7-fefa-4c7e-a9f0-236e25455b1c",
   "metadata": {},
   "outputs": [],
   "source": [
    "# Define demographic regex patterns\n",
    "age_pattern = r\"\\b(age[s]?\\s*\\d{2}(?:-\\d{2}|\\+)|young|older)\\b\"\n",
    "gender_pattern = r\"\\b(male|female)\\b\"\n",
    "education_pattern = r\"(primary education|secondary education|tertiary education|no formal education|less than primary)\"\n",
    "income_pattern = r\"(poorest\\s*\\d+%|richest\\s*\\d+%|middle\\s*\\d+%)\"\n",
    "\n",
    "# dfs keywords & assign_type function assumed to be already defined from your setup\n",
    "\n",
    "# Filter account and dfs data\n",
    "account_df = df[df[\"Type\"] == \"Account\"].copy()\n",
    "dfs_df = df[df[\"Type\"] == \"Digital Financial Service Usage\"].copy()\n",
    "\n",
    "# Exclude saving and borrowing indicators from account and dfs data\n",
    "saving_keywords = [\"save\", \"saved\"]\n",
    "borrowing_keywords = [\"borrow\", \"borrowing\", \"loan\", \"borrowed\"]\n",
    "\n",
    "def exclude_saving_borrowing(df_):\n",
    "    indicators_str = df_[\"Indicator\"].astype(str)  # Ensure strings\n",
    "    mask = ~indicators_str.str.contains('|'.join(saving_keywords + borrowing_keywords), case=False, na=False)\n",
    "    return df_[mask].copy()\n",
    "\n",
    "account_df = exclude_saving_borrowing(account_df)\n",
    "dfs_df = exclude_saving_borrowing(dfs_df)\n",
    "\n",
    "\n",
    "# Clean parentheses\n",
    "account_df[\"Indicator\"] = account_df[\"Indicator\"].str.replace(r\"\\s*\\(.*?\\)\", \"\", regex=True)\n",
    "dfs_df[\"Indicator\"] = dfs_df[\"Indicator\"].str.replace(r\"\\s*\\(.*?\\)\", \"\", regex=True)\n",
    "\n",
    "# Filter saving and borrowing data with demographic filtering\n",
    "def filter_saving(df_):\n",
    "    return df_[df_[\"Indicator\"].str.contains('|'.join(saving_keywords), case=False, na=False)]\n",
    "\n",
    "def filter_borrowing(df_):\n",
    "    return df_[df_[\"Indicator\"].str.contains('|'.join(borrowing_keywords), case=False, na=False)]\n",
    "\n",
    "saving_data = {\n",
    "    \"Gender\": filter_saving(df[df[\"Indicator\"].str.contains(gender_pattern, case=False, regex=True)]),\n",
    "    \"Education\": filter_saving(df[df[\"Indicator\"].str.contains(education_pattern, case=False, regex=True)]),\n",
    "}\n",
    "\n",
    "borrowing_data = {\n",
    "    \"Gender\": filter_borrowing(df[df[\"Indicator\"].str.contains(gender_pattern, case=False, regex=True)]),\n",
    "    \"Education\": filter_borrowing(df[df[\"Indicator\"].str.contains(education_pattern, case=False, regex=True)]),\n",
    "}\n",
    "\n",
    "# Clean parentheses for saving and borrowing data\n",
    "for group_dict in [saving_data, borrowing_data]:\n",
    "    for key in group_dict:\n",
    "        group_dict[key][\"Indicator\"] = group_dict[key][\"Indicator\"].str.replace(r\"\\s*\\(.*?\\)\", \"\", regex=True)\n"
   ]
  },
  {
   "cell_type": "markdown",
   "id": "0b5a63d8-31c9-4548-bccb-4ccd9c1ef13b",
   "metadata": {},
   "source": [
    "## Financial account ownership"
   ]
  },
  {
   "cell_type": "code",
   "execution_count": 15,
   "id": "cf0a6b22-ee2b-49d4-bb74-bcc55225a322",
   "metadata": {},
   "outputs": [],
   "source": [
    "# Prepare Financial Account Ownership by Gender data\n",
    "account_gender = account_df[account_df[\"Indicator\"].str.contains(gender_pattern, case=False, regex=True)].copy()\n",
    "account_gender[\"Indicator\"] = account_gender[\"Indicator\"].str.replace(r\"\\s*\\(.*?\\)\", \"\", regex=True)\n",
    "\n",
    "# Summarize mean values by indicator\n",
    "account_gender_summary = (\n",
    "    account_gender.groupby(\"Indicator\")[\"Indicator value\"]\n",
    "    .mean()\n",
    "    .reset_index()\n",
    "    .sort_values(by=\"Indicator value\", ascending=True)\n",
    "    .head(20)\n",
    ")\n"
   ]
  },
  {
   "cell_type": "code",
   "execution_count": 16,
   "id": "65e05b4b-7994-4021-89e8-cff56a4272df",
   "metadata": {},
   "outputs": [
    {
     "data": {
      "application/vnd.plotly.v1+json": {
       "config": {
        "plotlyServerURL": "https://plot.ly"
       },
       "data": [
        {
         "hovertemplate": "Average %=%{x}<br>Financial Account Ownership Indicator=%{y}<extra></extra>",
         "legendgroup": "",
         "marker": {
          "color": "#276749",
          "pattern": {
           "shape": ""
          }
         },
         "name": "",
         "orientation": "h",
         "showlegend": false,
         "textposition": "auto",
         "type": "bar",
         "x": {
          "_inputArray": {
           "0": 3.252267002518892,
           "1": 3.4259193954659946,
           "2": 13.089730941704037,
           "3": 17.169282511210763,
           "4": 23.400638297872337,
           "5": 28.08595744680851,
           "6": 52.177137681159415,
           "7": 54.55206521739131,
           "8": 57.729166666666664,
           "9": 60.42617753623188,
           "bdata": "wW3tj6QECkB8EZJtSGgLQMIdyDbxLSpAW29BGVYrMUAF40I7kGY3QOXjpk4BFjxAB7yRcqwWSkA3+rISqkZLQFVVVVVV3UxA8TNK/Iw2TkA=",
           "dtype": "f8",
           "shape": "10"
          },
          "bdata": "wW3tj6QECkB8EZJtSGgLQMIdyDbxLSpAW29BGVYrMUAF40I7kGY3QOXjpk4BFjxAB7yRcqwWSkA3+rISqkZLQFVVVVVV3UxA8TNK/Iw2TkA=",
          "dtype": "f8"
         },
         "xaxis": "x",
         "y": [
          "Has an inactive account, male",
          "Has an inactive account, female",
          "Mobile money account, female",
          "Mobile money account, male",
          "Used a mobile phone or the internet to access an account, female",
          "Used a mobile phone or the internet to access an account, male",
          "Financial institution account, female",
          "Account, female",
          "Financial institution account, male",
          "Account, male"
         ],
         "yaxis": "y"
        }
       ],
       "layout": {
        "barmode": "relative",
        "height": 360,
        "legend": {
         "tracegroupgap": 0
        },
        "margin": {
         "t": 60
        },
        "template": {
         "data": {
          "bar": [
           {
            "error_x": {
             "color": "#2a3f5f"
            },
            "error_y": {
             "color": "#2a3f5f"
            },
            "marker": {
             "line": {
              "color": "#E5ECF6",
              "width": 0.5
             },
             "pattern": {
              "fillmode": "overlay",
              "size": 10,
              "solidity": 0.2
             }
            },
            "type": "bar"
           }
          ],
          "barpolar": [
           {
            "marker": {
             "line": {
              "color": "#E5ECF6",
              "width": 0.5
             },
             "pattern": {
              "fillmode": "overlay",
              "size": 10,
              "solidity": 0.2
             }
            },
            "type": "barpolar"
           }
          ],
          "carpet": [
           {
            "aaxis": {
             "endlinecolor": "#2a3f5f",
             "gridcolor": "white",
             "linecolor": "white",
             "minorgridcolor": "white",
             "startlinecolor": "#2a3f5f"
            },
            "baxis": {
             "endlinecolor": "#2a3f5f",
             "gridcolor": "white",
             "linecolor": "white",
             "minorgridcolor": "white",
             "startlinecolor": "#2a3f5f"
            },
            "type": "carpet"
           }
          ],
          "choropleth": [
           {
            "colorbar": {
             "outlinewidth": 0,
             "ticks": ""
            },
            "type": "choropleth"
           }
          ],
          "contour": [
           {
            "colorbar": {
             "outlinewidth": 0,
             "ticks": ""
            },
            "colorscale": [
             [
              0,
              "#0d0887"
             ],
             [
              0.1111111111111111,
              "#46039f"
             ],
             [
              0.2222222222222222,
              "#7201a8"
             ],
             [
              0.3333333333333333,
              "#9c179e"
             ],
             [
              0.4444444444444444,
              "#bd3786"
             ],
             [
              0.5555555555555556,
              "#d8576b"
             ],
             [
              0.6666666666666666,
              "#ed7953"
             ],
             [
              0.7777777777777778,
              "#fb9f3a"
             ],
             [
              0.8888888888888888,
              "#fdca26"
             ],
             [
              1,
              "#f0f921"
             ]
            ],
            "type": "contour"
           }
          ],
          "contourcarpet": [
           {
            "colorbar": {
             "outlinewidth": 0,
             "ticks": ""
            },
            "type": "contourcarpet"
           }
          ],
          "heatmap": [
           {
            "colorbar": {
             "outlinewidth": 0,
             "ticks": ""
            },
            "colorscale": [
             [
              0,
              "#0d0887"
             ],
             [
              0.1111111111111111,
              "#46039f"
             ],
             [
              0.2222222222222222,
              "#7201a8"
             ],
             [
              0.3333333333333333,
              "#9c179e"
             ],
             [
              0.4444444444444444,
              "#bd3786"
             ],
             [
              0.5555555555555556,
              "#d8576b"
             ],
             [
              0.6666666666666666,
              "#ed7953"
             ],
             [
              0.7777777777777778,
              "#fb9f3a"
             ],
             [
              0.8888888888888888,
              "#fdca26"
             ],
             [
              1,
              "#f0f921"
             ]
            ],
            "type": "heatmap"
           }
          ],
          "histogram": [
           {
            "marker": {
             "pattern": {
              "fillmode": "overlay",
              "size": 10,
              "solidity": 0.2
             }
            },
            "type": "histogram"
           }
          ],
          "histogram2d": [
           {
            "colorbar": {
             "outlinewidth": 0,
             "ticks": ""
            },
            "colorscale": [
             [
              0,
              "#0d0887"
             ],
             [
              0.1111111111111111,
              "#46039f"
             ],
             [
              0.2222222222222222,
              "#7201a8"
             ],
             [
              0.3333333333333333,
              "#9c179e"
             ],
             [
              0.4444444444444444,
              "#bd3786"
             ],
             [
              0.5555555555555556,
              "#d8576b"
             ],
             [
              0.6666666666666666,
              "#ed7953"
             ],
             [
              0.7777777777777778,
              "#fb9f3a"
             ],
             [
              0.8888888888888888,
              "#fdca26"
             ],
             [
              1,
              "#f0f921"
             ]
            ],
            "type": "histogram2d"
           }
          ],
          "histogram2dcontour": [
           {
            "colorbar": {
             "outlinewidth": 0,
             "ticks": ""
            },
            "colorscale": [
             [
              0,
              "#0d0887"
             ],
             [
              0.1111111111111111,
              "#46039f"
             ],
             [
              0.2222222222222222,
              "#7201a8"
             ],
             [
              0.3333333333333333,
              "#9c179e"
             ],
             [
              0.4444444444444444,
              "#bd3786"
             ],
             [
              0.5555555555555556,
              "#d8576b"
             ],
             [
              0.6666666666666666,
              "#ed7953"
             ],
             [
              0.7777777777777778,
              "#fb9f3a"
             ],
             [
              0.8888888888888888,
              "#fdca26"
             ],
             [
              1,
              "#f0f921"
             ]
            ],
            "type": "histogram2dcontour"
           }
          ],
          "mesh3d": [
           {
            "colorbar": {
             "outlinewidth": 0,
             "ticks": ""
            },
            "type": "mesh3d"
           }
          ],
          "parcoords": [
           {
            "line": {
             "colorbar": {
              "outlinewidth": 0,
              "ticks": ""
             }
            },
            "type": "parcoords"
           }
          ],
          "pie": [
           {
            "automargin": true,
            "type": "pie"
           }
          ],
          "scatter": [
           {
            "fillpattern": {
             "fillmode": "overlay",
             "size": 10,
             "solidity": 0.2
            },
            "type": "scatter"
           }
          ],
          "scatter3d": [
           {
            "line": {
             "colorbar": {
              "outlinewidth": 0,
              "ticks": ""
             }
            },
            "marker": {
             "colorbar": {
              "outlinewidth": 0,
              "ticks": ""
             }
            },
            "type": "scatter3d"
           }
          ],
          "scattercarpet": [
           {
            "marker": {
             "colorbar": {
              "outlinewidth": 0,
              "ticks": ""
             }
            },
            "type": "scattercarpet"
           }
          ],
          "scattergeo": [
           {
            "marker": {
             "colorbar": {
              "outlinewidth": 0,
              "ticks": ""
             }
            },
            "type": "scattergeo"
           }
          ],
          "scattergl": [
           {
            "marker": {
             "colorbar": {
              "outlinewidth": 0,
              "ticks": ""
             }
            },
            "type": "scattergl"
           }
          ],
          "scattermap": [
           {
            "marker": {
             "colorbar": {
              "outlinewidth": 0,
              "ticks": ""
             }
            },
            "type": "scattermap"
           }
          ],
          "scattermapbox": [
           {
            "marker": {
             "colorbar": {
              "outlinewidth": 0,
              "ticks": ""
             }
            },
            "type": "scattermapbox"
           }
          ],
          "scatterpolar": [
           {
            "marker": {
             "colorbar": {
              "outlinewidth": 0,
              "ticks": ""
             }
            },
            "type": "scatterpolar"
           }
          ],
          "scatterpolargl": [
           {
            "marker": {
             "colorbar": {
              "outlinewidth": 0,
              "ticks": ""
             }
            },
            "type": "scatterpolargl"
           }
          ],
          "scatterternary": [
           {
            "marker": {
             "colorbar": {
              "outlinewidth": 0,
              "ticks": ""
             }
            },
            "type": "scatterternary"
           }
          ],
          "surface": [
           {
            "colorbar": {
             "outlinewidth": 0,
             "ticks": ""
            },
            "colorscale": [
             [
              0,
              "#0d0887"
             ],
             [
              0.1111111111111111,
              "#46039f"
             ],
             [
              0.2222222222222222,
              "#7201a8"
             ],
             [
              0.3333333333333333,
              "#9c179e"
             ],
             [
              0.4444444444444444,
              "#bd3786"
             ],
             [
              0.5555555555555556,
              "#d8576b"
             ],
             [
              0.6666666666666666,
              "#ed7953"
             ],
             [
              0.7777777777777778,
              "#fb9f3a"
             ],
             [
              0.8888888888888888,
              "#fdca26"
             ],
             [
              1,
              "#f0f921"
             ]
            ],
            "type": "surface"
           }
          ],
          "table": [
           {
            "cells": {
             "fill": {
              "color": "#EBF0F8"
             },
             "line": {
              "color": "white"
             }
            },
            "header": {
             "fill": {
              "color": "#C8D4E3"
             },
             "line": {
              "color": "white"
             }
            },
            "type": "table"
           }
          ]
         },
         "layout": {
          "annotationdefaults": {
           "arrowcolor": "#2a3f5f",
           "arrowhead": 0,
           "arrowwidth": 1
          },
          "autotypenumbers": "strict",
          "coloraxis": {
           "colorbar": {
            "outlinewidth": 0,
            "ticks": ""
           }
          },
          "colorscale": {
           "diverging": [
            [
             0,
             "#8e0152"
            ],
            [
             0.1,
             "#c51b7d"
            ],
            [
             0.2,
             "#de77ae"
            ],
            [
             0.3,
             "#f1b6da"
            ],
            [
             0.4,
             "#fde0ef"
            ],
            [
             0.5,
             "#f7f7f7"
            ],
            [
             0.6,
             "#e6f5d0"
            ],
            [
             0.7,
             "#b8e186"
            ],
            [
             0.8,
             "#7fbc41"
            ],
            [
             0.9,
             "#4d9221"
            ],
            [
             1,
             "#276419"
            ]
           ],
           "sequential": [
            [
             0,
             "#0d0887"
            ],
            [
             0.1111111111111111,
             "#46039f"
            ],
            [
             0.2222222222222222,
             "#7201a8"
            ],
            [
             0.3333333333333333,
             "#9c179e"
            ],
            [
             0.4444444444444444,
             "#bd3786"
            ],
            [
             0.5555555555555556,
             "#d8576b"
            ],
            [
             0.6666666666666666,
             "#ed7953"
            ],
            [
             0.7777777777777778,
             "#fb9f3a"
            ],
            [
             0.8888888888888888,
             "#fdca26"
            ],
            [
             1,
             "#f0f921"
            ]
           ],
           "sequentialminus": [
            [
             0,
             "#0d0887"
            ],
            [
             0.1111111111111111,
             "#46039f"
            ],
            [
             0.2222222222222222,
             "#7201a8"
            ],
            [
             0.3333333333333333,
             "#9c179e"
            ],
            [
             0.4444444444444444,
             "#bd3786"
            ],
            [
             0.5555555555555556,
             "#d8576b"
            ],
            [
             0.6666666666666666,
             "#ed7953"
            ],
            [
             0.7777777777777778,
             "#fb9f3a"
            ],
            [
             0.8888888888888888,
             "#fdca26"
            ],
            [
             1,
             "#f0f921"
            ]
           ]
          },
          "colorway": [
           "#636efa",
           "#EF553B",
           "#00cc96",
           "#ab63fa",
           "#FFA15A",
           "#19d3f3",
           "#FF6692",
           "#B6E880",
           "#FF97FF",
           "#FECB52"
          ],
          "font": {
           "color": "#2a3f5f"
          },
          "geo": {
           "bgcolor": "white",
           "lakecolor": "white",
           "landcolor": "#E5ECF6",
           "showlakes": true,
           "showland": true,
           "subunitcolor": "white"
          },
          "hoverlabel": {
           "align": "left"
          },
          "hovermode": "closest",
          "mapbox": {
           "style": "light"
          },
          "paper_bgcolor": "white",
          "plot_bgcolor": "#E5ECF6",
          "polar": {
           "angularaxis": {
            "gridcolor": "white",
            "linecolor": "white",
            "ticks": ""
           },
           "bgcolor": "#E5ECF6",
           "radialaxis": {
            "gridcolor": "white",
            "linecolor": "white",
            "ticks": ""
           }
          },
          "scene": {
           "xaxis": {
            "backgroundcolor": "#E5ECF6",
            "gridcolor": "white",
            "gridwidth": 2,
            "linecolor": "white",
            "showbackground": true,
            "ticks": "",
            "zerolinecolor": "white"
           },
           "yaxis": {
            "backgroundcolor": "#E5ECF6",
            "gridcolor": "white",
            "gridwidth": 2,
            "linecolor": "white",
            "showbackground": true,
            "ticks": "",
            "zerolinecolor": "white"
           },
           "zaxis": {
            "backgroundcolor": "#E5ECF6",
            "gridcolor": "white",
            "gridwidth": 2,
            "linecolor": "white",
            "showbackground": true,
            "ticks": "",
            "zerolinecolor": "white"
           }
          },
          "shapedefaults": {
           "line": {
            "color": "#2a3f5f"
           }
          },
          "ternary": {
           "aaxis": {
            "gridcolor": "white",
            "linecolor": "white",
            "ticks": ""
           },
           "baxis": {
            "gridcolor": "white",
            "linecolor": "white",
            "ticks": ""
           },
           "bgcolor": "#E5ECF6",
           "caxis": {
            "gridcolor": "white",
            "linecolor": "white",
            "ticks": ""
           }
          },
          "title": {
           "x": 0.05
          },
          "xaxis": {
           "automargin": true,
           "gridcolor": "white",
           "linecolor": "white",
           "ticks": "",
           "title": {
            "standoff": 15
           },
           "zerolinecolor": "white",
           "zerolinewidth": 2
          },
          "yaxis": {
           "automargin": true,
           "gridcolor": "white",
           "linecolor": "white",
           "ticks": "",
           "title": {
            "standoff": 15
           },
           "zerolinecolor": "white",
           "zerolinewidth": 2
          }
         }
        },
        "title": {
         "font": {
          "color": "#144d14",
          "family": "Lato, sans-serif",
          "size": 20,
          "weight": "bold"
         },
         "text": "Financial Account Ownership by Gender",
         "x": 0.5
        },
        "xaxis": {
         "anchor": "y",
         "autorange": true,
         "domain": [
          0,
          1
         ],
         "range": [
          0,
          63.60650266971777
         ],
         "title": {
          "text": "Average %"
         },
         "type": "linear"
        },
        "yaxis": {
         "anchor": "x",
         "autorange": true,
         "domain": [
          0,
          1
         ],
         "range": [
          -0.5,
          9.5
         ],
         "title": {
          "text": "Financial Account Ownership Indicator"
         },
         "type": "category"
        }
       }
      }
     },
     "metadata": {},
     "output_type": "display_data"
    }
   ],
   "source": [
    "import plotly.express as px\n",
    "\n",
    "fig_account_gender = px.bar(\n",
    "    account_gender_summary,\n",
    "    x=\"Indicator value\",\n",
    "    y=\"Indicator\",\n",
    "    orientation=\"h\",\n",
    "    color_discrete_sequence=[\"#276749\"],\n",
    "    labels={\"Indicator value\": \"Average %\", \"Indicator\": \"Financial Account Ownership Indicator\"}\n",
    ")\n",
    "fig_account_gender.update_layout(\n",
    "    title=\"Financial Account Ownership by Gender\",\n",
    "    title_x=0.5,\n",
    "    title_font=dict(size=20, family='Lato, sans-serif', color='#144d14', weight='bold')\n",
    ")\n",
    "fig_account_gender.show()\n"
   ]
  },
  {
   "cell_type": "markdown",
   "id": "e5869a25-c477-418c-9a64-49b4de15036f",
   "metadata": {},
   "source": [
    "**Traditional Accounts**  \n",
    "Men are more likely to have a traditional account with a financial institution, suggesting a gender gap in formal banking.\n",
    "\n",
    "**Overall Accounts**  \n",
    "However, the total number of accounts held is fairly similar between men and women, indicating that other types of accounts (like mobile money) are balancing the disparity in formal banking.\n",
    "\n",
    "**Digital Access**  \n",
    "Men show a slightly higher rate of using digital tools (mobile phone or internet) to access an account, but the difference is not as pronounced as in other areas, suggesting that digital access is a critical area for both genders.\n",
    "\n",
    "**Inactive Accounts**  \n",
    "The data shows that a slightly higher percentage of women have inactive accounts compared to men, which may point to challenges in sustained engagement with financial services.\n"
   ]
  },
  {
   "cell_type": "code",
   "execution_count": 18,
   "id": "f614134d-ef5d-498b-baa1-5c05ab387e0f",
   "metadata": {},
   "outputs": [],
   "source": [
    "# Prepare Financial Account Ownership by Education data\n",
    "account_education = account_df[account_df[\"Indicator\"].str.contains(education_pattern, case=False, regex=True)].copy()\n",
    "account_education[\"Indicator\"] = account_education[\"Indicator\"].str.replace(r\"\\s*\\(.*?\\)\", \"\", regex=True)\n",
    "\n",
    "account_education_summary = (\n",
    "    account_education.groupby(\"Indicator\")[\"Indicator value\"]\n",
    "    .mean()\n",
    "    .reset_index()\n",
    "    .sort_values(by=\"Indicator value\", ascending=True)\n",
    "    .head(20)\n",
    ")\n"
   ]
  },
  {
   "cell_type": "code",
   "execution_count": 19,
   "id": "aa1f1aaf-f807-4570-8673-7185d64ce503",
   "metadata": {},
   "outputs": [
    {
     "data": {
      "application/vnd.plotly.v1+json": {
       "config": {
        "plotlyServerURL": "https://plot.ly"
       },
       "data": [
        {
         "hovertemplate": "Average %=%{x}<br>Financial Account Ownership Indicator=%{y}<extra></extra>",
         "legendgroup": "",
         "marker": {
          "color": "#276749",
          "pattern": {
           "shape": ""
          }
         },
         "name": "",
         "orientation": "h",
         "showlegend": false,
         "textposition": "auto",
         "type": "bar",
         "x": {
          "_inputArray": {
           "0": 2.9743324937027706,
           "1": 4.257581863979849,
           "2": 10.07237668161435,
           "3": 12.793617021276596,
           "4": 21.195874439461885,
           "5": 31.997659574468084,
           "6": 44.83638838475499,
           "7": 47.090453720508165,
           "8": 62.19284936479129,
           "9": 65.3286388384755,
           "bdata": "dhGf1W7LB0A9WEeKwwcRQKMNcY4OJSRAJN1f+FSWKUBznMfTJDI1QLfhLJ5m/z9Ac6NLxg5rRkAqsc38k4tHQJ9quUmvGE9Ap9wxawhVUEA=",
           "dtype": "f8",
           "shape": "10"
          },
          "bdata": "dhGf1W7LB0A9WEeKwwcRQKMNcY4OJSRAJN1f+FSWKUBznMfTJDI1QLfhLJ5m/z9Ac6NLxg5rRkAqsc38k4tHQJ9quUmvGE9Ap9wxawhVUEA=",
          "dtype": "f8"
         },
         "xaxis": "x",
         "y": [
          "Has an inactive account, secondary education or more",
          "Has an inactive account, primary education or less",
          "Mobile money account, primary education or less",
          "Used a mobile phone or the internet to access an account, primary education or less",
          "Mobile money account, secondary education or more",
          "Used a mobile phone or the internet to access an account, secondary education or more",
          "Financial institution account, primary education or less",
          "Account, primary education or less",
          "Financial institution account, secondary education or more",
          "Account, secondary education or more"
         ],
         "yaxis": "y"
        }
       ],
       "layout": {
        "barmode": "relative",
        "height": 360,
        "legend": {
         "tracegroupgap": 0
        },
        "margin": {
         "t": 60
        },
        "template": {
         "data": {
          "bar": [
           {
            "error_x": {
             "color": "#2a3f5f"
            },
            "error_y": {
             "color": "#2a3f5f"
            },
            "marker": {
             "line": {
              "color": "#E5ECF6",
              "width": 0.5
             },
             "pattern": {
              "fillmode": "overlay",
              "size": 10,
              "solidity": 0.2
             }
            },
            "type": "bar"
           }
          ],
          "barpolar": [
           {
            "marker": {
             "line": {
              "color": "#E5ECF6",
              "width": 0.5
             },
             "pattern": {
              "fillmode": "overlay",
              "size": 10,
              "solidity": 0.2
             }
            },
            "type": "barpolar"
           }
          ],
          "carpet": [
           {
            "aaxis": {
             "endlinecolor": "#2a3f5f",
             "gridcolor": "white",
             "linecolor": "white",
             "minorgridcolor": "white",
             "startlinecolor": "#2a3f5f"
            },
            "baxis": {
             "endlinecolor": "#2a3f5f",
             "gridcolor": "white",
             "linecolor": "white",
             "minorgridcolor": "white",
             "startlinecolor": "#2a3f5f"
            },
            "type": "carpet"
           }
          ],
          "choropleth": [
           {
            "colorbar": {
             "outlinewidth": 0,
             "ticks": ""
            },
            "type": "choropleth"
           }
          ],
          "contour": [
           {
            "colorbar": {
             "outlinewidth": 0,
             "ticks": ""
            },
            "colorscale": [
             [
              0,
              "#0d0887"
             ],
             [
              0.1111111111111111,
              "#46039f"
             ],
             [
              0.2222222222222222,
              "#7201a8"
             ],
             [
              0.3333333333333333,
              "#9c179e"
             ],
             [
              0.4444444444444444,
              "#bd3786"
             ],
             [
              0.5555555555555556,
              "#d8576b"
             ],
             [
              0.6666666666666666,
              "#ed7953"
             ],
             [
              0.7777777777777778,
              "#fb9f3a"
             ],
             [
              0.8888888888888888,
              "#fdca26"
             ],
             [
              1,
              "#f0f921"
             ]
            ],
            "type": "contour"
           }
          ],
          "contourcarpet": [
           {
            "colorbar": {
             "outlinewidth": 0,
             "ticks": ""
            },
            "type": "contourcarpet"
           }
          ],
          "heatmap": [
           {
            "colorbar": {
             "outlinewidth": 0,
             "ticks": ""
            },
            "colorscale": [
             [
              0,
              "#0d0887"
             ],
             [
              0.1111111111111111,
              "#46039f"
             ],
             [
              0.2222222222222222,
              "#7201a8"
             ],
             [
              0.3333333333333333,
              "#9c179e"
             ],
             [
              0.4444444444444444,
              "#bd3786"
             ],
             [
              0.5555555555555556,
              "#d8576b"
             ],
             [
              0.6666666666666666,
              "#ed7953"
             ],
             [
              0.7777777777777778,
              "#fb9f3a"
             ],
             [
              0.8888888888888888,
              "#fdca26"
             ],
             [
              1,
              "#f0f921"
             ]
            ],
            "type": "heatmap"
           }
          ],
          "histogram": [
           {
            "marker": {
             "pattern": {
              "fillmode": "overlay",
              "size": 10,
              "solidity": 0.2
             }
            },
            "type": "histogram"
           }
          ],
          "histogram2d": [
           {
            "colorbar": {
             "outlinewidth": 0,
             "ticks": ""
            },
            "colorscale": [
             [
              0,
              "#0d0887"
             ],
             [
              0.1111111111111111,
              "#46039f"
             ],
             [
              0.2222222222222222,
              "#7201a8"
             ],
             [
              0.3333333333333333,
              "#9c179e"
             ],
             [
              0.4444444444444444,
              "#bd3786"
             ],
             [
              0.5555555555555556,
              "#d8576b"
             ],
             [
              0.6666666666666666,
              "#ed7953"
             ],
             [
              0.7777777777777778,
              "#fb9f3a"
             ],
             [
              0.8888888888888888,
              "#fdca26"
             ],
             [
              1,
              "#f0f921"
             ]
            ],
            "type": "histogram2d"
           }
          ],
          "histogram2dcontour": [
           {
            "colorbar": {
             "outlinewidth": 0,
             "ticks": ""
            },
            "colorscale": [
             [
              0,
              "#0d0887"
             ],
             [
              0.1111111111111111,
              "#46039f"
             ],
             [
              0.2222222222222222,
              "#7201a8"
             ],
             [
              0.3333333333333333,
              "#9c179e"
             ],
             [
              0.4444444444444444,
              "#bd3786"
             ],
             [
              0.5555555555555556,
              "#d8576b"
             ],
             [
              0.6666666666666666,
              "#ed7953"
             ],
             [
              0.7777777777777778,
              "#fb9f3a"
             ],
             [
              0.8888888888888888,
              "#fdca26"
             ],
             [
              1,
              "#f0f921"
             ]
            ],
            "type": "histogram2dcontour"
           }
          ],
          "mesh3d": [
           {
            "colorbar": {
             "outlinewidth": 0,
             "ticks": ""
            },
            "type": "mesh3d"
           }
          ],
          "parcoords": [
           {
            "line": {
             "colorbar": {
              "outlinewidth": 0,
              "ticks": ""
             }
            },
            "type": "parcoords"
           }
          ],
          "pie": [
           {
            "automargin": true,
            "type": "pie"
           }
          ],
          "scatter": [
           {
            "fillpattern": {
             "fillmode": "overlay",
             "size": 10,
             "solidity": 0.2
            },
            "type": "scatter"
           }
          ],
          "scatter3d": [
           {
            "line": {
             "colorbar": {
              "outlinewidth": 0,
              "ticks": ""
             }
            },
            "marker": {
             "colorbar": {
              "outlinewidth": 0,
              "ticks": ""
             }
            },
            "type": "scatter3d"
           }
          ],
          "scattercarpet": [
           {
            "marker": {
             "colorbar": {
              "outlinewidth": 0,
              "ticks": ""
             }
            },
            "type": "scattercarpet"
           }
          ],
          "scattergeo": [
           {
            "marker": {
             "colorbar": {
              "outlinewidth": 0,
              "ticks": ""
             }
            },
            "type": "scattergeo"
           }
          ],
          "scattergl": [
           {
            "marker": {
             "colorbar": {
              "outlinewidth": 0,
              "ticks": ""
             }
            },
            "type": "scattergl"
           }
          ],
          "scattermap": [
           {
            "marker": {
             "colorbar": {
              "outlinewidth": 0,
              "ticks": ""
             }
            },
            "type": "scattermap"
           }
          ],
          "scattermapbox": [
           {
            "marker": {
             "colorbar": {
              "outlinewidth": 0,
              "ticks": ""
             }
            },
            "type": "scattermapbox"
           }
          ],
          "scatterpolar": [
           {
            "marker": {
             "colorbar": {
              "outlinewidth": 0,
              "ticks": ""
             }
            },
            "type": "scatterpolar"
           }
          ],
          "scatterpolargl": [
           {
            "marker": {
             "colorbar": {
              "outlinewidth": 0,
              "ticks": ""
             }
            },
            "type": "scatterpolargl"
           }
          ],
          "scatterternary": [
           {
            "marker": {
             "colorbar": {
              "outlinewidth": 0,
              "ticks": ""
             }
            },
            "type": "scatterternary"
           }
          ],
          "surface": [
           {
            "colorbar": {
             "outlinewidth": 0,
             "ticks": ""
            },
            "colorscale": [
             [
              0,
              "#0d0887"
             ],
             [
              0.1111111111111111,
              "#46039f"
             ],
             [
              0.2222222222222222,
              "#7201a8"
             ],
             [
              0.3333333333333333,
              "#9c179e"
             ],
             [
              0.4444444444444444,
              "#bd3786"
             ],
             [
              0.5555555555555556,
              "#d8576b"
             ],
             [
              0.6666666666666666,
              "#ed7953"
             ],
             [
              0.7777777777777778,
              "#fb9f3a"
             ],
             [
              0.8888888888888888,
              "#fdca26"
             ],
             [
              1,
              "#f0f921"
             ]
            ],
            "type": "surface"
           }
          ],
          "table": [
           {
            "cells": {
             "fill": {
              "color": "#EBF0F8"
             },
             "line": {
              "color": "white"
             }
            },
            "header": {
             "fill": {
              "color": "#C8D4E3"
             },
             "line": {
              "color": "white"
             }
            },
            "type": "table"
           }
          ]
         },
         "layout": {
          "annotationdefaults": {
           "arrowcolor": "#2a3f5f",
           "arrowhead": 0,
           "arrowwidth": 1
          },
          "autotypenumbers": "strict",
          "coloraxis": {
           "colorbar": {
            "outlinewidth": 0,
            "ticks": ""
           }
          },
          "colorscale": {
           "diverging": [
            [
             0,
             "#8e0152"
            ],
            [
             0.1,
             "#c51b7d"
            ],
            [
             0.2,
             "#de77ae"
            ],
            [
             0.3,
             "#f1b6da"
            ],
            [
             0.4,
             "#fde0ef"
            ],
            [
             0.5,
             "#f7f7f7"
            ],
            [
             0.6,
             "#e6f5d0"
            ],
            [
             0.7,
             "#b8e186"
            ],
            [
             0.8,
             "#7fbc41"
            ],
            [
             0.9,
             "#4d9221"
            ],
            [
             1,
             "#276419"
            ]
           ],
           "sequential": [
            [
             0,
             "#0d0887"
            ],
            [
             0.1111111111111111,
             "#46039f"
            ],
            [
             0.2222222222222222,
             "#7201a8"
            ],
            [
             0.3333333333333333,
             "#9c179e"
            ],
            [
             0.4444444444444444,
             "#bd3786"
            ],
            [
             0.5555555555555556,
             "#d8576b"
            ],
            [
             0.6666666666666666,
             "#ed7953"
            ],
            [
             0.7777777777777778,
             "#fb9f3a"
            ],
            [
             0.8888888888888888,
             "#fdca26"
            ],
            [
             1,
             "#f0f921"
            ]
           ],
           "sequentialminus": [
            [
             0,
             "#0d0887"
            ],
            [
             0.1111111111111111,
             "#46039f"
            ],
            [
             0.2222222222222222,
             "#7201a8"
            ],
            [
             0.3333333333333333,
             "#9c179e"
            ],
            [
             0.4444444444444444,
             "#bd3786"
            ],
            [
             0.5555555555555556,
             "#d8576b"
            ],
            [
             0.6666666666666666,
             "#ed7953"
            ],
            [
             0.7777777777777778,
             "#fb9f3a"
            ],
            [
             0.8888888888888888,
             "#fdca26"
            ],
            [
             1,
             "#f0f921"
            ]
           ]
          },
          "colorway": [
           "#636efa",
           "#EF553B",
           "#00cc96",
           "#ab63fa",
           "#FFA15A",
           "#19d3f3",
           "#FF6692",
           "#B6E880",
           "#FF97FF",
           "#FECB52"
          ],
          "font": {
           "color": "#2a3f5f"
          },
          "geo": {
           "bgcolor": "white",
           "lakecolor": "white",
           "landcolor": "#E5ECF6",
           "showlakes": true,
           "showland": true,
           "subunitcolor": "white"
          },
          "hoverlabel": {
           "align": "left"
          },
          "hovermode": "closest",
          "mapbox": {
           "style": "light"
          },
          "paper_bgcolor": "white",
          "plot_bgcolor": "#E5ECF6",
          "polar": {
           "angularaxis": {
            "gridcolor": "white",
            "linecolor": "white",
            "ticks": ""
           },
           "bgcolor": "#E5ECF6",
           "radialaxis": {
            "gridcolor": "white",
            "linecolor": "white",
            "ticks": ""
           }
          },
          "scene": {
           "xaxis": {
            "backgroundcolor": "#E5ECF6",
            "gridcolor": "white",
            "gridwidth": 2,
            "linecolor": "white",
            "showbackground": true,
            "ticks": "",
            "zerolinecolor": "white"
           },
           "yaxis": {
            "backgroundcolor": "#E5ECF6",
            "gridcolor": "white",
            "gridwidth": 2,
            "linecolor": "white",
            "showbackground": true,
            "ticks": "",
            "zerolinecolor": "white"
           },
           "zaxis": {
            "backgroundcolor": "#E5ECF6",
            "gridcolor": "white",
            "gridwidth": 2,
            "linecolor": "white",
            "showbackground": true,
            "ticks": "",
            "zerolinecolor": "white"
           }
          },
          "shapedefaults": {
           "line": {
            "color": "#2a3f5f"
           }
          },
          "ternary": {
           "aaxis": {
            "gridcolor": "white",
            "linecolor": "white",
            "ticks": ""
           },
           "baxis": {
            "gridcolor": "white",
            "linecolor": "white",
            "ticks": ""
           },
           "bgcolor": "#E5ECF6",
           "caxis": {
            "gridcolor": "white",
            "linecolor": "white",
            "ticks": ""
           }
          },
          "title": {
           "x": 0.05
          },
          "xaxis": {
           "automargin": true,
           "gridcolor": "white",
           "linecolor": "white",
           "ticks": "",
           "title": {
            "standoff": 15
           },
           "zerolinecolor": "white",
           "zerolinewidth": 2
          },
          "yaxis": {
           "automargin": true,
           "gridcolor": "white",
           "linecolor": "white",
           "ticks": "",
           "title": {
            "standoff": 15
           },
           "zerolinecolor": "white",
           "zerolinewidth": 2
          }
         }
        },
        "title": {
         "font": {
          "color": "#144d14",
          "family": "Lato, sans-serif",
          "size": 20,
          "weight": "bold"
         },
         "text": "Financial Account Ownership by Education",
         "x": 0.5
        },
        "xaxis": {
         "anchor": "y",
         "autorange": true,
         "domain": [
          0,
          1
         ],
         "range": [
          0,
          68.76698825102685
         ],
         "title": {
          "text": "Average %"
         },
         "type": "linear"
        },
        "yaxis": {
         "anchor": "x",
         "autorange": true,
         "domain": [
          0,
          1
         ],
         "range": [
          -0.5,
          9.5
         ],
         "title": {
          "text": "Financial Account Ownership Indicator"
         },
         "type": "category"
        }
       }
      }
     },
     "metadata": {},
     "output_type": "display_data"
    }
   ],
   "source": [
    "fig_account_education = px.bar(\n",
    "    account_education_summary,\n",
    "    x=\"Indicator value\",\n",
    "    y=\"Indicator\",\n",
    "    orientation=\"h\",\n",
    "    color_discrete_sequence=[\"#276749\"],\n",
    "    labels={\"Indicator value\": \"Average %\", \"Indicator\": \"Financial Account Ownership Indicator\"}\n",
    ")\n",
    "fig_account_education.update_layout(\n",
    "    title=\"Financial Account Ownership by Education\",\n",
    "    title_x=0.5,\n",
    "    title_font=dict(size=20, family='Lato, sans-serif', color='#144d14', weight='bold')\n",
    ")\n",
    "fig_account_education.show()\n"
   ]
  },
  {
   "cell_type": "markdown",
   "id": "3450b9ed-6535-499d-90f6-fd5b7f51cb63",
   "metadata": {},
   "source": [
    "**Traditional Accounts:**  \n",
    "Individuals with secondary education or more are significantly more likely to own an account with a financial institution compared to those with primary education or less.\n",
    "\n",
    "**Digital Access:**  \n",
    "The data also shows that people with a higher education level have a much greater rate of using digital tools and mobile money accounts, suggesting that education may play a role in the adoption of new financial technologies.\n",
    "\n",
    "**Overall Access:**  \n",
    "The overall ownership of any type of account is considerably higher for those with more education, reinforcing the link between education and financial inclusion.\n",
    "\n",
    "**Inactive Accounts:**  \n",
    "The percentage of inactive accounts is low for both groups, but it is slightly higher among those with primary education or less.\n"
   ]
  },
  {
   "cell_type": "markdown",
   "id": "dd1c1301-b8b1-497d-b887-baf006ca7507",
   "metadata": {},
   "source": [
    "## Digital service usage "
   ]
  },
  {
   "cell_type": "code",
   "execution_count": 22,
   "id": "784059ee-125e-468b-8c0a-f9523bace236",
   "metadata": {},
   "outputs": [],
   "source": [
    "# Prepare Digital Financial Service Usage by Gender data\n",
    "dfs_gender = dfs_df[dfs_df[\"Indicator\"].str.contains(gender_pattern, case=False, regex=True)].copy()\n",
    "dfs_gender[\"Indicator\"] = dfs_gender[\"Indicator\"].str.replace(r\"\\s*\\(.*?\\)\", \"\", regex=True)\n",
    "\n",
    "dfs_gender_summary = (\n",
    "    dfs_gender.groupby(\"Indicator\")[\"Indicator value\"]\n",
    "    .mean()\n",
    "    .reset_index()\n",
    "    .sort_values(by=\"Indicator value\", ascending=True)\n",
    "    .head(20)\n",
    ")\n"
   ]
  },
  {
   "cell_type": "code",
   "execution_count": 23,
   "id": "d6d70d08-d066-493e-b2a9-93c0a61b2f4b",
   "metadata": {},
   "outputs": [
    {
     "data": {
      "application/vnd.plotly.v1+json": {
       "config": {
        "plotlyServerURL": "https://plot.ly"
       },
       "data": [
        {
         "hovertemplate": "Average %=%{x}<br>Digital Financial Service Usage Indicator=%{y}<extra></extra>",
         "legendgroup": "",
         "marker": {
          "color": "#276749",
          "pattern": {
           "shape": ""
          }
         },
         "name": "",
         "orientation": "h",
         "showlegend": false,
         "textposition": "auto",
         "type": "bar",
         "x": {
          "_inputArray": {
           "0": 17.092735507246378,
           "1": 20.157717391304345,
           "10": 40.44588768115942,
           "11": 42.71847826086957,
           "12": 42.98773550724638,
           "13": 43.896521739130435,
           "14": 45.60527173913044,
           "15": 49.46927536231884,
           "16": 50.20140096618358,
           "17": 56.483502415458936,
           "2": 23.438985507246375,
           "3": 24.049166666666665,
           "4": 26.23423913043478,
           "5": 27.539925925925925,
           "6": 28.11228260869565,
           "7": 32.58562962962963,
           "8": 36.97770531400966,
           "9": 37.9938768115942,
           "bdata": "Gc2ig70XMUCgqb0qYCg0QIkKrVphcDdA/GLJL5YMOEAuqXwY9zs6QEcd4pU4ijtA5EGUjb4cPED3aWXp9UpAQAFmnnIlfUJAYQb5Wjf/QkBuIvjYEjlEQC+pfBj3W0VAT1z6HW5+RUDw2245wfJFQA9hWot5zUZALv0ONxG8SEAVksGBxxlJQHH3OmjjPUxA",
           "dtype": "f8",
           "shape": "18"
          },
          "bdata": "Gc2ig70XMUCgqb0qYCg0QIkKrVphcDdA/GLJL5YMOEAuqXwY9zs6QEcd4pU4ijtA5EGUjb4cPED3aWXp9UpAQAFmnnIlfUJAYQb5Wjf/QkBuIvjYEjlEQC+pfBj3W0VAT1z6HW5+RUDw2245wfJFQA9hWot5zUZALv0ONxG8SEAVksGBxxlJQHH3OmjjPUxA",
          "dtype": "f8"
         },
         "xaxis": "x",
         "y": [
          "Owns a credit card, female",
          "Owns a credit card, male",
          "Used a mobile phone or the internet to buy something online, female",
          "Used a mobile phone or the internet to pay bills, female",
          "Used a mobile phone or the internet to buy something online, male",
          "Used a mobile phone or the internet to send money, female",
          "Used a mobile phone or the internet to pay bills, male",
          "Used a mobile phone or the internet to send money, male",
          "Received digital payments, female",
          "Owns a debit card, female",
          "Owns a debit or credit card, female",
          "Received digital payments, male",
          "Owns a debit card, male",
          "Made a digital payment, female",
          "Owns a debit or credit card, male",
          "Made a digital payment, male",
          "Made or received a digital payment, female",
          "Made or received a digital payment, male"
         ],
         "yaxis": "y"
        }
       ],
       "layout": {
        "barmode": "relative",
        "height": 360,
        "legend": {
         "tracegroupgap": 0
        },
        "margin": {
         "t": 60
        },
        "template": {
         "data": {
          "bar": [
           {
            "error_x": {
             "color": "#2a3f5f"
            },
            "error_y": {
             "color": "#2a3f5f"
            },
            "marker": {
             "line": {
              "color": "#E5ECF6",
              "width": 0.5
             },
             "pattern": {
              "fillmode": "overlay",
              "size": 10,
              "solidity": 0.2
             }
            },
            "type": "bar"
           }
          ],
          "barpolar": [
           {
            "marker": {
             "line": {
              "color": "#E5ECF6",
              "width": 0.5
             },
             "pattern": {
              "fillmode": "overlay",
              "size": 10,
              "solidity": 0.2
             }
            },
            "type": "barpolar"
           }
          ],
          "carpet": [
           {
            "aaxis": {
             "endlinecolor": "#2a3f5f",
             "gridcolor": "white",
             "linecolor": "white",
             "minorgridcolor": "white",
             "startlinecolor": "#2a3f5f"
            },
            "baxis": {
             "endlinecolor": "#2a3f5f",
             "gridcolor": "white",
             "linecolor": "white",
             "minorgridcolor": "white",
             "startlinecolor": "#2a3f5f"
            },
            "type": "carpet"
           }
          ],
          "choropleth": [
           {
            "colorbar": {
             "outlinewidth": 0,
             "ticks": ""
            },
            "type": "choropleth"
           }
          ],
          "contour": [
           {
            "colorbar": {
             "outlinewidth": 0,
             "ticks": ""
            },
            "colorscale": [
             [
              0,
              "#0d0887"
             ],
             [
              0.1111111111111111,
              "#46039f"
             ],
             [
              0.2222222222222222,
              "#7201a8"
             ],
             [
              0.3333333333333333,
              "#9c179e"
             ],
             [
              0.4444444444444444,
              "#bd3786"
             ],
             [
              0.5555555555555556,
              "#d8576b"
             ],
             [
              0.6666666666666666,
              "#ed7953"
             ],
             [
              0.7777777777777778,
              "#fb9f3a"
             ],
             [
              0.8888888888888888,
              "#fdca26"
             ],
             [
              1,
              "#f0f921"
             ]
            ],
            "type": "contour"
           }
          ],
          "contourcarpet": [
           {
            "colorbar": {
             "outlinewidth": 0,
             "ticks": ""
            },
            "type": "contourcarpet"
           }
          ],
          "heatmap": [
           {
            "colorbar": {
             "outlinewidth": 0,
             "ticks": ""
            },
            "colorscale": [
             [
              0,
              "#0d0887"
             ],
             [
              0.1111111111111111,
              "#46039f"
             ],
             [
              0.2222222222222222,
              "#7201a8"
             ],
             [
              0.3333333333333333,
              "#9c179e"
             ],
             [
              0.4444444444444444,
              "#bd3786"
             ],
             [
              0.5555555555555556,
              "#d8576b"
             ],
             [
              0.6666666666666666,
              "#ed7953"
             ],
             [
              0.7777777777777778,
              "#fb9f3a"
             ],
             [
              0.8888888888888888,
              "#fdca26"
             ],
             [
              1,
              "#f0f921"
             ]
            ],
            "type": "heatmap"
           }
          ],
          "histogram": [
           {
            "marker": {
             "pattern": {
              "fillmode": "overlay",
              "size": 10,
              "solidity": 0.2
             }
            },
            "type": "histogram"
           }
          ],
          "histogram2d": [
           {
            "colorbar": {
             "outlinewidth": 0,
             "ticks": ""
            },
            "colorscale": [
             [
              0,
              "#0d0887"
             ],
             [
              0.1111111111111111,
              "#46039f"
             ],
             [
              0.2222222222222222,
              "#7201a8"
             ],
             [
              0.3333333333333333,
              "#9c179e"
             ],
             [
              0.4444444444444444,
              "#bd3786"
             ],
             [
              0.5555555555555556,
              "#d8576b"
             ],
             [
              0.6666666666666666,
              "#ed7953"
             ],
             [
              0.7777777777777778,
              "#fb9f3a"
             ],
             [
              0.8888888888888888,
              "#fdca26"
             ],
             [
              1,
              "#f0f921"
             ]
            ],
            "type": "histogram2d"
           }
          ],
          "histogram2dcontour": [
           {
            "colorbar": {
             "outlinewidth": 0,
             "ticks": ""
            },
            "colorscale": [
             [
              0,
              "#0d0887"
             ],
             [
              0.1111111111111111,
              "#46039f"
             ],
             [
              0.2222222222222222,
              "#7201a8"
             ],
             [
              0.3333333333333333,
              "#9c179e"
             ],
             [
              0.4444444444444444,
              "#bd3786"
             ],
             [
              0.5555555555555556,
              "#d8576b"
             ],
             [
              0.6666666666666666,
              "#ed7953"
             ],
             [
              0.7777777777777778,
              "#fb9f3a"
             ],
             [
              0.8888888888888888,
              "#fdca26"
             ],
             [
              1,
              "#f0f921"
             ]
            ],
            "type": "histogram2dcontour"
           }
          ],
          "mesh3d": [
           {
            "colorbar": {
             "outlinewidth": 0,
             "ticks": ""
            },
            "type": "mesh3d"
           }
          ],
          "parcoords": [
           {
            "line": {
             "colorbar": {
              "outlinewidth": 0,
              "ticks": ""
             }
            },
            "type": "parcoords"
           }
          ],
          "pie": [
           {
            "automargin": true,
            "type": "pie"
           }
          ],
          "scatter": [
           {
            "fillpattern": {
             "fillmode": "overlay",
             "size": 10,
             "solidity": 0.2
            },
            "type": "scatter"
           }
          ],
          "scatter3d": [
           {
            "line": {
             "colorbar": {
              "outlinewidth": 0,
              "ticks": ""
             }
            },
            "marker": {
             "colorbar": {
              "outlinewidth": 0,
              "ticks": ""
             }
            },
            "type": "scatter3d"
           }
          ],
          "scattercarpet": [
           {
            "marker": {
             "colorbar": {
              "outlinewidth": 0,
              "ticks": ""
             }
            },
            "type": "scattercarpet"
           }
          ],
          "scattergeo": [
           {
            "marker": {
             "colorbar": {
              "outlinewidth": 0,
              "ticks": ""
             }
            },
            "type": "scattergeo"
           }
          ],
          "scattergl": [
           {
            "marker": {
             "colorbar": {
              "outlinewidth": 0,
              "ticks": ""
             }
            },
            "type": "scattergl"
           }
          ],
          "scattermap": [
           {
            "marker": {
             "colorbar": {
              "outlinewidth": 0,
              "ticks": ""
             }
            },
            "type": "scattermap"
           }
          ],
          "scattermapbox": [
           {
            "marker": {
             "colorbar": {
              "outlinewidth": 0,
              "ticks": ""
             }
            },
            "type": "scattermapbox"
           }
          ],
          "scatterpolar": [
           {
            "marker": {
             "colorbar": {
              "outlinewidth": 0,
              "ticks": ""
             }
            },
            "type": "scatterpolar"
           }
          ],
          "scatterpolargl": [
           {
            "marker": {
             "colorbar": {
              "outlinewidth": 0,
              "ticks": ""
             }
            },
            "type": "scatterpolargl"
           }
          ],
          "scatterternary": [
           {
            "marker": {
             "colorbar": {
              "outlinewidth": 0,
              "ticks": ""
             }
            },
            "type": "scatterternary"
           }
          ],
          "surface": [
           {
            "colorbar": {
             "outlinewidth": 0,
             "ticks": ""
            },
            "colorscale": [
             [
              0,
              "#0d0887"
             ],
             [
              0.1111111111111111,
              "#46039f"
             ],
             [
              0.2222222222222222,
              "#7201a8"
             ],
             [
              0.3333333333333333,
              "#9c179e"
             ],
             [
              0.4444444444444444,
              "#bd3786"
             ],
             [
              0.5555555555555556,
              "#d8576b"
             ],
             [
              0.6666666666666666,
              "#ed7953"
             ],
             [
              0.7777777777777778,
              "#fb9f3a"
             ],
             [
              0.8888888888888888,
              "#fdca26"
             ],
             [
              1,
              "#f0f921"
             ]
            ],
            "type": "surface"
           }
          ],
          "table": [
           {
            "cells": {
             "fill": {
              "color": "#EBF0F8"
             },
             "line": {
              "color": "white"
             }
            },
            "header": {
             "fill": {
              "color": "#C8D4E3"
             },
             "line": {
              "color": "white"
             }
            },
            "type": "table"
           }
          ]
         },
         "layout": {
          "annotationdefaults": {
           "arrowcolor": "#2a3f5f",
           "arrowhead": 0,
           "arrowwidth": 1
          },
          "autotypenumbers": "strict",
          "coloraxis": {
           "colorbar": {
            "outlinewidth": 0,
            "ticks": ""
           }
          },
          "colorscale": {
           "diverging": [
            [
             0,
             "#8e0152"
            ],
            [
             0.1,
             "#c51b7d"
            ],
            [
             0.2,
             "#de77ae"
            ],
            [
             0.3,
             "#f1b6da"
            ],
            [
             0.4,
             "#fde0ef"
            ],
            [
             0.5,
             "#f7f7f7"
            ],
            [
             0.6,
             "#e6f5d0"
            ],
            [
             0.7,
             "#b8e186"
            ],
            [
             0.8,
             "#7fbc41"
            ],
            [
             0.9,
             "#4d9221"
            ],
            [
             1,
             "#276419"
            ]
           ],
           "sequential": [
            [
             0,
             "#0d0887"
            ],
            [
             0.1111111111111111,
             "#46039f"
            ],
            [
             0.2222222222222222,
             "#7201a8"
            ],
            [
             0.3333333333333333,
             "#9c179e"
            ],
            [
             0.4444444444444444,
             "#bd3786"
            ],
            [
             0.5555555555555556,
             "#d8576b"
            ],
            [
             0.6666666666666666,
             "#ed7953"
            ],
            [
             0.7777777777777778,
             "#fb9f3a"
            ],
            [
             0.8888888888888888,
             "#fdca26"
            ],
            [
             1,
             "#f0f921"
            ]
           ],
           "sequentialminus": [
            [
             0,
             "#0d0887"
            ],
            [
             0.1111111111111111,
             "#46039f"
            ],
            [
             0.2222222222222222,
             "#7201a8"
            ],
            [
             0.3333333333333333,
             "#9c179e"
            ],
            [
             0.4444444444444444,
             "#bd3786"
            ],
            [
             0.5555555555555556,
             "#d8576b"
            ],
            [
             0.6666666666666666,
             "#ed7953"
            ],
            [
             0.7777777777777778,
             "#fb9f3a"
            ],
            [
             0.8888888888888888,
             "#fdca26"
            ],
            [
             1,
             "#f0f921"
            ]
           ]
          },
          "colorway": [
           "#636efa",
           "#EF553B",
           "#00cc96",
           "#ab63fa",
           "#FFA15A",
           "#19d3f3",
           "#FF6692",
           "#B6E880",
           "#FF97FF",
           "#FECB52"
          ],
          "font": {
           "color": "#2a3f5f"
          },
          "geo": {
           "bgcolor": "white",
           "lakecolor": "white",
           "landcolor": "#E5ECF6",
           "showlakes": true,
           "showland": true,
           "subunitcolor": "white"
          },
          "hoverlabel": {
           "align": "left"
          },
          "hovermode": "closest",
          "mapbox": {
           "style": "light"
          },
          "paper_bgcolor": "white",
          "plot_bgcolor": "#E5ECF6",
          "polar": {
           "angularaxis": {
            "gridcolor": "white",
            "linecolor": "white",
            "ticks": ""
           },
           "bgcolor": "#E5ECF6",
           "radialaxis": {
            "gridcolor": "white",
            "linecolor": "white",
            "ticks": ""
           }
          },
          "scene": {
           "xaxis": {
            "backgroundcolor": "#E5ECF6",
            "gridcolor": "white",
            "gridwidth": 2,
            "linecolor": "white",
            "showbackground": true,
            "ticks": "",
            "zerolinecolor": "white"
           },
           "yaxis": {
            "backgroundcolor": "#E5ECF6",
            "gridcolor": "white",
            "gridwidth": 2,
            "linecolor": "white",
            "showbackground": true,
            "ticks": "",
            "zerolinecolor": "white"
           },
           "zaxis": {
            "backgroundcolor": "#E5ECF6",
            "gridcolor": "white",
            "gridwidth": 2,
            "linecolor": "white",
            "showbackground": true,
            "ticks": "",
            "zerolinecolor": "white"
           }
          },
          "shapedefaults": {
           "line": {
            "color": "#2a3f5f"
           }
          },
          "ternary": {
           "aaxis": {
            "gridcolor": "white",
            "linecolor": "white",
            "ticks": ""
           },
           "baxis": {
            "gridcolor": "white",
            "linecolor": "white",
            "ticks": ""
           },
           "bgcolor": "#E5ECF6",
           "caxis": {
            "gridcolor": "white",
            "linecolor": "white",
            "ticks": ""
           }
          },
          "title": {
           "x": 0.05
          },
          "xaxis": {
           "automargin": true,
           "gridcolor": "white",
           "linecolor": "white",
           "ticks": "",
           "title": {
            "standoff": 15
           },
           "zerolinecolor": "white",
           "zerolinewidth": 2
          },
          "yaxis": {
           "automargin": true,
           "gridcolor": "white",
           "linecolor": "white",
           "ticks": "",
           "title": {
            "standoff": 15
           },
           "zerolinecolor": "white",
           "zerolinewidth": 2
          }
         }
        },
        "title": {
         "font": {
          "color": "#144d14",
          "family": "Lato, sans-serif",
          "size": 20,
          "weight": "bold"
         },
         "text": "Digital Financial Service Usage by Gender",
         "x": 0.5
        },
        "xaxis": {
         "anchor": "y",
         "autorange": true,
         "domain": [
          0,
          1
         ],
         "range": [
          0,
          59.45631833206204
         ],
         "title": {
          "text": "Average %"
         },
         "type": "linear"
        },
        "yaxis": {
         "anchor": "x",
         "autorange": true,
         "domain": [
          0,
          1
         ],
         "range": [
          -0.5,
          17.5
         ],
         "title": {
          "text": "Digital Financial Service Usage Indicator"
         },
         "type": "category"
        }
       }
      }
     },
     "metadata": {},
     "output_type": "display_data"
    }
   ],
   "source": [
    "fig_dfs_gender = px.bar(\n",
    "    dfs_gender_summary,\n",
    "    x=\"Indicator value\",\n",
    "    y=\"Indicator\",\n",
    "    orientation=\"h\",\n",
    "    color_discrete_sequence=[\"#276749\"],\n",
    "    labels={\"Indicator value\": \"Average %\", \"Indicator\": \"Digital Financial Service Usage Indicator\"}\n",
    ")\n",
    "fig_dfs_gender.update_layout(\n",
    "    title=\"Digital Financial Service Usage by Gender\",\n",
    "    title_x=0.5,\n",
    "    title_font=dict(size=20, family='Lato, sans-serif', color='#144d14', weight='bold')\n",
    ")\n",
    "fig_dfs_gender.show()\n"
   ]
  },
  {
   "cell_type": "markdown",
   "id": "885da1b5-e6e1-4b1e-9a67-1f2d56e52383",
   "metadata": {},
   "source": [
    "**Digital Payments:**  \n",
    "The data shows that women are more likely than men to have made or received a digital payment. This suggests that digital platforms are a significant part of women's financial lives.\n",
    "\n",
    "**Debit and Credit Cards:**  \n",
    "While men slightly lead in the ownership of debit cards, the overall ownership of debit or credit cards is fairly balanced between genders.\n",
    "\n",
    "**Online Commerce and Bill Payments:**  \n",
    "Men are slightly more likely to use a mobile phone or the internet to pay bills or buy something online. This indicates a small but notable gap in digital commerce engagement.\n",
    "\n",
    "**Credit Card Ownership:**  \n",
    "The chart reveals a clear gender gap in credit card ownership, with a significantly higher percentage of men owning credit cards compared to women. This points to a disparity in access to formal credit.\n"
   ]
  },
  {
   "cell_type": "code",
   "execution_count": 25,
   "id": "02f5f5e7-9d1d-429a-a9ef-8eb79987212f",
   "metadata": {},
   "outputs": [],
   "source": [
    "# Prepare Digital Financial Service Usage by Education data\n",
    "dfs_education = dfs_df[dfs_df[\"Indicator\"].str.contains(education_pattern, case=False, regex=True)].copy()\n",
    "dfs_education[\"Indicator\"] = dfs_education[\"Indicator\"].str.replace(r\"\\s*\\(.*?\\)\", \"\", regex=True)\n",
    "\n",
    "dfs_education_summary = (\n",
    "    dfs_education.groupby(\"Indicator\")[\"Indicator value\"]\n",
    "    .mean()\n",
    "    .reset_index()\n",
    "    .sort_values(by=\"Indicator value\", ascending=True)\n",
    "    .head(20)\n",
    ")\n"
   ]
  },
  {
   "cell_type": "code",
   "execution_count": 26,
   "id": "8a33e699-f1b2-4004-9a86-26932d55cdf8",
   "metadata": {},
   "outputs": [
    {
     "data": {
      "application/vnd.plotly.v1+json": {
       "config": {
        "plotlyServerURL": "https://plot.ly"
       },
       "data": [
        {
         "hovertemplate": "Average %=%{x}<br>Digital Financial Service Usage Indicator=%{y}<extra></extra>",
         "legendgroup": "",
         "marker": {
          "color": "#276749",
          "pattern": {
           "shape": ""
          }
         },
         "name": "",
         "orientation": "h",
         "showlegend": false,
         "textposition": "auto",
         "type": "bar",
         "x": {
          "_inputArray": {
           "0": 10.074573502722323,
           "1": 12.261702898550725,
           "10": 32.978913043478265,
           "11": 36.98674074074074,
           "12": 41.17468599033816,
           "13": 46.582705314009665,
           "14": 47.18219600725953,
           "15": 49.975444646098005,
           "16": 54.793357487922705,
           "17": 61.457898550724636,
           "2": 13.318659420289855,
           "3": 16.667555555555555,
           "4": 21.610344827586207,
           "5": 28.1693961352657,
           "6": 28.594410163339383,
           "7": 29.380434782608695,
           "8": 30.460272232304902,
           "9": 30.934673913043476,
           "bdata": "XK6Gfy4mJEBpFh3s/YUoQBxq2VMnoypAzV+/6+SqMED5wwGPP5w1QPQIjYtdKzxA4vOzQyuYPECykIUsZGE9QKgBqWbUdT5AMvIgykbvPkD5rskFTX1AQGCORYVNfkJAMMlLHFyWREA/cHUWlkpHQBtS4jJSl0dATQbDXtv8SEAWVfi8jGVLQMIfcmucuk5A",
           "dtype": "f8",
           "shape": "18"
          },
          "bdata": "XK6Gfy4mJEBpFh3s/YUoQBxq2VMnoypAzV+/6+SqMED5wwGPP5w1QPQIjYtdKzxA4vOzQyuYPECykIUsZGE9QKgBqWbUdT5AMvIgykbvPkD5rskFTX1AQGCORYVNfkJAMMlLHFyWREA/cHUWlkpHQBtS4jJSl0dATQbDXtv8SEAWVfi8jGVLQMIfcmucuk5A",
          "dtype": "f8"
         },
         "xaxis": "x",
         "y": [
          "Owns a credit card, primary education or less",
          "Used a mobile phone or the internet to buy something online, primary education or less",
          "Used a mobile phone or the internet to pay bills, primary education or less",
          "Used a mobile phone or the internet to send money, primary education or less",
          "Owns a credit card, secondary education or more",
          "Received digital payments, primary education or less",
          "Owns a debit card, primary education or less",
          "Used a mobile phone or the internet to buy something online, secondary education or more",
          "Owns a debit or credit card, primary education or less",
          "Used a mobile phone or the internet to pay bills, secondary education or more",
          "Made a digital payment, primary education or less",
          "Used a mobile phone or the internet to send money, secondary education or more",
          "Made or received a digital payment, primary education or less",
          "Received digital payments, secondary education or more",
          "Owns a debit card, secondary education or more",
          "Owns a debit or credit card, secondary education or more",
          "Made a digital payment, secondary education or more",
          "Made or received a digital payment, secondary education or more"
         ],
         "yaxis": "y"
        }
       ],
       "layout": {
        "barmode": "relative",
        "height": 360,
        "legend": {
         "tracegroupgap": 0
        },
        "margin": {
         "t": 60
        },
        "template": {
         "data": {
          "bar": [
           {
            "error_x": {
             "color": "#2a3f5f"
            },
            "error_y": {
             "color": "#2a3f5f"
            },
            "marker": {
             "line": {
              "color": "#E5ECF6",
              "width": 0.5
             },
             "pattern": {
              "fillmode": "overlay",
              "size": 10,
              "solidity": 0.2
             }
            },
            "type": "bar"
           }
          ],
          "barpolar": [
           {
            "marker": {
             "line": {
              "color": "#E5ECF6",
              "width": 0.5
             },
             "pattern": {
              "fillmode": "overlay",
              "size": 10,
              "solidity": 0.2
             }
            },
            "type": "barpolar"
           }
          ],
          "carpet": [
           {
            "aaxis": {
             "endlinecolor": "#2a3f5f",
             "gridcolor": "white",
             "linecolor": "white",
             "minorgridcolor": "white",
             "startlinecolor": "#2a3f5f"
            },
            "baxis": {
             "endlinecolor": "#2a3f5f",
             "gridcolor": "white",
             "linecolor": "white",
             "minorgridcolor": "white",
             "startlinecolor": "#2a3f5f"
            },
            "type": "carpet"
           }
          ],
          "choropleth": [
           {
            "colorbar": {
             "outlinewidth": 0,
             "ticks": ""
            },
            "type": "choropleth"
           }
          ],
          "contour": [
           {
            "colorbar": {
             "outlinewidth": 0,
             "ticks": ""
            },
            "colorscale": [
             [
              0,
              "#0d0887"
             ],
             [
              0.1111111111111111,
              "#46039f"
             ],
             [
              0.2222222222222222,
              "#7201a8"
             ],
             [
              0.3333333333333333,
              "#9c179e"
             ],
             [
              0.4444444444444444,
              "#bd3786"
             ],
             [
              0.5555555555555556,
              "#d8576b"
             ],
             [
              0.6666666666666666,
              "#ed7953"
             ],
             [
              0.7777777777777778,
              "#fb9f3a"
             ],
             [
              0.8888888888888888,
              "#fdca26"
             ],
             [
              1,
              "#f0f921"
             ]
            ],
            "type": "contour"
           }
          ],
          "contourcarpet": [
           {
            "colorbar": {
             "outlinewidth": 0,
             "ticks": ""
            },
            "type": "contourcarpet"
           }
          ],
          "heatmap": [
           {
            "colorbar": {
             "outlinewidth": 0,
             "ticks": ""
            },
            "colorscale": [
             [
              0,
              "#0d0887"
             ],
             [
              0.1111111111111111,
              "#46039f"
             ],
             [
              0.2222222222222222,
              "#7201a8"
             ],
             [
              0.3333333333333333,
              "#9c179e"
             ],
             [
              0.4444444444444444,
              "#bd3786"
             ],
             [
              0.5555555555555556,
              "#d8576b"
             ],
             [
              0.6666666666666666,
              "#ed7953"
             ],
             [
              0.7777777777777778,
              "#fb9f3a"
             ],
             [
              0.8888888888888888,
              "#fdca26"
             ],
             [
              1,
              "#f0f921"
             ]
            ],
            "type": "heatmap"
           }
          ],
          "histogram": [
           {
            "marker": {
             "pattern": {
              "fillmode": "overlay",
              "size": 10,
              "solidity": 0.2
             }
            },
            "type": "histogram"
           }
          ],
          "histogram2d": [
           {
            "colorbar": {
             "outlinewidth": 0,
             "ticks": ""
            },
            "colorscale": [
             [
              0,
              "#0d0887"
             ],
             [
              0.1111111111111111,
              "#46039f"
             ],
             [
              0.2222222222222222,
              "#7201a8"
             ],
             [
              0.3333333333333333,
              "#9c179e"
             ],
             [
              0.4444444444444444,
              "#bd3786"
             ],
             [
              0.5555555555555556,
              "#d8576b"
             ],
             [
              0.6666666666666666,
              "#ed7953"
             ],
             [
              0.7777777777777778,
              "#fb9f3a"
             ],
             [
              0.8888888888888888,
              "#fdca26"
             ],
             [
              1,
              "#f0f921"
             ]
            ],
            "type": "histogram2d"
           }
          ],
          "histogram2dcontour": [
           {
            "colorbar": {
             "outlinewidth": 0,
             "ticks": ""
            },
            "colorscale": [
             [
              0,
              "#0d0887"
             ],
             [
              0.1111111111111111,
              "#46039f"
             ],
             [
              0.2222222222222222,
              "#7201a8"
             ],
             [
              0.3333333333333333,
              "#9c179e"
             ],
             [
              0.4444444444444444,
              "#bd3786"
             ],
             [
              0.5555555555555556,
              "#d8576b"
             ],
             [
              0.6666666666666666,
              "#ed7953"
             ],
             [
              0.7777777777777778,
              "#fb9f3a"
             ],
             [
              0.8888888888888888,
              "#fdca26"
             ],
             [
              1,
              "#f0f921"
             ]
            ],
            "type": "histogram2dcontour"
           }
          ],
          "mesh3d": [
           {
            "colorbar": {
             "outlinewidth": 0,
             "ticks": ""
            },
            "type": "mesh3d"
           }
          ],
          "parcoords": [
           {
            "line": {
             "colorbar": {
              "outlinewidth": 0,
              "ticks": ""
             }
            },
            "type": "parcoords"
           }
          ],
          "pie": [
           {
            "automargin": true,
            "type": "pie"
           }
          ],
          "scatter": [
           {
            "fillpattern": {
             "fillmode": "overlay",
             "size": 10,
             "solidity": 0.2
            },
            "type": "scatter"
           }
          ],
          "scatter3d": [
           {
            "line": {
             "colorbar": {
              "outlinewidth": 0,
              "ticks": ""
             }
            },
            "marker": {
             "colorbar": {
              "outlinewidth": 0,
              "ticks": ""
             }
            },
            "type": "scatter3d"
           }
          ],
          "scattercarpet": [
           {
            "marker": {
             "colorbar": {
              "outlinewidth": 0,
              "ticks": ""
             }
            },
            "type": "scattercarpet"
           }
          ],
          "scattergeo": [
           {
            "marker": {
             "colorbar": {
              "outlinewidth": 0,
              "ticks": ""
             }
            },
            "type": "scattergeo"
           }
          ],
          "scattergl": [
           {
            "marker": {
             "colorbar": {
              "outlinewidth": 0,
              "ticks": ""
             }
            },
            "type": "scattergl"
           }
          ],
          "scattermap": [
           {
            "marker": {
             "colorbar": {
              "outlinewidth": 0,
              "ticks": ""
             }
            },
            "type": "scattermap"
           }
          ],
          "scattermapbox": [
           {
            "marker": {
             "colorbar": {
              "outlinewidth": 0,
              "ticks": ""
             }
            },
            "type": "scattermapbox"
           }
          ],
          "scatterpolar": [
           {
            "marker": {
             "colorbar": {
              "outlinewidth": 0,
              "ticks": ""
             }
            },
            "type": "scatterpolar"
           }
          ],
          "scatterpolargl": [
           {
            "marker": {
             "colorbar": {
              "outlinewidth": 0,
              "ticks": ""
             }
            },
            "type": "scatterpolargl"
           }
          ],
          "scatterternary": [
           {
            "marker": {
             "colorbar": {
              "outlinewidth": 0,
              "ticks": ""
             }
            },
            "type": "scatterternary"
           }
          ],
          "surface": [
           {
            "colorbar": {
             "outlinewidth": 0,
             "ticks": ""
            },
            "colorscale": [
             [
              0,
              "#0d0887"
             ],
             [
              0.1111111111111111,
              "#46039f"
             ],
             [
              0.2222222222222222,
              "#7201a8"
             ],
             [
              0.3333333333333333,
              "#9c179e"
             ],
             [
              0.4444444444444444,
              "#bd3786"
             ],
             [
              0.5555555555555556,
              "#d8576b"
             ],
             [
              0.6666666666666666,
              "#ed7953"
             ],
             [
              0.7777777777777778,
              "#fb9f3a"
             ],
             [
              0.8888888888888888,
              "#fdca26"
             ],
             [
              1,
              "#f0f921"
             ]
            ],
            "type": "surface"
           }
          ],
          "table": [
           {
            "cells": {
             "fill": {
              "color": "#EBF0F8"
             },
             "line": {
              "color": "white"
             }
            },
            "header": {
             "fill": {
              "color": "#C8D4E3"
             },
             "line": {
              "color": "white"
             }
            },
            "type": "table"
           }
          ]
         },
         "layout": {
          "annotationdefaults": {
           "arrowcolor": "#2a3f5f",
           "arrowhead": 0,
           "arrowwidth": 1
          },
          "autotypenumbers": "strict",
          "coloraxis": {
           "colorbar": {
            "outlinewidth": 0,
            "ticks": ""
           }
          },
          "colorscale": {
           "diverging": [
            [
             0,
             "#8e0152"
            ],
            [
             0.1,
             "#c51b7d"
            ],
            [
             0.2,
             "#de77ae"
            ],
            [
             0.3,
             "#f1b6da"
            ],
            [
             0.4,
             "#fde0ef"
            ],
            [
             0.5,
             "#f7f7f7"
            ],
            [
             0.6,
             "#e6f5d0"
            ],
            [
             0.7,
             "#b8e186"
            ],
            [
             0.8,
             "#7fbc41"
            ],
            [
             0.9,
             "#4d9221"
            ],
            [
             1,
             "#276419"
            ]
           ],
           "sequential": [
            [
             0,
             "#0d0887"
            ],
            [
             0.1111111111111111,
             "#46039f"
            ],
            [
             0.2222222222222222,
             "#7201a8"
            ],
            [
             0.3333333333333333,
             "#9c179e"
            ],
            [
             0.4444444444444444,
             "#bd3786"
            ],
            [
             0.5555555555555556,
             "#d8576b"
            ],
            [
             0.6666666666666666,
             "#ed7953"
            ],
            [
             0.7777777777777778,
             "#fb9f3a"
            ],
            [
             0.8888888888888888,
             "#fdca26"
            ],
            [
             1,
             "#f0f921"
            ]
           ],
           "sequentialminus": [
            [
             0,
             "#0d0887"
            ],
            [
             0.1111111111111111,
             "#46039f"
            ],
            [
             0.2222222222222222,
             "#7201a8"
            ],
            [
             0.3333333333333333,
             "#9c179e"
            ],
            [
             0.4444444444444444,
             "#bd3786"
            ],
            [
             0.5555555555555556,
             "#d8576b"
            ],
            [
             0.6666666666666666,
             "#ed7953"
            ],
            [
             0.7777777777777778,
             "#fb9f3a"
            ],
            [
             0.8888888888888888,
             "#fdca26"
            ],
            [
             1,
             "#f0f921"
            ]
           ]
          },
          "colorway": [
           "#636efa",
           "#EF553B",
           "#00cc96",
           "#ab63fa",
           "#FFA15A",
           "#19d3f3",
           "#FF6692",
           "#B6E880",
           "#FF97FF",
           "#FECB52"
          ],
          "font": {
           "color": "#2a3f5f"
          },
          "geo": {
           "bgcolor": "white",
           "lakecolor": "white",
           "landcolor": "#E5ECF6",
           "showlakes": true,
           "showland": true,
           "subunitcolor": "white"
          },
          "hoverlabel": {
           "align": "left"
          },
          "hovermode": "closest",
          "mapbox": {
           "style": "light"
          },
          "paper_bgcolor": "white",
          "plot_bgcolor": "#E5ECF6",
          "polar": {
           "angularaxis": {
            "gridcolor": "white",
            "linecolor": "white",
            "ticks": ""
           },
           "bgcolor": "#E5ECF6",
           "radialaxis": {
            "gridcolor": "white",
            "linecolor": "white",
            "ticks": ""
           }
          },
          "scene": {
           "xaxis": {
            "backgroundcolor": "#E5ECF6",
            "gridcolor": "white",
            "gridwidth": 2,
            "linecolor": "white",
            "showbackground": true,
            "ticks": "",
            "zerolinecolor": "white"
           },
           "yaxis": {
            "backgroundcolor": "#E5ECF6",
            "gridcolor": "white",
            "gridwidth": 2,
            "linecolor": "white",
            "showbackground": true,
            "ticks": "",
            "zerolinecolor": "white"
           },
           "zaxis": {
            "backgroundcolor": "#E5ECF6",
            "gridcolor": "white",
            "gridwidth": 2,
            "linecolor": "white",
            "showbackground": true,
            "ticks": "",
            "zerolinecolor": "white"
           }
          },
          "shapedefaults": {
           "line": {
            "color": "#2a3f5f"
           }
          },
          "ternary": {
           "aaxis": {
            "gridcolor": "white",
            "linecolor": "white",
            "ticks": ""
           },
           "baxis": {
            "gridcolor": "white",
            "linecolor": "white",
            "ticks": ""
           },
           "bgcolor": "#E5ECF6",
           "caxis": {
            "gridcolor": "white",
            "linecolor": "white",
            "ticks": ""
           }
          },
          "title": {
           "x": 0.05
          },
          "xaxis": {
           "automargin": true,
           "gridcolor": "white",
           "linecolor": "white",
           "ticks": "",
           "title": {
            "standoff": 15
           },
           "zerolinecolor": "white",
           "zerolinewidth": 2
          },
          "yaxis": {
           "automargin": true,
           "gridcolor": "white",
           "linecolor": "white",
           "ticks": "",
           "title": {
            "standoff": 15
           },
           "zerolinecolor": "white",
           "zerolinewidth": 2
          }
         }
        },
        "title": {
         "font": {
          "color": "#144d14",
          "family": "Lato, sans-serif",
          "size": 20,
          "weight": "bold"
         },
         "text": "Digital Financial Service Usage by Education",
         "x": 0.5
        },
        "xaxis": {
         "anchor": "y",
         "autorange": true,
         "domain": [
          0,
          1
         ],
         "range": [
          0,
          64.69252479023646
         ],
         "title": {
          "text": "Average %"
         },
         "type": "linear"
        },
        "yaxis": {
         "anchor": "x",
         "autorange": true,
         "domain": [
          0,
          1
         ],
         "range": [
          -0.5,
          17.5
         ],
         "title": {
          "text": "Digital Financial Service Usage Indicator"
         },
         "type": "category"
        }
       }
      }
     },
     "metadata": {},
     "output_type": "display_data"
    }
   ],
   "source": [
    "fig_dfs_education = px.bar(\n",
    "    dfs_education_summary,\n",
    "    x=\"Indicator value\",\n",
    "    y=\"Indicator\",\n",
    "    orientation=\"h\",\n",
    "    color_discrete_sequence=[\"#276749\"],\n",
    "    labels={\"Indicator value\": \"Average %\", \"Indicator\": \"Digital Financial Service Usage Indicator\"}\n",
    ")\n",
    "fig_dfs_education.update_layout(\n",
    "    title=\"Digital Financial Service Usage by Education\",\n",
    "    title_x=0.5,\n",
    "    title_font=dict(size=20, family='Lato, sans-serif', color='#144d14', weight='bold')\n",
    ")\n",
    "fig_dfs_education.show()\n"
   ]
  },
  {
   "cell_type": "markdown",
   "id": "15ef3a64-4631-4f7f-a97f-f64621f29620",
   "metadata": {},
   "source": [
    "**Digital Payments:**  \n",
    "The data shows a clear trend: a significantly higher percentage of people with secondary education or more have made or received a digital payment compared to those with primary education or less.\n",
    "\n",
    "**Debit and Credit Cards:**  \n",
    "Ownership of both debit and credit cards is considerably higher among the more educated group. This suggests that a higher education level is associated with greater integration into the formal financial system.\n",
    "\n",
    "**Online Payments:**  \n",
    "The chart also highlights a gap in online payments, with those who have less education being less likely to use a mobile phone or the internet to pay bills. This points to a need for targeted digital literacy programs.\n",
    "\n",
    "**Key Takeaway:**  \n",
    "Overall, the visual demonstrates that higher education is a strong predictor of digital financial service adoption and usage.\n"
   ]
  },
  {
   "cell_type": "markdown",
   "id": "b23ef84b-178b-4b17-9fa1-07e033d30e33",
   "metadata": {},
   "source": [
    "## saving behaviour"
   ]
  },
  {
   "cell_type": "code",
   "execution_count": 29,
   "id": "cb690d47-405e-44a7-bab9-13280215c787",
   "metadata": {},
   "outputs": [],
   "source": [
    "# Prepare Saving Behavior by Gender data\n",
    "saving_gender = saving_data[\"Gender\"].copy()\n",
    "saving_gender[\"Indicator\"] = saving_gender[\"Indicator\"].str.replace(r\"\\s*\\(.*?\\)\", \"\", regex=True)\n",
    "\n",
    "saving_gender_summary = (\n",
    "    saving_gender.groupby(\"Indicator\")[\"Indicator value\"]\n",
    "    .mean()\n",
    "    .reset_index()\n",
    "    .sort_values(by=\"Indicator value\", ascending=True)\n",
    "    .head(20)\n",
    ")\n"
   ]
  },
  {
   "cell_type": "code",
   "execution_count": 30,
   "id": "fa675d5a-49b8-4f91-96ef-43baed17a3f1",
   "metadata": {},
   "outputs": [
    {
     "data": {
      "application/vnd.plotly.v1+json": {
       "config": {
        "plotlyServerURL": "https://plot.ly"
       },
       "data": [
        {
         "hovertemplate": "Average %=%{x}<br>Saving Behavior Indicator=%{y}<extra></extra>",
         "legendgroup": "",
         "marker": {
          "color": "#276749",
          "pattern": {
           "shape": ""
          }
         },
         "name": "",
         "orientation": "h",
         "showlegend": false,
         "textposition": "auto",
         "type": "bar",
         "x": {
          "_inputArray": {
           "0": 6.503506493506493,
           "1": 9.602077922077923,
           "10": 23.238961352657004,
           "11": 24.521177536231885,
           "12": 25.99511111111111,
           "13": 30.693925925925928,
           "14": 49.50207729468599,
           "15": 53.987560386473426,
           "2": 10.063809523809525,
           "3": 10.653512544802867,
           "4": 11.183904761904762,
           "5": 15.72584229390681,
           "6": 18.580434782608695,
           "7": 20.054782608695653,
           "8": 20.27963768115942,
           "9": 21.054293478260867,
           "bdata": "cbzLNJcDGkDH77GOQzQjQNjeU6SrICRAeeg+MplOJUBT69PDKF4mQEnE5Jmhcy9A5cO4X5eUMkDGvKg7Bg40QBpPx1WWRzRAOoRpLeYNNUB1qzqSLD03QJuGGeRrhThAwxsOmr/+OUDJsiUhpbE+QMhenBFEwEhAP131YGj+SkA=",
           "dtype": "f8",
           "shape": "16"
          },
          "bdata": "cbzLNJcDGkDH77GOQzQjQNjeU6SrICRAeeg+MplOJUBT69PDKF4mQEnE5Jmhcy9A5cO4X5eUMkDGvKg7Bg40QBpPx1WWRzRAOoRpLeYNNUB1qzqSLD03QJuGGeRrhThAwxsOmr/+OUDJsiUhpbE+QMhenBFEwEhAP131YGj+SkA=",
          "dtype": "f8"
         },
         "xaxis": "x",
         "y": [
          "Saved money using a mobile money account, female",
          "Saved money using a mobile money account, male",
          "Saved using a savings club or a person outside the family, male",
          "Saved to start, operate, or expand a farm or business, female",
          "Saved using a savings club or a person outside the family, female",
          "Saved to start, operate, or expand a farm or business, male",
          "Saved for education or school fees, female",
          "Saved for education or school fees, male",
          "Saved for old age, female",
          "Saved at a financial institution, female",
          "Saved for old age, male",
          "Saved at a financial institution, male",
          "Saved at a financial institution or using a mobile money account, female",
          "Saved at a financial institution or using a mobile money account, male",
          "Saved any money, female",
          "Saved any money, male"
         ],
         "yaxis": "y"
        }
       ],
       "layout": {
        "barmode": "relative",
        "height": 360,
        "legend": {
         "tracegroupgap": 0
        },
        "margin": {
         "t": 60
        },
        "template": {
         "data": {
          "bar": [
           {
            "error_x": {
             "color": "#2a3f5f"
            },
            "error_y": {
             "color": "#2a3f5f"
            },
            "marker": {
             "line": {
              "color": "#E5ECF6",
              "width": 0.5
             },
             "pattern": {
              "fillmode": "overlay",
              "size": 10,
              "solidity": 0.2
             }
            },
            "type": "bar"
           }
          ],
          "barpolar": [
           {
            "marker": {
             "line": {
              "color": "#E5ECF6",
              "width": 0.5
             },
             "pattern": {
              "fillmode": "overlay",
              "size": 10,
              "solidity": 0.2
             }
            },
            "type": "barpolar"
           }
          ],
          "carpet": [
           {
            "aaxis": {
             "endlinecolor": "#2a3f5f",
             "gridcolor": "white",
             "linecolor": "white",
             "minorgridcolor": "white",
             "startlinecolor": "#2a3f5f"
            },
            "baxis": {
             "endlinecolor": "#2a3f5f",
             "gridcolor": "white",
             "linecolor": "white",
             "minorgridcolor": "white",
             "startlinecolor": "#2a3f5f"
            },
            "type": "carpet"
           }
          ],
          "choropleth": [
           {
            "colorbar": {
             "outlinewidth": 0,
             "ticks": ""
            },
            "type": "choropleth"
           }
          ],
          "contour": [
           {
            "colorbar": {
             "outlinewidth": 0,
             "ticks": ""
            },
            "colorscale": [
             [
              0,
              "#0d0887"
             ],
             [
              0.1111111111111111,
              "#46039f"
             ],
             [
              0.2222222222222222,
              "#7201a8"
             ],
             [
              0.3333333333333333,
              "#9c179e"
             ],
             [
              0.4444444444444444,
              "#bd3786"
             ],
             [
              0.5555555555555556,
              "#d8576b"
             ],
             [
              0.6666666666666666,
              "#ed7953"
             ],
             [
              0.7777777777777778,
              "#fb9f3a"
             ],
             [
              0.8888888888888888,
              "#fdca26"
             ],
             [
              1,
              "#f0f921"
             ]
            ],
            "type": "contour"
           }
          ],
          "contourcarpet": [
           {
            "colorbar": {
             "outlinewidth": 0,
             "ticks": ""
            },
            "type": "contourcarpet"
           }
          ],
          "heatmap": [
           {
            "colorbar": {
             "outlinewidth": 0,
             "ticks": ""
            },
            "colorscale": [
             [
              0,
              "#0d0887"
             ],
             [
              0.1111111111111111,
              "#46039f"
             ],
             [
              0.2222222222222222,
              "#7201a8"
             ],
             [
              0.3333333333333333,
              "#9c179e"
             ],
             [
              0.4444444444444444,
              "#bd3786"
             ],
             [
              0.5555555555555556,
              "#d8576b"
             ],
             [
              0.6666666666666666,
              "#ed7953"
             ],
             [
              0.7777777777777778,
              "#fb9f3a"
             ],
             [
              0.8888888888888888,
              "#fdca26"
             ],
             [
              1,
              "#f0f921"
             ]
            ],
            "type": "heatmap"
           }
          ],
          "histogram": [
           {
            "marker": {
             "pattern": {
              "fillmode": "overlay",
              "size": 10,
              "solidity": 0.2
             }
            },
            "type": "histogram"
           }
          ],
          "histogram2d": [
           {
            "colorbar": {
             "outlinewidth": 0,
             "ticks": ""
            },
            "colorscale": [
             [
              0,
              "#0d0887"
             ],
             [
              0.1111111111111111,
              "#46039f"
             ],
             [
              0.2222222222222222,
              "#7201a8"
             ],
             [
              0.3333333333333333,
              "#9c179e"
             ],
             [
              0.4444444444444444,
              "#bd3786"
             ],
             [
              0.5555555555555556,
              "#d8576b"
             ],
             [
              0.6666666666666666,
              "#ed7953"
             ],
             [
              0.7777777777777778,
              "#fb9f3a"
             ],
             [
              0.8888888888888888,
              "#fdca26"
             ],
             [
              1,
              "#f0f921"
             ]
            ],
            "type": "histogram2d"
           }
          ],
          "histogram2dcontour": [
           {
            "colorbar": {
             "outlinewidth": 0,
             "ticks": ""
            },
            "colorscale": [
             [
              0,
              "#0d0887"
             ],
             [
              0.1111111111111111,
              "#46039f"
             ],
             [
              0.2222222222222222,
              "#7201a8"
             ],
             [
              0.3333333333333333,
              "#9c179e"
             ],
             [
              0.4444444444444444,
              "#bd3786"
             ],
             [
              0.5555555555555556,
              "#d8576b"
             ],
             [
              0.6666666666666666,
              "#ed7953"
             ],
             [
              0.7777777777777778,
              "#fb9f3a"
             ],
             [
              0.8888888888888888,
              "#fdca26"
             ],
             [
              1,
              "#f0f921"
             ]
            ],
            "type": "histogram2dcontour"
           }
          ],
          "mesh3d": [
           {
            "colorbar": {
             "outlinewidth": 0,
             "ticks": ""
            },
            "type": "mesh3d"
           }
          ],
          "parcoords": [
           {
            "line": {
             "colorbar": {
              "outlinewidth": 0,
              "ticks": ""
             }
            },
            "type": "parcoords"
           }
          ],
          "pie": [
           {
            "automargin": true,
            "type": "pie"
           }
          ],
          "scatter": [
           {
            "fillpattern": {
             "fillmode": "overlay",
             "size": 10,
             "solidity": 0.2
            },
            "type": "scatter"
           }
          ],
          "scatter3d": [
           {
            "line": {
             "colorbar": {
              "outlinewidth": 0,
              "ticks": ""
             }
            },
            "marker": {
             "colorbar": {
              "outlinewidth": 0,
              "ticks": ""
             }
            },
            "type": "scatter3d"
           }
          ],
          "scattercarpet": [
           {
            "marker": {
             "colorbar": {
              "outlinewidth": 0,
              "ticks": ""
             }
            },
            "type": "scattercarpet"
           }
          ],
          "scattergeo": [
           {
            "marker": {
             "colorbar": {
              "outlinewidth": 0,
              "ticks": ""
             }
            },
            "type": "scattergeo"
           }
          ],
          "scattergl": [
           {
            "marker": {
             "colorbar": {
              "outlinewidth": 0,
              "ticks": ""
             }
            },
            "type": "scattergl"
           }
          ],
          "scattermap": [
           {
            "marker": {
             "colorbar": {
              "outlinewidth": 0,
              "ticks": ""
             }
            },
            "type": "scattermap"
           }
          ],
          "scattermapbox": [
           {
            "marker": {
             "colorbar": {
              "outlinewidth": 0,
              "ticks": ""
             }
            },
            "type": "scattermapbox"
           }
          ],
          "scatterpolar": [
           {
            "marker": {
             "colorbar": {
              "outlinewidth": 0,
              "ticks": ""
             }
            },
            "type": "scatterpolar"
           }
          ],
          "scatterpolargl": [
           {
            "marker": {
             "colorbar": {
              "outlinewidth": 0,
              "ticks": ""
             }
            },
            "type": "scatterpolargl"
           }
          ],
          "scatterternary": [
           {
            "marker": {
             "colorbar": {
              "outlinewidth": 0,
              "ticks": ""
             }
            },
            "type": "scatterternary"
           }
          ],
          "surface": [
           {
            "colorbar": {
             "outlinewidth": 0,
             "ticks": ""
            },
            "colorscale": [
             [
              0,
              "#0d0887"
             ],
             [
              0.1111111111111111,
              "#46039f"
             ],
             [
              0.2222222222222222,
              "#7201a8"
             ],
             [
              0.3333333333333333,
              "#9c179e"
             ],
             [
              0.4444444444444444,
              "#bd3786"
             ],
             [
              0.5555555555555556,
              "#d8576b"
             ],
             [
              0.6666666666666666,
              "#ed7953"
             ],
             [
              0.7777777777777778,
              "#fb9f3a"
             ],
             [
              0.8888888888888888,
              "#fdca26"
             ],
             [
              1,
              "#f0f921"
             ]
            ],
            "type": "surface"
           }
          ],
          "table": [
           {
            "cells": {
             "fill": {
              "color": "#EBF0F8"
             },
             "line": {
              "color": "white"
             }
            },
            "header": {
             "fill": {
              "color": "#C8D4E3"
             },
             "line": {
              "color": "white"
             }
            },
            "type": "table"
           }
          ]
         },
         "layout": {
          "annotationdefaults": {
           "arrowcolor": "#2a3f5f",
           "arrowhead": 0,
           "arrowwidth": 1
          },
          "autotypenumbers": "strict",
          "coloraxis": {
           "colorbar": {
            "outlinewidth": 0,
            "ticks": ""
           }
          },
          "colorscale": {
           "diverging": [
            [
             0,
             "#8e0152"
            ],
            [
             0.1,
             "#c51b7d"
            ],
            [
             0.2,
             "#de77ae"
            ],
            [
             0.3,
             "#f1b6da"
            ],
            [
             0.4,
             "#fde0ef"
            ],
            [
             0.5,
             "#f7f7f7"
            ],
            [
             0.6,
             "#e6f5d0"
            ],
            [
             0.7,
             "#b8e186"
            ],
            [
             0.8,
             "#7fbc41"
            ],
            [
             0.9,
             "#4d9221"
            ],
            [
             1,
             "#276419"
            ]
           ],
           "sequential": [
            [
             0,
             "#0d0887"
            ],
            [
             0.1111111111111111,
             "#46039f"
            ],
            [
             0.2222222222222222,
             "#7201a8"
            ],
            [
             0.3333333333333333,
             "#9c179e"
            ],
            [
             0.4444444444444444,
             "#bd3786"
            ],
            [
             0.5555555555555556,
             "#d8576b"
            ],
            [
             0.6666666666666666,
             "#ed7953"
            ],
            [
             0.7777777777777778,
             "#fb9f3a"
            ],
            [
             0.8888888888888888,
             "#fdca26"
            ],
            [
             1,
             "#f0f921"
            ]
           ],
           "sequentialminus": [
            [
             0,
             "#0d0887"
            ],
            [
             0.1111111111111111,
             "#46039f"
            ],
            [
             0.2222222222222222,
             "#7201a8"
            ],
            [
             0.3333333333333333,
             "#9c179e"
            ],
            [
             0.4444444444444444,
             "#bd3786"
            ],
            [
             0.5555555555555556,
             "#d8576b"
            ],
            [
             0.6666666666666666,
             "#ed7953"
            ],
            [
             0.7777777777777778,
             "#fb9f3a"
            ],
            [
             0.8888888888888888,
             "#fdca26"
            ],
            [
             1,
             "#f0f921"
            ]
           ]
          },
          "colorway": [
           "#636efa",
           "#EF553B",
           "#00cc96",
           "#ab63fa",
           "#FFA15A",
           "#19d3f3",
           "#FF6692",
           "#B6E880",
           "#FF97FF",
           "#FECB52"
          ],
          "font": {
           "color": "#2a3f5f"
          },
          "geo": {
           "bgcolor": "white",
           "lakecolor": "white",
           "landcolor": "#E5ECF6",
           "showlakes": true,
           "showland": true,
           "subunitcolor": "white"
          },
          "hoverlabel": {
           "align": "left"
          },
          "hovermode": "closest",
          "mapbox": {
           "style": "light"
          },
          "paper_bgcolor": "white",
          "plot_bgcolor": "#E5ECF6",
          "polar": {
           "angularaxis": {
            "gridcolor": "white",
            "linecolor": "white",
            "ticks": ""
           },
           "bgcolor": "#E5ECF6",
           "radialaxis": {
            "gridcolor": "white",
            "linecolor": "white",
            "ticks": ""
           }
          },
          "scene": {
           "xaxis": {
            "backgroundcolor": "#E5ECF6",
            "gridcolor": "white",
            "gridwidth": 2,
            "linecolor": "white",
            "showbackground": true,
            "ticks": "",
            "zerolinecolor": "white"
           },
           "yaxis": {
            "backgroundcolor": "#E5ECF6",
            "gridcolor": "white",
            "gridwidth": 2,
            "linecolor": "white",
            "showbackground": true,
            "ticks": "",
            "zerolinecolor": "white"
           },
           "zaxis": {
            "backgroundcolor": "#E5ECF6",
            "gridcolor": "white",
            "gridwidth": 2,
            "linecolor": "white",
            "showbackground": true,
            "ticks": "",
            "zerolinecolor": "white"
           }
          },
          "shapedefaults": {
           "line": {
            "color": "#2a3f5f"
           }
          },
          "ternary": {
           "aaxis": {
            "gridcolor": "white",
            "linecolor": "white",
            "ticks": ""
           },
           "baxis": {
            "gridcolor": "white",
            "linecolor": "white",
            "ticks": ""
           },
           "bgcolor": "#E5ECF6",
           "caxis": {
            "gridcolor": "white",
            "linecolor": "white",
            "ticks": ""
           }
          },
          "title": {
           "x": 0.05
          },
          "xaxis": {
           "automargin": true,
           "gridcolor": "white",
           "linecolor": "white",
           "ticks": "",
           "title": {
            "standoff": 15
           },
           "zerolinecolor": "white",
           "zerolinewidth": 2
          },
          "yaxis": {
           "automargin": true,
           "gridcolor": "white",
           "linecolor": "white",
           "ticks": "",
           "title": {
            "standoff": 15
           },
           "zerolinecolor": "white",
           "zerolinewidth": 2
          }
         }
        },
        "title": {
         "font": {
          "color": "#144d14",
          "family": "Lato, sans-serif",
          "size": 20,
          "weight": "bold"
         },
         "text": "Saving Behavior by Gender",
         "x": 0.5
        },
        "xaxis": {
         "anchor": "y",
         "autorange": true,
         "domain": [
          0,
          1
         ],
         "range": [
          0,
          56.82901093312992
         ],
         "title": {
          "text": "Average %"
         },
         "type": "linear"
        },
        "yaxis": {
         "anchor": "x",
         "autorange": true,
         "domain": [
          0,
          1
         ],
         "range": [
          -0.5,
          15.5
         ],
         "title": {
          "text": "Saving Behavior Indicator"
         },
         "type": "category"
        }
       }
      }
     },
     "metadata": {},
     "output_type": "display_data"
    }
   ],
   "source": [
    "fig_saving_gender = px.bar(\n",
    "    saving_gender_summary,\n",
    "    x=\"Indicator value\",\n",
    "    y=\"Indicator\",\n",
    "    orientation=\"h\",\n",
    "    color_discrete_sequence=[\"#276749\"],\n",
    "    labels={\"Indicator value\": \"Average %\", \"Indicator\": \"Saving Behavior Indicator\"}\n",
    ")\n",
    "fig_saving_gender.update_layout(\n",
    "    title=\"Saving Behavior by Gender\",\n",
    "    title_x=0.5,\n",
    "    title_font=dict(size=20, family='Lato, sans-serif', color='#144d14', weight='bold')\n",
    ")\n",
    "fig_saving_gender.show()\n"
   ]
  },
  {
   "cell_type": "markdown",
   "id": "41bfff0c-3035-45fd-9a3b-010bdbc781fa",
   "metadata": {},
   "source": [
    "**Overall Saving Rates:**  \n",
    "The chart indicates that a higher percentage of women (over 50%) than men report having saved any money, suggesting women are more inclined to save.\n",
    "\n",
    "**Formal vs. Informal Savings:**  \n",
    "Women are more likely to save in a formal way, such as at a financial institution or using a mobile money account. In contrast, men are more likely to save for old age, but their overall saving behavior seems to lean more towards informal methods or specific goals.\n"
   ]
  },
  {
   "cell_type": "markdown",
   "id": "f22a67f8-c633-4bb9-bd6d-8d467a78c4df",
   "metadata": {},
   "source": [
    "## Borrowing behaviour"
   ]
  },
  {
   "cell_type": "code",
   "execution_count": 33,
   "id": "f0cf615f-eb41-46bc-b670-3b9626936edb",
   "metadata": {},
   "outputs": [],
   "source": [
    "# Prepare Borrowing Behavior by Education data\n",
    "borrowing_education = borrowing_data[\"Education\"].copy()\n",
    "borrowing_education[\"Indicator\"] = borrowing_education[\"Indicator\"].str.replace(r\"\\s*\\(.*?\\)\", \"\", regex=True)\n",
    "\n",
    "borrowing_education_summary = (\n",
    "    borrowing_education.groupby(\"Indicator\")[\"Indicator value\"]\n",
    "    .mean()\n",
    "    .reset_index()\n",
    "    .sort_values(by=\"Indicator value\", ascending=True)\n",
    "    .head(20)\n",
    ")\n"
   ]
  },
  {
   "cell_type": "code",
   "execution_count": 34,
   "id": "f4c1bba5-fd63-4e63-9601-e75768ad1403",
   "metadata": {},
   "outputs": [
    {
     "data": {
      "application/vnd.plotly.v1+json": {
       "config": {
        "plotlyServerURL": "https://plot.ly"
       },
       "data": [
        {
         "hovertemplate": "Average %=%{x}<br>Borrowing Behavior Indicator=%{y}<extra></extra>",
         "legendgroup": "",
         "marker": {
          "color": "#276749",
          "pattern": {
           "shape": ""
          }
         },
         "name": "",
         "orientation": "h",
         "showlegend": false,
         "textposition": "auto",
         "type": "bar",
         "x": {
          "_inputArray": {
           "0": 4.312300469483568,
           "1": 5.001267605633803,
           "10": 12.582976406533575,
           "11": 12.931014492753622,
           "12": 15.159820788530466,
           "13": 16.337333333333333,
           "14": 23.08343012704174,
           "15": 23.686660617059893,
           "16": 24.797767695099818,
           "17": 28.69325925925926,
           "18": 41.48821256038647,
           "19": 52.54995169082126,
           "2": 5.828279569892473,
           "3": 6.55,
           "4": 6.89358422939068,
           "5": 7.646881720430107,
           "6": 7.856836363636364,
           "7": 9.051376811594203,
           "8": 9.888545454545454,
           "9": 11.180144927536231,
           "bdata": "WdS7scs/EUA095JLTAEUQFCIAoUoUBdAMzMzMzMzGkA90YW+B5MbQJaCZilolh5A813/gmZtH0DEI7sPThoiQHqQCG7vxiNA55249DtcJkB4zTDieyopQCr1fO6t3ClAJ+vHB9RRLkBwhDJ6W1YwQDklQ61bFTdAMrl9/civN0BPQvCAOsw4QO8qVnB5sTxAnC3Kv32+RECGOifRZEZKQA==",
           "dtype": "f8",
           "shape": "20"
          },
          "bdata": "WdS7scs/EUA095JLTAEUQFCIAoUoUBdAMzMzMzMzGkA90YW+B5MbQJaCZilolh5A813/gmZtH0DEI7sPThoiQHqQCG7vxiNA55249DtcJkB4zTDieyopQCr1fO6t3ClAJ+vHB9RRLkBwhDJ6W1YwQDklQ61bFTdAMrl9/civN0BPQvCAOsw4QO8qVnB5sTxAnC3Kv32+RECGOifRZEZKQA==",
          "dtype": "f8"
         },
         "xaxis": "x",
         "y": [
          "Borrowed from a savings club, primary education or less",
          "Borrowed from a savings club, secondary education or more",
          "Borrowed to start, operate, or expand a farm or business, primary education or less",
          "Borrowed for education or school fees, primary education or less",
          "Borrowed to start, operate, or expand a farm or business, secondary education or more",
          "Has an outstanding housing loan, primary education or less",
          "Borrowed from a store by buying on credit, primary education or less",
          "Borrowed for education or school fees, secondary education or more",
          "Borrowed from a store by buying on credit, secondary education or more",
          "Borrowed for health or medical purposes, secondary education or more",
          "Borrowed from a formal financial institution, primary education or less",
          "Borrowed for health or medical purposes, primary education or less",
          "Has an outstanding housing loan, secondary education or more",
          "Borrowed any money from a formal financial institution or using a mobile money account, primary education or less",
          "Borrowed from a formal financial institution, secondary education or more",
          "Borrowed from family or friends, primary education or less",
          "Borrowed from family or friends, secondary education or more",
          "Borrowed any money from a formal financial institution or using a mobile money account, secondary education or more",
          "Borrowed any money, primary education or less",
          "Borrowed any money, secondary education or more"
         ],
         "yaxis": "y"
        }
       ],
       "layout": {
        "barmode": "relative",
        "height": 360,
        "legend": {
         "tracegroupgap": 0
        },
        "margin": {
         "t": 60
        },
        "template": {
         "data": {
          "bar": [
           {
            "error_x": {
             "color": "#2a3f5f"
            },
            "error_y": {
             "color": "#2a3f5f"
            },
            "marker": {
             "line": {
              "color": "#E5ECF6",
              "width": 0.5
             },
             "pattern": {
              "fillmode": "overlay",
              "size": 10,
              "solidity": 0.2
             }
            },
            "type": "bar"
           }
          ],
          "barpolar": [
           {
            "marker": {
             "line": {
              "color": "#E5ECF6",
              "width": 0.5
             },
             "pattern": {
              "fillmode": "overlay",
              "size": 10,
              "solidity": 0.2
             }
            },
            "type": "barpolar"
           }
          ],
          "carpet": [
           {
            "aaxis": {
             "endlinecolor": "#2a3f5f",
             "gridcolor": "white",
             "linecolor": "white",
             "minorgridcolor": "white",
             "startlinecolor": "#2a3f5f"
            },
            "baxis": {
             "endlinecolor": "#2a3f5f",
             "gridcolor": "white",
             "linecolor": "white",
             "minorgridcolor": "white",
             "startlinecolor": "#2a3f5f"
            },
            "type": "carpet"
           }
          ],
          "choropleth": [
           {
            "colorbar": {
             "outlinewidth": 0,
             "ticks": ""
            },
            "type": "choropleth"
           }
          ],
          "contour": [
           {
            "colorbar": {
             "outlinewidth": 0,
             "ticks": ""
            },
            "colorscale": [
             [
              0,
              "#0d0887"
             ],
             [
              0.1111111111111111,
              "#46039f"
             ],
             [
              0.2222222222222222,
              "#7201a8"
             ],
             [
              0.3333333333333333,
              "#9c179e"
             ],
             [
              0.4444444444444444,
              "#bd3786"
             ],
             [
              0.5555555555555556,
              "#d8576b"
             ],
             [
              0.6666666666666666,
              "#ed7953"
             ],
             [
              0.7777777777777778,
              "#fb9f3a"
             ],
             [
              0.8888888888888888,
              "#fdca26"
             ],
             [
              1,
              "#f0f921"
             ]
            ],
            "type": "contour"
           }
          ],
          "contourcarpet": [
           {
            "colorbar": {
             "outlinewidth": 0,
             "ticks": ""
            },
            "type": "contourcarpet"
           }
          ],
          "heatmap": [
           {
            "colorbar": {
             "outlinewidth": 0,
             "ticks": ""
            },
            "colorscale": [
             [
              0,
              "#0d0887"
             ],
             [
              0.1111111111111111,
              "#46039f"
             ],
             [
              0.2222222222222222,
              "#7201a8"
             ],
             [
              0.3333333333333333,
              "#9c179e"
             ],
             [
              0.4444444444444444,
              "#bd3786"
             ],
             [
              0.5555555555555556,
              "#d8576b"
             ],
             [
              0.6666666666666666,
              "#ed7953"
             ],
             [
              0.7777777777777778,
              "#fb9f3a"
             ],
             [
              0.8888888888888888,
              "#fdca26"
             ],
             [
              1,
              "#f0f921"
             ]
            ],
            "type": "heatmap"
           }
          ],
          "histogram": [
           {
            "marker": {
             "pattern": {
              "fillmode": "overlay",
              "size": 10,
              "solidity": 0.2
             }
            },
            "type": "histogram"
           }
          ],
          "histogram2d": [
           {
            "colorbar": {
             "outlinewidth": 0,
             "ticks": ""
            },
            "colorscale": [
             [
              0,
              "#0d0887"
             ],
             [
              0.1111111111111111,
              "#46039f"
             ],
             [
              0.2222222222222222,
              "#7201a8"
             ],
             [
              0.3333333333333333,
              "#9c179e"
             ],
             [
              0.4444444444444444,
              "#bd3786"
             ],
             [
              0.5555555555555556,
              "#d8576b"
             ],
             [
              0.6666666666666666,
              "#ed7953"
             ],
             [
              0.7777777777777778,
              "#fb9f3a"
             ],
             [
              0.8888888888888888,
              "#fdca26"
             ],
             [
              1,
              "#f0f921"
             ]
            ],
            "type": "histogram2d"
           }
          ],
          "histogram2dcontour": [
           {
            "colorbar": {
             "outlinewidth": 0,
             "ticks": ""
            },
            "colorscale": [
             [
              0,
              "#0d0887"
             ],
             [
              0.1111111111111111,
              "#46039f"
             ],
             [
              0.2222222222222222,
              "#7201a8"
             ],
             [
              0.3333333333333333,
              "#9c179e"
             ],
             [
              0.4444444444444444,
              "#bd3786"
             ],
             [
              0.5555555555555556,
              "#d8576b"
             ],
             [
              0.6666666666666666,
              "#ed7953"
             ],
             [
              0.7777777777777778,
              "#fb9f3a"
             ],
             [
              0.8888888888888888,
              "#fdca26"
             ],
             [
              1,
              "#f0f921"
             ]
            ],
            "type": "histogram2dcontour"
           }
          ],
          "mesh3d": [
           {
            "colorbar": {
             "outlinewidth": 0,
             "ticks": ""
            },
            "type": "mesh3d"
           }
          ],
          "parcoords": [
           {
            "line": {
             "colorbar": {
              "outlinewidth": 0,
              "ticks": ""
             }
            },
            "type": "parcoords"
           }
          ],
          "pie": [
           {
            "automargin": true,
            "type": "pie"
           }
          ],
          "scatter": [
           {
            "fillpattern": {
             "fillmode": "overlay",
             "size": 10,
             "solidity": 0.2
            },
            "type": "scatter"
           }
          ],
          "scatter3d": [
           {
            "line": {
             "colorbar": {
              "outlinewidth": 0,
              "ticks": ""
             }
            },
            "marker": {
             "colorbar": {
              "outlinewidth": 0,
              "ticks": ""
             }
            },
            "type": "scatter3d"
           }
          ],
          "scattercarpet": [
           {
            "marker": {
             "colorbar": {
              "outlinewidth": 0,
              "ticks": ""
             }
            },
            "type": "scattercarpet"
           }
          ],
          "scattergeo": [
           {
            "marker": {
             "colorbar": {
              "outlinewidth": 0,
              "ticks": ""
             }
            },
            "type": "scattergeo"
           }
          ],
          "scattergl": [
           {
            "marker": {
             "colorbar": {
              "outlinewidth": 0,
              "ticks": ""
             }
            },
            "type": "scattergl"
           }
          ],
          "scattermap": [
           {
            "marker": {
             "colorbar": {
              "outlinewidth": 0,
              "ticks": ""
             }
            },
            "type": "scattermap"
           }
          ],
          "scattermapbox": [
           {
            "marker": {
             "colorbar": {
              "outlinewidth": 0,
              "ticks": ""
             }
            },
            "type": "scattermapbox"
           }
          ],
          "scatterpolar": [
           {
            "marker": {
             "colorbar": {
              "outlinewidth": 0,
              "ticks": ""
             }
            },
            "type": "scatterpolar"
           }
          ],
          "scatterpolargl": [
           {
            "marker": {
             "colorbar": {
              "outlinewidth": 0,
              "ticks": ""
             }
            },
            "type": "scatterpolargl"
           }
          ],
          "scatterternary": [
           {
            "marker": {
             "colorbar": {
              "outlinewidth": 0,
              "ticks": ""
             }
            },
            "type": "scatterternary"
           }
          ],
          "surface": [
           {
            "colorbar": {
             "outlinewidth": 0,
             "ticks": ""
            },
            "colorscale": [
             [
              0,
              "#0d0887"
             ],
             [
              0.1111111111111111,
              "#46039f"
             ],
             [
              0.2222222222222222,
              "#7201a8"
             ],
             [
              0.3333333333333333,
              "#9c179e"
             ],
             [
              0.4444444444444444,
              "#bd3786"
             ],
             [
              0.5555555555555556,
              "#d8576b"
             ],
             [
              0.6666666666666666,
              "#ed7953"
             ],
             [
              0.7777777777777778,
              "#fb9f3a"
             ],
             [
              0.8888888888888888,
              "#fdca26"
             ],
             [
              1,
              "#f0f921"
             ]
            ],
            "type": "surface"
           }
          ],
          "table": [
           {
            "cells": {
             "fill": {
              "color": "#EBF0F8"
             },
             "line": {
              "color": "white"
             }
            },
            "header": {
             "fill": {
              "color": "#C8D4E3"
             },
             "line": {
              "color": "white"
             }
            },
            "type": "table"
           }
          ]
         },
         "layout": {
          "annotationdefaults": {
           "arrowcolor": "#2a3f5f",
           "arrowhead": 0,
           "arrowwidth": 1
          },
          "autotypenumbers": "strict",
          "coloraxis": {
           "colorbar": {
            "outlinewidth": 0,
            "ticks": ""
           }
          },
          "colorscale": {
           "diverging": [
            [
             0,
             "#8e0152"
            ],
            [
             0.1,
             "#c51b7d"
            ],
            [
             0.2,
             "#de77ae"
            ],
            [
             0.3,
             "#f1b6da"
            ],
            [
             0.4,
             "#fde0ef"
            ],
            [
             0.5,
             "#f7f7f7"
            ],
            [
             0.6,
             "#e6f5d0"
            ],
            [
             0.7,
             "#b8e186"
            ],
            [
             0.8,
             "#7fbc41"
            ],
            [
             0.9,
             "#4d9221"
            ],
            [
             1,
             "#276419"
            ]
           ],
           "sequential": [
            [
             0,
             "#0d0887"
            ],
            [
             0.1111111111111111,
             "#46039f"
            ],
            [
             0.2222222222222222,
             "#7201a8"
            ],
            [
             0.3333333333333333,
             "#9c179e"
            ],
            [
             0.4444444444444444,
             "#bd3786"
            ],
            [
             0.5555555555555556,
             "#d8576b"
            ],
            [
             0.6666666666666666,
             "#ed7953"
            ],
            [
             0.7777777777777778,
             "#fb9f3a"
            ],
            [
             0.8888888888888888,
             "#fdca26"
            ],
            [
             1,
             "#f0f921"
            ]
           ],
           "sequentialminus": [
            [
             0,
             "#0d0887"
            ],
            [
             0.1111111111111111,
             "#46039f"
            ],
            [
             0.2222222222222222,
             "#7201a8"
            ],
            [
             0.3333333333333333,
             "#9c179e"
            ],
            [
             0.4444444444444444,
             "#bd3786"
            ],
            [
             0.5555555555555556,
             "#d8576b"
            ],
            [
             0.6666666666666666,
             "#ed7953"
            ],
            [
             0.7777777777777778,
             "#fb9f3a"
            ],
            [
             0.8888888888888888,
             "#fdca26"
            ],
            [
             1,
             "#f0f921"
            ]
           ]
          },
          "colorway": [
           "#636efa",
           "#EF553B",
           "#00cc96",
           "#ab63fa",
           "#FFA15A",
           "#19d3f3",
           "#FF6692",
           "#B6E880",
           "#FF97FF",
           "#FECB52"
          ],
          "font": {
           "color": "#2a3f5f"
          },
          "geo": {
           "bgcolor": "white",
           "lakecolor": "white",
           "landcolor": "#E5ECF6",
           "showlakes": true,
           "showland": true,
           "subunitcolor": "white"
          },
          "hoverlabel": {
           "align": "left"
          },
          "hovermode": "closest",
          "mapbox": {
           "style": "light"
          },
          "paper_bgcolor": "white",
          "plot_bgcolor": "#E5ECF6",
          "polar": {
           "angularaxis": {
            "gridcolor": "white",
            "linecolor": "white",
            "ticks": ""
           },
           "bgcolor": "#E5ECF6",
           "radialaxis": {
            "gridcolor": "white",
            "linecolor": "white",
            "ticks": ""
           }
          },
          "scene": {
           "xaxis": {
            "backgroundcolor": "#E5ECF6",
            "gridcolor": "white",
            "gridwidth": 2,
            "linecolor": "white",
            "showbackground": true,
            "ticks": "",
            "zerolinecolor": "white"
           },
           "yaxis": {
            "backgroundcolor": "#E5ECF6",
            "gridcolor": "white",
            "gridwidth": 2,
            "linecolor": "white",
            "showbackground": true,
            "ticks": "",
            "zerolinecolor": "white"
           },
           "zaxis": {
            "backgroundcolor": "#E5ECF6",
            "gridcolor": "white",
            "gridwidth": 2,
            "linecolor": "white",
            "showbackground": true,
            "ticks": "",
            "zerolinecolor": "white"
           }
          },
          "shapedefaults": {
           "line": {
            "color": "#2a3f5f"
           }
          },
          "ternary": {
           "aaxis": {
            "gridcolor": "white",
            "linecolor": "white",
            "ticks": ""
           },
           "baxis": {
            "gridcolor": "white",
            "linecolor": "white",
            "ticks": ""
           },
           "bgcolor": "#E5ECF6",
           "caxis": {
            "gridcolor": "white",
            "linecolor": "white",
            "ticks": ""
           }
          },
          "title": {
           "x": 0.05
          },
          "xaxis": {
           "automargin": true,
           "gridcolor": "white",
           "linecolor": "white",
           "ticks": "",
           "title": {
            "standoff": 15
           },
           "zerolinecolor": "white",
           "zerolinewidth": 2
          },
          "yaxis": {
           "automargin": true,
           "gridcolor": "white",
           "linecolor": "white",
           "ticks": "",
           "title": {
            "standoff": 15
           },
           "zerolinecolor": "white",
           "zerolinewidth": 2
          }
         }
        },
        "title": {
         "font": {
          "color": "#144d14",
          "family": "Lato, sans-serif",
          "size": 20,
          "weight": "bold"
         },
         "text": "Borrowing Behavior by Education",
         "x": 0.5
        },
        "xaxis": {
         "anchor": "y",
         "autorange": true,
         "domain": [
          0,
          1
         ],
         "range": [
          0,
          55.31573862191711
         ],
         "title": {
          "text": "Average %"
         },
         "type": "linear"
        },
        "yaxis": {
         "anchor": "x",
         "autorange": true,
         "domain": [
          0,
          1
         ],
         "range": [
          -0.5,
          19.5
         ],
         "title": {
          "text": "Borrowing Behavior Indicator"
         },
         "type": "category"
        }
       }
      }
     },
     "metadata": {},
     "output_type": "display_data"
    }
   ],
   "source": [
    "fig_borrowing_education = px.bar(\n",
    "    borrowing_education_summary,\n",
    "    x=\"Indicator value\",\n",
    "    y=\"Indicator\",\n",
    "    orientation=\"h\",\n",
    "    color_discrete_sequence=[\"#276749\"],\n",
    "    labels={\"Indicator value\": \"Average %\", \"Indicator\": \"Borrowing Behavior Indicator\"}\n",
    ")\n",
    "fig_borrowing_education.update_layout(\n",
    "    title=\"Borrowing Behavior by Education\",\n",
    "    title_x=0.5,\n",
    "    title_font=dict(size=20, family='Lato, sans-serif', color='#144d14', weight='bold')\n",
    ")\n",
    "fig_borrowing_education.show()\n"
   ]
  },
  {
   "cell_type": "markdown",
   "id": "f86a0784-a796-43ec-af07-619cfbb8f76f",
   "metadata": {},
   "source": [
    "**Overall Borrowing:**  \n",
    "Individuals with a primary education or less are most likely to report borrowing any money.\n",
    "\n",
    "**Informal Borrowing:**  \n",
    "There is a clear pattern of informal borrowing among those with less education, particularly from family and friends. This type of borrowing is more common for those with primary education or less.\n",
    "\n",
    "**Formal Borrowing:**  \n",
    "Individuals with secondary education or more show a higher rate of borrowing from formal financial institutions and are more likely to have an outstanding housing loan.\n"
   ]
  },
  {
   "cell_type": "markdown",
   "id": "447072c6-77df-459c-81ba-9c114a3938f1",
   "metadata": {},
   "source": [
    "## Barriers to financial inclusion"
   ]
  },
  {
   "cell_type": "code",
   "execution_count": 37,
   "id": "f204c83d-f289-471c-83a9-58e641ee0d2a",
   "metadata": {},
   "outputs": [],
   "source": [
    "# Clean barrier indicator function\n",
    "def clean_barrier_indicator(indicator):\n",
    "    if pd.isna(indicator) or str(indicator).strip() == \"\":\n",
    "        return None\n",
    "\n",
    "    text = str(indicator).lower()\n",
    "\n",
    "    # Remove suffixes like (% age 15+)\n",
    "    for suffix in [\n",
    "        \"(% without an account 15 +)\", \"(% without an account age 15+)\",\n",
    "        \"(% age 15+ without an account)\", \"(% age 15+)\"\n",
    "    ]:\n",
    "        text = text.replace(suffix, \"\")\n",
    "\n",
    "    text = text.replace(\"because\", \"\")\n",
    "    text = text.replace(\"due to\", \"\")\n",
    "    text = text.replace(\"reason for\", \"\")\n",
    "    text = text.strip()\n",
    "\n",
    "    replacements = {\n",
    "        \"insufficient funds\": \"Insufficient Funds\",\n",
    "        \"lack of money\": \"Lack of Money\",\n",
    "        \"too far\": \"Too Far from Institution\",\n",
    "        \"too expensive\": \"Too Expensive\",\n",
    "        \"lack of documentation\": \"No ID / Documentation\",\n",
    "        \"lack of trust\": \"Distrust Institutions\",\n",
    "        \"religious reasons\": \"Religious Reasons\",\n",
    "        \"religion\": \"Religious Reasons\",\n",
    "        \"family member has account\": \"Family Member Has Account\",\n",
    "        \"family member has\": \"Family Member Has Account\",\n",
    "        \"do not need\": \"No Need\",\n",
    "        \"not useful\": \"Not Useful\",\n",
    "        \"no need\": \"No Need\",\n",
    "        \"do not trust financial institutions\": \"Distrust Institutions\",\n",
    "        \"do not trust\": \"Distrust Institutions\",\n",
    "        \"no account\": \"No Account\"\n",
    "    }\n",
    "\n",
    "    for phrase, short in replacements.items():\n",
    "        if phrase in text:\n",
    "            return short\n",
    "\n",
    "    return text.title()\n",
    "\n",
    "\n",
    "barrier_keywords = (\n",
    "    \"barrier|reason for not having an account|no account|lack of money|too expensive|too far|\"\n",
    "    \"family member has|lack of documentation|lack of trust|religious|no need|not useful|\"\n",
    "    \"do not trust financial institutions\"\n",
    ")\n",
    "\n",
    "df_barriers = df[df[\"Indicator\"].str.contains(barrier_keywords, case=False, regex=True)].copy()\n",
    "df_barriers[\"Clean Indicator\"] = df_barriers[\"Indicator\"].apply(clean_barrier_indicator)\n",
    "df_barriers = df_barriers[df_barriers[\"Clean Indicator\"].notna() & (df_barriers[\"Clean Indicator\"] != \"\")]\n",
    "df_barriers = df_barriers[df_barriers[\"Indicator value\"].notna() & (df_barriers[\"Indicator value\"] != \"\")]\n"
   ]
  },
  {
   "cell_type": "code",
   "execution_count": 38,
   "id": "664b7b09-5010-4c2b-a8aa-d87d88cf7c43",
   "metadata": {},
   "outputs": [
    {
     "data": {
      "application/vnd.plotly.v1+json": {
       "config": {
        "plotlyServerURL": "https://plot.ly"
       },
       "data": [
        {
         "hovertemplate": "Indicator value=%{x}<br>Clean Indicator=%{y}<extra></extra>",
         "legendgroup": "",
         "marker": {
          "color": "#1b4d20",
          "pattern": {
           "shape": ""
          }
         },
         "name": "",
         "orientation": "h",
         "showlegend": false,
         "textposition": "auto",
         "type": "bar",
         "x": {
          "_inputArray": {
           "0": 7.45435,
           "1": 18.8854,
           "2": 20.754274999999996,
           "3": 21.62446153846154,
           "4": 26.87531007751938,
           "5": 31.695,
           "6": 53.078500000000005,
           "bdata": "GsBbIEHRHUDf4AuTqeIyQL0wmSoYwTRAWk0dttyfNUASzjxSFOA6QFK4HoXrsT9ANl66SQyKSkA=",
           "dtype": "f8",
           "shape": "7"
          },
          "bdata": "GsBbIEHRHUDf4AuTqeIyQL0wmSoYwTRAWk0dttyfNUASzjxSFOA6QFK4HoXrsT9ANl66SQyKSkA=",
          "dtype": "f8"
         },
         "xaxis": "x",
         "y": [
          "Religious Reasons",
          "Distrust Institutions",
          "No Account",
          "Too Far from Institution",
          "Too Expensive",
          "No Need",
          "Insufficient Funds"
         ],
         "yaxis": "y"
        }
       ],
       "layout": {
        "barmode": "relative",
        "height": 360,
        "legend": {
         "tracegroupgap": 0
        },
        "margin": {
         "t": 60
        },
        "template": {
         "data": {
          "bar": [
           {
            "error_x": {
             "color": "#2a3f5f"
            },
            "error_y": {
             "color": "#2a3f5f"
            },
            "marker": {
             "line": {
              "color": "#E5ECF6",
              "width": 0.5
             },
             "pattern": {
              "fillmode": "overlay",
              "size": 10,
              "solidity": 0.2
             }
            },
            "type": "bar"
           }
          ],
          "barpolar": [
           {
            "marker": {
             "line": {
              "color": "#E5ECF6",
              "width": 0.5
             },
             "pattern": {
              "fillmode": "overlay",
              "size": 10,
              "solidity": 0.2
             }
            },
            "type": "barpolar"
           }
          ],
          "carpet": [
           {
            "aaxis": {
             "endlinecolor": "#2a3f5f",
             "gridcolor": "white",
             "linecolor": "white",
             "minorgridcolor": "white",
             "startlinecolor": "#2a3f5f"
            },
            "baxis": {
             "endlinecolor": "#2a3f5f",
             "gridcolor": "white",
             "linecolor": "white",
             "minorgridcolor": "white",
             "startlinecolor": "#2a3f5f"
            },
            "type": "carpet"
           }
          ],
          "choropleth": [
           {
            "colorbar": {
             "outlinewidth": 0,
             "ticks": ""
            },
            "type": "choropleth"
           }
          ],
          "contour": [
           {
            "colorbar": {
             "outlinewidth": 0,
             "ticks": ""
            },
            "colorscale": [
             [
              0,
              "#0d0887"
             ],
             [
              0.1111111111111111,
              "#46039f"
             ],
             [
              0.2222222222222222,
              "#7201a8"
             ],
             [
              0.3333333333333333,
              "#9c179e"
             ],
             [
              0.4444444444444444,
              "#bd3786"
             ],
             [
              0.5555555555555556,
              "#d8576b"
             ],
             [
              0.6666666666666666,
              "#ed7953"
             ],
             [
              0.7777777777777778,
              "#fb9f3a"
             ],
             [
              0.8888888888888888,
              "#fdca26"
             ],
             [
              1,
              "#f0f921"
             ]
            ],
            "type": "contour"
           }
          ],
          "contourcarpet": [
           {
            "colorbar": {
             "outlinewidth": 0,
             "ticks": ""
            },
            "type": "contourcarpet"
           }
          ],
          "heatmap": [
           {
            "colorbar": {
             "outlinewidth": 0,
             "ticks": ""
            },
            "colorscale": [
             [
              0,
              "#0d0887"
             ],
             [
              0.1111111111111111,
              "#46039f"
             ],
             [
              0.2222222222222222,
              "#7201a8"
             ],
             [
              0.3333333333333333,
              "#9c179e"
             ],
             [
              0.4444444444444444,
              "#bd3786"
             ],
             [
              0.5555555555555556,
              "#d8576b"
             ],
             [
              0.6666666666666666,
              "#ed7953"
             ],
             [
              0.7777777777777778,
              "#fb9f3a"
             ],
             [
              0.8888888888888888,
              "#fdca26"
             ],
             [
              1,
              "#f0f921"
             ]
            ],
            "type": "heatmap"
           }
          ],
          "histogram": [
           {
            "marker": {
             "pattern": {
              "fillmode": "overlay",
              "size": 10,
              "solidity": 0.2
             }
            },
            "type": "histogram"
           }
          ],
          "histogram2d": [
           {
            "colorbar": {
             "outlinewidth": 0,
             "ticks": ""
            },
            "colorscale": [
             [
              0,
              "#0d0887"
             ],
             [
              0.1111111111111111,
              "#46039f"
             ],
             [
              0.2222222222222222,
              "#7201a8"
             ],
             [
              0.3333333333333333,
              "#9c179e"
             ],
             [
              0.4444444444444444,
              "#bd3786"
             ],
             [
              0.5555555555555556,
              "#d8576b"
             ],
             [
              0.6666666666666666,
              "#ed7953"
             ],
             [
              0.7777777777777778,
              "#fb9f3a"
             ],
             [
              0.8888888888888888,
              "#fdca26"
             ],
             [
              1,
              "#f0f921"
             ]
            ],
            "type": "histogram2d"
           }
          ],
          "histogram2dcontour": [
           {
            "colorbar": {
             "outlinewidth": 0,
             "ticks": ""
            },
            "colorscale": [
             [
              0,
              "#0d0887"
             ],
             [
              0.1111111111111111,
              "#46039f"
             ],
             [
              0.2222222222222222,
              "#7201a8"
             ],
             [
              0.3333333333333333,
              "#9c179e"
             ],
             [
              0.4444444444444444,
              "#bd3786"
             ],
             [
              0.5555555555555556,
              "#d8576b"
             ],
             [
              0.6666666666666666,
              "#ed7953"
             ],
             [
              0.7777777777777778,
              "#fb9f3a"
             ],
             [
              0.8888888888888888,
              "#fdca26"
             ],
             [
              1,
              "#f0f921"
             ]
            ],
            "type": "histogram2dcontour"
           }
          ],
          "mesh3d": [
           {
            "colorbar": {
             "outlinewidth": 0,
             "ticks": ""
            },
            "type": "mesh3d"
           }
          ],
          "parcoords": [
           {
            "line": {
             "colorbar": {
              "outlinewidth": 0,
              "ticks": ""
             }
            },
            "type": "parcoords"
           }
          ],
          "pie": [
           {
            "automargin": true,
            "type": "pie"
           }
          ],
          "scatter": [
           {
            "fillpattern": {
             "fillmode": "overlay",
             "size": 10,
             "solidity": 0.2
            },
            "type": "scatter"
           }
          ],
          "scatter3d": [
           {
            "line": {
             "colorbar": {
              "outlinewidth": 0,
              "ticks": ""
             }
            },
            "marker": {
             "colorbar": {
              "outlinewidth": 0,
              "ticks": ""
             }
            },
            "type": "scatter3d"
           }
          ],
          "scattercarpet": [
           {
            "marker": {
             "colorbar": {
              "outlinewidth": 0,
              "ticks": ""
             }
            },
            "type": "scattercarpet"
           }
          ],
          "scattergeo": [
           {
            "marker": {
             "colorbar": {
              "outlinewidth": 0,
              "ticks": ""
             }
            },
            "type": "scattergeo"
           }
          ],
          "scattergl": [
           {
            "marker": {
             "colorbar": {
              "outlinewidth": 0,
              "ticks": ""
             }
            },
            "type": "scattergl"
           }
          ],
          "scattermap": [
           {
            "marker": {
             "colorbar": {
              "outlinewidth": 0,
              "ticks": ""
             }
            },
            "type": "scattermap"
           }
          ],
          "scattermapbox": [
           {
            "marker": {
             "colorbar": {
              "outlinewidth": 0,
              "ticks": ""
             }
            },
            "type": "scattermapbox"
           }
          ],
          "scatterpolar": [
           {
            "marker": {
             "colorbar": {
              "outlinewidth": 0,
              "ticks": ""
             }
            },
            "type": "scatterpolar"
           }
          ],
          "scatterpolargl": [
           {
            "marker": {
             "colorbar": {
              "outlinewidth": 0,
              "ticks": ""
             }
            },
            "type": "scatterpolargl"
           }
          ],
          "scatterternary": [
           {
            "marker": {
             "colorbar": {
              "outlinewidth": 0,
              "ticks": ""
             }
            },
            "type": "scatterternary"
           }
          ],
          "surface": [
           {
            "colorbar": {
             "outlinewidth": 0,
             "ticks": ""
            },
            "colorscale": [
             [
              0,
              "#0d0887"
             ],
             [
              0.1111111111111111,
              "#46039f"
             ],
             [
              0.2222222222222222,
              "#7201a8"
             ],
             [
              0.3333333333333333,
              "#9c179e"
             ],
             [
              0.4444444444444444,
              "#bd3786"
             ],
             [
              0.5555555555555556,
              "#d8576b"
             ],
             [
              0.6666666666666666,
              "#ed7953"
             ],
             [
              0.7777777777777778,
              "#fb9f3a"
             ],
             [
              0.8888888888888888,
              "#fdca26"
             ],
             [
              1,
              "#f0f921"
             ]
            ],
            "type": "surface"
           }
          ],
          "table": [
           {
            "cells": {
             "fill": {
              "color": "#EBF0F8"
             },
             "line": {
              "color": "white"
             }
            },
            "header": {
             "fill": {
              "color": "#C8D4E3"
             },
             "line": {
              "color": "white"
             }
            },
            "type": "table"
           }
          ]
         },
         "layout": {
          "annotationdefaults": {
           "arrowcolor": "#2a3f5f",
           "arrowhead": 0,
           "arrowwidth": 1
          },
          "autotypenumbers": "strict",
          "coloraxis": {
           "colorbar": {
            "outlinewidth": 0,
            "ticks": ""
           }
          },
          "colorscale": {
           "diverging": [
            [
             0,
             "#8e0152"
            ],
            [
             0.1,
             "#c51b7d"
            ],
            [
             0.2,
             "#de77ae"
            ],
            [
             0.3,
             "#f1b6da"
            ],
            [
             0.4,
             "#fde0ef"
            ],
            [
             0.5,
             "#f7f7f7"
            ],
            [
             0.6,
             "#e6f5d0"
            ],
            [
             0.7,
             "#b8e186"
            ],
            [
             0.8,
             "#7fbc41"
            ],
            [
             0.9,
             "#4d9221"
            ],
            [
             1,
             "#276419"
            ]
           ],
           "sequential": [
            [
             0,
             "#0d0887"
            ],
            [
             0.1111111111111111,
             "#46039f"
            ],
            [
             0.2222222222222222,
             "#7201a8"
            ],
            [
             0.3333333333333333,
             "#9c179e"
            ],
            [
             0.4444444444444444,
             "#bd3786"
            ],
            [
             0.5555555555555556,
             "#d8576b"
            ],
            [
             0.6666666666666666,
             "#ed7953"
            ],
            [
             0.7777777777777778,
             "#fb9f3a"
            ],
            [
             0.8888888888888888,
             "#fdca26"
            ],
            [
             1,
             "#f0f921"
            ]
           ],
           "sequentialminus": [
            [
             0,
             "#0d0887"
            ],
            [
             0.1111111111111111,
             "#46039f"
            ],
            [
             0.2222222222222222,
             "#7201a8"
            ],
            [
             0.3333333333333333,
             "#9c179e"
            ],
            [
             0.4444444444444444,
             "#bd3786"
            ],
            [
             0.5555555555555556,
             "#d8576b"
            ],
            [
             0.6666666666666666,
             "#ed7953"
            ],
            [
             0.7777777777777778,
             "#fb9f3a"
            ],
            [
             0.8888888888888888,
             "#fdca26"
            ],
            [
             1,
             "#f0f921"
            ]
           ]
          },
          "colorway": [
           "#636efa",
           "#EF553B",
           "#00cc96",
           "#ab63fa",
           "#FFA15A",
           "#19d3f3",
           "#FF6692",
           "#B6E880",
           "#FF97FF",
           "#FECB52"
          ],
          "font": {
           "color": "#2a3f5f"
          },
          "geo": {
           "bgcolor": "white",
           "lakecolor": "white",
           "landcolor": "#E5ECF6",
           "showlakes": true,
           "showland": true,
           "subunitcolor": "white"
          },
          "hoverlabel": {
           "align": "left"
          },
          "hovermode": "closest",
          "mapbox": {
           "style": "light"
          },
          "paper_bgcolor": "white",
          "plot_bgcolor": "#E5ECF6",
          "polar": {
           "angularaxis": {
            "gridcolor": "white",
            "linecolor": "white",
            "ticks": ""
           },
           "bgcolor": "#E5ECF6",
           "radialaxis": {
            "gridcolor": "white",
            "linecolor": "white",
            "ticks": ""
           }
          },
          "scene": {
           "xaxis": {
            "backgroundcolor": "#E5ECF6",
            "gridcolor": "white",
            "gridwidth": 2,
            "linecolor": "white",
            "showbackground": true,
            "ticks": "",
            "zerolinecolor": "white"
           },
           "yaxis": {
            "backgroundcolor": "#E5ECF6",
            "gridcolor": "white",
            "gridwidth": 2,
            "linecolor": "white",
            "showbackground": true,
            "ticks": "",
            "zerolinecolor": "white"
           },
           "zaxis": {
            "backgroundcolor": "#E5ECF6",
            "gridcolor": "white",
            "gridwidth": 2,
            "linecolor": "white",
            "showbackground": true,
            "ticks": "",
            "zerolinecolor": "white"
           }
          },
          "shapedefaults": {
           "line": {
            "color": "#2a3f5f"
           }
          },
          "ternary": {
           "aaxis": {
            "gridcolor": "white",
            "linecolor": "white",
            "ticks": ""
           },
           "baxis": {
            "gridcolor": "white",
            "linecolor": "white",
            "ticks": ""
           },
           "bgcolor": "#E5ECF6",
           "caxis": {
            "gridcolor": "white",
            "linecolor": "white",
            "ticks": ""
           }
          },
          "title": {
           "x": 0.05
          },
          "xaxis": {
           "automargin": true,
           "gridcolor": "white",
           "linecolor": "white",
           "ticks": "",
           "title": {
            "standoff": 15
           },
           "zerolinecolor": "white",
           "zerolinewidth": 2
          },
          "yaxis": {
           "automargin": true,
           "gridcolor": "white",
           "linecolor": "white",
           "ticks": "",
           "title": {
            "standoff": 15
           },
           "zerolinecolor": "white",
           "zerolinewidth": 2
          }
         }
        },
        "title": {
         "font": {
          "color": "#144d14",
          "family": "Lato, sans-serif",
          "size": 20,
          "weight": "bold"
         },
         "text": "Barriers to Financial Inclusion",
         "x": 0.5
        },
        "xaxis": {
         "anchor": "y",
         "autorange": true,
         "domain": [
          0,
          1
         ],
         "range": [
          0,
          55.8721052631579
         ],
         "title": {
          "text": "Indicator value"
         },
         "type": "linear"
        },
        "yaxis": {
         "anchor": "x",
         "autorange": true,
         "domain": [
          0,
          1
         ],
         "range": [
          -0.5,
          6.5
         ],
         "title": {
          "text": "Clean Indicator"
         },
         "type": "category"
        }
       }
      }
     },
     "metadata": {},
     "output_type": "display_data"
    }
   ],
   "source": [
    "def get_barriers_fig(region=None, income=None, country=None, title=\"Barriers to Financial Inclusion\"):\n",
    "    filtered = df_barriers.copy()\n",
    "    if region: filtered = filtered[filtered[\"Region\"] == region]\n",
    "    if income: filtered = filtered[filtered[\"Income group\"] == income]\n",
    "    if country: filtered = filtered[filtered[\"Country name\"] == country]\n",
    "    \n",
    "    if filtered.empty:\n",
    "        fig = px.bar(title=\"No data available.\")\n",
    "    else:\n",
    "        summary = filtered.groupby(\"Clean Indicator\")[\"Indicator value\"].mean().reset_index()\n",
    "        fig = px.bar(\n",
    "            summary.sort_values(by=\"Indicator value\", ascending=True),\n",
    "            x=\"Indicator value\", y=\"Clean Indicator\", orientation=\"h\", color_discrete_sequence=[\"#1b4d20\"]\n",
    "        )\n",
    "    \n",
    "    fig.update_layout(\n",
    "        title=title,\n",
    "        title_x=0.5,\n",
    "        title_font=dict(size=20, family='Lato, sans-serif', color='#144d14', weight='bold')\n",
    "    )\n",
    "    return fig\n",
    "\n",
    "\n",
    "fig = get_barriers_fig()\n",
    "fig.show()\n"
   ]
  },
  {
   "cell_type": "code",
   "execution_count": null,
   "id": "6377948a-3e15-4978-b89a-fbb583fc2778",
   "metadata": {},
   "outputs": [],
   "source": []
  },
  {
   "cell_type": "markdown",
   "id": "6f1fe2a9-e47a-43f1-9905-d42de08877de",
   "metadata": {},
   "source": [
    "**Financial Barriers:**  \n",
    "The most significant barrier is insufficient funds, which is cited by over 50% of the respondents. This indicates that a lack of income is the single greatest obstacle to accessing financial services. The high percentage of people who say services are \"too expensive\" further supports this.\n",
    "\n",
    "**Behavioral and Trust Barriers:**  \n",
    "A notable portion of the population either feels they have \"no need\" for an account or \"distrusts institutions.\" This suggests that simply providing access is not enough; there is also a need for financial education and building trust.\n",
    "\n",
    "**Physical and Access Barriers:**  \n",
    "While less common than financial and behavioral barriers, a significant number of people report that financial institutions are \"too far from\" them. This highlights a physical infrastructure problem that affects access.\n"
   ]
  },
  {
   "cell_type": "markdown",
   "id": "589f9cef-7671-4450-a533-418d5b3fee3d",
   "metadata": {},
   "source": [
    "## Market segmentation"
   ]
  },
  {
   "cell_type": "code",
   "execution_count": 48,
   "id": "6967efd3-0dc6-4720-8332-553530b4fce2",
   "metadata": {},
   "outputs": [],
   "source": [
    "def segment_countries_financial_inclusion(df, year, region=None, n_clusters=4):\n",
    "    indicators = [\n",
    "        \"Account (% age 15+)\",\n",
    "        \"Mobile money account (% age 15+)\",\n",
    "        \"Made or received a digital payment (% age 15+)\",\n",
    "        \"Saved at a financial institution (% age 15+)\",\n",
    "        \"Borrowed from a financial institution (% age 15+)\"\n",
    "    ]\n",
    "    df_year = df[(df['Year'] == year) & (df['Indicator'].isin(indicators))]\n",
    "    if region:\n",
    "        df_year = df_year[df_year['Region'] == region]\n",
    "    df_pivot = df_year.pivot_table(index='Country name', columns='Indicator', values='Indicator value')\n",
    "    if df_pivot.empty or df_pivot.shape[0] < n_clusters:\n",
    "        return pd.DataFrame()\n",
    "    df_pivot = df_pivot.dropna(thresh=int(0.5 * len(indicators)), axis=0)\n",
    "    df_pivot.fillna(df_pivot.mean(), inplace=True)\n",
    "    scaler = StandardScaler()\n",
    "    scaled = scaler.fit_transform(df_pivot)\n",
    "    pca = PCA(n_components=2)\n",
    "    pca_result = pca.fit_transform(scaled)\n",
    "    kmeans = KMeans(n_clusters=n_clusters, random_state=42)\n",
    "    clusters = kmeans.fit_predict(pca_result)\n",
    "    df_clustered = pd.DataFrame({\n",
    "        'Country name': df_pivot.index,\n",
    "        'PCA1': pca_result[:, 0],\n",
    "        'PCA2': pca_result[:, 1],\n",
    "        'Segment': clusters\n",
    "    })\n",
    "    return df_clustered"
   ]
  },
  {
   "cell_type": "code",
   "execution_count": 50,
   "id": "9d77d2e7-8b29-4191-81cc-9d069db70dd7",
   "metadata": {},
   "outputs": [
    {
     "data": {
      "application/vnd.plotly.v1+json": {
       "config": {
        "plotlyServerURL": "https://plot.ly"
       },
       "data": [
        {
         "colorscale": [
          [
           0,
           "#2ecc71"
          ],
          [
           1,
           "#2ecc71"
          ]
         ],
         "geo": "geo",
         "hovertemplate": "<b>%{hovertext}</b><br><br>Segment Label=Developing Access<br>Country name=%{location}<extra></extra>",
         "hovertext": [
          "Afghanistan",
          "Albania",
          "Algeria",
          "Argentina",
          "Armenia",
          "Azerbaijan",
          "Bangladesh",
          "Benin",
          "Bolivia",
          "Bosnia and Herzegovina",
          "Cambodia",
          "Cameroon",
          "Chad",
          "Colombia",
          "Congo, Dem. Rep.",
          "Congo, Rep.",
          "Dominican Republic",
          "Ecuador",
          "El Salvador",
          "Ethiopia",
          "Gambia, The",
          "Georgia",
          "Guatemala",
          "Guinea",
          "Haiti",
          "Honduras",
          "India",
          "Indonesia",
          "Iraq",
          "Jordan",
          "Kosovo",
          "Kyrgyz Republic",
          "Lao PDR",
          "Lebanon",
          "Liberia",
          "Libya",
          "Madagascar",
          "Malawi",
          "Mali",
          "Mauritania",
          "Mexico",
          "Moldova",
          "Morocco",
          "Mozambique",
          "Myanmar",
          "Nepal",
          "Nicaragua",
          "Niger",
          "Nigeria",
          "Pakistan",
          "Panama",
          "Peru",
          "Philippines",
          "Romania",
          "Sierra Leone",
          "South Sudan",
          "Tajikistan",
          "Togo",
          "Tunisia",
          "Turkmenistan",
          "Uzbekistan",
          "Vietnam",
          "West Bank and Gaza"
         ],
         "locationmode": "country names",
         "locations": [
          "Afghanistan",
          "Albania",
          "Algeria",
          "Argentina",
          "Armenia",
          "Azerbaijan",
          "Bangladesh",
          "Benin",
          "Bolivia",
          "Bosnia and Herzegovina",
          "Cambodia",
          "Cameroon",
          "Chad",
          "Colombia",
          "Congo, Dem. Rep.",
          "Congo, Rep.",
          "Dominican Republic",
          "Ecuador",
          "El Salvador",
          "Ethiopia",
          "Gambia, The",
          "Georgia",
          "Guatemala",
          "Guinea",
          "Haiti",
          "Honduras",
          "India",
          "Indonesia",
          "Iraq",
          "Jordan",
          "Kosovo",
          "Kyrgyz Republic",
          "Lao PDR",
          "Lebanon",
          "Liberia",
          "Libya",
          "Madagascar",
          "Malawi",
          "Mali",
          "Mauritania",
          "Mexico",
          "Moldova",
          "Morocco",
          "Mozambique",
          "Myanmar",
          "Nepal",
          "Nicaragua",
          "Niger",
          "Nigeria",
          "Pakistan",
          "Panama",
          "Peru",
          "Philippines",
          "Romania",
          "Sierra Leone",
          "South Sudan",
          "Tajikistan",
          "Togo",
          "Tunisia",
          "Turkmenistan",
          "Uzbekistan",
          "Vietnam",
          "West Bank and Gaza"
         ],
         "name": "Developing Access",
         "showlegend": true,
         "showscale": false,
         "type": "choropleth",
         "z": [
          1,
          1,
          1,
          1,
          1,
          1,
          1,
          1,
          1,
          1,
          1,
          1,
          1,
          1,
          1,
          1,
          1,
          1,
          1,
          1,
          1,
          1,
          1,
          1,
          1,
          1,
          1,
          1,
          1,
          1,
          1,
          1,
          1,
          1,
          1,
          1,
          1,
          1,
          1,
          1,
          1,
          1,
          1,
          1,
          1,
          1,
          1,
          1,
          1,
          1,
          1,
          1,
          1,
          1,
          1,
          1,
          1,
          1,
          1,
          1,
          1,
          1,
          1
         ]
        },
        {
         "colorscale": [
          [
           0,
           "#27ae60"
          ],
          [
           1,
           "#27ae60"
          ]
         ],
         "geo": "geo",
         "hovertemplate": "<b>%{hovertext}</b><br><br>Segment Label=Growing Access<br>Country name=%{location}<extra></extra>",
         "hovertext": [
          "Australia",
          "Austria",
          "Belgium",
          "Canada",
          "Denmark",
          "Estonia",
          "Finland",
          "France",
          "Germany",
          "Hong Kong SAR, China",
          "Ireland",
          "Israel",
          "Italy",
          "Japan",
          "Korea, Rep.",
          "Luxembourg",
          "Malta",
          "Netherlands",
          "New Zealand",
          "Norway",
          "Singapore",
          "Slovak Republic",
          "Slovenia",
          "Spain",
          "Sweden",
          "Switzerland",
          "Taiwan, China",
          "United Kingdom",
          "United States"
         ],
         "locationmode": "country names",
         "locations": [
          "Australia",
          "Austria",
          "Belgium",
          "Canada",
          "Denmark",
          "Estonia",
          "Finland",
          "France",
          "Germany",
          "Hong Kong SAR, China",
          "Ireland",
          "Israel",
          "Italy",
          "Japan",
          "Korea, Rep.",
          "Luxembourg",
          "Malta",
          "Netherlands",
          "New Zealand",
          "Norway",
          "Singapore",
          "Slovak Republic",
          "Slovenia",
          "Spain",
          "Sweden",
          "Switzerland",
          "Taiwan, China",
          "United Kingdom",
          "United States"
         ],
         "name": "Growing Access",
         "showlegend": true,
         "showscale": false,
         "type": "choropleth",
         "z": [
          1,
          1,
          1,
          1,
          1,
          1,
          1,
          1,
          1,
          1,
          1,
          1,
          1,
          1,
          1,
          1,
          1,
          1,
          1,
          1,
          1,
          1,
          1,
          1,
          1,
          1,
          1,
          1,
          1
         ]
        },
        {
         "colorscale": [
          [
           0,
           "#7bed9f"
          ],
          [
           1,
           "#7bed9f"
          ]
         ],
         "geo": "geo",
         "hovertemplate": "<b>%{hovertext}</b><br><br>Segment Label=Basic Access<br>Country name=%{location}<extra></extra>",
         "hovertext": [
          "Bahrain",
          "Belarus",
          "Brazil",
          "Bulgaria",
          "Chile",
          "China",
          "Costa Rica",
          "Croatia",
          "Cyprus",
          "Czech Republic",
          "Greece",
          "Hungary",
          "Iran, Islamic Rep.",
          "Kazakhstan",
          "Kuwait",
          "Latvia",
          "Lithuania",
          "Malaysia",
          "Maldives",
          "Mauritius",
          "Mongolia",
          "Montenegro",
          "North Macedonia",
          "Poland",
          "Portugal",
          "Russian Federation",
          "Serbia",
          "Sri Lanka",
          "Thailand",
          "Trinidad and Tobago",
          "Turkey",
          "Ukraine",
          "Uruguay",
          "Venezuela, RB"
         ],
         "locationmode": "country names",
         "locations": [
          "Bahrain",
          "Belarus",
          "Brazil",
          "Bulgaria",
          "Chile",
          "China",
          "Costa Rica",
          "Croatia",
          "Cyprus",
          "Czech Republic",
          "Greece",
          "Hungary",
          "Iran, Islamic Rep.",
          "Kazakhstan",
          "Kuwait",
          "Latvia",
          "Lithuania",
          "Malaysia",
          "Maldives",
          "Mauritius",
          "Mongolia",
          "Montenegro",
          "North Macedonia",
          "Poland",
          "Portugal",
          "Russian Federation",
          "Serbia",
          "Sri Lanka",
          "Thailand",
          "Trinidad and Tobago",
          "Turkey",
          "Ukraine",
          "Uruguay",
          "Venezuela, RB"
         ],
         "name": "Basic Access",
         "showlegend": true,
         "showscale": false,
         "type": "choropleth",
         "z": [
          1,
          1,
          1,
          1,
          1,
          1,
          1,
          1,
          1,
          1,
          1,
          1,
          1,
          1,
          1,
          1,
          1,
          1,
          1,
          1,
          1,
          1,
          1,
          1,
          1,
          1,
          1,
          1,
          1,
          1,
          1,
          1,
          1,
          1
         ]
        },
        {
         "colorscale": [
          [
           0,
           "#145214"
          ],
          [
           1,
           "#145214"
          ]
         ],
         "geo": "geo",
         "hovertemplate": "<b>%{hovertext}</b><br><br>Segment Label=Advanced Access<br>Country name=%{location}<extra></extra>",
         "hovertext": [
          "Botswana",
          "Burkina Faso",
          "Cote d'Ivoire",
          "Gabon",
          "Ghana",
          "Kenya",
          "Lesotho",
          "Namibia",
          "Paraguay",
          "Rwanda",
          "Senegal",
          "Tanzania",
          "Uganda",
          "Zambia",
          "Zimbabwe"
         ],
         "locationmode": "country names",
         "locations": [
          "Botswana",
          "Burkina Faso",
          "Cote d'Ivoire",
          "Gabon",
          "Ghana",
          "Kenya",
          "Lesotho",
          "Namibia",
          "Paraguay",
          "Rwanda",
          "Senegal",
          "Tanzania",
          "Uganda",
          "Zambia",
          "Zimbabwe"
         ],
         "name": "Advanced Access",
         "showlegend": true,
         "showscale": false,
         "type": "choropleth",
         "z": [
          1,
          1,
          1,
          1,
          1,
          1,
          1,
          1,
          1,
          1,
          1,
          1,
          1,
          1,
          1
         ]
        },
        {
         "lat": [
          -1.9403
         ],
         "lon": [
          29.8739
         ],
         "marker": {
          "color": "black",
          "size": 15,
          "symbol": "star"
         },
         "mode": "markers+text",
         "showlegend": false,
         "text": [
          "Rwanda"
         ],
         "textposition": "top center",
         "type": "scattergeo"
        }
       ],
       "layout": {
        "geo": {
         "center": {},
         "domain": {
          "x": [
           0,
           1
          ],
          "y": [
           0,
           1
          ]
         }
        },
        "height": 360,
        "legend": {
         "title": {
          "text": "Segment Label"
         },
         "tracegroupgap": 0
        },
        "template": {
         "data": {
          "bar": [
           {
            "error_x": {
             "color": "#2a3f5f"
            },
            "error_y": {
             "color": "#2a3f5f"
            },
            "marker": {
             "line": {
              "color": "#E5ECF6",
              "width": 0.5
             },
             "pattern": {
              "fillmode": "overlay",
              "size": 10,
              "solidity": 0.2
             }
            },
            "type": "bar"
           }
          ],
          "barpolar": [
           {
            "marker": {
             "line": {
              "color": "#E5ECF6",
              "width": 0.5
             },
             "pattern": {
              "fillmode": "overlay",
              "size": 10,
              "solidity": 0.2
             }
            },
            "type": "barpolar"
           }
          ],
          "carpet": [
           {
            "aaxis": {
             "endlinecolor": "#2a3f5f",
             "gridcolor": "white",
             "linecolor": "white",
             "minorgridcolor": "white",
             "startlinecolor": "#2a3f5f"
            },
            "baxis": {
             "endlinecolor": "#2a3f5f",
             "gridcolor": "white",
             "linecolor": "white",
             "minorgridcolor": "white",
             "startlinecolor": "#2a3f5f"
            },
            "type": "carpet"
           }
          ],
          "choropleth": [
           {
            "colorbar": {
             "outlinewidth": 0,
             "ticks": ""
            },
            "type": "choropleth"
           }
          ],
          "contour": [
           {
            "colorbar": {
             "outlinewidth": 0,
             "ticks": ""
            },
            "colorscale": [
             [
              0,
              "#0d0887"
             ],
             [
              0.1111111111111111,
              "#46039f"
             ],
             [
              0.2222222222222222,
              "#7201a8"
             ],
             [
              0.3333333333333333,
              "#9c179e"
             ],
             [
              0.4444444444444444,
              "#bd3786"
             ],
             [
              0.5555555555555556,
              "#d8576b"
             ],
             [
              0.6666666666666666,
              "#ed7953"
             ],
             [
              0.7777777777777778,
              "#fb9f3a"
             ],
             [
              0.8888888888888888,
              "#fdca26"
             ],
             [
              1,
              "#f0f921"
             ]
            ],
            "type": "contour"
           }
          ],
          "contourcarpet": [
           {
            "colorbar": {
             "outlinewidth": 0,
             "ticks": ""
            },
            "type": "contourcarpet"
           }
          ],
          "heatmap": [
           {
            "colorbar": {
             "outlinewidth": 0,
             "ticks": ""
            },
            "colorscale": [
             [
              0,
              "#0d0887"
             ],
             [
              0.1111111111111111,
              "#46039f"
             ],
             [
              0.2222222222222222,
              "#7201a8"
             ],
             [
              0.3333333333333333,
              "#9c179e"
             ],
             [
              0.4444444444444444,
              "#bd3786"
             ],
             [
              0.5555555555555556,
              "#d8576b"
             ],
             [
              0.6666666666666666,
              "#ed7953"
             ],
             [
              0.7777777777777778,
              "#fb9f3a"
             ],
             [
              0.8888888888888888,
              "#fdca26"
             ],
             [
              1,
              "#f0f921"
             ]
            ],
            "type": "heatmap"
           }
          ],
          "histogram": [
           {
            "marker": {
             "pattern": {
              "fillmode": "overlay",
              "size": 10,
              "solidity": 0.2
             }
            },
            "type": "histogram"
           }
          ],
          "histogram2d": [
           {
            "colorbar": {
             "outlinewidth": 0,
             "ticks": ""
            },
            "colorscale": [
             [
              0,
              "#0d0887"
             ],
             [
              0.1111111111111111,
              "#46039f"
             ],
             [
              0.2222222222222222,
              "#7201a8"
             ],
             [
              0.3333333333333333,
              "#9c179e"
             ],
             [
              0.4444444444444444,
              "#bd3786"
             ],
             [
              0.5555555555555556,
              "#d8576b"
             ],
             [
              0.6666666666666666,
              "#ed7953"
             ],
             [
              0.7777777777777778,
              "#fb9f3a"
             ],
             [
              0.8888888888888888,
              "#fdca26"
             ],
             [
              1,
              "#f0f921"
             ]
            ],
            "type": "histogram2d"
           }
          ],
          "histogram2dcontour": [
           {
            "colorbar": {
             "outlinewidth": 0,
             "ticks": ""
            },
            "colorscale": [
             [
              0,
              "#0d0887"
             ],
             [
              0.1111111111111111,
              "#46039f"
             ],
             [
              0.2222222222222222,
              "#7201a8"
             ],
             [
              0.3333333333333333,
              "#9c179e"
             ],
             [
              0.4444444444444444,
              "#bd3786"
             ],
             [
              0.5555555555555556,
              "#d8576b"
             ],
             [
              0.6666666666666666,
              "#ed7953"
             ],
             [
              0.7777777777777778,
              "#fb9f3a"
             ],
             [
              0.8888888888888888,
              "#fdca26"
             ],
             [
              1,
              "#f0f921"
             ]
            ],
            "type": "histogram2dcontour"
           }
          ],
          "mesh3d": [
           {
            "colorbar": {
             "outlinewidth": 0,
             "ticks": ""
            },
            "type": "mesh3d"
           }
          ],
          "parcoords": [
           {
            "line": {
             "colorbar": {
              "outlinewidth": 0,
              "ticks": ""
             }
            },
            "type": "parcoords"
           }
          ],
          "pie": [
           {
            "automargin": true,
            "type": "pie"
           }
          ],
          "scatter": [
           {
            "fillpattern": {
             "fillmode": "overlay",
             "size": 10,
             "solidity": 0.2
            },
            "type": "scatter"
           }
          ],
          "scatter3d": [
           {
            "line": {
             "colorbar": {
              "outlinewidth": 0,
              "ticks": ""
             }
            },
            "marker": {
             "colorbar": {
              "outlinewidth": 0,
              "ticks": ""
             }
            },
            "type": "scatter3d"
           }
          ],
          "scattercarpet": [
           {
            "marker": {
             "colorbar": {
              "outlinewidth": 0,
              "ticks": ""
             }
            },
            "type": "scattercarpet"
           }
          ],
          "scattergeo": [
           {
            "marker": {
             "colorbar": {
              "outlinewidth": 0,
              "ticks": ""
             }
            },
            "type": "scattergeo"
           }
          ],
          "scattergl": [
           {
            "marker": {
             "colorbar": {
              "outlinewidth": 0,
              "ticks": ""
             }
            },
            "type": "scattergl"
           }
          ],
          "scattermap": [
           {
            "marker": {
             "colorbar": {
              "outlinewidth": 0,
              "ticks": ""
             }
            },
            "type": "scattermap"
           }
          ],
          "scattermapbox": [
           {
            "marker": {
             "colorbar": {
              "outlinewidth": 0,
              "ticks": ""
             }
            },
            "type": "scattermapbox"
           }
          ],
          "scatterpolar": [
           {
            "marker": {
             "colorbar": {
              "outlinewidth": 0,
              "ticks": ""
             }
            },
            "type": "scatterpolar"
           }
          ],
          "scatterpolargl": [
           {
            "marker": {
             "colorbar": {
              "outlinewidth": 0,
              "ticks": ""
             }
            },
            "type": "scatterpolargl"
           }
          ],
          "scatterternary": [
           {
            "marker": {
             "colorbar": {
              "outlinewidth": 0,
              "ticks": ""
             }
            },
            "type": "scatterternary"
           }
          ],
          "surface": [
           {
            "colorbar": {
             "outlinewidth": 0,
             "ticks": ""
            },
            "colorscale": [
             [
              0,
              "#0d0887"
             ],
             [
              0.1111111111111111,
              "#46039f"
             ],
             [
              0.2222222222222222,
              "#7201a8"
             ],
             [
              0.3333333333333333,
              "#9c179e"
             ],
             [
              0.4444444444444444,
              "#bd3786"
             ],
             [
              0.5555555555555556,
              "#d8576b"
             ],
             [
              0.6666666666666666,
              "#ed7953"
             ],
             [
              0.7777777777777778,
              "#fb9f3a"
             ],
             [
              0.8888888888888888,
              "#fdca26"
             ],
             [
              1,
              "#f0f921"
             ]
            ],
            "type": "surface"
           }
          ],
          "table": [
           {
            "cells": {
             "fill": {
              "color": "#EBF0F8"
             },
             "line": {
              "color": "white"
             }
            },
            "header": {
             "fill": {
              "color": "#C8D4E3"
             },
             "line": {
              "color": "white"
             }
            },
            "type": "table"
           }
          ]
         },
         "layout": {
          "annotationdefaults": {
           "arrowcolor": "#2a3f5f",
           "arrowhead": 0,
           "arrowwidth": 1
          },
          "autotypenumbers": "strict",
          "coloraxis": {
           "colorbar": {
            "outlinewidth": 0,
            "ticks": ""
           }
          },
          "colorscale": {
           "diverging": [
            [
             0,
             "#8e0152"
            ],
            [
             0.1,
             "#c51b7d"
            ],
            [
             0.2,
             "#de77ae"
            ],
            [
             0.3,
             "#f1b6da"
            ],
            [
             0.4,
             "#fde0ef"
            ],
            [
             0.5,
             "#f7f7f7"
            ],
            [
             0.6,
             "#e6f5d0"
            ],
            [
             0.7,
             "#b8e186"
            ],
            [
             0.8,
             "#7fbc41"
            ],
            [
             0.9,
             "#4d9221"
            ],
            [
             1,
             "#276419"
            ]
           ],
           "sequential": [
            [
             0,
             "#0d0887"
            ],
            [
             0.1111111111111111,
             "#46039f"
            ],
            [
             0.2222222222222222,
             "#7201a8"
            ],
            [
             0.3333333333333333,
             "#9c179e"
            ],
            [
             0.4444444444444444,
             "#bd3786"
            ],
            [
             0.5555555555555556,
             "#d8576b"
            ],
            [
             0.6666666666666666,
             "#ed7953"
            ],
            [
             0.7777777777777778,
             "#fb9f3a"
            ],
            [
             0.8888888888888888,
             "#fdca26"
            ],
            [
             1,
             "#f0f921"
            ]
           ],
           "sequentialminus": [
            [
             0,
             "#0d0887"
            ],
            [
             0.1111111111111111,
             "#46039f"
            ],
            [
             0.2222222222222222,
             "#7201a8"
            ],
            [
             0.3333333333333333,
             "#9c179e"
            ],
            [
             0.4444444444444444,
             "#bd3786"
            ],
            [
             0.5555555555555556,
             "#d8576b"
            ],
            [
             0.6666666666666666,
             "#ed7953"
            ],
            [
             0.7777777777777778,
             "#fb9f3a"
            ],
            [
             0.8888888888888888,
             "#fdca26"
            ],
            [
             1,
             "#f0f921"
            ]
           ]
          },
          "colorway": [
           "#636efa",
           "#EF553B",
           "#00cc96",
           "#ab63fa",
           "#FFA15A",
           "#19d3f3",
           "#FF6692",
           "#B6E880",
           "#FF97FF",
           "#FECB52"
          ],
          "font": {
           "color": "#2a3f5f"
          },
          "geo": {
           "bgcolor": "white",
           "lakecolor": "white",
           "landcolor": "#E5ECF6",
           "showlakes": true,
           "showland": true,
           "subunitcolor": "white"
          },
          "hoverlabel": {
           "align": "left"
          },
          "hovermode": "closest",
          "mapbox": {
           "style": "light"
          },
          "paper_bgcolor": "white",
          "plot_bgcolor": "#E5ECF6",
          "polar": {
           "angularaxis": {
            "gridcolor": "white",
            "linecolor": "white",
            "ticks": ""
           },
           "bgcolor": "#E5ECF6",
           "radialaxis": {
            "gridcolor": "white",
            "linecolor": "white",
            "ticks": ""
           }
          },
          "scene": {
           "xaxis": {
            "backgroundcolor": "#E5ECF6",
            "gridcolor": "white",
            "gridwidth": 2,
            "linecolor": "white",
            "showbackground": true,
            "ticks": "",
            "zerolinecolor": "white"
           },
           "yaxis": {
            "backgroundcolor": "#E5ECF6",
            "gridcolor": "white",
            "gridwidth": 2,
            "linecolor": "white",
            "showbackground": true,
            "ticks": "",
            "zerolinecolor": "white"
           },
           "zaxis": {
            "backgroundcolor": "#E5ECF6",
            "gridcolor": "white",
            "gridwidth": 2,
            "linecolor": "white",
            "showbackground": true,
            "ticks": "",
            "zerolinecolor": "white"
           }
          },
          "shapedefaults": {
           "line": {
            "color": "#2a3f5f"
           }
          },
          "ternary": {
           "aaxis": {
            "gridcolor": "white",
            "linecolor": "white",
            "ticks": ""
           },
           "baxis": {
            "gridcolor": "white",
            "linecolor": "white",
            "ticks": ""
           },
           "bgcolor": "#E5ECF6",
           "caxis": {
            "gridcolor": "white",
            "linecolor": "white",
            "ticks": ""
           }
          },
          "title": {
           "x": 0.05
          },
          "xaxis": {
           "automargin": true,
           "gridcolor": "white",
           "linecolor": "white",
           "ticks": "",
           "title": {
            "standoff": 15
           },
           "zerolinecolor": "white",
           "zerolinewidth": 2
          },
          "yaxis": {
           "automargin": true,
           "gridcolor": "white",
           "linecolor": "white",
           "ticks": "",
           "title": {
            "standoff": 15
           },
           "zerolinecolor": "white",
           "zerolinewidth": 2
          }
         }
        },
        "title": {
         "text": "Financial Inclusion Clusters Map - 2017",
         "x": 0.5
        }
       }
      },
      "image/png": "[encoded data removed]"
     },
     "metadata": {},
     "output_type": "display_data"
    }
   ],
   "source": [
    "import plotly.graph_objects as go\n",
    "\n",
    "year = 2017\n",
    "df_segmented = segment_countries_financial_inclusion(df, year)\n",
    "if df_segmented.empty:\n",
    "    print(\"Not enough data to create cluster map.\")\n",
    "else:\n",
    "    df_segmented[\"Segment Label\"] = df_segmented[\"Segment\"].map({\n",
    "        0: \"Basic Access\",\n",
    "        1: \"Developing Access\",\n",
    "        2: \"Growing Access\",\n",
    "        3: \"Advanced Access\"\n",
    "    })\n",
    "    color_map = {\n",
    "        \"Basic Access\": \"#7bed9f\",    \n",
    "        \"Developing Access\": \"#2ecc71\",  \n",
    "        \"Growing Access\": \"#27ae60\",   \n",
    "        \"Advanced Access\": \"#145214\" \n",
    "    }\n",
    "\n",
    "    fig_map = px.choropleth(\n",
    "        df_segmented,\n",
    "        locations=\"Country name\",\n",
    "        locationmode='country names',\n",
    "        color=\"Segment Label\",\n",
    "        hover_name=\"Country name\",\n",
    "        color_discrete_map=color_map,\n",
    "        title=f\"Financial Inclusion Clusters Map - {year}\"\n",
    "    )\n",
    "\n",
    "    # Add black star marker for Rwanda using scattergeo with approximate coordinates\n",
    "    fig_map.add_trace(go.Scattergeo(\n",
    "        lon=[29.8739],  # Rwanda longitude approx\n",
    "        lat=[-1.9403],  # Rwanda latitude approx\n",
    "        mode='markers+text',\n",
    "        marker=dict(\n",
    "            size=15,\n",
    "            color='black',\n",
    "            symbol='star'\n",
    "        ),\n",
    "        text=[\"Rwanda\"],\n",
    "        textposition=\"top center\",\n",
    "        showlegend=False\n",
    "    ))\n",
    "\n",
    "    fig_map.update_layout(title_x=0.5)\n",
    "    fig_map.show()\n"
   ]
  },
  {
   "cell_type": "markdown",
   "id": "d4b22023-656f-41dd-aded-2191db388f13",
   "metadata": {},
   "source": [
    "**Advanced Access:**  \n",
    "A small number of countries, primarily in North America and Western Europe, fall into the Advanced Access category, indicating a high level of financial inclusion.\n",
    "\n",
    "**Growing Access:**  \n",
    "This category represents a significant number of countries across the globe, including parts of Eastern Europe and Southeast Asia. These regions show steady progress in financial inclusion, moving beyond basic access.\n",
    "\n",
    "**Developing Access:**  \n",
    "A large portion of the world, including parts of South America, Asia, and Africa, is classified as having Developing Access. This highlights that while progress is being made, there are still significant opportunities for growth in these regions.\n",
    "\n",
    "**Basic Access:**  \n",
    "The map shows that some regions, especially in Central Africa, have Basic Access, which means financial inclusion is still in its early stages.\n"
   ]
  },
  {
   "cell_type": "code",
   "execution_count": 52,
   "id": "19a3589f-cdb9-4966-9fb0-da713cd01deb",
   "metadata": {},
   "outputs": [
    {
     "data": {
      "application/vnd.plotly.v1+json": {
       "config": {
        "plotlyServerURL": "https://plot.ly"
       },
       "data": [
        {
         "hovertemplate": "<b>%{hovertext}</b><br><br>Segment Label=Developing Access<br>PCA1=%{x}<br>PCA2=%{y}<extra></extra>",
         "hovertext": [
          "Afghanistan",
          "Albania",
          "Algeria",
          "Argentina",
          "Armenia",
          "Azerbaijan",
          "Bangladesh",
          "Benin",
          "Bolivia",
          "Bosnia and Herzegovina",
          "Cambodia",
          "Cameroon",
          "Chad",
          "Colombia",
          "Congo, Dem. Rep.",
          "Congo, Rep.",
          "Dominican Republic",
          "Ecuador",
          "El Salvador",
          "Ethiopia",
          "Gambia, The",
          "Georgia",
          "Guatemala",
          "Guinea",
          "Haiti",
          "Honduras",
          "India",
          "Indonesia",
          "Iraq",
          "Jordan",
          "Kosovo",
          "Kyrgyz Republic",
          "Lao PDR",
          "Lebanon",
          "Liberia",
          "Libya",
          "Madagascar",
          "Malawi",
          "Mali",
          "Mauritania",
          "Mexico",
          "Moldova",
          "Morocco",
          "Mozambique",
          "Myanmar",
          "Nepal",
          "Nicaragua",
          "Niger",
          "Nigeria",
          "Pakistan",
          "Panama",
          "Peru",
          "Philippines",
          "Romania",
          "Sierra Leone",
          "South Sudan",
          "Tajikistan",
          "Togo",
          "Tunisia",
          "Turkmenistan",
          "Uzbekistan",
          "Vietnam",
          "West Bank and Gaza"
         ],
         "legendgroup": "Developing Access",
         "marker": {
          "color": "#2ecc71",
          "symbol": "circle"
         },
         "mode": "markers",
         "name": "Developing Access",
         "orientation": "v",
         "showlegend": true,
         "type": "scatter",
         "x": {
          "_inputArray": {
           "0": -2.6521164358631735,
           "1": -1.5687378208365121,
           "10": -2.2991017612583056,
           "11": -1.4716435190776085,
           "12": -2.184328588455711,
           "13": -1.2338635380364649,
           "14": -1.9676893442145098,
           "15": -2.091418425899793,
           "16": -0.568682290655276,
           "17": -1.1586771356776073,
           "18": -1.812588332254899,
           "19": -1.5696108501382993,
           "2": -1.3362572384562856,
           "20": -1.8481074939124196,
           "21": -0.7162502896968885,
           "22": -1.2934212667149882,
           "23": -2.029775264080093,
           "24": -1.5225762933385334,
           "25": -1.0645451067163818,
           "26": -0.3958844763484428,
           "27": -0.8866799996989992,
           "28": -2.326128323203677,
           "29": -1.4133652288900584,
           "3": -1.1817503346400469,
           "30": -0.9400248439410644,
           "31": -1.568733731111267,
           "32": -1.7166065779762913,
           "33": -0.8743120914446979,
           "34": -1.3970959595874524,
           "35": -0.5531302771195422,
           "36": -2.352538673755049,
           "37": -1.5088482039718407,
           "38": -1.4236977710216585,
           "39": -2.229185028082849,
           "4": -1.0050993501819805,
           "40": -1.5056574474278221,
           "41": -1.089005069864291,
           "42": -2.1570399580679567,
           "43": -1.1208437315144568,
           "44": -2.3533281327804474,
           "45": -1.321841611584903,
           "46": -1.8558258679112536,
           "47": -2.544793422415652,
           "48": -1.1878819174735384,
           "49": -2.2269436720478524,
           "5": -1.8693989557167348,
           "50": -1.1223807145199385,
           "51": -1.4158514309391261,
           "52": -1.6499784210839064,
           "53": -0.6518652154522542,
           "54": -2.2770177069678703,
           "55": -2.6896396769892754,
           "56": -0.8735221749881553,
           "57": -1.0769088493333574,
           "58": -1.3595874080491595,
           "59": -1.394782153660031,
           "6": -0.9688983502175768,
           "60": -1.5438362705308175,
           "61": -1.721828426157114,
           "62": -2.1220124156852163,
           "7": -1.3825572256141174,
           "8": -0.7464736625231866,
           "9": -0.5237333245649974,
           "bdata": "Nrtp0og3BcCo20fUjBn5v4hoI0VPYfW/kg71CXPo8r8HM2QO4xTwv8mtH+EO6f2/rqbqHDcB778ux01T9B72vwGZ+7sc4+e/45+aY2zC4L9OPtZ2j2QCwFvwHBPai/e/uxRZRIF5AcDZfnmx573zv5JsYdKne/+/ae5rlTm7AMCKuAU0pTLiv4K7RQnxifK/6FWCn1wA/b/spkxEIB35v7KK3SnZkf2/CvU/uoXr5r9I3od/2rH0v06hS9D6PADAytyY9Xhc+L9GaydzYAjxvwxIutcrVtm/CS8XvK5f7L9CrJMq6ZsCwIMuttsknfa/pfBE+64U7r9GFHSKiBn5vzgbiHU4d/u/KRPoWV36679c1PxKgVr2v7v8VEQ+s+G/QNPSy//RAsCQ/6oDPiT4v2PRXlB3x/a/GMrC9V7VAcDA5npDLBf4v9rsg5SQbPG/ZIlgKp5BAcDIfyzW+e7xv+BjOLOd0wLASfzDY0Mm9b+R/ht3drH9vyLPYqe8WwTAGvAweJAB879g1gvYx9ABwFJj6HpF9fG/uA1+1FOn9r/Yk9rFT2b6v8COuHAU3OS/Jbg+D1U3AsAli5XOYYQFwBP1vMbk8+u/Yo4KxgQ78b8l/tm53sD1v346cBcHUfa/fu9EqY2z+L/yr7r2m4z7v3mXOKXh+QDA",
           "dtype": "f8",
           "shape": "63"
          },
          "bdata": "Nrtp0og3BcCo20fUjBn5v4hoI0VPYfW/kg71CXPo8r8HM2QO4xTwv8mtH+EO6f2/rqbqHDcB778ux01T9B72vwGZ+7sc4+e/45+aY2zC4L9OPtZ2j2QCwFvwHBPai/e/uxRZRIF5AcDZfnmx573zv5JsYdKne/+/ae5rlTm7AMCKuAU0pTLiv4K7RQnxifK/6FWCn1wA/b/spkxEIB35v7KK3SnZkf2/CvU/uoXr5r9I3od/2rH0v06hS9D6PADAytyY9Xhc+L9GaydzYAjxvwxIutcrVtm/CS8XvK5f7L9CrJMq6ZsCwIMuttsknfa/pfBE+64U7r9GFHSKiBn5vzgbiHU4d/u/KRPoWV36679c1PxKgVr2v7v8VEQ+s+G/QNPSy//RAsCQ/6oDPiT4v2PRXlB3x/a/GMrC9V7VAcDA5npDLBf4v9rsg5SQbPG/ZIlgKp5BAcDIfyzW+e7xv+BjOLOd0wLASfzDY0Mm9b+R/ht3drH9vyLPYqe8WwTAGvAweJAB879g1gvYx9ABwFJj6HpF9fG/uA1+1FOn9r/Yk9rFT2b6v8COuHAU3OS/Jbg+D1U3AsAli5XOYYQFwBP1vMbk8+u/Yo4KxgQ78b8l/tm53sD1v346cBcHUfa/fu9EqY2z+L/yr7r2m4z7v3mXOKXh+QDA",
          "dtype": "f8"
         },
         "xaxis": "x",
         "y": {
          "_inputArray": {
           "0": -1.0171669357405664,
           "1": -0.9666448893299915,
           "10": -0.6043241245412415,
           "11": 0.19918262182063237,
           "12": 0.31008224463863954,
           "13": -0.7557255160389603,
           "14": 0.362730895547617,
           "15": -0.5778095183585692,
           "16": -0.9575940859058448,
           "17": -0.9685031151823498,
           "18": -0.8671748173505114,
           "19": -1.333049771665831,
           "2": 0.14660590389419959,
           "20": 0.18597673513891744,
           "21": -0.9684455984025251,
           "22": -1.0297957700615976,
           "23": 0.13383761382376458,
           "24": 0.039711477604809094,
           "25": -0.6793692254782099,
           "26": -1.1791367046376058,
           "27": -1.0409035818140258,
           "28": -0.7011462781278585,
           "29": -1.1060947180888712,
           "3": -0.9583900683277106,
           "30": 0.16306474507724683,
           "31": -0.8390326986656067,
           "32": 0.09788077129508799,
           "33": 0.04749378451503906,
           "34": 0.7244363570179676,
           "35": 0.053533861954390395,
           "36": 0.007472451277037113,
           "37": 0.6998507359235463,
           "38": 1.1039533279090643,
           "39": -0.7938689060477528,
           "4": -0.3061905650548224,
           "40": -0.6786168820716983,
           "41": 0.17716333659663866,
           "42": -1.0895809334633846,
           "43": 0.8130026855893071,
           "44": -1.1014492880324336,
           "45": 0.08134082766886971,
           "46": -0.8036954751473174,
           "47": -0.2773666330272103,
           "48": -0.7873983691981272,
           "49": -0.49689003265566367,
           "5": 0.23922855746939145,
           "50": -0.9300813990854312,
           "51": -0.9413913772981136,
           "52": -0.7941067194120137,
           "53": -0.9825826558684247,
           "54": -0.10402332331475406,
           "55": 0.27415716922137817,
           "56": 0.14742655871117022,
           "57": 0.7582052180531715,
           "58": -1.0906737536905795,
           "59": 0.21981187262141588,
           "6": 0.7507648530886646,
           "60": 0.2512327577985352,
           "61": -0.9089682033154681,
           "62": 0.22635169583152262,
           "7": 0.47681437031063945,
           "8": -0.6259385395978954,
           "9": 0.14541167911591124,
           "bdata": "lEA51lBG8L9AklBDwe7uv0AkUHX7w8I/S+sIpiGr7r8vRdBPoJjTv2XWTJcKn84/3hBgA0QG6D9Wz69rIITeP3QgnEKwB+S/QDAhk9mcwj+x1OKLn1bjv/NYU+/Qfsk/QMTyMmPY0z9bewRH5y7ovzkNaKX7Ntc/tFwVY2p94r8z4DlanKTuv7YIuT76/e6/Uu0NZ+W/67+R61P/K1T1v1CHnu0Vzsc/AgKjn4H97r9ElB8hC3rwv/SCLEeXIcE/wU4tExBVpD/xzqqHZL3lv1zo/nK+3fK/VeOig4qn8L9DrshRym/mv0qFB2CQsvG/jmGeOU7fxD+QYyEaW9nqv/Chnte2Drk/Eb+C9hpRqD8dnq0nlS7nPwU3pVTKaKs/h3ix3W6bfj/18NteLWXmP3Hg+vbKqfE/JiqZw19n6b+pXWDAOrflv33MXchJrcY/UCC5auxu8b/gUUU1HgTqPx7U5EmJn/G/ltiqosDStD/ZbbaS37fpv8afdvpfwNG/bCaUEF4y6b+Cuf3ZC83fv0MT9hA6w+2/3WpHz+Af7r8AEq1+Umnpv2xLki5Rce+/cHmow0Whur+zQ/GCyovRP2b3HJzf3sI/yjzmljdD6D86TmtSZnPxv1w7F6LLIsw/JW6bjzIU0D+HAEt8RBbtv6nJfqUX+cw/",
           "dtype": "f8",
           "shape": "63"
          },
          "bdata": "lEA51lBG8L9AklBDwe7uv0AkUHX7w8I/S+sIpiGr7r8vRdBPoJjTv2XWTJcKn84/3hBgA0QG6D9Wz69rIITeP3QgnEKwB+S/QDAhk9mcwj+x1OKLn1bjv/NYU+/Qfsk/QMTyMmPY0z9bewRH5y7ovzkNaKX7Ntc/tFwVY2p94r8z4DlanKTuv7YIuT76/e6/Uu0NZ+W/67+R61P/K1T1v1CHnu0Vzsc/AgKjn4H97r9ElB8hC3rwv/SCLEeXIcE/wU4tExBVpD/xzqqHZL3lv1zo/nK+3fK/VeOig4qn8L9DrshRym/mv0qFB2CQsvG/jmGeOU7fxD+QYyEaW9nqv/Chnte2Drk/Eb+C9hpRqD8dnq0nlS7nPwU3pVTKaKs/h3ix3W6bfj/18NteLWXmP3Hg+vbKqfE/JiqZw19n6b+pXWDAOrflv33MXchJrcY/UCC5auxu8b/gUUU1HgTqPx7U5EmJn/G/ltiqosDStD/ZbbaS37fpv8afdvpfwNG/bCaUEF4y6b+Cuf3ZC83fv0MT9hA6w+2/3WpHz+Af7r8AEq1+Umnpv2xLki5Rce+/cHmow0Whur+zQ/GCyovRP2b3HJzf3sI/yjzmljdD6D86TmtSZnPxv1w7F6LLIsw/JW6bjzIU0D+HAEt8RBbtv6nJfqUX+cw/",
          "dtype": "f8"
         },
         "yaxis": "y"
        },
        {
         "hovertemplate": "<b>%{hovertext}</b><br><br>Segment Label=Growing Access<br>PCA1=%{x}<br>PCA2=%{y}<extra></extra>",
         "hovertext": [
          "Australia",
          "Austria",
          "Belgium",
          "Canada",
          "Denmark",
          "Estonia",
          "Finland",
          "France",
          "Germany",
          "Hong Kong SAR, China",
          "Ireland",
          "Israel",
          "Italy",
          "Japan",
          "Korea, Rep.",
          "Luxembourg",
          "Malta",
          "Netherlands",
          "New Zealand",
          "Norway",
          "Singapore",
          "Slovak Republic",
          "Slovenia",
          "Spain",
          "Sweden",
          "Switzerland",
          "Taiwan, China",
          "United Kingdom",
          "United States"
         ],
         "legendgroup": "Growing Access",
         "marker": {
          "color": "#27ae60",
          "symbol": "circle"
         },
         "mode": "markers",
         "name": "Growing Access",
         "orientation": "v",
         "showlegend": true,
         "type": "scatter",
         "x": {
          "_inputArray": {
           "0": 2.774616895379992,
           "1": 2.5742182550183297,
           "10": 2.227649902626573,
           "11": 2.2814018165356447,
           "12": 2.0516160404091197,
           "13": 2.800814104062184,
           "14": 2.409674007579751,
           "15": 2.794041335035721,
           "16": 2.1487147776346966,
           "17": 2.737572162672925,
           "18": 3.000140933443286,
           "19": 3.32586995004245,
           "2": 2.5998548797249676,
           "20": 2.6879887789447943,
           "21": 1.7980060187069506,
           "22": 1.8680731322706579,
           "23": 2.222142278432314,
           "24": 3.201499621214546,
           "25": 2.690281204116754,
           "26": 2.399885636073061,
           "27": 2.743624596061082,
           "28": 2.5374570203832114,
           "3": 2.9736984540618385,
           "4": 2.884352903448849,
           "5": 2.3368886952385175,
           "6": 2.6202858612857627,
           "7": 2.1862121061032456,
           "8": 2.6181577978032626,
           "9": 2.133722444196556,
           "bdata": "X7DEV2oyBkAvj5C9/5cEQDUeFreAzARADuRCaiLKB0DOe3OdJxMHQEiIQ7PysQJA+iUDb1j2BEBqqc7FXH0BQL6oKrf88QRA7YWkEt0RAUDuv7UcOtIBQNdxeJhPQAJAqgysq7VpAEAh+5g5EWgGQDychCoDRwNAbjTtVzJaBkDF+5JfkTABQC726DuM5gVAFT3E40kACECqc1G0YZsKQLWpzEIAgQVAZLiF9aHE/D9aOBqnoOP9P91n54fyxgFA0y5a1aucCUC3zOUmsoUFQHaXiD33MgNAIKvEc/HyBUB4aSxEtkwEQA==",
           "dtype": "f8",
           "shape": "29"
          },
          "bdata": "X7DEV2oyBkAvj5C9/5cEQDUeFreAzARADuRCaiLKB0DOe3OdJxMHQEiIQ7PysQJA+iUDb1j2BEBqqc7FXH0BQL6oKrf88QRA7YWkEt0RAUDuv7UcOtIBQNdxeJhPQAJAqgysq7VpAEAh+5g5EWgGQDychCoDRwNAbjTtVzJaBkDF+5JfkTABQC726DuM5gVAFT3E40kACECqc1G0YZsKQLWpzEIAgQVAZLiF9aHE/D9aOBqnoOP9P91n54fyxgFA0y5a1aucCUC3zOUmsoUFQHaXiD33MgNAIKvEc/HyBUB4aSxEtkwEQA==",
          "dtype": "f8"
         },
         "xaxis": "x",
         "y": {
          "_inputArray": {
           "0": -0.43456673319806277,
           "1": -0.3682921001223569,
           "10": -0.28071171847340803,
           "11": -0.3375040744150324,
           "12": -0.25719861867094357,
           "13": -0.456318436695687,
           "14": -0.35923905106567866,
           "15": -0.42698084606063574,
           "16": -0.2764345252025701,
           "17": -0.406089485154777,
           "18": -0.5071289540041568,
           "19": -0.6078888106973753,
           "2": -0.36712452061860956,
           "20": -0.9661795677250821,
           "21": -0.290544076038902,
           "22": -0.11872162762154392,
           "23": -0.31279524054288416,
           "24": -0.5686878329543784,
           "25": -0.40615142005958477,
           "26": -0.4805999993026767,
           "27": -0.4452470532995193,
           "28": -0.42654493843551583,
           "3": -0.4898357526262977,
           "4": -0.4439645829740491,
           "5": -0.2780435157395979,
           "6": -0.35744295273171045,
           "7": -0.2847543211626065,
           "8": -0.36506505775406933,
           "9": -0.3183750321810653,
           "bdata": "pfnA/PDP27/ApFkHGZLXv3h2Z9j3fte/c0F8DnhZ378lLB1t6mncvw/avQd3y9G/lMYKaFjg1r/VbzIwajnSvz3U/dQ5Xde/7SjFq0Fg1L+wn5xILvfRv7BGeLCqmdW/LyjxMfF10L9d3oo+UjTdv4R78cnF/da/aVN2eKdT27+rvU5vGrHRv8lPf8Be/dm/bK4JgGY64L8DljE803PjvyUqrmnx6u6/QI0oLkaY0r9AYfZjimS+vxd5HlTWBNS/Y4KF07Ay4r/fT5iGYv7Zv46b3X8mwt6/mvQjf+1+3L9BtjYkg0zbvw==",
           "dtype": "f8",
           "shape": "29"
          },
          "bdata": "pfnA/PDP27/ApFkHGZLXv3h2Z9j3fte/c0F8DnhZ378lLB1t6mncvw/avQd3y9G/lMYKaFjg1r/VbzIwajnSvz3U/dQ5Xde/7SjFq0Fg1L+wn5xILvfRv7BGeLCqmdW/LyjxMfF10L9d3oo+UjTdv4R78cnF/da/aVN2eKdT27+rvU5vGrHRv8lPf8Be/dm/bK4JgGY64L8DljE803PjvyUqrmnx6u6/QI0oLkaY0r9AYfZjimS+vxd5HlTWBNS/Y4KF07Ay4r/fT5iGYv7Zv46b3X8mwt6/mvQjf+1+3L9BtjYkg0zbvw==",
          "dtype": "f8"
         },
         "yaxis": "y"
        },
        {
         "hovertemplate": "<b>%{hovertext}</b><br><br>Segment Label=Basic Access<br>PCA1=%{x}<br>PCA2=%{y}<extra></extra>",
         "hovertext": [
          "Bahrain",
          "Belarus",
          "Brazil",
          "Bulgaria",
          "Chile",
          "China",
          "Costa Rica",
          "Croatia",
          "Cyprus",
          "Czech Republic",
          "Greece",
          "Hungary",
          "Iran, Islamic Rep.",
          "Kazakhstan",
          "Kuwait",
          "Latvia",
          "Lithuania",
          "Malaysia",
          "Maldives",
          "Mauritius",
          "Mongolia",
          "Montenegro",
          "North Macedonia",
          "Poland",
          "Portugal",
          "Russian Federation",
          "Serbia",
          "Sri Lanka",
          "Thailand",
          "Trinidad and Tobago",
          "Turkey",
          "Ukraine",
          "Uruguay",
          "Venezuela, RB"
         ],
         "legendgroup": "Basic Access",
         "marker": {
          "color": "#7bed9f",
          "symbol": "circle"
         },
         "mode": "markers",
         "name": "Basic Access",
         "orientation": "v",
         "showlegend": true,
         "type": "scatter",
         "x": {
          "_inputArray": {
           "0": 1.1420308056720343,
           "1": 0.9019096286152132,
           "10": 0.6292663695756763,
           "11": 0.6563897774964308,
           "12": 1.6700432686923574,
           "13": -0.3383966432407578,
           "14": 0.9165177771418694,
           "15": 1.5700953412491996,
           "16": 1.2452190335789464,
           "17": 1.2078615468689344,
           "18": 1.0207253880507428,
           "19": 0.8285514065845124,
           "2": -0.11221782668709819,
           "20": 1.308133050017179,
           "21": -0.10798968359463984,
           "22": 0.396945107449131,
           "23": 1.3801096233138876,
           "24": 1.5695971544175848,
           "25": 0.37289333759596577,
           "26": 0.14341463797771012,
           "27": 0.11236105054090947,
           "28": 0.9521459859353951,
           "29": 0.9812434957201365,
           "3": 0.575730024642314,
           "30": 0.3555558424089872,
           "31": -0.13013678995196848,
           "32": -0.1684098031256127,
           "33": 0.40294866394229917,
           "4": 0.49516590903765956,
           "5": 0.9388092376427214,
           "6": 0.22809151091225022,
           "7": 1.4830409901780244,
           "8": 1.2056195088040491,
           "9": 1.560646863500108,
           "bdata": "uSwWGMJF8j/xMduUcdzsP2U3prdOury/mD9lX2Fs4j+CS1pazLDfPzd2m6u5Cu4//IHuRRoyzT+6Encwibr3P0S6m643SvM/NGh12Gj4+D8Rm7k58yLkPxHUeCIlAeU/kgRfSn+4+j8e5fJkSqjVv73c4BYdVO0/v0bkShwf+T+4QBnLauzzP2ReHqFmU/M/Yv/9JORU8D+duko9foPqP44/yusc7vQ/XChYPzalu78/R7NzjGfZP8xyENTtFPY/GuTh5xEd+T/QvXcEfN3XP4/j8C1pW8I/VttqnbHDvD++htPb+nfuP4P7cMJYZu8/1hfDSm3B1j/u0GyEUqjAvwAKYNJzjsW/J1dmMenJ2T8=",
           "dtype": "f8",
           "shape": "34"
          },
          "bdata": "uSwWGMJF8j/xMduUcdzsP2U3prdOury/mD9lX2Fs4j+CS1pazLDfPzd2m6u5Cu4//IHuRRoyzT+6Encwibr3P0S6m643SvM/NGh12Gj4+D8Rm7k58yLkPxHUeCIlAeU/kgRfSn+4+j8e5fJkSqjVv73c4BYdVO0/v0bkShwf+T+4QBnLauzzP2ReHqFmU/M/Yv/9JORU8D+duko9foPqP44/yusc7vQ/XChYPzalu78/R7NzjGfZP8xyENTtFPY/GuTh5xEd+T/QvXcEfN3XP4/j8C1pW8I/VttqnbHDvD++htPb+nfuP4P7cMJYZu8/1hfDSm3B1j/u0GyEUqjAvwAKYNJzjsW/J1dmMenJ2T8=",
          "dtype": "f8"
         },
         "xaxis": "x",
         "y": {
          "_inputArray": {
           "0": -0.09565064431109277,
           "1": -0.006561644214328162,
           "10": 0.08097111510236965,
           "11": -0.013680712106022501,
           "12": 1.0005221780314904,
           "13": 0.10566811476957799,
           "14": -0.050484548806227415,
           "15": -0.07582370856797313,
           "16": -0.12875140905080548,
           "17": -0.5348660958451472,
           "18": 0.6804045811700067,
           "19": -0.8927382087522434,
           "2": -0.8372464185034715,
           "20": 0.6633259270361231,
           "21": 0.13002716121563965,
           "22": 0.04613021468016333,
           "23": -0.11948670216725549,
           "24": -0.11772268494096987,
           "25": 0.08711154958369001,
           "26": 0.10821703622149474,
           "27": -1.2153993958550526,
           "28": -0.7843068308535533,
           "29": -0.15293372858090662,
           "3": -0.05351547575815798,
           "30": 0.1522957222730605,
           "31": 0.11083433119817752,
           "32": 0.11996580791228817,
           "33": -0.3217606027862227,
           "4": 0.37005794923682567,
           "5": -0.1257965424128795,
           "6": -0.0002488991340602782,
           "7": -0.15073941089681456,
           "8": -0.05723215813513084,
           "9": -0.2398545891554464,
           "bdata": "FFAohY98uL8Vuu/0YeB6vxlMRQC5yuq/Yx5sZGFmq78oNWaJB6/XPyd9zuEZGsC/VOsKpNVPML9xkwLUbUvDvxKV8I6ITa2/n+wbII6zzr9YC0njhbq0P/yephiiBIy/SRYZiyMC8D/kUSrJEA27P63xJlwc2am/zpWPvC5ps7/P85cZ7XrAv4qcrICfHeG/aY8F1N/F5T9PYE+4T5Hsv2KwZkv3OeU/caaB4rqkwD8SSdEmYZ6nP1SBHTaulr6/Y5vR6RIjvr9N2pBI8Uy2P3P9cJcctLs/5WgMo0Zy878LdJGjChnpvz3sWhlVk8O/H+M9HW1+wz8nLMWDo1+8P1gan0UUtr4/q+qGyLmX1L8=",
           "dtype": "f8",
           "shape": "34"
          },
          "bdata": "FFAohY98uL8Vuu/0YeB6vxlMRQC5yuq/Yx5sZGFmq78oNWaJB6/XPyd9zuEZGsC/VOsKpNVPML9xkwLUbUvDvxKV8I6ITa2/n+wbII6zzr9YC0njhbq0P/yephiiBIy/SRYZiyMC8D/kUSrJEA27P63xJlwc2am/zpWPvC5ps7/P85cZ7XrAv4qcrICfHeG/aY8F1N/F5T9PYE+4T5Hsv2KwZkv3OeU/caaB4rqkwD8SSdEmYZ6nP1SBHTaulr6/Y5vR6RIjvr9N2pBI8Uy2P3P9cJcctLs/5WgMo0Zy878LdJGjChnpvz3sWhlVk8O/H+M9HW1+wz8nLMWDo1+8P1gan0UUtr4/q+qGyLmX1L8=",
          "dtype": "f8"
         },
         "yaxis": "y"
        },
        {
         "hovertemplate": "<b>%{hovertext}</b><br><br>Segment Label=Advanced Access<br>PCA1=%{x}<br>PCA2=%{y}<extra></extra>",
         "hovertext": [
          "Botswana",
          "Burkina Faso",
          "Cote d'Ivoire",
          "Gabon",
          "Ghana",
          "Kenya",
          "Lesotho",
          "Namibia",
          "Paraguay",
          "Rwanda",
          "Senegal",
          "Tanzania",
          "Uganda",
          "Zambia",
          "Zimbabwe"
         ],
         "legendgroup": "Advanced Access",
         "marker": {
          "color": "#145214",
          "symbol": "circle"
         },
         "mode": "markers",
         "name": "Advanced Access",
         "orientation": "v",
         "showlegend": true,
         "type": "scatter",
         "x": {
          "_inputArray": {
           "0": -0.5246045997617779,
           "1": -0.8142543631432436,
           "10": -0.9680058032988601,
           "11": -0.7480855424494415,
           "12": 0.10172177901267704,
           "13": -0.7812557227016512,
           "14": -0.26027266289655154,
           "2": -1.0108600894972308,
           "3": 0.008398641114846618,
           "4": -0.08663765553795758,
           "5": 1.7673929728010707,
           "6": -0.9424417427511819,
           "7": 1.4367728106218505,
           "8": -0.7877708126615468,
           "9": -0.49656532798051206,
           "bdata": "LtvplY/J4L/RaooqXw7qv0uOE6F7LPC/4VRah04zgT9yPCOp4i22v+fFldo9R/w/3wzwlXso7r8ScpZ8Bf32P279oyJrNem/eT4A8bnH37/QN3BO5/nuv+DIbRdR8Oe/xH8mQnAKuj9AIFoADADpv9G+y6tOqNC/",
           "dtype": "f8",
           "shape": "15"
          },
          "bdata": "LtvplY/J4L/RaooqXw7qv0uOE6F7LPC/4VRah04zgT9yPCOp4i22v+fFldo9R/w/3wzwlXso7r8ScpZ8Bf32P279oyJrNem/eT4A8bnH37/QN3BO5/nuv+DIbRdR8Oe/xH8mQnAKuj9AIFoADADpv9G+y6tOqNC/",
          "dtype": "f8"
         },
         "xaxis": "x",
         "y": {
          "_inputArray": {
           "0": 0.9600048080267628,
           "1": 1.830400741410318,
           "10": 1.767523408574448,
           "11": 2.396647894079898,
           "12": 3.4269425861705765,
           "13": 1.3317513321402297,
           "14": 3.322433293997269,
           "2": 1.9853951793460947,
           "3": 2.7727522548186307,
           "4": 2.3168410842924403,
           "5": 5.3229510631513755,
           "6": 1.3616743149175112,
           "7": 2.5166190625951086,
           "8": 1.498980209191823,
           "9": 1.5731876997035374,
           "bdata": "W0nPAFy47j9M565JUkn9PyvXTrwtxP8/qNnyu5guBkCNhXj644gCQDzG+a6zShVAj/ulAWvJ9T95sNIsCSIEQCpI/avS+/c/eyOL3cYr+T8B3iugxkf8P7DNKLtVLANAcvrm32BqC0DEJR982k71P+vgJuhXlApA",
           "dtype": "f8",
           "shape": "15"
          },
          "bdata": "W0nPAFy47j9M565JUkn9PyvXTrwtxP8/qNnyu5guBkCNhXj644gCQDzG+a6zShVAj/ulAWvJ9T95sNIsCSIEQCpI/avS+/c/eyOL3cYr+T8B3iugxkf8P7DNKLtVLANAcvrm32BqC0DEJR982k71P+vgJuhXlApA",
          "dtype": "f8"
         },
         "yaxis": "y"
        },
        {
         "marker": {
          "color": "black",
          "size": 15,
          "symbol": "star"
         },
         "mode": "markers+text",
         "name": "Rwanda Highlight",
         "text": [
          "Rwanda"
         ],
         "textposition": "top center",
         "type": "scatter",
         "x": {
          "_inputArray": {
           "0": -0.49656532798051206,
           "bdata": "eT4A8bnH378=",
           "dtype": "f8",
           "shape": "1"
          },
          "bdata": "eT4A8bnH378=",
          "dtype": "f8"
         },
         "y": {
          "_inputArray": {
           "0": 1.5731876997035374,
           "bdata": "eyOL3cYr+T8=",
           "dtype": "f8",
           "shape": "1"
          },
          "bdata": "eyOL3cYr+T8=",
          "dtype": "f8"
         }
        }
       ],
       "layout": {
        "height": 360,
        "legend": {
         "title": {
          "text": "Segment Label"
         },
         "tracegroupgap": 0
        },
        "template": {
         "data": {
          "bar": [
           {
            "error_x": {
             "color": "#2a3f5f"
            },
            "error_y": {
             "color": "#2a3f5f"
            },
            "marker": {
             "line": {
              "color": "#E5ECF6",
              "width": 0.5
             },
             "pattern": {
              "fillmode": "overlay",
              "size": 10,
              "solidity": 0.2
             }
            },
            "type": "bar"
           }
          ],
          "barpolar": [
           {
            "marker": {
             "line": {
              "color": "#E5ECF6",
              "width": 0.5
             },
             "pattern": {
              "fillmode": "overlay",
              "size": 10,
              "solidity": 0.2
             }
            },
            "type": "barpolar"
           }
          ],
          "carpet": [
           {
            "aaxis": {
             "endlinecolor": "#2a3f5f",
             "gridcolor": "white",
             "linecolor": "white",
             "minorgridcolor": "white",
             "startlinecolor": "#2a3f5f"
            },
            "baxis": {
             "endlinecolor": "#2a3f5f",
             "gridcolor": "white",
             "linecolor": "white",
             "minorgridcolor": "white",
             "startlinecolor": "#2a3f5f"
            },
            "type": "carpet"
           }
          ],
          "choropleth": [
           {
            "colorbar": {
             "outlinewidth": 0,
             "ticks": ""
            },
            "type": "choropleth"
           }
          ],
          "contour": [
           {
            "colorbar": {
             "outlinewidth": 0,
             "ticks": ""
            },
            "colorscale": [
             [
              0,
              "#0d0887"
             ],
             [
              0.1111111111111111,
              "#46039f"
             ],
             [
              0.2222222222222222,
              "#7201a8"
             ],
             [
              0.3333333333333333,
              "#9c179e"
             ],
             [
              0.4444444444444444,
              "#bd3786"
             ],
             [
              0.5555555555555556,
              "#d8576b"
             ],
             [
              0.6666666666666666,
              "#ed7953"
             ],
             [
              0.7777777777777778,
              "#fb9f3a"
             ],
             [
              0.8888888888888888,
              "#fdca26"
             ],
             [
              1,
              "#f0f921"
             ]
            ],
            "type": "contour"
           }
          ],
          "contourcarpet": [
           {
            "colorbar": {
             "outlinewidth": 0,
             "ticks": ""
            },
            "type": "contourcarpet"
           }
          ],
          "heatmap": [
           {
            "colorbar": {
             "outlinewidth": 0,
             "ticks": ""
            },
            "colorscale": [
             [
              0,
              "#0d0887"
             ],
             [
              0.1111111111111111,
              "#46039f"
             ],
             [
              0.2222222222222222,
              "#7201a8"
             ],
             [
              0.3333333333333333,
              "#9c179e"
             ],
             [
              0.4444444444444444,
              "#bd3786"
             ],
             [
              0.5555555555555556,
              "#d8576b"
             ],
             [
              0.6666666666666666,
              "#ed7953"
             ],
             [
              0.7777777777777778,
              "#fb9f3a"
             ],
             [
              0.8888888888888888,
              "#fdca26"
             ],
             [
              1,
              "#f0f921"
             ]
            ],
            "type": "heatmap"
           }
          ],
          "histogram": [
           {
            "marker": {
             "pattern": {
              "fillmode": "overlay",
              "size": 10,
              "solidity": 0.2
             }
            },
            "type": "histogram"
           }
          ],
          "histogram2d": [
           {
            "colorbar": {
             "outlinewidth": 0,
             "ticks": ""
            },
            "colorscale": [
             [
              0,
              "#0d0887"
             ],
             [
              0.1111111111111111,
              "#46039f"
             ],
             [
              0.2222222222222222,
              "#7201a8"
             ],
             [
              0.3333333333333333,
              "#9c179e"
             ],
             [
              0.4444444444444444,
              "#bd3786"
             ],
             [
              0.5555555555555556,
              "#d8576b"
             ],
             [
              0.6666666666666666,
              "#ed7953"
             ],
             [
              0.7777777777777778,
              "#fb9f3a"
             ],
             [
              0.8888888888888888,
              "#fdca26"
             ],
             [
              1,
              "#f0f921"
             ]
            ],
            "type": "histogram2d"
           }
          ],
          "histogram2dcontour": [
           {
            "colorbar": {
             "outlinewidth": 0,
             "ticks": ""
            },
            "colorscale": [
             [
              0,
              "#0d0887"
             ],
             [
              0.1111111111111111,
              "#46039f"
             ],
             [
              0.2222222222222222,
              "#7201a8"
             ],
             [
              0.3333333333333333,
              "#9c179e"
             ],
             [
              0.4444444444444444,
              "#bd3786"
             ],
             [
              0.5555555555555556,
              "#d8576b"
             ],
             [
              0.6666666666666666,
              "#ed7953"
             ],
             [
              0.7777777777777778,
              "#fb9f3a"
             ],
             [
              0.8888888888888888,
              "#fdca26"
             ],
             [
              1,
              "#f0f921"
             ]
            ],
            "type": "histogram2dcontour"
           }
          ],
          "mesh3d": [
           {
            "colorbar": {
             "outlinewidth": 0,
             "ticks": ""
            },
            "type": "mesh3d"
           }
          ],
          "parcoords": [
           {
            "line": {
             "colorbar": {
              "outlinewidth": 0,
              "ticks": ""
             }
            },
            "type": "parcoords"
           }
          ],
          "pie": [
           {
            "automargin": true,
            "type": "pie"
           }
          ],
          "scatter": [
           {
            "fillpattern": {
             "fillmode": "overlay",
             "size": 10,
             "solidity": 0.2
            },
            "type": "scatter"
           }
          ],
          "scatter3d": [
           {
            "line": {
             "colorbar": {
              "outlinewidth": 0,
              "ticks": ""
             }
            },
            "marker": {
             "colorbar": {
              "outlinewidth": 0,
              "ticks": ""
             }
            },
            "type": "scatter3d"
           }
          ],
          "scattercarpet": [
           {
            "marker": {
             "colorbar": {
              "outlinewidth": 0,
              "ticks": ""
             }
            },
            "type": "scattercarpet"
           }
          ],
          "scattergeo": [
           {
            "marker": {
             "colorbar": {
              "outlinewidth": 0,
              "ticks": ""
             }
            },
            "type": "scattergeo"
           }
          ],
          "scattergl": [
           {
            "marker": {
             "colorbar": {
              "outlinewidth": 0,
              "ticks": ""
             }
            },
            "type": "scattergl"
           }
          ],
          "scattermap": [
           {
            "marker": {
             "colorbar": {
              "outlinewidth": 0,
              "ticks": ""
             }
            },
            "type": "scattermap"
           }
          ],
          "scattermapbox": [
           {
            "marker": {
             "colorbar": {
              "outlinewidth": 0,
              "ticks": ""
             }
            },
            "type": "scattermapbox"
           }
          ],
          "scatterpolar": [
           {
            "marker": {
             "colorbar": {
              "outlinewidth": 0,
              "ticks": ""
             }
            },
            "type": "scatterpolar"
           }
          ],
          "scatterpolargl": [
           {
            "marker": {
             "colorbar": {
              "outlinewidth": 0,
              "ticks": ""
             }
            },
            "type": "scatterpolargl"
           }
          ],
          "scatterternary": [
           {
            "marker": {
             "colorbar": {
              "outlinewidth": 0,
              "ticks": ""
             }
            },
            "type": "scatterternary"
           }
          ],
          "surface": [
           {
            "colorbar": {
             "outlinewidth": 0,
             "ticks": ""
            },
            "colorscale": [
             [
              0,
              "#0d0887"
             ],
             [
              0.1111111111111111,
              "#46039f"
             ],
             [
              0.2222222222222222,
              "#7201a8"
             ],
             [
              0.3333333333333333,
              "#9c179e"
             ],
             [
              0.4444444444444444,
              "#bd3786"
             ],
             [
              0.5555555555555556,
              "#d8576b"
             ],
             [
              0.6666666666666666,
              "#ed7953"
             ],
             [
              0.7777777777777778,
              "#fb9f3a"
             ],
             [
              0.8888888888888888,
              "#fdca26"
             ],
             [
              1,
              "#f0f921"
             ]
            ],
            "type": "surface"
           }
          ],
          "table": [
           {
            "cells": {
             "fill": {
              "color": "#EBF0F8"
             },
             "line": {
              "color": "white"
             }
            },
            "header": {
             "fill": {
              "color": "#C8D4E3"
             },
             "line": {
              "color": "white"
             }
            },
            "type": "table"
           }
          ]
         },
         "layout": {
          "annotationdefaults": {
           "arrowcolor": "#2a3f5f",
           "arrowhead": 0,
           "arrowwidth": 1
          },
          "autotypenumbers": "strict",
          "coloraxis": {
           "colorbar": {
            "outlinewidth": 0,
            "ticks": ""
           }
          },
          "colorscale": {
           "diverging": [
            [
             0,
             "#8e0152"
            ],
            [
             0.1,
             "#c51b7d"
            ],
            [
             0.2,
             "#de77ae"
            ],
            [
             0.3,
             "#f1b6da"
            ],
            [
             0.4,
             "#fde0ef"
            ],
            [
             0.5,
             "#f7f7f7"
            ],
            [
             0.6,
             "#e6f5d0"
            ],
            [
             0.7,
             "#b8e186"
            ],
            [
             0.8,
             "#7fbc41"
            ],
            [
             0.9,
             "#4d9221"
            ],
            [
             1,
             "#276419"
            ]
           ],
           "sequential": [
            [
             0,
             "#0d0887"
            ],
            [
             0.1111111111111111,
             "#46039f"
            ],
            [
             0.2222222222222222,
             "#7201a8"
            ],
            [
             0.3333333333333333,
             "#9c179e"
            ],
            [
             0.4444444444444444,
             "#bd3786"
            ],
            [
             0.5555555555555556,
             "#d8576b"
            ],
            [
             0.6666666666666666,
             "#ed7953"
            ],
            [
             0.7777777777777778,
             "#fb9f3a"
            ],
            [
             0.8888888888888888,
             "#fdca26"
            ],
            [
             1,
             "#f0f921"
            ]
           ],
           "sequentialminus": [
            [
             0,
             "#0d0887"
            ],
            [
             0.1111111111111111,
             "#46039f"
            ],
            [
             0.2222222222222222,
             "#7201a8"
            ],
            [
             0.3333333333333333,
             "#9c179e"
            ],
            [
             0.4444444444444444,
             "#bd3786"
            ],
            [
             0.5555555555555556,
             "#d8576b"
            ],
            [
             0.6666666666666666,
             "#ed7953"
            ],
            [
             0.7777777777777778,
             "#fb9f3a"
            ],
            [
             0.8888888888888888,
             "#fdca26"
            ],
            [
             1,
             "#f0f921"
            ]
           ]
          },
          "colorway": [
           "#636efa",
           "#EF553B",
           "#00cc96",
           "#ab63fa",
           "#FFA15A",
           "#19d3f3",
           "#FF6692",
           "#B6E880",
           "#FF97FF",
           "#FECB52"
          ],
          "font": {
           "color": "#2a3f5f"
          },
          "geo": {
           "bgcolor": "white",
           "lakecolor": "white",
           "landcolor": "#E5ECF6",
           "showlakes": true,
           "showland": true,
           "subunitcolor": "white"
          },
          "hoverlabel": {
           "align": "left"
          },
          "hovermode": "closest",
          "mapbox": {
           "style": "light"
          },
          "paper_bgcolor": "white",
          "plot_bgcolor": "#E5ECF6",
          "polar": {
           "angularaxis": {
            "gridcolor": "white",
            "linecolor": "white",
            "ticks": ""
           },
           "bgcolor": "#E5ECF6",
           "radialaxis": {
            "gridcolor": "white",
            "linecolor": "white",
            "ticks": ""
           }
          },
          "scene": {
           "xaxis": {
            "backgroundcolor": "#E5ECF6",
            "gridcolor": "white",
            "gridwidth": 2,
            "linecolor": "white",
            "showbackground": true,
            "ticks": "",
            "zerolinecolor": "white"
           },
           "yaxis": {
            "backgroundcolor": "#E5ECF6",
            "gridcolor": "white",
            "gridwidth": 2,
            "linecolor": "white",
            "showbackground": true,
            "ticks": "",
            "zerolinecolor": "white"
           },
           "zaxis": {
            "backgroundcolor": "#E5ECF6",
            "gridcolor": "white",
            "gridwidth": 2,
            "linecolor": "white",
            "showbackground": true,
            "ticks": "",
            "zerolinecolor": "white"
           }
          },
          "shapedefaults": {
           "line": {
            "color": "#2a3f5f"
           }
          },
          "ternary": {
           "aaxis": {
            "gridcolor": "white",
            "linecolor": "white",
            "ticks": ""
           },
           "baxis": {
            "gridcolor": "white",
            "linecolor": "white",
            "ticks": ""
           },
           "bgcolor": "#E5ECF6",
           "caxis": {
            "gridcolor": "white",
            "linecolor": "white",
            "ticks": ""
           }
          },
          "title": {
           "x": 0.05
          },
          "xaxis": {
           "automargin": true,
           "gridcolor": "white",
           "linecolor": "white",
           "ticks": "",
           "title": {
            "standoff": 15
           },
           "zerolinecolor": "white",
           "zerolinewidth": 2
          },
          "yaxis": {
           "automargin": true,
           "gridcolor": "white",
           "linecolor": "white",
           "ticks": "",
           "title": {
            "standoff": 15
           },
           "zerolinecolor": "white",
           "zerolinewidth": 2
          }
         }
        },
        "title": {
         "text": "PCA Scatter Plot - 2017",
         "x": 0.5
        },
        "xaxis": {
         "anchor": "y",
         "autorange": true,
         "domain": [
          0,
          1
         ],
         "range": [
          -3.0574423573226714,
          3.693672630375846
         ],
         "title": {
          "text": "PCA1"
         },
         "type": "linear"
        },
        "yaxis": {
         "anchor": "x",
         "autorange": true,
         "domain": [
          0,
          1
         ],
         "range": [
          -1.8823313939565711,
          5.872232685442116
         ],
         "title": {
          "text": "PCA2"
         },
         "type": "linear"
        }
       }
      },
      "image/png": "[encoded data removed]"
     },
     "metadata": {},
     "output_type": "display_data"
    }
   ],
   "source": [
    "fig_scatter = px.scatter(df_segmented, x=\"PCA1\", y=\"PCA2\", color=\"Segment Label\",\n",
    "                         hover_name=\"Country name\", color_discrete_map=color_map,\n",
    "                         title=f\"PCA Scatter Plot - {year}\")\n",
    "\n",
    "rwanda_row = df_segmented[df_segmented[\"Country name\"].str.lower() == \"rwanda\"]\n",
    "if not rwanda_row.empty:\n",
    "    fig_scatter.add_scatter(\n",
    "        x=rwanda_row[\"PCA1\"],\n",
    "        y=rwanda_row[\"PCA2\"],\n",
    "        mode='markers+text',\n",
    "        text=[\"Rwanda\"],\n",
    "        textposition=\"top center\",\n",
    "        marker=dict(size=15, color='black', symbol='star'),\n",
    "        name='Rwanda Highlight'\n",
    "    )\n",
    "\n",
    "fig_scatter.update_layout(title_x=0.5)\n",
    "fig_scatter.show()\n"
   ]
  },
  {
   "cell_type": "markdown",
   "id": "c2f7c89c-6b8d-434a-b247-ccfb6a0d7b65",
   "metadata": {},
   "source": [
    "The PCA plot visualizes how countries are clustered based on their financial inclusion characteristics in 2014. The star on the plot highlights Rwanda, placing it within the Developing Access cluster, alongside many other countries with similar financial profiles at the time.\n",
    "\n",
    "However, the timeline you provided demonstrates Rwanda's rapid progress. It shows a significant journey in a short period:\n",
    "\n",
    "**2011:** Rwanda was at the Basic access stage.\n",
    "\n",
    "**2014:** It had advanced to the Growing access stage.\n",
    "\n",
    "**2017:** It reached the Advanced access stage, indicating a major leap in financial inclusion.\n"
   ]
  },
  {
   "cell_type": "markdown",
   "id": "224b0874-5a13-442b-b7b1-4c6767f1208e",
   "metadata": {},
   "source": [
    "## Key Insights and Final Conclusions on Financial Inclusion\n",
    "\n",
    "The analysis reveals that financial inclusion is a multi-faceted challenge with significant disparities. There is a clear gender divide, with men favoring traditional banking while women are more active in digital financial services. Education is a strong predictor of financial access, as those with higher education are more likely to use formal services and credit.\n",
    "\n",
    "The primary barriers to inclusion are insufficient funds and the high cost of services, followed by a lack of trust in financial institutions.\n",
    "\n",
    "The rapid progress of a country like Rwanda, which moved from Basic to Advanced Access in six years, serves as a powerful example. This highlights that targeted strategies focusing on both digital access and financial literacy are key to overcoming these barriers and achieving widespread financial inclusion.\n"
   ]
  },
  {
   "cell_type": "code",
   "execution_count": null,
   "id": "1975ed1d-d07b-4b53-a882-5e0430f7f4cc",
   "metadata": {},
   "outputs": [],
   "source": []
  }
 ],
 "metadata": {
  "kernelspec": {
   "display_name": "Python 3 (ipykernel)",
   "language": "python",
   "name": "python3"
  },
  "language_info": {
   "codemirror_mode": {
    "name": "ipython",
    "version": 3
   },
   "file_extension": ".py",
   "mimetype": "text/x-python",
   "name": "python",
   "nbconvert_exporter": "python",
   "pygments_lexer": "ipython3",
   "version": "3.12.7"
  }
 },
 "nbformat": 4,
 "nbformat_minor": 5
}
